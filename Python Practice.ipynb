{
 "cells": [
  {
   "cell_type": "markdown",
   "id": "fb25ef02-573c-4682-b38c-445a3a6acf86",
   "metadata": {},
   "source": [
    "#Data types in python \n",
    "* Integers--Perfect numbers\n",
    "* float--Decimal number\n",
    "* complex-- a+bj\n",
    "* string-- it stores text data, anything we write in single, double or triple quotes\n",
    "* Boolean-- True or False\n",
    "* None-- which is none of above "
   ]
  },
  {
   "cell_type": "code",
   "execution_count": 8,
   "id": "c2df229a-ad6a-4e50-8432-0f908659d4ac",
   "metadata": {},
   "outputs": [],
   "source": [
    "# Integers"
   ]
  },
  {
   "cell_type": "code",
   "execution_count": 10,
   "id": "b5682689-7080-4af9-96ec-03eeca7b4df5",
   "metadata": {},
   "outputs": [
    {
     "name": "stdout",
     "output_type": "stream",
     "text": [
      "95\n"
     ]
    }
   ],
   "source": [
    "print(95)"
   ]
  },
  {
   "cell_type": "code",
   "execution_count": 16,
   "id": "a6fece77-707f-4293-9af1-c0b2ee16227b",
   "metadata": {},
   "outputs": [
    {
     "name": "stdout",
     "output_type": "stream",
     "text": [
      "54\n"
     ]
    }
   ],
   "source": [
    "print(54)"
   ]
  },
  {
   "cell_type": "code",
   "execution_count": 18,
   "id": "4532eef6-9745-4b06-b927-e6952f4a0190",
   "metadata": {},
   "outputs": [
    {
     "name": "stdout",
     "output_type": "stream",
     "text": [
      "52\n"
     ]
    }
   ],
   "source": [
    "print(52)"
   ]
  },
  {
   "cell_type": "code",
   "execution_count": 20,
   "id": "010009d8-15c3-44e6-92fa-7877198a4148",
   "metadata": {},
   "outputs": [],
   "source": [
    "# Float"
   ]
  },
  {
   "cell_type": "code",
   "execution_count": 22,
   "id": "1e7e3103-b8a5-4468-8c7c-cc5b39a89f2d",
   "metadata": {},
   "outputs": [
    {
     "name": "stdout",
     "output_type": "stream",
     "text": [
      "25.26\n"
     ]
    }
   ],
   "source": [
    "print(25.26)"
   ]
  },
  {
   "cell_type": "code",
   "execution_count": 24,
   "id": "6ea4f2fa-0305-485e-8069-8a1800202f19",
   "metadata": {},
   "outputs": [
    {
     "name": "stdout",
     "output_type": "stream",
     "text": [
      "14.14\n"
     ]
    }
   ],
   "source": [
    "print(14.14)"
   ]
  },
  {
   "cell_type": "code",
   "execution_count": 26,
   "id": "df5eb63d-fe99-4a8b-b1df-a5f2beb95abb",
   "metadata": {},
   "outputs": [
    {
     "name": "stdout",
     "output_type": "stream",
     "text": [
      "14.65\n"
     ]
    }
   ],
   "source": [
    "print(14.65)"
   ]
  },
  {
   "cell_type": "code",
   "execution_count": 28,
   "id": "d7499efb-846d-4b1c-9901-3fae9aa6be2b",
   "metadata": {},
   "outputs": [
    {
     "name": "stdout",
     "output_type": "stream",
     "text": [
      "45.25\n"
     ]
    }
   ],
   "source": [
    "print(45.25)"
   ]
  },
  {
   "cell_type": "code",
   "execution_count": 34,
   "id": "314824ff-c498-4757-b0d2-58434cd1fe0a",
   "metadata": {},
   "outputs": [],
   "source": [
    "# Complex a=bj"
   ]
  },
  {
   "cell_type": "code",
   "execution_count": 38,
   "id": "b23703b7-5734-473e-b503-457622966843",
   "metadata": {},
   "outputs": [
    {
     "name": "stdout",
     "output_type": "stream",
     "text": [
      "(78+5j)\n"
     ]
    }
   ],
   "source": [
    "print(78+5j)"
   ]
  },
  {
   "cell_type": "code",
   "execution_count": 40,
   "id": "d3e840d0-4da4-4834-96b5-e5edd83a85d1",
   "metadata": {},
   "outputs": [
    {
     "name": "stdout",
     "output_type": "stream",
     "text": [
      "(45+5j)\n"
     ]
    }
   ],
   "source": [
    "print(45+5j)"
   ]
  },
  {
   "cell_type": "code",
   "execution_count": 42,
   "id": "d5852f91-7a76-4938-951d-7885ce6e668f",
   "metadata": {},
   "outputs": [
    {
     "name": "stdout",
     "output_type": "stream",
     "text": [
      "(45+78j)\n"
     ]
    }
   ],
   "source": [
    "print(45+78j)"
   ]
  },
  {
   "cell_type": "code",
   "execution_count": 46,
   "id": "cb9007c4-cef5-46e5-91e6-e82a2b20d85d",
   "metadata": {},
   "outputs": [
    {
     "name": "stdout",
     "output_type": "stream",
     "text": [
      "(14+5j)\n"
     ]
    }
   ],
   "source": [
    "print(14+5j)"
   ]
  },
  {
   "cell_type": "code",
   "execution_count": 48,
   "id": "f73106fc-3667-4c71-bb1c-17c9f390ce4c",
   "metadata": {},
   "outputs": [],
   "source": [
    "#String-- it stores in text data.anything we write in single,double or triple quotes"
   ]
  },
  {
   "cell_type": "code",
   "execution_count": 52,
   "id": "f55a98bc-ff56-4247-8dc2-66b6a2945de7",
   "metadata": {},
   "outputs": [
    {
     "name": "stdout",
     "output_type": "stream",
     "text": [
      "python is fun\n"
     ]
    }
   ],
   "source": [
    "print(\"python is fun\")"
   ]
  },
  {
   "cell_type": "code",
   "execution_count": 54,
   "id": "8fc59a27-1434-4f0b-ba6a-836e7f3adce3",
   "metadata": {},
   "outputs": [
    {
     "name": "stdout",
     "output_type": "stream",
     "text": [
      "asus vivobook\n"
     ]
    }
   ],
   "source": [
    "print('asus vivobook')"
   ]
  },
  {
   "cell_type": "code",
   "execution_count": 58,
   "id": "7e61a000-1ae4-408a-87df-8236a2eb646d",
   "metadata": {},
   "outputs": [
    {
     "name": "stdout",
     "output_type": "stream",
     "text": [
      "hayabusa\n"
     ]
    }
   ],
   "source": [
    "print('''hayabusa''')"
   ]
  },
  {
   "cell_type": "code",
   "execution_count": 60,
   "id": "2202bdc0-88d3-4432-8610-aaf4335279c4",
   "metadata": {},
   "outputs": [
    {
     "name": "stdout",
     "output_type": "stream",
     "text": [
      "TGC\n"
     ]
    }
   ],
   "source": [
    "print('TGC')"
   ]
  },
  {
   "cell_type": "code",
   "execution_count": 62,
   "id": "62d37ecd-c96d-4f2d-ae72-2223b5c17fec",
   "metadata": {},
   "outputs": [
    {
     "name": "stdout",
     "output_type": "stream",
     "text": [
      "i have got 90 marks\n"
     ]
    }
   ],
   "source": [
    "print(\"i have got 90 marks\")"
   ]
  },
  {
   "cell_type": "code",
   "execution_count": 1,
   "id": "1969e973-ae1d-4c7c-80b7-f53aff70c2db",
   "metadata": {},
   "outputs": [
    {
     "name": "stdout",
     "output_type": "stream",
     "text": [
      "car\n"
     ]
    }
   ],
   "source": [
    "print(\"car\")"
   ]
  },
  {
   "cell_type": "code",
   "execution_count": 3,
   "id": "4d1e3951-4503-47fe-9467-a0d6aa454bb3",
   "metadata": {},
   "outputs": [
    {
     "name": "stdout",
     "output_type": "stream",
     "text": [
      "microsoft\n"
     ]
    }
   ],
   "source": [
    "print('''microsoft''')"
   ]
  },
  {
   "cell_type": "code",
   "execution_count": 5,
   "id": "bf22161e-e0d6-4f85-8a69-08c7cb312ea0",
   "metadata": {},
   "outputs": [
    {
     "name": "stdout",
     "output_type": "stream",
     "text": [
      "name\n"
     ]
    }
   ],
   "source": [
    "print(\"name\")"
   ]
  },
  {
   "cell_type": "code",
   "execution_count": 7,
   "id": "882d22a5-1f3c-4575-af4b-d164ebb3b279",
   "metadata": {},
   "outputs": [],
   "source": [
    "#Boolean"
   ]
  },
  {
   "cell_type": "code",
   "execution_count": 9,
   "id": "52a14947-3e87-4ecb-b3a6-4959df9f3a9a",
   "metadata": {},
   "outputs": [
    {
     "name": "stdout",
     "output_type": "stream",
     "text": [
      "True\n"
     ]
    }
   ],
   "source": [
    "print(True)"
   ]
  },
  {
   "cell_type": "code",
   "execution_count": 11,
   "id": "c4950e2e-2a36-40dd-9b95-a4c919140622",
   "metadata": {},
   "outputs": [
    {
     "name": "stdout",
     "output_type": "stream",
     "text": [
      "False\n"
     ]
    }
   ],
   "source": [
    "print(False)"
   ]
  },
  {
   "cell_type": "code",
   "execution_count": 13,
   "id": "e78d9546-a1f4-4195-8d48-69363d99f8fc",
   "metadata": {},
   "outputs": [
    {
     "name": "stdout",
     "output_type": "stream",
     "text": [
      "True\n"
     ]
    }
   ],
   "source": [
    "print(True)"
   ]
  },
  {
   "cell_type": "code",
   "execution_count": 15,
   "id": "1060cef0-a0fa-436c-8ec5-2c1fdd4f0bb5",
   "metadata": {},
   "outputs": [],
   "source": [
    "#None"
   ]
  },
  {
   "cell_type": "code",
   "execution_count": 19,
   "id": "2fa89547-04bc-4441-bfd3-e83393d2cf52",
   "metadata": {},
   "outputs": [
    {
     "name": "stdout",
     "output_type": "stream",
     "text": [
      "None\n"
     ]
    }
   ],
   "source": [
    "print(None)"
   ]
  },
  {
   "cell_type": "code",
   "execution_count": 21,
   "id": "a40a67ef-52a3-467f-a8ab-b231bf229e83",
   "metadata": {},
   "outputs": [
    {
     "name": "stdout",
     "output_type": "stream",
     "text": [
      "None\n"
     ]
    }
   ],
   "source": [
    "print(None)"
   ]
  },
  {
   "cell_type": "code",
   "execution_count": 23,
   "id": "dc34cde1-4eb3-4403-84ef-3cb2f5803ca4",
   "metadata": {},
   "outputs": [
    {
     "name": "stdout",
     "output_type": "stream",
     "text": [
      "None\n"
     ]
    }
   ],
   "source": [
    "print(None)"
   ]
  },
  {
   "cell_type": "code",
   "execution_count": 25,
   "id": "c7d4e9f3-38fd-4eeb-8acd-b6285964ac72",
   "metadata": {},
   "outputs": [],
   "source": [
    "#Variabkes--THere are the place holder or container to store some data or information"
   ]
  },
  {
   "cell_type": "code",
   "execution_count": 27,
   "id": "a3c223d4-efa1-46f8-b543-085bd3d4315c",
   "metadata": {},
   "outputs": [],
   "source": [
    "a = 545\n",
    "b = 487\n",
    "c = 789\n",
    "d = 487"
   ]
  },
  {
   "cell_type": "code",
   "execution_count": 29,
   "id": "44c17167-5d62-4211-9df2-cd063147d18d",
   "metadata": {},
   "outputs": [
    {
     "data": {
      "text/plain": [
       "int"
      ]
     },
     "execution_count": 29,
     "metadata": {},
     "output_type": "execute_result"
    }
   ],
   "source": [
    "type(a)"
   ]
  },
  {
   "cell_type": "code",
   "execution_count": 31,
   "id": "34af51f6-e9dd-4792-b89e-684e3428e029",
   "metadata": {},
   "outputs": [
    {
     "data": {
      "text/plain": [
       "int"
      ]
     },
     "execution_count": 31,
     "metadata": {},
     "output_type": "execute_result"
    }
   ],
   "source": [
    "type(b)"
   ]
  },
  {
   "cell_type": "code",
   "execution_count": 33,
   "id": "2c49f2c3-1286-4c1e-9550-486a678c38b4",
   "metadata": {},
   "outputs": [
    {
     "data": {
      "text/plain": [
       "int"
      ]
     },
     "execution_count": 33,
     "metadata": {},
     "output_type": "execute_result"
    }
   ],
   "source": [
    "type(c)"
   ]
  },
  {
   "cell_type": "code",
   "execution_count": 35,
   "id": "98e473fe-f7e4-4349-9cac-431ffcc50d3f",
   "metadata": {},
   "outputs": [
    {
     "data": {
      "text/plain": [
       "int"
      ]
     },
     "execution_count": 35,
     "metadata": {},
     "output_type": "execute_result"
    }
   ],
   "source": [
    "type(d)"
   ]
  },
  {
   "cell_type": "code",
   "execution_count": 37,
   "id": "62d7270b-677a-426f-9a4f-527e6df28bff",
   "metadata": {},
   "outputs": [
    {
     "data": {
      "text/plain": [
       "1356294409872"
      ]
     },
     "execution_count": 37,
     "metadata": {},
     "output_type": "execute_result"
    }
   ],
   "source": [
    "id(a)"
   ]
  },
  {
   "cell_type": "code",
   "execution_count": 39,
   "id": "e2a6be4e-4bbc-499c-8721-509bf2a70b02",
   "metadata": {},
   "outputs": [
    {
     "data": {
      "text/plain": [
       "1356294411600"
      ]
     },
     "execution_count": 39,
     "metadata": {},
     "output_type": "execute_result"
    }
   ],
   "source": [
    "id(b)"
   ]
  },
  {
   "cell_type": "code",
   "execution_count": 41,
   "id": "809a304c-3df2-4f07-82df-c4202fd882ee",
   "metadata": {},
   "outputs": [
    {
     "data": {
      "text/plain": [
       "1356294413040"
      ]
     },
     "execution_count": 41,
     "metadata": {},
     "output_type": "execute_result"
    }
   ],
   "source": [
    "id(c)"
   ]
  },
  {
   "cell_type": "code",
   "execution_count": 43,
   "id": "1c645447-022c-4297-bc54-26377518d911",
   "metadata": {},
   "outputs": [
    {
     "data": {
      "text/plain": [
       "1356294409776"
      ]
     },
     "execution_count": 43,
     "metadata": {},
     "output_type": "execute_result"
    }
   ],
   "source": [
    "id(d)"
   ]
  },
  {
   "cell_type": "code",
   "execution_count": 45,
   "id": "83deacc2-2d97-4598-b4fe-6d660aafe953",
   "metadata": {},
   "outputs": [
    {
     "name": "stdout",
     "output_type": "stream",
     "text": [
      "93\n"
     ]
    }
   ],
   "source": [
    "print(25+68)"
   ]
  },
  {
   "cell_type": "code",
   "execution_count": 49,
   "id": "17b12bde-11cf-47fc-8d35-db423e2b1315",
   "metadata": {},
   "outputs": [
    {
     "name": "stdout",
     "output_type": "stream",
     "text": [
      "112\n"
     ]
    }
   ],
   "source": [
    "print(54+58)"
   ]
  },
  {
   "cell_type": "code",
   "execution_count": 51,
   "id": "b639531a-caa0-45dd-9d13-376642609ade",
   "metadata": {},
   "outputs": [
    {
     "name": "stdout",
     "output_type": "stream",
     "text": [
      "712\n"
     ]
    }
   ],
   "source": [
    "print(587+125)"
   ]
  },
  {
   "cell_type": "code",
   "execution_count": 53,
   "id": "05146f12-97cf-46e5-bf14-2e517682c233",
   "metadata": {},
   "outputs": [
    {
     "name": "stdout",
     "output_type": "stream",
     "text": [
      "9332\n"
     ]
    }
   ],
   "source": [
    "print(7854+1478)"
   ]
  },
  {
   "cell_type": "code",
   "execution_count": 55,
   "id": "600949d3-c228-4f12-aafa-1a9ffde9dcb9",
   "metadata": {},
   "outputs": [
    {
     "name": "stdout",
     "output_type": "stream",
     "text": [
      "(254+2154j)\n"
     ]
    }
   ],
   "source": [
    "print(254+2154j)"
   ]
  },
  {
   "cell_type": "code",
   "execution_count": 57,
   "id": "b26b83cb-f2bd-43ef-a240-bc135a602a84",
   "metadata": {},
   "outputs": [
    {
     "name": "stdout",
     "output_type": "stream",
     "text": [
      "(2547+2547j)\n"
     ]
    }
   ],
   "source": [
    "print(2547+2547j)"
   ]
  },
  {
   "cell_type": "code",
   "execution_count": 59,
   "id": "0d8ce121-3aa8-4630-9cb4-9589ae8beb95",
   "metadata": {},
   "outputs": [
    {
     "name": "stdout",
     "output_type": "stream",
     "text": [
      "(25478+125478j)\n"
     ]
    }
   ],
   "source": [
    "print(25478+125478j)"
   ]
  },
  {
   "cell_type": "code",
   "execution_count": 61,
   "id": "4723e997-3948-4ac8-a3d5-c4372e4d58b0",
   "metadata": {},
   "outputs": [],
   "source": [
    "j = 85+5j"
   ]
  },
  {
   "cell_type": "code",
   "execution_count": 63,
   "id": "fe7e7df2-47e4-495a-921b-efe5653c7ff4",
   "metadata": {},
   "outputs": [],
   "source": [
    "k = 45+54j"
   ]
  },
  {
   "cell_type": "code",
   "execution_count": 65,
   "id": "7aee9073-4773-4b39-a10d-cd0ffe41048f",
   "metadata": {},
   "outputs": [],
   "source": [
    "l =12+254j"
   ]
  },
  {
   "cell_type": "code",
   "execution_count": 67,
   "id": "747b7fce-9545-42a1-ad6b-93ff60274cb9",
   "metadata": {},
   "outputs": [
    {
     "name": "stdout",
     "output_type": "stream",
     "text": [
      "(85+5j)\n"
     ]
    }
   ],
   "source": [
    "print(j)"
   ]
  },
  {
   "cell_type": "code",
   "execution_count": 69,
   "id": "fbecab2a-e619-43b2-8b6b-0b71bc46f9be",
   "metadata": {},
   "outputs": [
    {
     "name": "stdout",
     "output_type": "stream",
     "text": [
      "(45+54j)\n"
     ]
    }
   ],
   "source": [
    "print(k)"
   ]
  },
  {
   "cell_type": "code",
   "execution_count": 71,
   "id": "26f56429-240c-4abc-992d-d835df95c3a4",
   "metadata": {},
   "outputs": [
    {
     "name": "stdout",
     "output_type": "stream",
     "text": [
      "(12+254j)\n"
     ]
    }
   ],
   "source": [
    "print(l)"
   ]
  },
  {
   "cell_type": "code",
   "execution_count": 75,
   "id": "2634b976-426f-4eb8-8ea2-50f6b7008795",
   "metadata": {},
   "outputs": [
    {
     "data": {
      "text/plain": [
       "complex"
      ]
     },
     "execution_count": 75,
     "metadata": {},
     "output_type": "execute_result"
    }
   ],
   "source": [
    "type(j)"
   ]
  },
  {
   "cell_type": "code",
   "execution_count": 77,
   "id": "e91eca6d-36c3-4811-8c81-b5f836a7a525",
   "metadata": {},
   "outputs": [
    {
     "data": {
      "text/plain": [
       "complex"
      ]
     },
     "execution_count": 77,
     "metadata": {},
     "output_type": "execute_result"
    }
   ],
   "source": [
    "type(k)"
   ]
  },
  {
   "cell_type": "code",
   "execution_count": 79,
   "id": "c21d2cc8-b927-457e-84c2-a6331f18fca0",
   "metadata": {},
   "outputs": [
    {
     "data": {
      "text/plain": [
       "complex"
      ]
     },
     "execution_count": 79,
     "metadata": {},
     "output_type": "execute_result"
    }
   ],
   "source": [
    "type(l)"
   ]
  },
  {
   "cell_type": "code",
   "execution_count": 81,
   "id": "5be80b3b-6e9f-4ae7-bc3d-65ab0b25c49e",
   "metadata": {},
   "outputs": [
    {
     "data": {
      "text/plain": [
       "complex"
      ]
     },
     "execution_count": 81,
     "metadata": {},
     "output_type": "execute_result"
    }
   ],
   "source": [
    "type(k)"
   ]
  },
  {
   "cell_type": "code",
   "execution_count": 83,
   "id": "5b27a089-22b6-4b32-8073-66eda1f39526",
   "metadata": {},
   "outputs": [],
   "source": [
    "R = True\n",
    "Y = False"
   ]
  },
  {
   "cell_type": "code",
   "execution_count": 85,
   "id": "2dd6090a-0336-45e6-b408-a903be32a209",
   "metadata": {},
   "outputs": [
    {
     "data": {
      "text/plain": [
       "bool"
      ]
     },
     "execution_count": 85,
     "metadata": {},
     "output_type": "execute_result"
    }
   ],
   "source": [
    "type(R)"
   ]
  },
  {
   "cell_type": "code",
   "execution_count": 87,
   "id": "eb7ea317-e7fd-4b49-aa36-ae77477b9a4e",
   "metadata": {},
   "outputs": [
    {
     "data": {
      "text/plain": [
       "bool"
      ]
     },
     "execution_count": 87,
     "metadata": {},
     "output_type": "execute_result"
    }
   ],
   "source": [
    "type(Y)"
   ]
  },
  {
   "cell_type": "code",
   "execution_count": 89,
   "id": "fd35ef95-fc72-4b21-9399-8d0a53b3eec3",
   "metadata": {},
   "outputs": [
    {
     "name": "stdout",
     "output_type": "stream",
     "text": [
      "True\n"
     ]
    }
   ],
   "source": [
    "print(R)"
   ]
  },
  {
   "cell_type": "code",
   "execution_count": 95,
   "id": "1e41eeb6-77ce-43cf-9cd1-3f2dc3551476",
   "metadata": {},
   "outputs": [
    {
     "name": "stdout",
     "output_type": "stream",
     "text": [
      "False\n"
     ]
    }
   ],
   "source": [
    "print(Y)"
   ]
  },
  {
   "cell_type": "code",
   "execution_count": 97,
   "id": "8bedaff2-fed1-4afd-893d-19dfd73a2056",
   "metadata": {},
   "outputs": [
    {
     "data": {
      "text/plain": [
       "140736397835136"
      ]
     },
     "execution_count": 97,
     "metadata": {},
     "output_type": "execute_result"
    }
   ],
   "source": [
    "id(R)"
   ]
  },
  {
   "cell_type": "code",
   "execution_count": 99,
   "id": "8d2ef867-2ce5-41a5-a902-cb3ff7b15c1b",
   "metadata": {},
   "outputs": [
    {
     "data": {
      "text/plain": [
       "140736397835168"
      ]
     },
     "execution_count": 99,
     "metadata": {},
     "output_type": "execute_result"
    }
   ],
   "source": [
    "id(Y)"
   ]
  },
  {
   "cell_type": "code",
   "execution_count": 101,
   "id": "beba99f5-2dc5-4a96-938e-acfccbbca1eb",
   "metadata": {},
   "outputs": [],
   "source": [
    "f = 'hello world'\n",
    "d =  \"samsung\"\n",
    "e =  '''new delhi'''\n",
    "s =   \"india\""
   ]
  },
  {
   "cell_type": "code",
   "execution_count": 103,
   "id": "3bfaacae-8f95-4c7c-8cd3-a358deadd825",
   "metadata": {},
   "outputs": [
    {
     "data": {
      "text/plain": [
       "str"
      ]
     },
     "execution_count": 103,
     "metadata": {},
     "output_type": "execute_result"
    }
   ],
   "source": [
    "type(f)"
   ]
  },
  {
   "cell_type": "code",
   "execution_count": 105,
   "id": "38e7ec59-93a0-48d6-92b4-65b85d19c2fd",
   "metadata": {},
   "outputs": [
    {
     "data": {
      "text/plain": [
       "str"
      ]
     },
     "execution_count": 105,
     "metadata": {},
     "output_type": "execute_result"
    }
   ],
   "source": [
    "type(d)"
   ]
  },
  {
   "cell_type": "code",
   "execution_count": 109,
   "id": "6c7032db-4893-444e-be8e-da55807ff916",
   "metadata": {},
   "outputs": [
    {
     "data": {
      "text/plain": [
       "str"
      ]
     },
     "execution_count": 109,
     "metadata": {},
     "output_type": "execute_result"
    }
   ],
   "source": [
    "type(e)"
   ]
  },
  {
   "cell_type": "code",
   "execution_count": 111,
   "id": "48b640b7-5b7b-41f4-9489-ebe8c4d696ee",
   "metadata": {},
   "outputs": [
    {
     "data": {
      "text/plain": [
       "str"
      ]
     },
     "execution_count": 111,
     "metadata": {},
     "output_type": "execute_result"
    }
   ],
   "source": [
    "type(s)"
   ]
  },
  {
   "cell_type": "code",
   "execution_count": 113,
   "id": "24c2a282-6312-4060-955d-baacaf4f3ae6",
   "metadata": {},
   "outputs": [
    {
     "data": {
      "text/plain": [
       "1356263743024"
      ]
     },
     "execution_count": 113,
     "metadata": {},
     "output_type": "execute_result"
    }
   ],
   "source": [
    "id(f)"
   ]
  },
  {
   "cell_type": "code",
   "execution_count": 115,
   "id": "44df95a3-f304-449f-b103-9ee4b02ab7d7",
   "metadata": {},
   "outputs": [
    {
     "data": {
      "text/plain": [
       "1356282951504"
      ]
     },
     "execution_count": 115,
     "metadata": {},
     "output_type": "execute_result"
    }
   ],
   "source": [
    "id(d)"
   ]
  },
  {
   "cell_type": "code",
   "execution_count": 117,
   "id": "838380f7-efdb-4e3a-bb4b-0dfbfb762d96",
   "metadata": {},
   "outputs": [
    {
     "data": {
      "text/plain": [
       "1356263744688"
      ]
     },
     "execution_count": 117,
     "metadata": {},
     "output_type": "execute_result"
    }
   ],
   "source": [
    "id(e)"
   ]
  },
  {
   "cell_type": "code",
   "execution_count": 119,
   "id": "46df9b40-7bde-4ad9-ae8f-74a99c609081",
   "metadata": {},
   "outputs": [
    {
     "data": {
      "text/plain": [
       "1356282942432"
      ]
     },
     "execution_count": 119,
     "metadata": {},
     "output_type": "execute_result"
    }
   ],
   "source": [
    "id(s)"
   ]
  },
  {
   "cell_type": "markdown",
   "id": "fac4372b-b1ea-4f7c-9bf2-c9939a1bfdfc",
   "metadata": {},
   "source": [
    "#umar\n",
    "##umar\n",
    "###umar"
   ]
  },
  {
   "cell_type": "markdown",
   "id": "542a0f24-b752-403e-adef-09f70af7ffc4",
   "metadata": {},
   "source": [
    "Python is dynamic in nature \n",
    "any variables can have any data type"
   ]
  },
  {
   "cell_type": "code",
   "execution_count": 130,
   "id": "391fbad0-074d-4cff-b797-d5e1bc4fed70",
   "metadata": {},
   "outputs": [],
   "source": [
    "# output formatin"
   ]
  },
  {
   "cell_type": "code",
   "execution_count": 134,
   "id": "de3fda57-cf5b-47c2-8fcd-d1f7694ee094",
   "metadata": {},
   "outputs": [],
   "source": [
    "a = 20\n",
    "b = 30\n",
    "c = 40"
   ]
  },
  {
   "cell_type": "code",
   "execution_count": 150,
   "id": "18c79b65-8f14-4205-afa1-3f74ed1f8bbf",
   "metadata": {},
   "outputs": [
    {
     "name": "stdout",
     "output_type": "stream",
     "text": [
      "The value of a is20 and b is 30\n"
     ]
    }
   ],
   "source": [
    "print(\"The value of a is{} and b is {}\".format(a,b))"
   ]
  },
  {
   "cell_type": "code",
   "execution_count": 156,
   "id": "c0f01b1f-30f4-46ab-b529-5e70caf14b8c",
   "metadata": {},
   "outputs": [
    {
     "name": "stdout",
     "output_type": "stream",
     "text": [
      "The value of a is20 and b is 30 and c is40\n"
     ]
    }
   ],
   "source": [
    "print(\"The value of a is{0} and b is {1} and c is{2}\".format(a,b,c))"
   ]
  },
  {
   "cell_type": "code",
   "execution_count": 181,
   "id": "e49e3912-7988-47f8-9ac0-c70874f24374",
   "metadata": {},
   "outputs": [
    {
     "name": "stdout",
     "output_type": "stream",
     "text": [
      "The value of a is20 and b is 30\n"
     ]
    }
   ],
   "source": [
    "print(\"The value of a is{} and b is {}\".format(a,b))"
   ]
  },
  {
   "cell_type": "code",
   "execution_count": 9,
   "id": "3d85f34f-469e-42dc-8493-f15b3f34bd1b",
   "metadata": {},
   "outputs": [],
   "source": [
    "name = \"prateek\"\n",
    "great = \"good morning\""
   ]
  },
  {
   "cell_type": "code",
   "execution_count": 15,
   "id": "631ebd57-aa84-4f8f-95d8-13b4273dadb7",
   "metadata": {},
   "outputs": [
    {
     "name": "stdout",
     "output_type": "stream",
     "text": [
      "Hi prateek good morning\n"
     ]
    }
   ],
   "source": [
    "print(\"Hi {} {}\".format(name,great))"
   ]
  },
  {
   "cell_type": "code",
   "execution_count": null,
   "id": "240e8712-6b6f-4d6b-89eb-d642261337a5",
   "metadata": {},
   "outputs": [],
   "source": []
  },
  {
   "cell_type": "code",
   "execution_count": null,
   "id": "434d8686-565b-4315-99fc-d1f7d50c7b8b",
   "metadata": {},
   "outputs": [],
   "source": []
  },
  {
   "cell_type": "code",
   "execution_count": 185,
   "id": "9d66e0cf-311e-4b7c-8647-7984237524c7",
   "metadata": {},
   "outputs": [],
   "source": [
    "Course = \"Python\"\n",
    "Insitute = \"TGC\""
   ]
  },
  {
   "cell_type": "code",
   "execution_count": 187,
   "id": "8501d075-24d6-4632-b071-253ddfd7aabe",
   "metadata": {},
   "outputs": [
    {
     "name": "stdout",
     "output_type": "stream",
     "text": [
      "I have taken admission in TGC I have opted course Python\n"
     ]
    }
   ],
   "source": [
    "print(\"I have taken admission in {} I have opted course {}\".format(Insitute,Course))"
   ]
  },
  {
   "cell_type": "code",
   "execution_count": 189,
   "id": "71d31f7a-fe37-4bbc-9d3f-525af857568d",
   "metadata": {},
   "outputs": [],
   "source": [
    "# f-string"
   ]
  },
  {
   "cell_type": "code",
   "execution_count": 191,
   "id": "7eff31ea-c88b-4d3a-bbb9-bc65ceff2861",
   "metadata": {},
   "outputs": [],
   "source": [
    "a = 10\n",
    "b = 20\n",
    "c = 30"
   ]
  },
  {
   "cell_type": "code",
   "execution_count": 193,
   "id": "57ea4db3-c2ac-4a8b-ac06-c5092d6c5eb0",
   "metadata": {},
   "outputs": [
    {
     "name": "stdout",
     "output_type": "stream",
     "text": [
      "The value of a is {a} and b is (b) and c is (c)\n"
     ]
    }
   ],
   "source": [
    "print(\"The value of a is {a} and b is (b) and c is (c)\")"
   ]
  },
  {
   "cell_type": "code",
   "execution_count": 195,
   "id": "43f32d19-5b2c-4e12-acca-64c21f6cade8",
   "metadata": {},
   "outputs": [],
   "source": [
    "name = \"prateek\"\n",
    "great = \"good morning\""
   ]
  },
  {
   "cell_type": "code",
   "execution_count": 197,
   "id": "17a4a9a6-ed6d-4e68-a0d0-b47e4db4fe0b",
   "metadata": {},
   "outputs": [
    {
     "name": "stdout",
     "output_type": "stream",
     "text": [
      "hello {name} {great}\n"
     ]
    }
   ],
   "source": [
    "print(\"hello {name} {great}\")"
   ]
  },
  {
   "cell_type": "code",
   "execution_count": 5,
   "id": "2477260a-c1ce-4db8-bdba-701e71d2e3f5",
   "metadata": {},
   "outputs": [
    {
     "name": "stdin",
     "output_type": "stream",
     "text": [
      "Enter your name ummar\n"
     ]
    }
   ],
   "source": [
    "name = input(\"Enter your name\")"
   ]
  },
  {
   "cell_type": "code",
   "execution_count": 9,
   "id": "4877754e-7d40-4d9a-b2ff-e058cba38491",
   "metadata": {},
   "outputs": [
    {
     "name": "stdin",
     "output_type": "stream",
     "text": [
      "Enter your marks 85\n"
     ]
    }
   ],
   "source": [
    "marks = input(\"Enter your marks\")"
   ]
  },
  {
   "cell_type": "code",
   "execution_count": 11,
   "id": "b3ec5d75-1394-4050-b880-9c50cc0a36c7",
   "metadata": {},
   "outputs": [
    {
     "name": "stdin",
     "output_type": "stream",
     "text": [
      "Enter your subject physics\n"
     ]
    }
   ],
   "source": [
    "subject = input(\"Enter your subject\")"
   ]
  },
  {
   "cell_type": "code",
   "execution_count": 17,
   "id": "3915b3cd-cbff-438c-8099-25083afbbe0c",
   "metadata": {},
   "outputs": [
    {
     "name": "stdin",
     "output_type": "stream",
     "text": [
      "Enter your name umar\n",
      "Enter your marks 85\n",
      "Enter your subject physic\n"
     ]
    }
   ],
   "source": [
    "name = input(\"Enter your name\")\n",
    "marks = input(\"Enter your marks\")\n",
    "subject = input(\"Enter your subject\")"
   ]
  },
  {
   "cell_type": "code",
   "execution_count": 23,
   "id": "ec951ef8-80c9-4f9a-b985-8bd119b24e5b",
   "metadata": {},
   "outputs": [
    {
     "name": "stdout",
     "output_type": "stream",
     "text": [
      "hi my name is umar and i have scored85 and in physic subject.\n"
     ]
    }
   ],
   "source": [
    "print(f\"hi my name is {name} and i have scored{marks} and in {subject} subject.\")"
   ]
  },
  {
   "cell_type": "code",
   "execution_count": 25,
   "id": "bc578d66-eab4-44d2-a5b4-bff3e5ff3d08",
   "metadata": {},
   "outputs": [
    {
     "name": "stdout",
     "output_type": "stream",
     "text": [
      "Hi my name is umar and i have scored 85 marks in physic subject.\n"
     ]
    }
   ],
   "source": [
    "print(\"Hi my name is {} and i have scored {} marks in {} subject.\".format(name, marks, subject))"
   ]
  },
  {
   "cell_type": "code",
   "execution_count": null,
   "id": "faf0fc59-d2c4-46b1-99c6-16c3b744f975",
   "metadata": {},
   "outputs": [],
   "source": []
  },
  {
   "cell_type": "code",
   "execution_count": 2,
   "id": "549963cc-1b51-4306-a104-0fc9a3237c49",
   "metadata": {},
   "outputs": [],
   "source": [
    "a = 10"
   ]
  },
  {
   "cell_type": "code",
   "execution_count": 4,
   "id": "a6abf678-bb9a-46e9-98b2-b6a24fac02ee",
   "metadata": {},
   "outputs": [],
   "source": [
    "b = 20"
   ]
  },
  {
   "cell_type": "code",
   "execution_count": 6,
   "id": "be0c26ea-293f-49a7-9af6-d9c6b20b79ca",
   "metadata": {},
   "outputs": [],
   "source": [
    "c = 30"
   ]
  },
  {
   "cell_type": "code",
   "execution_count": 11,
   "id": "f4e93fb3-817c-4ae4-af28-e03ad9fc7099",
   "metadata": {},
   "outputs": [
    {
     "name": "stdout",
     "output_type": "stream",
     "text": [
      "The value of a is {a} and b is (b) and c is (c)\n"
     ]
    }
   ],
   "source": [
    "print(\"The value of a is {a} and b is (b) and c is (c)\")"
   ]
  },
  {
   "cell_type": "code",
   "execution_count": 17,
   "id": "72092240-c537-4d90-af97-36bc21539f08",
   "metadata": {},
   "outputs": [
    {
     "name": "stdout",
     "output_type": "stream",
     "text": [
      "<built-in method format of str object at 0x0000022467D214D0>\n"
     ]
    }
   ],
   "source": [
    "print(\"The value of a is {10} and b is {20} and c is {30}\".format)"
   ]
  },
  {
   "cell_type": "code",
   "execution_count": 21,
   "id": "a0504939-f138-4d32-8f42-6267f6c87d70",
   "metadata": {},
   "outputs": [],
   "source": [
    "name = \"umar\"\n",
    "great = \"good afternoon\""
   ]
  },
  {
   "cell_type": "code",
   "execution_count": 27,
   "id": "2d41643d-5fc0-47ec-bcf4-e4fc3df8ba9e",
   "metadata": {},
   "outputs": [
    {
     "name": "stdout",
     "output_type": "stream",
     "text": [
      " hello {name} {great}\n"
     ]
    }
   ],
   "source": [
    "print(\" hello {name} {great}\")"
   ]
  },
  {
   "cell_type": "code",
   "execution_count": 47,
   "id": "571658de-7ff5-468e-aaa8-675710ae83d6",
   "metadata": {},
   "outputs": [
    {
     "name": "stdin",
     "output_type": "stream",
     "text": [
      "Enter your name umar\n"
     ]
    }
   ],
   "source": [
    "nmae = input(\"Enter your name\")"
   ]
  },
  {
   "cell_type": "code",
   "execution_count": 49,
   "id": "ffe0749c-0397-4113-9f0e-6ae4b84a6dc6",
   "metadata": {},
   "outputs": [
    {
     "name": "stdin",
     "output_type": "stream",
     "text": [
      "marks 65\n"
     ]
    }
   ],
   "source": [
    "marks = input(\"marks\")"
   ]
  },
  {
   "cell_type": "code",
   "execution_count": 51,
   "id": "1cf679ce-8e34-4bdb-9fd5-165f4ee15f22",
   "metadata": {},
   "outputs": [
    {
     "name": "stdin",
     "output_type": "stream",
     "text": [
      "subjects Maths\n"
     ]
    }
   ],
   "source": [
    "subjects = input(\"subjects\")"
   ]
  },
  {
   "cell_type": "code",
   "execution_count": 55,
   "id": "49f95f23-34fc-4ce4-acb7-e68a2427dd16",
   "metadata": {},
   "outputs": [
    {
     "name": "stdin",
     "output_type": "stream",
     "text": [
      "Enter your name umar\n",
      "Enter your marks 65\n",
      " Enter your subject maths\n"
     ]
    }
   ],
   "source": [
    "name = input(\"Enter your name\")\n",
    "marks = input(\"Enter your marks\")\n",
    "subject = input(\" Enter your subject\")"
   ]
  },
  {
   "cell_type": "code",
   "execution_count": 96,
   "id": "9a93fa64-c1bf-43ac-94c2-09bc3fbe394b",
   "metadata": {},
   "outputs": [
    {
     "name": "stdin",
     "output_type": "stream",
     "text": [
      "Enter your name umar\n",
      "Enter your age 22\n",
      "Enter your father name Azhar\n"
     ]
    }
   ],
   "source": [
    "name = input(\"Enter your name\")\n",
    "age = input(\"Enter your age\")\n",
    "father_name = input(\"Enter your father name\")"
   ]
  },
  {
   "cell_type": "code",
   "execution_count": 106,
   "id": "a4576ad7-038b-4de0-bb71-d458f4de3158",
   "metadata": {},
   "outputs": [
    {
     "name": "stdout",
     "output_type": "stream",
     "text": [
      "hi my name is umar and my 22 and my Azhar.\n"
     ]
    }
   ],
   "source": [
    "print(f\"hi my name is {name} and my {age} and my {father_name}.\")"
   ]
  },
  {
   "cell_type": "code",
   "execution_count": 1,
   "id": "917627d4-0486-4d42-b451-8dad4c85f38c",
   "metadata": {},
   "outputs": [
    {
     "name": "stdin",
     "output_type": "stream",
     "text": [
      "name umar\n"
     ]
    }
   ],
   "source": [
    "nmae = input(\"name\")"
   ]
  },
  {
   "cell_type": "code",
   "execution_count": 7,
   "id": "9ac40da6-3c32-499e-b867-7615c4e45781",
   "metadata": {},
   "outputs": [
    {
     "data": {
      "text/plain": [
       "2"
      ]
     },
     "execution_count": 7,
     "metadata": {},
     "output_type": "execute_result"
    }
   ],
   "source": [
    "15//6"
   ]
  },
  {
   "cell_type": "code",
   "execution_count": 9,
   "id": "837d49a8-351b-42c3-bc40-c7f4cc642d0a",
   "metadata": {},
   "outputs": [
    {
     "data": {
      "text/plain": [
       "13"
      ]
     },
     "execution_count": 9,
     "metadata": {},
     "output_type": "execute_result"
    }
   ],
   "source": [
    "2**4//3*2+6-3"
   ]
  },
  {
   "cell_type": "code",
   "execution_count": 11,
   "id": "c349a1a9-a565-4ab2-a78a-81580117fab2",
   "metadata": {},
   "outputs": [],
   "source": [
    "x= -(10)"
   ]
  },
  {
   "cell_type": "code",
   "execution_count": 13,
   "id": "631cd174-c1ef-45a8-9d22-32ed5bcc7a79",
   "metadata": {},
   "outputs": [
    {
     "name": "stdout",
     "output_type": "stream",
     "text": [
      "-10\n"
     ]
    }
   ],
   "source": [
    "print(x)"
   ]
  },
  {
   "cell_type": "code",
   "execution_count": null,
   "id": "618e089a-55a3-4185-b19c-a7f09353f9b6",
   "metadata": {},
   "outputs": [],
   "source": []
  },
  {
   "cell_type": "markdown",
   "id": "039474dd-9162-400c-b01d-324c65959cec",
   "metadata": {},
   "source": [
    "# Operators and Expressions:"
   ]
  },
  {
   "cell_type": "code",
   "execution_count": null,
   "id": "7b6a2e2d-23a9-4f5a-b235-47108e9a36c2",
   "metadata": {},
   "outputs": [],
   "source": [
    "# Arthmetic Operators:\n",
    "# Arithmentic Operators\n",
    "# Comparison Operators\n",
    "# Logical Operators\n",
    "# Bitwise Operators\n",
    "# Assignment Operators\n",
    "# Special Operators"
   ]
  },
  {
   "cell_type": "markdown",
   "id": "571a8a56-012c-4438-b4ac-9c6729732fcc",
   "metadata": {},
   "source": [
    "#Arithmetic Operators : +, -, *, /, //, **, %"
   ]
  },
  {
   "cell_type": "code",
   "execution_count": 25,
   "id": "9faeffd0-862c-4ed7-a98a-05168a09379c",
   "metadata": {},
   "outputs": [
    {
     "data": {
      "text/plain": [
       "15"
      ]
     },
     "execution_count": 25,
     "metadata": {},
     "output_type": "execute_result"
    }
   ],
   "source": [
    "10+5"
   ]
  },
  {
   "cell_type": "code",
   "execution_count": 27,
   "id": "304e83c5-685e-43a4-b477-d59fc284be37",
   "metadata": {},
   "outputs": [
    {
     "data": {
      "text/plain": [
       "20"
      ]
     },
     "execution_count": 27,
     "metadata": {},
     "output_type": "execute_result"
    }
   ],
   "source": [
    "15+5"
   ]
  },
  {
   "cell_type": "code",
   "execution_count": 29,
   "id": "cc46629b-79d5-4e6c-afd7-3a083b0f66a8",
   "metadata": {},
   "outputs": [
    {
     "data": {
      "text/plain": [
       "25"
      ]
     },
     "execution_count": 29,
     "metadata": {},
     "output_type": "execute_result"
    }
   ],
   "source": [
    "20+5"
   ]
  },
  {
   "cell_type": "code",
   "execution_count": 31,
   "id": "10774796-5395-4e46-a3c9-b32e251c5f1c",
   "metadata": {},
   "outputs": [
    {
     "data": {
      "text/plain": [
       "32"
      ]
     },
     "execution_count": 31,
     "metadata": {},
     "output_type": "execute_result"
    }
   ],
   "source": [
    "30+2"
   ]
  },
  {
   "cell_type": "code",
   "execution_count": 33,
   "id": "f507e743-fabf-4093-b8c1-39b48e705d3e",
   "metadata": {},
   "outputs": [
    {
     "data": {
      "text/plain": [
       "5"
      ]
     },
     "execution_count": 33,
     "metadata": {},
     "output_type": "execute_result"
    }
   ],
   "source": [
    "10-5"
   ]
  },
  {
   "cell_type": "code",
   "execution_count": 35,
   "id": "a4ff6a27-6c62-45d7-9667-3ffd5f1a49a1",
   "metadata": {},
   "outputs": [
    {
     "data": {
      "text/plain": [
       "25"
      ]
     },
     "execution_count": 35,
     "metadata": {},
     "output_type": "execute_result"
    }
   ],
   "source": [
    "30-5"
   ]
  },
  {
   "cell_type": "code",
   "execution_count": 37,
   "id": "c6d2ec81-01bb-4b04-8e53-811840cf5db5",
   "metadata": {},
   "outputs": [
    {
     "data": {
      "text/plain": [
       "50"
      ]
     },
     "execution_count": 37,
     "metadata": {},
     "output_type": "execute_result"
    }
   ],
   "source": [
    "55-5"
   ]
  },
  {
   "cell_type": "code",
   "execution_count": 39,
   "id": "859f852f-e1ea-46ea-a986-c9387801c5f9",
   "metadata": {},
   "outputs": [
    {
     "data": {
      "text/plain": [
       "5"
      ]
     },
     "execution_count": 39,
     "metadata": {},
     "output_type": "execute_result"
    }
   ],
   "source": [
    "60-55"
   ]
  },
  {
   "cell_type": "code",
   "execution_count": 41,
   "id": "2b634bff-0c15-4c82-89f4-9ac011746541",
   "metadata": {},
   "outputs": [
    {
     "data": {
      "text/plain": [
       "6"
      ]
     },
     "execution_count": 41,
     "metadata": {},
     "output_type": "execute_result"
    }
   ],
   "source": [
    "12-6"
   ]
  },
  {
   "cell_type": "code",
   "execution_count": 43,
   "id": "e514d1b2-24c3-4fae-ad72-80b300c2722e",
   "metadata": {},
   "outputs": [
    {
     "data": {
      "text/plain": [
       "60"
      ]
     },
     "execution_count": 43,
     "metadata": {},
     "output_type": "execute_result"
    }
   ],
   "source": [
    "12*5"
   ]
  },
  {
   "cell_type": "code",
   "execution_count": 45,
   "id": "d6d59e4f-f71a-421d-b32a-0b9553e34bcc",
   "metadata": {},
   "outputs": [
    {
     "data": {
      "text/plain": [
       "360"
      ]
     },
     "execution_count": 45,
     "metadata": {},
     "output_type": "execute_result"
    }
   ],
   "source": [
    "45*8"
   ]
  },
  {
   "cell_type": "code",
   "execution_count": 47,
   "id": "f625f059-1511-43b8-bf14-237ac809352c",
   "metadata": {},
   "outputs": [
    {
     "data": {
      "text/plain": [
       "21"
      ]
     },
     "execution_count": 47,
     "metadata": {},
     "output_type": "execute_result"
    }
   ],
   "source": [
    "21*1"
   ]
  },
  {
   "cell_type": "code",
   "execution_count": 49,
   "id": "c63d146c-7a54-4e8d-a8db-0b011bd8c9ff",
   "metadata": {},
   "outputs": [
    {
     "data": {
      "text/plain": [
       "110"
      ]
     },
     "execution_count": 49,
     "metadata": {},
     "output_type": "execute_result"
    }
   ],
   "source": [
    "22*5"
   ]
  },
  {
   "cell_type": "code",
   "execution_count": 51,
   "id": "e35e2778-fd0c-4c57-830f-4b2310519c42",
   "metadata": {},
   "outputs": [
    {
     "data": {
      "text/plain": [
       "195"
      ]
     },
     "execution_count": 51,
     "metadata": {},
     "output_type": "execute_result"
    }
   ],
   "source": [
    "65*3"
   ]
  },
  {
   "cell_type": "code",
   "execution_count": 53,
   "id": "8d635f25-2ee3-47e0-9da1-24e941869113",
   "metadata": {},
   "outputs": [
    {
     "data": {
      "text/plain": [
       "125"
      ]
     },
     "execution_count": 53,
     "metadata": {},
     "output_type": "execute_result"
    }
   ],
   "source": [
    "25*5"
   ]
  },
  {
   "cell_type": "code",
   "execution_count": 55,
   "id": "8cee7603-0d6b-4ae0-9cff-f88644dad174",
   "metadata": {},
   "outputs": [
    {
     "data": {
      "text/plain": [
       "4.4"
      ]
     },
     "execution_count": 55,
     "metadata": {},
     "output_type": "execute_result"
    }
   ],
   "source": [
    "22/5"
   ]
  },
  {
   "cell_type": "code",
   "execution_count": 57,
   "id": "7b2fba80-48be-4afa-870b-ef06fd44a80c",
   "metadata": {},
   "outputs": [
    {
     "data": {
      "text/plain": [
       "7.5"
      ]
     },
     "execution_count": 57,
     "metadata": {},
     "output_type": "execute_result"
    }
   ],
   "source": [
    "15/2"
   ]
  },
  {
   "cell_type": "code",
   "execution_count": 61,
   "id": "c084a114-e2ee-47d6-86f1-1a44f7e53073",
   "metadata": {},
   "outputs": [
    {
     "data": {
      "text/plain": [
       "2.142857142857143"
      ]
     },
     "execution_count": 61,
     "metadata": {},
     "output_type": "execute_result"
    }
   ],
   "source": [
    "15/7"
   ]
  },
  {
   "cell_type": "code",
   "execution_count": 63,
   "id": "d4850141-b9c3-4dd7-99ad-ceb0ea801ca3",
   "metadata": {},
   "outputs": [
    {
     "data": {
      "text/plain": [
       "10.0"
      ]
     },
     "execution_count": 63,
     "metadata": {},
     "output_type": "execute_result"
    }
   ],
   "source": [
    "20/2"
   ]
  },
  {
   "cell_type": "code",
   "execution_count": 65,
   "id": "8954f154-4830-4ac7-a4a7-24123f3eda24",
   "metadata": {},
   "outputs": [
    {
     "data": {
      "text/plain": [
       "4.4"
      ]
     },
     "execution_count": 65,
     "metadata": {},
     "output_type": "execute_result"
    }
   ],
   "source": [
    "22/5"
   ]
  },
  {
   "cell_type": "code",
   "execution_count": 67,
   "id": "5283009a-54ca-4c5c-a8c7-0504a8a62e9f",
   "metadata": {},
   "outputs": [
    {
     "data": {
      "text/plain": [
       "22"
      ]
     },
     "execution_count": 67,
     "metadata": {},
     "output_type": "execute_result"
    }
   ],
   "source": [
    "45//2"
   ]
  },
  {
   "cell_type": "code",
   "execution_count": 69,
   "id": "501c6996-bbea-41ac-9d73-a327b823c972",
   "metadata": {},
   "outputs": [
    {
     "data": {
      "text/plain": [
       "1"
      ]
     },
     "execution_count": 69,
     "metadata": {},
     "output_type": "execute_result"
    }
   ],
   "source": [
    "25//25"
   ]
  },
  {
   "cell_type": "code",
   "execution_count": 71,
   "id": "31f7074f-5406-49fa-b039-903e13f6b5db",
   "metadata": {},
   "outputs": [
    {
     "data": {
      "text/plain": [
       "3"
      ]
     },
     "execution_count": 71,
     "metadata": {},
     "output_type": "execute_result"
    }
   ],
   "source": [
    "15//5"
   ]
  },
  {
   "cell_type": "code",
   "execution_count": 73,
   "id": "0d4d0c85-77af-4a97-82bb-046306f41e76",
   "metadata": {},
   "outputs": [
    {
     "data": {
      "text/plain": [
       "1"
      ]
     },
     "execution_count": 73,
     "metadata": {},
     "output_type": "execute_result"
    }
   ],
   "source": [
    "65//45"
   ]
  },
  {
   "cell_type": "code",
   "execution_count": 75,
   "id": "200307ca-b1b7-44cf-8228-fac1c1a5da36",
   "metadata": {},
   "outputs": [
    {
     "data": {
      "text/plain": [
       "10"
      ]
     },
     "execution_count": 75,
     "metadata": {},
     "output_type": "execute_result"
    }
   ],
   "source": [
    "20//2"
   ]
  },
  {
   "cell_type": "code",
   "execution_count": 77,
   "id": "dfcfd14b-b1fc-4091-8e65-84444e64144f",
   "metadata": {},
   "outputs": [
    {
     "data": {
      "text/plain": [
       "15625"
      ]
     },
     "execution_count": 77,
     "metadata": {},
     "output_type": "execute_result"
    }
   ],
   "source": [
    "5**6"
   ]
  },
  {
   "cell_type": "code",
   "execution_count": 79,
   "id": "4d12ca53-231b-4b73-89c6-423d16b30928",
   "metadata": {},
   "outputs": [
    {
     "data": {
      "text/plain": [
       "1.3195079107728942"
      ]
     },
     "execution_count": 79,
     "metadata": {},
     "output_type": "execute_result"
    }
   ],
   "source": [
    "4**.2"
   ]
  },
  {
   "cell_type": "code",
   "execution_count": 81,
   "id": "d189c11a-5693-436a-b677-8eca6092e7d1",
   "metadata": {},
   "outputs": [
    {
     "data": {
      "text/plain": [
       "78125"
      ]
     },
     "execution_count": 81,
     "metadata": {},
     "output_type": "execute_result"
    }
   ],
   "source": [
    "5**7"
   ]
  },
  {
   "cell_type": "code",
   "execution_count": 83,
   "id": "c3cb1dc0-beb0-4345-a2d5-62d07d755308",
   "metadata": {},
   "outputs": [
    {
     "data": {
      "text/plain": [
       "32"
      ]
     },
     "execution_count": 83,
     "metadata": {},
     "output_type": "execute_result"
    }
   ],
   "source": [
    "2**5"
   ]
  },
  {
   "cell_type": "code",
   "execution_count": 85,
   "id": "1ba1ec26-adb1-40a6-8f71-b549ba5be961",
   "metadata": {},
   "outputs": [
    {
     "data": {
      "text/plain": [
       "7776"
      ]
     },
     "execution_count": 85,
     "metadata": {},
     "output_type": "execute_result"
    }
   ],
   "source": [
    "6**5"
   ]
  },
  {
   "cell_type": "code",
   "execution_count": 87,
   "id": "f1a8af1f-5885-46c1-b383-5fb9ea88c9fe",
   "metadata": {},
   "outputs": [
    {
     "data": {
      "text/plain": [
       "1"
      ]
     },
     "execution_count": 87,
     "metadata": {},
     "output_type": "execute_result"
    }
   ],
   "source": [
    "1**2"
   ]
  },
  {
   "cell_type": "code",
   "execution_count": 89,
   "id": "cdd24a71-7db6-403f-9af6-6b0a79935a0e",
   "metadata": {},
   "outputs": [
    {
     "data": {
      "text/plain": [
       "32"
      ]
     },
     "execution_count": 89,
     "metadata": {},
     "output_type": "execute_result"
    }
   ],
   "source": [
    "2**5"
   ]
  },
  {
   "cell_type": "code",
   "execution_count": 91,
   "id": "158772d5-4a3a-4980-9697-379e6e795357",
   "metadata": {},
   "outputs": [
    {
     "data": {
      "text/plain": [
       "0"
      ]
     },
     "execution_count": 91,
     "metadata": {},
     "output_type": "execute_result"
    }
   ],
   "source": [
    "5%5"
   ]
  },
  {
   "cell_type": "code",
   "execution_count": 93,
   "id": "4cee35fe-4c65-44b0-914d-3b814b2ecdf4",
   "metadata": {},
   "outputs": [
    {
     "data": {
      "text/plain": [
       "5"
      ]
     },
     "execution_count": 93,
     "metadata": {},
     "output_type": "execute_result"
    }
   ],
   "source": [
    "5%6"
   ]
  },
  {
   "cell_type": "code",
   "execution_count": 95,
   "id": "e37e5243-2733-4bbb-99fe-58a70868c846",
   "metadata": {},
   "outputs": [
    {
     "data": {
      "text/plain": [
       "0"
      ]
     },
     "execution_count": 95,
     "metadata": {},
     "output_type": "execute_result"
    }
   ],
   "source": [
    "6%3"
   ]
  },
  {
   "cell_type": "code",
   "execution_count": 97,
   "id": "63acd10f-0d85-4c11-9597-9b9e5d806869",
   "metadata": {},
   "outputs": [
    {
     "data": {
      "text/plain": [
       "2"
      ]
     },
     "execution_count": 97,
     "metadata": {},
     "output_type": "execute_result"
    }
   ],
   "source": [
    "22%5"
   ]
  },
  {
   "cell_type": "code",
   "execution_count": 99,
   "id": "c45efe29-affa-4a80-bf23-b18efb600c8c",
   "metadata": {},
   "outputs": [
    {
     "data": {
      "text/plain": [
       "4"
      ]
     },
     "execution_count": 99,
     "metadata": {},
     "output_type": "execute_result"
    }
   ],
   "source": [
    "99%5"
   ]
  },
  {
   "cell_type": "code",
   "execution_count": 101,
   "id": "036ba909-0f84-4b42-a88a-41a1a1e513e4",
   "metadata": {},
   "outputs": [],
   "source": [
    "# Camparison Operators: >,<,>=,<=,==,!=, # it provide us answer in Boolean"
   ]
  },
  {
   "cell_type": "code",
   "execution_count": 103,
   "id": "830529af-ddc5-4097-a635-ffaae6e5ee33",
   "metadata": {},
   "outputs": [
    {
     "data": {
      "text/plain": [
       "False"
      ]
     },
     "execution_count": 103,
     "metadata": {},
     "output_type": "execute_result"
    }
   ],
   "source": [
    "10>15"
   ]
  },
  {
   "cell_type": "code",
   "execution_count": 105,
   "id": "602bd8e4-5a8c-45c6-bef0-a9e0b030ac31",
   "metadata": {},
   "outputs": [
    {
     "data": {
      "text/plain": [
       "False"
      ]
     },
     "execution_count": 105,
     "metadata": {},
     "output_type": "execute_result"
    }
   ],
   "source": [
    "15<10"
   ]
  },
  {
   "cell_type": "code",
   "execution_count": 107,
   "id": "599c0677-cc38-4cb0-a0e0-e1d69211cd64",
   "metadata": {},
   "outputs": [
    {
     "data": {
      "text/plain": [
       "False"
      ]
     },
     "execution_count": 107,
     "metadata": {},
     "output_type": "execute_result"
    }
   ],
   "source": [
    "20>25"
   ]
  },
  {
   "cell_type": "code",
   "execution_count": 109,
   "id": "5bd5a06f-5491-4e4b-b574-9f6ba8ee715d",
   "metadata": {},
   "outputs": [
    {
     "data": {
      "text/plain": [
       "True"
      ]
     },
     "execution_count": 109,
     "metadata": {},
     "output_type": "execute_result"
    }
   ],
   "source": [
    "14>10"
   ]
  },
  {
   "cell_type": "code",
   "execution_count": 111,
   "id": "8bccba90-5d95-410a-99ce-e520feeafcf9",
   "metadata": {},
   "outputs": [
    {
     "data": {
      "text/plain": [
       "True"
      ]
     },
     "execution_count": 111,
     "metadata": {},
     "output_type": "execute_result"
    }
   ],
   "source": [
    "20>10"
   ]
  },
  {
   "cell_type": "code",
   "execution_count": 113,
   "id": "20718535-dc18-4853-ae08-ab660d8e77a4",
   "metadata": {},
   "outputs": [
    {
     "data": {
      "text/plain": [
       "True"
      ]
     },
     "execution_count": 113,
     "metadata": {},
     "output_type": "execute_result"
    }
   ],
   "source": [
    "30>20"
   ]
  },
  {
   "cell_type": "code",
   "execution_count": 117,
   "id": "32599ee6-3624-4f26-b512-a0232703b09d",
   "metadata": {},
   "outputs": [
    {
     "data": {
      "text/plain": [
       "True"
      ]
     },
     "execution_count": 117,
     "metadata": {},
     "output_type": "execute_result"
    }
   ],
   "source": [
    "14>8"
   ]
  },
  {
   "cell_type": "code",
   "execution_count": 119,
   "id": "4b41886a-cc8c-486a-ac4b-8c9a884272e8",
   "metadata": {},
   "outputs": [
    {
     "data": {
      "text/plain": [
       "True"
      ]
     },
     "execution_count": 119,
     "metadata": {},
     "output_type": "execute_result"
    }
   ],
   "source": [
    "30<200"
   ]
  },
  {
   "cell_type": "code",
   "execution_count": 121,
   "id": "23704c55-8670-4a7a-b3c7-a93cb1490a1f",
   "metadata": {},
   "outputs": [
    {
     "data": {
      "text/plain": [
       "True"
      ]
     },
     "execution_count": 121,
     "metadata": {},
     "output_type": "execute_result"
    }
   ],
   "source": [
    "20<25"
   ]
  },
  {
   "cell_type": "code",
   "execution_count": 123,
   "id": "a3b5ed4b-2419-44da-aae1-d1907874ca78",
   "metadata": {},
   "outputs": [
    {
     "data": {
      "text/plain": [
       "False"
      ]
     },
     "execution_count": 123,
     "metadata": {},
     "output_type": "execute_result"
    }
   ],
   "source": [
    "10<10"
   ]
  },
  {
   "cell_type": "code",
   "execution_count": 125,
   "id": "cdbd6a93-7129-48f3-8af4-b0ca9f0c0ad7",
   "metadata": {},
   "outputs": [
    {
     "data": {
      "text/plain": [
       "True"
      ]
     },
     "execution_count": 125,
     "metadata": {},
     "output_type": "execute_result"
    }
   ],
   "source": [
    "20<30"
   ]
  },
  {
   "cell_type": "code",
   "execution_count": 127,
   "id": "f84f9931-301d-48c9-8860-7ca9ca0e4e7d",
   "metadata": {},
   "outputs": [
    {
     "data": {
      "text/plain": [
       "False"
      ]
     },
     "execution_count": 127,
     "metadata": {},
     "output_type": "execute_result"
    }
   ],
   "source": [
    "30<=25"
   ]
  },
  {
   "cell_type": "code",
   "execution_count": 129,
   "id": "4b5058ae-d954-4870-bc07-c9c465cdbecb",
   "metadata": {},
   "outputs": [
    {
     "data": {
      "text/plain": [
       "True"
      ]
     },
     "execution_count": 129,
     "metadata": {},
     "output_type": "execute_result"
    }
   ],
   "source": [
    "40<=55"
   ]
  },
  {
   "cell_type": "code",
   "execution_count": 131,
   "id": "caf9030d-bcd2-4b03-b83e-425e59423137",
   "metadata": {},
   "outputs": [
    {
     "data": {
      "text/plain": [
       "False"
      ]
     },
     "execution_count": 131,
     "metadata": {},
     "output_type": "execute_result"
    }
   ],
   "source": [
    "45<=35"
   ]
  },
  {
   "cell_type": "code",
   "execution_count": 135,
   "id": "681e2caa-4a39-4988-b03b-9d4cb50eeaa6",
   "metadata": {},
   "outputs": [
    {
     "data": {
      "text/plain": [
       "True"
      ]
     },
     "execution_count": 135,
     "metadata": {},
     "output_type": "execute_result"
    }
   ],
   "source": [
    "65>=55"
   ]
  },
  {
   "cell_type": "code",
   "execution_count": 137,
   "id": "1f8f4f53-272b-4e2b-b04d-9cc8bcc10907",
   "metadata": {},
   "outputs": [
    {
     "data": {
      "text/plain": [
       "False"
      ]
     },
     "execution_count": 137,
     "metadata": {},
     "output_type": "execute_result"
    }
   ],
   "source": [
    "25>=88"
   ]
  },
  {
   "cell_type": "code",
   "execution_count": 142,
   "id": "ecfe3a62-6b0d-4bf1-a11e-e95edfec1134",
   "metadata": {},
   "outputs": [
    {
     "data": {
      "text/plain": [
       "False"
      ]
     },
     "execution_count": 142,
     "metadata": {},
     "output_type": "execute_result"
    }
   ],
   "source": [
    "55>=65"
   ]
  },
  {
   "cell_type": "code",
   "execution_count": 144,
   "id": "466d60e0-4e59-4527-8af7-dc7fee2fb976",
   "metadata": {},
   "outputs": [
    {
     "data": {
      "text/plain": [
       "False"
      ]
     },
     "execution_count": 144,
     "metadata": {},
     "output_type": "execute_result"
    }
   ],
   "source": [
    "14>=45"
   ]
  },
  {
   "cell_type": "code",
   "execution_count": 146,
   "id": "d375235a-7fff-46ec-b738-d3f88d38f351",
   "metadata": {},
   "outputs": [
    {
     "data": {
      "text/plain": [
       "True"
      ]
     },
     "execution_count": 146,
     "metadata": {},
     "output_type": "execute_result"
    }
   ],
   "source": [
    "45<=45"
   ]
  },
  {
   "cell_type": "code",
   "execution_count": 148,
   "id": "cdbff4b2-d864-4de8-9995-d09466876477",
   "metadata": {},
   "outputs": [
    {
     "data": {
      "text/plain": [
       "False"
      ]
     },
     "execution_count": 148,
     "metadata": {},
     "output_type": "execute_result"
    }
   ],
   "source": [
    "65<=45"
   ]
  },
  {
   "cell_type": "code",
   "execution_count": 150,
   "id": "4416afcc-bd86-4056-952c-b44e66ee5dbd",
   "metadata": {},
   "outputs": [
    {
     "data": {
      "text/plain": [
       "False"
      ]
     },
     "execution_count": 150,
     "metadata": {},
     "output_type": "execute_result"
    }
   ],
   "source": [
    "87<=58"
   ]
  },
  {
   "cell_type": "code",
   "execution_count": 152,
   "id": "a786dedc-6a79-42a6-bcca-670e79ff9193",
   "metadata": {},
   "outputs": [
    {
     "data": {
      "text/plain": [
       "False"
      ]
     },
     "execution_count": 152,
     "metadata": {},
     "output_type": "execute_result"
    }
   ],
   "source": [
    "45==25"
   ]
  },
  {
   "cell_type": "code",
   "execution_count": 154,
   "id": "db1c5791-a6f0-490c-994a-1d914c048d21",
   "metadata": {},
   "outputs": [
    {
     "data": {
      "text/plain": [
       "False"
      ]
     },
     "execution_count": 154,
     "metadata": {},
     "output_type": "execute_result"
    }
   ],
   "source": [
    "20==10"
   ]
  },
  {
   "cell_type": "code",
   "execution_count": 156,
   "id": "11a11efd-b67f-4774-be69-82922a3b4280",
   "metadata": {},
   "outputs": [
    {
     "data": {
      "text/plain": [
       "False"
      ]
     },
     "execution_count": 156,
     "metadata": {},
     "output_type": "execute_result"
    }
   ],
   "source": [
    "30==10"
   ]
  },
  {
   "cell_type": "code",
   "execution_count": 158,
   "id": "12dfedd1-4eca-45d9-8d18-310288bc7001",
   "metadata": {},
   "outputs": [
    {
     "data": {
      "text/plain": [
       "False"
      ]
     },
     "execution_count": 158,
     "metadata": {},
     "output_type": "execute_result"
    }
   ],
   "source": [
    "65==10"
   ]
  },
  {
   "cell_type": "code",
   "execution_count": 160,
   "id": "a4242224-3ef0-4ab9-a0ec-03faa1156b81",
   "metadata": {},
   "outputs": [
    {
     "data": {
      "text/plain": [
       "False"
      ]
     },
     "execution_count": 160,
     "metadata": {},
     "output_type": "execute_result"
    }
   ],
   "source": [
    "625==546"
   ]
  },
  {
   "cell_type": "code",
   "execution_count": 162,
   "id": "4588be9e-1bfc-4c2a-a323-380c16f8ca54",
   "metadata": {},
   "outputs": [
    {
     "data": {
      "text/plain": [
       "True"
      ]
     },
     "execution_count": 162,
     "metadata": {},
     "output_type": "execute_result"
    }
   ],
   "source": [
    "150!=160"
   ]
  },
  {
   "cell_type": "code",
   "execution_count": 166,
   "id": "57e526fd-4889-409e-beb2-b63a0074d119",
   "metadata": {},
   "outputs": [
    {
     "data": {
      "text/plain": [
       "True"
      ]
     },
     "execution_count": 166,
     "metadata": {},
     "output_type": "execute_result"
    }
   ],
   "source": [
    "100!=110"
   ]
  },
  {
   "cell_type": "code",
   "execution_count": 168,
   "id": "1f195de2-0a55-4a18-a85d-a7ea237323e8",
   "metadata": {},
   "outputs": [
    {
     "data": {
      "text/plain": [
       "True"
      ]
     },
     "execution_count": 168,
     "metadata": {},
     "output_type": "execute_result"
    }
   ],
   "source": [
    "110!=120"
   ]
  },
  {
   "cell_type": "code",
   "execution_count": 170,
   "id": "f04c2a6d-a3a7-4b23-bdd0-feba512d6e62",
   "metadata": {},
   "outputs": [
    {
     "data": {
      "text/plain": [
       "True"
      ]
     },
     "execution_count": 170,
     "metadata": {},
     "output_type": "execute_result"
    }
   ],
   "source": [
    "120!=130"
   ]
  },
  {
   "cell_type": "code",
   "execution_count": 174,
   "id": "77410d6c-dd64-4a83-982a-3eda333c563e",
   "metadata": {},
   "outputs": [],
   "source": [
    "no1=10\n",
    "no2=20"
   ]
  },
  {
   "cell_type": "code",
   "execution_count": 189,
   "id": "9c83a14d-507b-4250-8132-9615491879bd",
   "metadata": {},
   "outputs": [
    {
     "name": "stdout",
     "output_type": "stream",
     "text": [
      "False\n",
      "True\n",
      "False\n",
      "True\n",
      "False\n",
      "True\n"
     ]
    }
   ],
   "source": [
    "print(no1>no2)\n",
    "print(no1<no2)\n",
    "print(no1>=no2)\n",
    "print(no1<=no2)\n",
    "print(no1==no2)\n",
    "print(no1!=no2)"
   ]
  },
  {
   "cell_type": "code",
   "execution_count": null,
   "id": "811caac7-5cd6-4df6-978f-27fffe88d9bc",
   "metadata": {},
   "outputs": [],
   "source": []
  },
  {
   "cell_type": "code",
   "execution_count": 178,
   "id": "44daeafc-0e90-48eb-ac12-e9399822dcbd",
   "metadata": {},
   "outputs": [],
   "source": [
    "# Assignment Operators:  +=, -=, /=, //=, **=, %=, ="
   ]
  },
  {
   "cell_type": "code",
   "execution_count": 180,
   "id": "a81866b9-8d3a-41bf-a304-6174d1789c8f",
   "metadata": {},
   "outputs": [],
   "source": [
    "d =14"
   ]
  },
  {
   "cell_type": "code",
   "execution_count": 183,
   "id": "d8dd6253-568b-416f-96c1-7695069780bb",
   "metadata": {},
   "outputs": [],
   "source": [
    "a = 10"
   ]
  },
  {
   "cell_type": "code",
   "execution_count": 185,
   "id": "335095d4-aa43-4a31-8f9d-cc0211778fe2",
   "metadata": {},
   "outputs": [],
   "source": [
    "a = a+2"
   ]
  },
  {
   "cell_type": "code",
   "execution_count": 187,
   "id": "7f76e74b-9756-49f7-b13b-fb9b130d0e57",
   "metadata": {},
   "outputs": [
    {
     "data": {
      "text/plain": [
       "12"
      ]
     },
     "execution_count": 187,
     "metadata": {},
     "output_type": "execute_result"
    }
   ],
   "source": [
    "a "
   ]
  },
  {
   "cell_type": "code",
   "execution_count": 191,
   "id": "3e29856f-7425-445b-ad64-c6b3a4db6199",
   "metadata": {},
   "outputs": [
    {
     "data": {
      "text/plain": [
       "7"
      ]
     },
     "execution_count": 191,
     "metadata": {},
     "output_type": "execute_result"
    }
   ],
   "source": [
    "a - 5"
   ]
  },
  {
   "cell_type": "code",
   "execution_count": 197,
   "id": "4435c1c0-16f2-482b-80fa-5e7ab7e24371",
   "metadata": {},
   "outputs": [
    {
     "data": {
      "text/plain": [
       "12"
      ]
     },
     "execution_count": 197,
     "metadata": {},
     "output_type": "execute_result"
    }
   ],
   "source": [
    "a "
   ]
  },
  {
   "cell_type": "code",
   "execution_count": 199,
   "id": "8dabda48-7c44-4331-9980-85d108b26ad8",
   "metadata": {},
   "outputs": [],
   "source": [
    "s = 10"
   ]
  },
  {
   "cell_type": "code",
   "execution_count": 203,
   "id": "071072d1-6aa4-4bf7-b576-a0c06f6a1ce3",
   "metadata": {},
   "outputs": [],
   "source": [
    "s +=5"
   ]
  },
  {
   "cell_type": "code",
   "execution_count": 205,
   "id": "11655a54-165b-416a-b52d-e63b97efcdad",
   "metadata": {},
   "outputs": [
    {
     "data": {
      "text/plain": [
       "15"
      ]
     },
     "execution_count": 205,
     "metadata": {},
     "output_type": "execute_result"
    }
   ],
   "source": [
    "s"
   ]
  },
  {
   "cell_type": "code",
   "execution_count": 207,
   "id": "4b8f3306-8aac-42ea-8150-ddcbd6f5fbe1",
   "metadata": {},
   "outputs": [],
   "source": [
    "s -=10"
   ]
  },
  {
   "cell_type": "code",
   "execution_count": 209,
   "id": "4846d243-1fc2-4488-9bcf-629e2af00ed0",
   "metadata": {},
   "outputs": [
    {
     "data": {
      "text/plain": [
       "5"
      ]
     },
     "execution_count": 209,
     "metadata": {},
     "output_type": "execute_result"
    }
   ],
   "source": [
    "s"
   ]
  },
  {
   "cell_type": "code",
   "execution_count": 211,
   "id": "7b88b586-221f-415c-b7fc-06e1e997868d",
   "metadata": {},
   "outputs": [],
   "source": [
    "s*=5"
   ]
  },
  {
   "cell_type": "code",
   "execution_count": 213,
   "id": "6fc5b498-f61c-4ef4-acf2-1a2eae57c05e",
   "metadata": {},
   "outputs": [
    {
     "data": {
      "text/plain": [
       "25"
      ]
     },
     "execution_count": 213,
     "metadata": {},
     "output_type": "execute_result"
    }
   ],
   "source": [
    "s"
   ]
  },
  {
   "cell_type": "code",
   "execution_count": 215,
   "id": "d0b6fc2e-02b9-4117-8138-b245578660cd",
   "metadata": {},
   "outputs": [],
   "source": [
    "s/=5"
   ]
  },
  {
   "cell_type": "code",
   "execution_count": 217,
   "id": "42b7c193-faf4-48e2-b1a0-0d0fadc7f9dd",
   "metadata": {},
   "outputs": [
    {
     "data": {
      "text/plain": [
       "5.0"
      ]
     },
     "execution_count": 217,
     "metadata": {},
     "output_type": "execute_result"
    }
   ],
   "source": [
    "s"
   ]
  },
  {
   "cell_type": "code",
   "execution_count": 219,
   "id": "7b4778b1-86e7-422d-8c7b-ac7dd6ab9bc2",
   "metadata": {},
   "outputs": [],
   "source": [
    "s**=3"
   ]
  },
  {
   "cell_type": "code",
   "execution_count": 221,
   "id": "cf0a8de0-df3b-4bc3-80ec-75a530fa399f",
   "metadata": {},
   "outputs": [
    {
     "data": {
      "text/plain": [
       "125.0"
      ]
     },
     "execution_count": 221,
     "metadata": {},
     "output_type": "execute_result"
    }
   ],
   "source": [
    "s"
   ]
  },
  {
   "cell_type": "code",
   "execution_count": 223,
   "id": "570d621d-619e-451d-ac78-abbdfc9c559f",
   "metadata": {},
   "outputs": [],
   "source": [
    "s//=10"
   ]
  },
  {
   "cell_type": "code",
   "execution_count": 225,
   "id": "b052c64b-e7b7-4008-bfdb-f4eefda9bb18",
   "metadata": {},
   "outputs": [
    {
     "data": {
      "text/plain": [
       "12.0"
      ]
     },
     "execution_count": 225,
     "metadata": {},
     "output_type": "execute_result"
    }
   ],
   "source": [
    "s"
   ]
  },
  {
   "cell_type": "code",
   "execution_count": 227,
   "id": "f42d2568-2131-40b1-9090-866067fafac6",
   "metadata": {},
   "outputs": [],
   "source": [
    "s%=10"
   ]
  },
  {
   "cell_type": "code",
   "execution_count": 229,
   "id": "b505798e-2d5b-4170-84af-aa743c5d6942",
   "metadata": {},
   "outputs": [
    {
     "data": {
      "text/plain": [
       "2.0"
      ]
     },
     "execution_count": 229,
     "metadata": {},
     "output_type": "execute_result"
    }
   ],
   "source": [
    "s"
   ]
  },
  {
   "cell_type": "markdown",
   "id": "4f002942-795b-464e-a708-fe0070803317",
   "metadata": {},
   "source": [
    "# Logical Operators:\n",
    "* Logical- AND- it will provide us true whwn all the conditions are true otherwise false\n",
    "* Logical- OR - it will provide us true when any one conditions is true otherwise false\n",
    "* Logical- NOT- Negation- opposite-"
   ]
  },
  {
   "cell_type": "code",
   "execution_count": 6,
   "id": "02effbd9-235c-406e-b0dd-edd016d56d52",
   "metadata": {},
   "outputs": [
    {
     "data": {
      "text/plain": [
       "True"
      ]
     },
     "execution_count": 6,
     "metadata": {},
     "output_type": "execute_result"
    }
   ],
   "source": [
    "18>10"
   ]
  },
  {
   "cell_type": "code",
   "execution_count": 12,
   "id": "7ff76765-7f9d-45b0-898f-f0d4bf12b73c",
   "metadata": {},
   "outputs": [
    {
     "data": {
      "text/plain": [
       "True"
      ]
     },
     "execution_count": 12,
     "metadata": {},
     "output_type": "execute_result"
    }
   ],
   "source": [
    "13<14"
   ]
  },
  {
   "cell_type": "code",
   "execution_count": 14,
   "id": "0caa58c0-333f-4c5b-bc6f-9bd54bf577b7",
   "metadata": {},
   "outputs": [
    {
     "data": {
      "text/plain": [
       "False"
      ]
     },
     "execution_count": 14,
     "metadata": {},
     "output_type": "execute_result"
    }
   ],
   "source": [
    "18<10 and 13>14"
   ]
  },
  {
   "cell_type": "code",
   "execution_count": 16,
   "id": "0c0db2a7-bfed-41ca-8e5f-5cd23d2b4241",
   "metadata": {},
   "outputs": [
    {
     "data": {
      "text/plain": [
       "True"
      ]
     },
     "execution_count": 16,
     "metadata": {},
     "output_type": "execute_result"
    }
   ],
   "source": [
    "18>10  or 13>14"
   ]
  },
  {
   "cell_type": "code",
   "execution_count": 18,
   "id": "921f14b2-3e62-432e-a56f-20eb9512e8e9",
   "metadata": {},
   "outputs": [
    {
     "data": {
      "text/plain": [
       "False"
      ]
     },
     "execution_count": 18,
     "metadata": {},
     "output_type": "execute_result"
    }
   ],
   "source": [
    "18<10 or 13>14"
   ]
  },
  {
   "cell_type": "code",
   "execution_count": 20,
   "id": "c37936a2-df61-42c0-966c-76ba7245dbbc",
   "metadata": {},
   "outputs": [
    {
     "data": {
      "text/plain": [
       "True"
      ]
     },
     "execution_count": 20,
     "metadata": {},
     "output_type": "execute_result"
    }
   ],
   "source": [
    "18>10 or 13>15"
   ]
  },
  {
   "cell_type": "code",
   "execution_count": 22,
   "id": "cb56886a-c238-40ca-a0a1-b49af4b9278e",
   "metadata": {},
   "outputs": [
    {
     "data": {
      "text/plain": [
       "True"
      ]
     },
     "execution_count": 22,
     "metadata": {},
     "output_type": "execute_result"
    }
   ],
   "source": [
    "18<20 or 15>15"
   ]
  },
  {
   "cell_type": "code",
   "execution_count": 26,
   "id": "8b554b1d-4c87-4df8-b22b-14d9ed318a0b",
   "metadata": {},
   "outputs": [
    {
     "data": {
      "text/plain": [
       "False"
      ]
     },
     "execution_count": 26,
     "metadata": {},
     "output_type": "execute_result"
    }
   ],
   "source": [
    "not True"
   ]
  },
  {
   "cell_type": "code",
   "execution_count": 28,
   "id": "3462b06c-494b-4586-a20b-942fbaa37571",
   "metadata": {},
   "outputs": [
    {
     "data": {
      "text/plain": [
       "False"
      ]
     },
     "execution_count": 28,
     "metadata": {},
     "output_type": "execute_result"
    }
   ],
   "source": [
    "not True"
   ]
  },
  {
   "cell_type": "code",
   "execution_count": 30,
   "id": "e776d7ac-1ab0-4ff7-a50f-7cc8a12a3f8f",
   "metadata": {},
   "outputs": [
    {
     "data": {
      "text/plain": [
       "True"
      ]
     },
     "execution_count": 30,
     "metadata": {},
     "output_type": "execute_result"
    }
   ],
   "source": [
    "not False"
   ]
  },
  {
   "cell_type": "code",
   "execution_count": 32,
   "id": "ec7b57d7-9b83-4238-8153-d16b2a156c5e",
   "metadata": {},
   "outputs": [
    {
     "data": {
      "text/plain": [
       "False"
      ]
     },
     "execution_count": 32,
     "metadata": {},
     "output_type": "execute_result"
    }
   ],
   "source": [
    "not True"
   ]
  },
  {
   "cell_type": "code",
   "execution_count": 34,
   "id": "581c4a61-6aad-4db0-97c7-f5728c67b4bf",
   "metadata": {},
   "outputs": [
    {
     "data": {
      "text/plain": [
       "True"
      ]
     },
     "execution_count": 34,
     "metadata": {},
     "output_type": "execute_result"
    }
   ],
   "source": [
    "not False"
   ]
  },
  {
   "cell_type": "code",
   "execution_count": 36,
   "id": "0a985c09-70d4-478f-b188-2e9b22c16b47",
   "metadata": {},
   "outputs": [
    {
     "data": {
      "text/plain": [
       "False"
      ]
     },
     "execution_count": 36,
     "metadata": {},
     "output_type": "execute_result"
    }
   ],
   "source": [
    "not((18>10) and (16>14))"
   ]
  },
  {
   "cell_type": "code",
   "execution_count": 42,
   "id": "e5367315-703c-4c6c-a38f-d0bc58a413c4",
   "metadata": {},
   "outputs": [
    {
     "data": {
      "text/plain": [
       "True"
      ]
     },
     "execution_count": 42,
     "metadata": {},
     "output_type": "execute_result"
    }
   ],
   "source": [
    "not((20>25) or (15>25))"
   ]
  },
  {
   "cell_type": "code",
   "execution_count": 44,
   "id": "bb25b48d-3e46-490f-8f37-27290f6bd304",
   "metadata": {},
   "outputs": [
    {
     "data": {
      "text/plain": [
       "True"
      ]
     },
     "execution_count": 44,
     "metadata": {},
     "output_type": "execute_result"
    }
   ],
   "source": [
    "not((((14>15) and (10>13) or (15>50))))"
   ]
  },
  {
   "cell_type": "code",
   "execution_count": 46,
   "id": "6e02859d-6b43-4db3-a728-469b9dcbee10",
   "metadata": {},
   "outputs": [
    {
     "data": {
      "text/plain": [
       "False"
      ]
     },
     "execution_count": 46,
     "metadata": {},
     "output_type": "execute_result"
    }
   ],
   "source": [
    "not((((15>10) or (12<15) and (11<13) or (14<15))))"
   ]
  },
  {
   "cell_type": "code",
   "execution_count": 48,
   "id": "6d4ae074-bb0f-4e7c-8945-2b7ba9d8c64f",
   "metadata": {},
   "outputs": [
    {
     "data": {
      "text/plain": [
       "True"
      ]
     },
     "execution_count": 48,
     "metadata": {},
     "output_type": "execute_result"
    }
   ],
   "source": [
    "not((((15<18) and (14>24) or (17<18) and (19<16) or (10>12))))"
   ]
  },
  {
   "cell_type": "code",
   "execution_count": null,
   "id": "7cb129cb-16d0-4d91-b0cc-7107a409ab40",
   "metadata": {},
   "outputs": [],
   "source": []
  },
  {
   "cell_type": "code",
   "execution_count": null,
   "id": "c53981c5-b9c1-4fed-968a-ed0718853d08",
   "metadata": {},
   "outputs": [],
   "source": []
  },
  {
   "cell_type": "markdown",
   "id": "dd5e3c0a-435a-4023-8439-db638d5ba3eb",
   "metadata": {},
   "source": [
    "# Bitwise Operators:\n",
    "* Bitwise AND : it follows logical AND - &\n",
    "* Bitwise OR : it follows logical OR - |\n",
    "* Bitwise XOR :: it provide us true when any one condition is true but it will provide\n",
    "* False when either both conditions are false or both conditions are true"
   ]
  },
  {
   "cell_type": "code",
   "execution_count": 1,
   "id": "fef9ecfd-4a3b-41d8-b551-e277feb1078c",
   "metadata": {},
   "outputs": [
    {
     "data": {
      "text/plain": [
       "15"
      ]
     },
     "execution_count": 1,
     "metadata": {},
     "output_type": "execute_result"
    }
   ],
   "source": [
    "15"
   ]
  },
  {
   "cell_type": "code",
   "execution_count": 3,
   "id": "341d50cc-91dd-42b1-b3d2-2a53020f4140",
   "metadata": {},
   "outputs": [
    {
     "data": {
      "text/plain": [
       "'0b1111'"
      ]
     },
     "execution_count": 3,
     "metadata": {},
     "output_type": "execute_result"
    }
   ],
   "source": [
    "bin(15)"
   ]
  },
  {
   "cell_type": "code",
   "execution_count": 5,
   "id": "a5345269-cf1f-4a3a-96f5-3060a5f1bb66",
   "metadata": {},
   "outputs": [
    {
     "data": {
      "text/plain": [
       "'0b1010'"
      ]
     },
     "execution_count": 5,
     "metadata": {},
     "output_type": "execute_result"
    }
   ],
   "source": [
    "bin(10)"
   ]
  },
  {
   "cell_type": "code",
   "execution_count": 7,
   "id": "f48c7199-6b57-473a-ab1d-472570a7088e",
   "metadata": {},
   "outputs": [
    {
     "data": {
      "text/plain": [
       "10"
      ]
     },
     "execution_count": 7,
     "metadata": {},
     "output_type": "execute_result"
    }
   ],
   "source": [
    "10&10"
   ]
  },
  {
   "cell_type": "code",
   "execution_count": 9,
   "id": "5c42dd0b-e0e9-4a65-91a4-cf5ad9304ab7",
   "metadata": {},
   "outputs": [
    {
     "data": {
      "text/plain": [
       "0"
      ]
     },
     "execution_count": 9,
     "metadata": {},
     "output_type": "execute_result"
    }
   ],
   "source": [
    "10&5"
   ]
  },
  {
   "cell_type": "code",
   "execution_count": 11,
   "id": "329f634c-fcd1-4be9-8226-847f3f56e3da",
   "metadata": {},
   "outputs": [
    {
     "data": {
      "text/plain": [
       "15"
      ]
     },
     "execution_count": 11,
     "metadata": {},
     "output_type": "execute_result"
    }
   ],
   "source": [
    "15|5"
   ]
  },
  {
   "cell_type": "code",
   "execution_count": 13,
   "id": "450daff1-98e3-4a34-9f41-0d4b9f2db2b9",
   "metadata": {},
   "outputs": [
    {
     "data": {
      "text/plain": [
       "'0b11001'"
      ]
     },
     "execution_count": 13,
     "metadata": {},
     "output_type": "execute_result"
    }
   ],
   "source": [
    "bin(25)"
   ]
  },
  {
   "cell_type": "code",
   "execution_count": 15,
   "id": "00f02d68-6467-48ca-9d7e-29c80bf6bd27",
   "metadata": {},
   "outputs": [
    {
     "data": {
      "text/plain": [
       "15"
      ]
     },
     "execution_count": 15,
     "metadata": {},
     "output_type": "execute_result"
    }
   ],
   "source": [
    "15&15"
   ]
  },
  {
   "cell_type": "code",
   "execution_count": 17,
   "id": "1de72423-31ab-4eff-b917-1174b6ef0363",
   "metadata": {},
   "outputs": [
    {
     "data": {
      "text/plain": [
       "2"
      ]
     },
     "execution_count": 17,
     "metadata": {},
     "output_type": "execute_result"
    }
   ],
   "source": [
    "15&2"
   ]
  },
  {
   "cell_type": "code",
   "execution_count": 19,
   "id": "4a8d7d5b-2b86-4146-9ba3-e95235b2b637",
   "metadata": {},
   "outputs": [
    {
     "data": {
      "text/plain": [
       "15"
      ]
     },
     "execution_count": 19,
     "metadata": {},
     "output_type": "execute_result"
    }
   ],
   "source": [
    "15|2"
   ]
  },
  {
   "cell_type": "code",
   "execution_count": 21,
   "id": "83f24be9-c34c-406b-842a-859c5f086afe",
   "metadata": {},
   "outputs": [
    {
     "data": {
      "text/plain": [
       "75"
      ]
     },
     "execution_count": 21,
     "metadata": {},
     "output_type": "execute_result"
    }
   ],
   "source": [
    "10|65"
   ]
  },
  {
   "cell_type": "code",
   "execution_count": 23,
   "id": "81801889-1ee3-4a7c-833e-26ab39c3a981",
   "metadata": {},
   "outputs": [
    {
     "data": {
      "text/plain": [
       "23"
      ]
     },
     "execution_count": 23,
     "metadata": {},
     "output_type": "execute_result"
    }
   ],
   "source": [
    "18^5"
   ]
  },
  {
   "cell_type": "code",
   "execution_count": 25,
   "id": "dce1947c-1f90-4376-a84f-9c951603900e",
   "metadata": {},
   "outputs": [
    {
     "data": {
      "text/plain": [
       "54"
      ]
     },
     "execution_count": 25,
     "metadata": {},
     "output_type": "execute_result"
    }
   ],
   "source": [
    "51^5"
   ]
  },
  {
   "cell_type": "code",
   "execution_count": 27,
   "id": "2aa3571e-13b6-4ae2-948d-6416dcbb93c6",
   "metadata": {},
   "outputs": [
    {
     "data": {
      "text/plain": [
       "67"
      ]
     },
     "execution_count": 27,
     "metadata": {},
     "output_type": "execute_result"
    }
   ],
   "source": [
    "65^2"
   ]
  },
  {
   "cell_type": "code",
   "execution_count": 29,
   "id": "56dae711-2485-4b16-9a61-155bdabba149",
   "metadata": {},
   "outputs": [
    {
     "data": {
      "text/plain": [
       "'0b1010'"
      ]
     },
     "execution_count": 29,
     "metadata": {},
     "output_type": "execute_result"
    }
   ],
   "source": [
    "bin(10)"
   ]
  },
  {
   "cell_type": "code",
   "execution_count": 31,
   "id": "f52a651c-2a74-41f2-8a3c-ddf1a2730ad0",
   "metadata": {},
   "outputs": [
    {
     "data": {
      "text/plain": [
       "'0b1111'"
      ]
     },
     "execution_count": 31,
     "metadata": {},
     "output_type": "execute_result"
    }
   ],
   "source": [
    "bin(15)"
   ]
  },
  {
   "cell_type": "code",
   "execution_count": 33,
   "id": "4ba119db-89df-4933-aacb-32717106a7ce",
   "metadata": {},
   "outputs": [
    {
     "data": {
      "text/plain": [
       "'0b11110'"
      ]
     },
     "execution_count": 33,
     "metadata": {},
     "output_type": "execute_result"
    }
   ],
   "source": [
    "bin(30)"
   ]
  },
  {
   "cell_type": "code",
   "execution_count": 35,
   "id": "1b941135-4718-405a-83db-5e2e4864ee6f",
   "metadata": {},
   "outputs": [
    {
     "data": {
      "text/plain": [
       "'0b101101'"
      ]
     },
     "execution_count": 35,
     "metadata": {},
     "output_type": "execute_result"
    }
   ],
   "source": [
    "bin(45)"
   ]
  },
  {
   "cell_type": "code",
   "execution_count": 37,
   "id": "f7acb575-0ad2-4864-b5e9-0b2faf8d873b",
   "metadata": {},
   "outputs": [
    {
     "data": {
      "text/plain": [
       "'0b110111'"
      ]
     },
     "execution_count": 37,
     "metadata": {},
     "output_type": "execute_result"
    }
   ],
   "source": [
    "bin(55)"
   ]
  },
  {
   "cell_type": "code",
   "execution_count": 39,
   "id": "4b21e2e0-1d75-4c55-862f-81c5d0eb01c1",
   "metadata": {},
   "outputs": [
    {
     "data": {
      "text/plain": [
       "'0b111100'"
      ]
     },
     "execution_count": 39,
     "metadata": {},
     "output_type": "execute_result"
    }
   ],
   "source": [
    "bin(60)"
   ]
  },
  {
   "cell_type": "code",
   "execution_count": 41,
   "id": "827f3d8a-a61c-425c-ac87-2d3d5d2c5553",
   "metadata": {},
   "outputs": [
    {
     "data": {
      "text/plain": [
       "15"
      ]
     },
     "execution_count": 41,
     "metadata": {},
     "output_type": "execute_result"
    }
   ],
   "source": [
    "10|5"
   ]
  },
  {
   "cell_type": "code",
   "execution_count": 45,
   "id": "2dc2c736-df5b-4dea-a742-54fcee7a6630",
   "metadata": {},
   "outputs": [
    {
     "data": {
      "text/plain": [
       "68"
      ]
     },
     "execution_count": 45,
     "metadata": {},
     "output_type": "execute_result"
    }
   ],
   "source": [
    "65^5"
   ]
  },
  {
   "cell_type": "markdown",
   "id": "4b2fb8f2-b299-4ac5-8254-48ce3d0c4418",
   "metadata": {},
   "source": [
    "##### "
   ]
  },
  {
   "cell_type": "code",
   "execution_count": 48,
   "id": "f31f78c6-5c97-4a2e-af39-962347dc73d6",
   "metadata": {},
   "outputs": [
    {
     "data": {
      "text/plain": [
       "8"
      ]
     },
     "execution_count": 48,
     "metadata": {},
     "output_type": "execute_result"
    }
   ],
   "source": [
    "15&8"
   ]
  },
  {
   "cell_type": "code",
   "execution_count": 50,
   "id": "8c9bb593-26c3-4e40-8283-41034e4345e4",
   "metadata": {},
   "outputs": [
    {
     "data": {
      "text/plain": [
       "2"
      ]
     },
     "execution_count": 50,
     "metadata": {},
     "output_type": "execute_result"
    }
   ],
   "source": [
    "10&2"
   ]
  },
  {
   "cell_type": "code",
   "execution_count": 52,
   "id": "ac212cee-6e4d-4a19-8d68-7c4ed80b99fc",
   "metadata": {},
   "outputs": [
    {
     "data": {
      "text/plain": [
       "8"
      ]
     },
     "execution_count": 52,
     "metadata": {},
     "output_type": "execute_result"
    }
   ],
   "source": [
    "15&8"
   ]
  },
  {
   "cell_type": "code",
   "execution_count": 54,
   "id": "abd86c83-2ab4-4073-a93e-6eaa15ce6073",
   "metadata": {},
   "outputs": [
    {
     "data": {
      "text/plain": [
       "9"
      ]
     },
     "execution_count": 54,
     "metadata": {},
     "output_type": "execute_result"
    }
   ],
   "source": [
    "15&25"
   ]
  },
  {
   "cell_type": "code",
   "execution_count": null,
   "id": "5fc6ecf5-9cfe-4e3d-9d76-fdb1d433b653",
   "metadata": {},
   "outputs": [],
   "source": []
  },
  {
   "cell_type": "markdown",
   "id": "214ce821-a3fb-4875-a5c2-5cfbc5f73fc5",
   "metadata": {},
   "source": [
    "# Special Operators:\n",
    "* Membership Operators: in,not in, it will check membership Boolean:\n",
    "* Identify Operators: it will check identify, is, is not,"
   ]
  },
  {
   "cell_type": "code",
   "execution_count": 58,
   "id": "e66a44ad-c0f7-4160-9d99-fe85f19e41dc",
   "metadata": {},
   "outputs": [],
   "source": [
    "str2 = \"computer\""
   ]
  },
  {
   "cell_type": "code",
   "execution_count": 60,
   "id": "d607dbce-bce0-466f-8766-548005586f85",
   "metadata": {},
   "outputs": [
    {
     "data": {
      "text/plain": [
       "False"
      ]
     },
     "execution_count": 60,
     "metadata": {},
     "output_type": "execute_result"
    }
   ],
   "source": [
    "\"z\" in str2"
   ]
  },
  {
   "cell_type": "code",
   "execution_count": 62,
   "id": "ff0ac245-c63b-4c47-8d0d-11d79652fbdc",
   "metadata": {},
   "outputs": [],
   "source": [
    "str2 =\"system\""
   ]
  },
  {
   "cell_type": "code",
   "execution_count": 64,
   "id": "536de33c-591a-4bf9-866a-d99d5a8b750e",
   "metadata": {},
   "outputs": [
    {
     "data": {
      "text/plain": [
       "False"
      ]
     },
     "execution_count": 64,
     "metadata": {},
     "output_type": "execute_result"
    }
   ],
   "source": [
    "\"z\" in str2"
   ]
  },
  {
   "cell_type": "code",
   "execution_count": 66,
   "id": "1ff1637a-1865-4576-87af-f039347247bf",
   "metadata": {},
   "outputs": [],
   "source": [
    "str2 = \"new delhi\""
   ]
  },
  {
   "cell_type": "code",
   "execution_count": 68,
   "id": "cff61f9f-399c-4b28-b291-66d9da9cc35a",
   "metadata": {},
   "outputs": [
    {
     "data": {
      "text/plain": [
       "False"
      ]
     },
     "execution_count": 68,
     "metadata": {},
     "output_type": "execute_result"
    }
   ],
   "source": [
    "\"z\" in str2"
   ]
  },
  {
   "cell_type": "code",
   "execution_count": 70,
   "id": "fb22f56b-4004-42b3-990b-597391f28544",
   "metadata": {},
   "outputs": [],
   "source": [
    "str = \"TGC\""
   ]
  },
  {
   "cell_type": "code",
   "execution_count": 74,
   "id": "3f631ed5-c0a5-40a1-8702-ca67a6013e8f",
   "metadata": {},
   "outputs": [
    {
     "data": {
      "text/plain": [
       "True"
      ]
     },
     "execution_count": 74,
     "metadata": {},
     "output_type": "execute_result"
    }
   ],
   "source": [
    "\"z\" not in str2"
   ]
  },
  {
   "cell_type": "code",
   "execution_count": 76,
   "id": "8563ff94-df56-4de1-a23d-0b959a4331e3",
   "metadata": {},
   "outputs": [],
   "source": [
    "str = \"umar\""
   ]
  },
  {
   "cell_type": "code",
   "execution_count": 78,
   "id": "2f9957f8-9947-4ba6-b41f-a74f995b6dbf",
   "metadata": {},
   "outputs": [
    {
     "data": {
      "text/plain": [
       "True"
      ]
     },
     "execution_count": 78,
     "metadata": {},
     "output_type": "execute_result"
    }
   ],
   "source": [
    "\"z\"  not in str2"
   ]
  },
  {
   "cell_type": "code",
   "execution_count": 80,
   "id": "e0f0ee55-dd37-4790-8b73-9c768341886a",
   "metadata": {},
   "outputs": [],
   "source": [
    "str =  \"vivobook\""
   ]
  },
  {
   "cell_type": "code",
   "execution_count": 82,
   "id": "6664975d-291f-4b17-81c4-f69a99eecff1",
   "metadata": {},
   "outputs": [
    {
     "data": {
      "text/plain": [
       "True"
      ]
     },
     "execution_count": 82,
     "metadata": {},
     "output_type": "execute_result"
    }
   ],
   "source": [
    "\"z\" not in str2"
   ]
  },
  {
   "cell_type": "code",
   "execution_count": 84,
   "id": "37c03e5c-eeec-472a-b222-719407745c19",
   "metadata": {},
   "outputs": [],
   "source": [
    "p = {10,15,20.30}"
   ]
  },
  {
   "cell_type": "code",
   "execution_count": 88,
   "id": "37a76f65-d3af-4128-aaf6-961d890cbf8f",
   "metadata": {},
   "outputs": [
    {
     "data": {
      "text/plain": [
       "False"
      ]
     },
     "execution_count": 88,
     "metadata": {},
     "output_type": "execute_result"
    }
   ],
   "source": [
    "185 in p"
   ]
  },
  {
   "cell_type": "code",
   "execution_count": 90,
   "id": "37156e0e-29d8-4a84-af58-0ce21330175c",
   "metadata": {},
   "outputs": [
    {
     "data": {
      "text/plain": [
       "True"
      ]
     },
     "execution_count": 90,
     "metadata": {},
     "output_type": "execute_result"
    }
   ],
   "source": [
    "200 not in p"
   ]
  },
  {
   "cell_type": "code",
   "execution_count": 92,
   "id": "e88dc302-82c4-4692-b792-ff1307c59dd7",
   "metadata": {},
   "outputs": [
    {
     "data": {
      "text/plain": [
       "True"
      ]
     },
     "execution_count": 92,
     "metadata": {},
     "output_type": "execute_result"
    }
   ],
   "source": [
    "300 not in p"
   ]
  },
  {
   "cell_type": "code",
   "execution_count": 94,
   "id": "75498d8d-0703-49a4-98ff-e96b0a95e761",
   "metadata": {},
   "outputs": [
    {
     "data": {
      "text/plain": [
       "False"
      ]
     },
     "execution_count": 94,
     "metadata": {},
     "output_type": "execute_result"
    }
   ],
   "source": [
    "500 in p"
   ]
  },
  {
   "cell_type": "code",
   "execution_count": 96,
   "id": "2eefc0c9-88af-4a4c-9a8d-1b0352de876d",
   "metadata": {},
   "outputs": [
    {
     "data": {
      "text/plain": [
       "True"
      ]
     },
     "execution_count": 96,
     "metadata": {},
     "output_type": "execute_result"
    }
   ],
   "source": [
    "100 not in p"
   ]
  },
  {
   "cell_type": "code",
   "execution_count": 98,
   "id": "66b1724f-be39-4855-b7e7-0d8486564fc9",
   "metadata": {},
   "outputs": [
    {
     "data": {
      "text/plain": [
       "False"
      ]
     },
     "execution_count": 98,
     "metadata": {},
     "output_type": "execute_result"
    }
   ],
   "source": [
    "1000 in p"
   ]
  },
  {
   "cell_type": "code",
   "execution_count": 100,
   "id": "e3a7181c-6507-4484-a96b-faad25c7e966",
   "metadata": {},
   "outputs": [],
   "source": [
    "a = {2,4,6,8,10}"
   ]
  },
  {
   "cell_type": "code",
   "execution_count": 102,
   "id": "f7008919-abef-4b6b-9d0c-3728d58c3b32",
   "metadata": {},
   "outputs": [
    {
     "data": {
      "text/plain": [
       "True"
      ]
     },
     "execution_count": 102,
     "metadata": {},
     "output_type": "execute_result"
    }
   ],
   "source": [
    "2 in a"
   ]
  },
  {
   "cell_type": "code",
   "execution_count": 104,
   "id": "c4cba24c-fd9c-4da6-b591-ddb541dffe3b",
   "metadata": {},
   "outputs": [
    {
     "data": {
      "text/plain": [
       "False"
      ]
     },
     "execution_count": 104,
     "metadata": {},
     "output_type": "execute_result"
    }
   ],
   "source": [
    "150 in a"
   ]
  },
  {
   "cell_type": "code",
   "execution_count": 106,
   "id": "d854fa0b-eb49-4bf1-aed3-8255f847d043",
   "metadata": {},
   "outputs": [
    {
     "data": {
      "text/plain": [
       "False"
      ]
     },
     "execution_count": 106,
     "metadata": {},
     "output_type": "execute_result"
    }
   ],
   "source": [
    "200 in a"
   ]
  },
  {
   "cell_type": "code",
   "execution_count": 108,
   "id": "ec66cc72-0305-42e8-aeb4-55ff427d8fec",
   "metadata": {},
   "outputs": [
    {
     "data": {
      "text/plain": [
       "True"
      ]
     },
     "execution_count": 108,
     "metadata": {},
     "output_type": "execute_result"
    }
   ],
   "source": [
    "150 not in a"
   ]
  },
  {
   "cell_type": "code",
   "execution_count": 110,
   "id": "c6271699-5696-4b60-95cd-42eef92f5a1d",
   "metadata": {},
   "outputs": [
    {
     "data": {
      "text/plain": [
       "True"
      ]
     },
     "execution_count": 110,
     "metadata": {},
     "output_type": "execute_result"
    }
   ],
   "source": [
    "200 not in a"
   ]
  },
  {
   "cell_type": "code",
   "execution_count": 112,
   "id": "69a52a6f-79a7-4761-a9fb-0f4f7184bb49",
   "metadata": {},
   "outputs": [
    {
     "data": {
      "text/plain": [
       "True"
      ]
     },
     "execution_count": 112,
     "metadata": {},
     "output_type": "execute_result"
    }
   ],
   "source": [
    "300 not in a "
   ]
  },
  {
   "cell_type": "code",
   "execution_count": 114,
   "id": "33ceaf2e-9b94-4a17-a2d3-f5ba01fc3984",
   "metadata": {},
   "outputs": [],
   "source": [
    "str = \"Good morning\""
   ]
  },
  {
   "cell_type": "code",
   "execution_count": 122,
   "id": "ace6485c-3486-4f4a-b38a-2c2ae524c928",
   "metadata": {},
   "outputs": [
    {
     "data": {
      "text/plain": [
       "True"
      ]
     },
     "execution_count": 122,
     "metadata": {},
     "output_type": "execute_result"
    }
   ],
   "source": [
    "\"G\" in str"
   ]
  },
  {
   "cell_type": "code",
   "execution_count": 124,
   "id": "8f19c047-fedc-4ded-b264-a96c1180fa58",
   "metadata": {},
   "outputs": [],
   "source": [
    "str = \"good afternoon\""
   ]
  },
  {
   "cell_type": "code",
   "execution_count": 126,
   "id": "821d3a2e-18a0-4f93-99a7-667534319e13",
   "metadata": {},
   "outputs": [
    {
     "data": {
      "text/plain": [
       "False"
      ]
     },
     "execution_count": 126,
     "metadata": {},
     "output_type": "execute_result"
    }
   ],
   "source": [
    "\"g\" not in str"
   ]
  },
  {
   "cell_type": "code",
   "execution_count": 128,
   "id": "6e93fa7e-13e5-4390-9a55-603e4bd2adc0",
   "metadata": {},
   "outputs": [],
   "source": [
    "str = \"good evening\""
   ]
  },
  {
   "cell_type": "code",
   "execution_count": 134,
   "id": "06da4dc8-7f24-4a02-b98f-4a0a0540b0d0",
   "metadata": {},
   "outputs": [
    {
     "data": {
      "text/plain": [
       "True"
      ]
     },
     "execution_count": 134,
     "metadata": {},
     "output_type": "execute_result"
    }
   ],
   "source": [
    "\"g\"  in str "
   ]
  },
  {
   "cell_type": "code",
   "execution_count": 136,
   "id": "9eeed9ef-8040-4baa-b22f-fad8065df9d0",
   "metadata": {},
   "outputs": [],
   "source": [
    "str = \"hello dear\""
   ]
  },
  {
   "cell_type": "code",
   "execution_count": 138,
   "id": "26dda22a-04f6-479f-b6fe-e0875f09ad85",
   "metadata": {},
   "outputs": [
    {
     "data": {
      "text/plain": [
       "True"
      ]
     },
     "execution_count": 138,
     "metadata": {},
     "output_type": "execute_result"
    }
   ],
   "source": [
    "\"h\" in str"
   ]
  },
  {
   "cell_type": "code",
   "execution_count": null,
   "id": "bc7dfcfe-3c22-4270-aad6-8506d90b3c66",
   "metadata": {},
   "outputs": [],
   "source": []
  },
  {
   "cell_type": "code",
   "execution_count": 141,
   "id": "9c91104d-f6f3-4e2f-aa73-84d9a0d02e3f",
   "metadata": {},
   "outputs": [],
   "source": [
    "str = \"greatings\""
   ]
  },
  {
   "cell_type": "code",
   "execution_count": 143,
   "id": "41ae9458-3d40-4771-aac9-16804af521d2",
   "metadata": {},
   "outputs": [
    {
     "data": {
      "text/plain": [
       "True"
      ]
     },
     "execution_count": 143,
     "metadata": {},
     "output_type": "execute_result"
    }
   ],
   "source": [
    "\"g\" in str"
   ]
  },
  {
   "cell_type": "code",
   "execution_count": 145,
   "id": "dd0d38ff-1470-4c7a-9ec6-aec653b9b236",
   "metadata": {},
   "outputs": [
    {
     "data": {
      "text/plain": [
       "False"
      ]
     },
     "execution_count": 145,
     "metadata": {},
     "output_type": "execute_result"
    }
   ],
   "source": [
    "\"z\" in str"
   ]
  },
  {
   "cell_type": "code",
   "execution_count": 147,
   "id": "e7baf752-d084-4058-9a15-fc9154f1a3b8",
   "metadata": {},
   "outputs": [
    {
     "data": {
      "text/plain": [
       "True"
      ]
     },
     "execution_count": 147,
     "metadata": {},
     "output_type": "execute_result"
    }
   ],
   "source": [
    "\"z\" not in str"
   ]
  },
  {
   "cell_type": "code",
   "execution_count": 149,
   "id": "c6d3098a-45c8-4fd4-a96f-19540d5498d1",
   "metadata": {},
   "outputs": [
    {
     "data": {
      "text/plain": [
       "True"
      ]
     },
     "execution_count": 149,
     "metadata": {},
     "output_type": "execute_result"
    }
   ],
   "source": [
    "\"bad\" not in str"
   ]
  },
  {
   "cell_type": "code",
   "execution_count": 151,
   "id": "08b8010f-9bcd-4dc2-97ee-d637c4d8470d",
   "metadata": {},
   "outputs": [
    {
     "data": {
      "text/plain": [
       "False"
      ]
     },
     "execution_count": 151,
     "metadata": {},
     "output_type": "execute_result"
    }
   ],
   "source": [
    "\"bad\" in str"
   ]
  },
  {
   "cell_type": "code",
   "execution_count": 155,
   "id": "1e3abd54-b4d5-4983-b72a-2de4e1d21978",
   "metadata": {},
   "outputs": [
    {
     "data": {
      "text/plain": [
       "True"
      ]
     },
     "execution_count": 155,
     "metadata": {},
     "output_type": "execute_result"
    }
   ],
   "source": [
    "\"very\" not in str"
   ]
  },
  {
   "cell_type": "code",
   "execution_count": 157,
   "id": "ace23b8a-7638-4bf1-ae53-b76b663a9694",
   "metadata": {},
   "outputs": [
    {
     "data": {
      "text/plain": [
       "False"
      ]
     },
     "execution_count": 157,
     "metadata": {},
     "output_type": "execute_result"
    }
   ],
   "source": [
    "\"very\" in str"
   ]
  },
  {
   "cell_type": "code",
   "execution_count": 161,
   "id": "a3692a35-7f55-443f-8cee-6ec41ac8d3d6",
   "metadata": {},
   "outputs": [],
   "source": [
    "a = {4,6,8,10,12}"
   ]
  },
  {
   "cell_type": "code",
   "execution_count": 163,
   "id": "cbe21fa8-49bd-451f-949a-cde8165f45d4",
   "metadata": {},
   "outputs": [
    {
     "data": {
      "text/plain": [
       "{4, 6, 8, 10, 12}"
      ]
     },
     "execution_count": 163,
     "metadata": {},
     "output_type": "execute_result"
    }
   ],
   "source": [
    "a"
   ]
  },
  {
   "cell_type": "code",
   "execution_count": 165,
   "id": "c12f2a89-f32c-4c4c-bbdb-59653661abd3",
   "metadata": {},
   "outputs": [
    {
     "data": {
      "text/plain": [
       "False"
      ]
     },
     "execution_count": 165,
     "metadata": {},
     "output_type": "execute_result"
    }
   ],
   "source": [
    "2 in a"
   ]
  },
  {
   "cell_type": "code",
   "execution_count": 167,
   "id": "aa599f66-8037-4b9e-ad51-3515b1591942",
   "metadata": {},
   "outputs": [
    {
     "data": {
      "text/plain": [
       "True"
      ]
     },
     "execution_count": 167,
     "metadata": {},
     "output_type": "execute_result"
    }
   ],
   "source": [
    "4 in a"
   ]
  },
  {
   "cell_type": "code",
   "execution_count": 169,
   "id": "937da355-506d-45a0-96b2-045d3e44b1b1",
   "metadata": {},
   "outputs": [
    {
     "data": {
      "text/plain": [
       "False"
      ]
     },
     "execution_count": 169,
     "metadata": {},
     "output_type": "execute_result"
    }
   ],
   "source": [
    "6 not in a"
   ]
  },
  {
   "cell_type": "code",
   "execution_count": 171,
   "id": "c10945c3-ef3a-4571-9c19-70c5baa343a3",
   "metadata": {},
   "outputs": [
    {
     "data": {
      "text/plain": [
       "False"
      ]
     },
     "execution_count": 171,
     "metadata": {},
     "output_type": "execute_result"
    }
   ],
   "source": [
    "8 not in a"
   ]
  },
  {
   "cell_type": "code",
   "execution_count": 175,
   "id": "05efba21-82b4-412f-a9e5-16638360fe20",
   "metadata": {},
   "outputs": [
    {
     "data": {
      "text/plain": [
       "True"
      ]
     },
     "execution_count": 175,
     "metadata": {},
     "output_type": "execute_result"
    }
   ],
   "source": [
    "10 in  a"
   ]
  },
  {
   "cell_type": "code",
   "execution_count": 177,
   "id": "e3fde3e0-70f7-489e-bc61-8ddb0028d2df",
   "metadata": {},
   "outputs": [
    {
     "data": {
      "text/plain": [
       "True"
      ]
     },
     "execution_count": 177,
     "metadata": {},
     "output_type": "execute_result"
    }
   ],
   "source": [
    "12 in a "
   ]
  },
  {
   "cell_type": "code",
   "execution_count": null,
   "id": "8ae61054-bf51-4e99-ac59-18b26090590b",
   "metadata": {},
   "outputs": [],
   "source": []
  },
  {
   "cell_type": "code",
   "execution_count": 180,
   "id": "1c1d945d-c9ca-472c-b118-98c70521627e",
   "metadata": {},
   "outputs": [],
   "source": [
    "# Identity Operators: it will check identity/Addressess,is, is not, "
   ]
  },
  {
   "cell_type": "code",
   "execution_count": 182,
   "id": "92ce2cac-c5cd-4f92-a572-4d475cc1f7b5",
   "metadata": {},
   "outputs": [],
   "source": [
    "x = 200"
   ]
  },
  {
   "cell_type": "code",
   "execution_count": 184,
   "id": "87693fb6-a471-4d61-9bdf-540da6148896",
   "metadata": {},
   "outputs": [],
   "source": [
    "y = 200"
   ]
  },
  {
   "cell_type": "code",
   "execution_count": 186,
   "id": "de73b9b2-a454-4a23-beda-fd3fd23f3d74",
   "metadata": {},
   "outputs": [
    {
     "data": {
      "text/plain": [
       "True"
      ]
     },
     "execution_count": 186,
     "metadata": {},
     "output_type": "execute_result"
    }
   ],
   "source": [
    "x is y"
   ]
  },
  {
   "cell_type": "code",
   "execution_count": 188,
   "id": "6c8a4007-9111-4d92-b80f-6221e9981dac",
   "metadata": {},
   "outputs": [
    {
     "data": {
      "text/plain": [
       "140724949041816"
      ]
     },
     "execution_count": 188,
     "metadata": {},
     "output_type": "execute_result"
    }
   ],
   "source": [
    "id(x)"
   ]
  },
  {
   "cell_type": "code",
   "execution_count": 190,
   "id": "6d0a2616-6bbe-45fd-8a57-bf2e7e43ba4e",
   "metadata": {},
   "outputs": [
    {
     "data": {
      "text/plain": [
       "140724949041816"
      ]
     },
     "execution_count": 190,
     "metadata": {},
     "output_type": "execute_result"
    }
   ],
   "source": [
    "id(y)"
   ]
  },
  {
   "cell_type": "code",
   "execution_count": 192,
   "id": "0026c451-f076-4208-a428-a49df3ff384c",
   "metadata": {},
   "outputs": [
    {
     "data": {
      "text/plain": [
       "True"
      ]
     },
     "execution_count": 192,
     "metadata": {},
     "output_type": "execute_result"
    }
   ],
   "source": [
    "x==y"
   ]
  },
  {
   "cell_type": "code",
   "execution_count": 194,
   "id": "0279ec68-18aa-46b0-b1dc-220b860097d3",
   "metadata": {},
   "outputs": [],
   "source": [
    "x = 200"
   ]
  },
  {
   "cell_type": "code",
   "execution_count": 196,
   "id": "36bc2062-77c3-4c87-bea7-a18d75be5c48",
   "metadata": {},
   "outputs": [],
   "source": [
    "y = 400"
   ]
  },
  {
   "cell_type": "code",
   "execution_count": 198,
   "id": "c74854fe-9ddb-4cc9-aef8-2a8ebb629168",
   "metadata": {},
   "outputs": [],
   "source": [
    "z = 600"
   ]
  },
  {
   "cell_type": "code",
   "execution_count": 200,
   "id": "9b803d74-07c5-465a-8e44-44ed5c0ebf60",
   "metadata": {},
   "outputs": [
    {
     "data": {
      "text/plain": [
       "140724949041816"
      ]
     },
     "execution_count": 200,
     "metadata": {},
     "output_type": "execute_result"
    }
   ],
   "source": [
    "id(x)"
   ]
  },
  {
   "cell_type": "code",
   "execution_count": 202,
   "id": "bedfd6c6-7313-4974-aa9d-c874986f34ee",
   "metadata": {},
   "outputs": [
    {
     "data": {
      "text/plain": [
       "2038217689168"
      ]
     },
     "execution_count": 202,
     "metadata": {},
     "output_type": "execute_result"
    }
   ],
   "source": [
    "id(y)"
   ]
  },
  {
   "cell_type": "code",
   "execution_count": 204,
   "id": "a534a35d-c83a-4d36-85e0-d162a2715583",
   "metadata": {},
   "outputs": [
    {
     "data": {
      "text/plain": [
       "2038217693520"
      ]
     },
     "execution_count": 204,
     "metadata": {},
     "output_type": "execute_result"
    }
   ],
   "source": [
    "id(z)"
   ]
  },
  {
   "cell_type": "code",
   "execution_count": 206,
   "id": "709a5d40-0831-4c42-ae8c-6f77e9ede3f7",
   "metadata": {},
   "outputs": [
    {
     "data": {
      "text/plain": [
       "False"
      ]
     },
     "execution_count": 206,
     "metadata": {},
     "output_type": "execute_result"
    }
   ],
   "source": [
    "p is x"
   ]
  },
  {
   "cell_type": "code",
   "execution_count": 208,
   "id": "d13cedfe-e04e-4c5f-b3e0-2ec30c7e16c5",
   "metadata": {},
   "outputs": [
    {
     "data": {
      "text/plain": [
       "False"
      ]
     },
     "execution_count": 208,
     "metadata": {},
     "output_type": "execute_result"
    }
   ],
   "source": [
    "p is y"
   ]
  },
  {
   "cell_type": "code",
   "execution_count": 210,
   "id": "487a2931-0b15-434d-80c1-d7ed9d3c391b",
   "metadata": {},
   "outputs": [
    {
     "data": {
      "text/plain": [
       "False"
      ]
     },
     "execution_count": 210,
     "metadata": {},
     "output_type": "execute_result"
    }
   ],
   "source": [
    "p is z"
   ]
  },
  {
   "cell_type": "code",
   "execution_count": 212,
   "id": "a6433e7e-85f4-42b3-93f9-a9af8ff5c24b",
   "metadata": {},
   "outputs": [
    {
     "data": {
      "text/plain": [
       "True"
      ]
     },
     "execution_count": 212,
     "metadata": {},
     "output_type": "execute_result"
    }
   ],
   "source": [
    "p is not x"
   ]
  },
  {
   "cell_type": "code",
   "execution_count": 214,
   "id": "8c57c690-44e8-4cb1-a9f8-5be5ee8031f6",
   "metadata": {},
   "outputs": [
    {
     "data": {
      "text/plain": [
       "True"
      ]
     },
     "execution_count": 214,
     "metadata": {},
     "output_type": "execute_result"
    }
   ],
   "source": [
    "p is not z"
   ]
  },
  {
   "cell_type": "code",
   "execution_count": 216,
   "id": "c0afbd97-fbae-4753-b086-650189c971ef",
   "metadata": {},
   "outputs": [
    {
     "data": {
      "text/plain": [
       "True"
      ]
     },
     "execution_count": 216,
     "metadata": {},
     "output_type": "execute_result"
    }
   ],
   "source": [
    "p is not y"
   ]
  },
  {
   "cell_type": "code",
   "execution_count": 218,
   "id": "db3b5246-b9df-4272-a7b3-1c405430ac8b",
   "metadata": {},
   "outputs": [
    {
     "data": {
      "text/plain": [
       "False"
      ]
     },
     "execution_count": 218,
     "metadata": {},
     "output_type": "execute_result"
    }
   ],
   "source": [
    "p==x"
   ]
  },
  {
   "cell_type": "code",
   "execution_count": 220,
   "id": "65dc4d7b-b963-44af-b02a-c5c1d765425f",
   "metadata": {},
   "outputs": [
    {
     "data": {
      "text/plain": [
       "False"
      ]
     },
     "execution_count": 220,
     "metadata": {},
     "output_type": "execute_result"
    }
   ],
   "source": [
    "p==y"
   ]
  },
  {
   "cell_type": "code",
   "execution_count": 222,
   "id": "ab6c4e1d-1732-477a-a4f6-74485ea18965",
   "metadata": {},
   "outputs": [
    {
     "data": {
      "text/plain": [
       "False"
      ]
     },
     "execution_count": 222,
     "metadata": {},
     "output_type": "execute_result"
    }
   ],
   "source": [
    "p==z"
   ]
  },
  {
   "cell_type": "code",
   "execution_count": 224,
   "id": "f7f9aa16-9104-4936-989e-0b8be98a94e1",
   "metadata": {},
   "outputs": [],
   "source": [
    "y =  100"
   ]
  },
  {
   "cell_type": "code",
   "execution_count": 226,
   "id": "14ab31a7-a649-4f3e-915e-fe7a506ad58f",
   "metadata": {},
   "outputs": [
    {
     "data": {
      "text/plain": [
       "False"
      ]
     },
     "execution_count": 226,
     "metadata": {},
     "output_type": "execute_result"
    }
   ],
   "source": [
    "x is y"
   ]
  },
  {
   "cell_type": "code",
   "execution_count": 230,
   "id": "3f4e4b85-3358-4ae1-808b-5afc1233cac5",
   "metadata": {},
   "outputs": [
    {
     "data": {
      "text/plain": [
       "140724949041816"
      ]
     },
     "execution_count": 230,
     "metadata": {},
     "output_type": "execute_result"
    }
   ],
   "source": [
    "id(x)"
   ]
  },
  {
   "cell_type": "code",
   "execution_count": 232,
   "id": "6d605976-a5d3-48cf-ae7b-9039f7b22cb6",
   "metadata": {},
   "outputs": [
    {
     "data": {
      "text/plain": [
       "140724949038616"
      ]
     },
     "execution_count": 232,
     "metadata": {},
     "output_type": "execute_result"
    }
   ],
   "source": [
    "id(y)"
   ]
  },
  {
   "cell_type": "code",
   "execution_count": 234,
   "id": "54f02945-03de-456c-bfdc-745d1e06f5d1",
   "metadata": {},
   "outputs": [],
   "source": [
    "z = 200"
   ]
  },
  {
   "cell_type": "code",
   "execution_count": 236,
   "id": "d48cf396-9443-4b66-bead-b9395f97bd1b",
   "metadata": {},
   "outputs": [
    {
     "data": {
      "text/plain": [
       "False"
      ]
     },
     "execution_count": 236,
     "metadata": {},
     "output_type": "execute_result"
    }
   ],
   "source": [
    "y is z"
   ]
  },
  {
   "cell_type": "code",
   "execution_count": 240,
   "id": "7140236a-10f5-459f-9cc3-5b393d51629d",
   "metadata": {},
   "outputs": [
    {
     "data": {
      "text/plain": [
       "False"
      ]
     },
     "execution_count": 240,
     "metadata": {},
     "output_type": "execute_result"
    }
   ],
   "source": [
    "x is not z"
   ]
  },
  {
   "cell_type": "code",
   "execution_count": 242,
   "id": "c615d3f2-9670-4440-a91a-c8809b18cd51",
   "metadata": {},
   "outputs": [
    {
     "data": {
      "text/plain": [
       "True"
      ]
     },
     "execution_count": 242,
     "metadata": {},
     "output_type": "execute_result"
    }
   ],
   "source": [
    "y is not z"
   ]
  },
  {
   "cell_type": "code",
   "execution_count": 244,
   "id": "7ed9d87c-8a59-477d-ac6e-447730646a41",
   "metadata": {},
   "outputs": [
    {
     "data": {
      "text/plain": [
       "False"
      ]
     },
     "execution_count": 244,
     "metadata": {},
     "output_type": "execute_result"
    }
   ],
   "source": [
    "x==y  # Equality"
   ]
  },
  {
   "cell_type": "code",
   "execution_count": 246,
   "id": "bae03f16-1225-4abc-8684-07138d385c09",
   "metadata": {},
   "outputs": [],
   "source": [
    "e = 500"
   ]
  },
  {
   "cell_type": "code",
   "execution_count": 248,
   "id": "864bf6dd-3db7-44d4-85b9-888658c0cb43",
   "metadata": {},
   "outputs": [],
   "source": [
    "w = 600"
   ]
  },
  {
   "cell_type": "code",
   "execution_count": 250,
   "id": "2e99a7ca-5158-459d-949f-9730faafa029",
   "metadata": {},
   "outputs": [],
   "source": [
    "s = 300"
   ]
  },
  {
   "cell_type": "code",
   "execution_count": 252,
   "id": "b2eec86c-88ba-4dd3-9c59-527b323703ea",
   "metadata": {},
   "outputs": [
    {
     "data": {
      "text/plain": [
       "False"
      ]
     },
     "execution_count": 252,
     "metadata": {},
     "output_type": "execute_result"
    }
   ],
   "source": [
    "e==w"
   ]
  },
  {
   "cell_type": "code",
   "execution_count": null,
   "id": "94ef4a56-8037-4baa-a6f9-48812e509aca",
   "metadata": {},
   "outputs": [],
   "source": []
  },
  {
   "cell_type": "code",
   "execution_count": null,
   "id": "4e1a18ed-b18a-422e-8ccd-b6d1f4ea64f3",
   "metadata": {},
   "outputs": [],
   "source": []
  },
  {
   "cell_type": "code",
   "execution_count": 256,
   "id": "c5640aea-aee8-4229-a261-3c3ed5141a54",
   "metadata": {},
   "outputs": [],
   "source": [
    "no1 = 10\n",
    "no2 = 20"
   ]
  },
  {
   "cell_type": "code",
   "execution_count": 258,
   "id": "bdd36017-ed9c-484f-9166-e943f63894e3",
   "metadata": {},
   "outputs": [],
   "source": [
    "add = no1 + no2\n",
    "sub = no1 - no2\n",
    "mul = no1 * no2\n",
    "div = no1 / no2\n",
    "f_div = no1 // no2\n",
    "exp = no1 ** no2\n",
    "mod = no1 % no2"
   ]
  },
  {
   "cell_type": "code",
   "execution_count": 262,
   "id": "021b7ffc-fe0b-49bb-8d97-3823d6f97351",
   "metadata": {},
   "outputs": [
    {
     "name": "stdout",
     "output_type": "stream",
     "text": [
      "a + b = 30\n",
      "a - b = 30\n",
      "a * b = 30\n",
      "a / b = 30\n",
      "a // b =30\n",
      "a ** b =30\n",
      "a % b = 30\n"
     ]
    }
   ],
   "source": [
    "print(f\"a + b = {add}\")\n",
    "print(f\"a - b = {add}\")\n",
    "print(f\"a * b = {add}\")\n",
    "print(f\"a / b = {add}\")\n",
    "print(f\"a // b ={add}\")\n",
    "print(f\"a ** b ={add}\")\n",
    "print(f\"a % b = {add}\")"
   ]
  },
  {
   "cell_type": "code",
   "execution_count": 264,
   "id": "7761e5b0-f5f9-4a7a-82ab-44c4ad0fb7dd",
   "metadata": {},
   "outputs": [
    {
     "name": "stdout",
     "output_type": "stream",
     "text": [
      "10 20\n"
     ]
    }
   ],
   "source": [
    "print(no1,no2)"
   ]
  },
  {
   "cell_type": "code",
   "execution_count": 266,
   "id": "c4202e1d-9658-46e9-9b0b-176b48d53f39",
   "metadata": {},
   "outputs": [
    {
     "name": "stdout",
     "output_type": "stream",
     "text": [
      "False\n",
      "True\n",
      "False\n",
      "True\n",
      "True\n",
      "False\n"
     ]
    }
   ],
   "source": [
    "print(no1>no2)\n",
    "print(no1<no2)\n",
    "print(no1>=no2)\n",
    "print(no1<=no2)\n",
    "print(no1!= no2)\n",
    "print(no1==no2)"
   ]
  },
  {
   "cell_type": "code",
   "execution_count": null,
   "id": "1cbb605f-059a-47bb-86a3-46a685ae1033",
   "metadata": {},
   "outputs": [],
   "source": []
  },
  {
   "cell_type": "code",
   "execution_count": 269,
   "id": "2ec62d39-f14d-4d3b-a8c7-be07e35595b5",
   "metadata": {},
   "outputs": [
    {
     "data": {
      "text/plain": [
       "True"
      ]
     },
     "execution_count": 269,
     "metadata": {},
     "output_type": "execute_result"
    }
   ],
   "source": [
    "18>10"
   ]
  },
  {
   "cell_type": "code",
   "execution_count": 271,
   "id": "1212c115-e787-43c6-bfdd-233909980fe3",
   "metadata": {},
   "outputs": [
    {
     "data": {
      "text/plain": [
       "False"
      ]
     },
     "execution_count": 271,
     "metadata": {},
     "output_type": "execute_result"
    }
   ],
   "source": [
    "13>14"
   ]
  },
  {
   "cell_type": "code",
   "execution_count": 273,
   "id": "d3af6d8e-4468-436c-9345-61ae60175167",
   "metadata": {},
   "outputs": [
    {
     "data": {
      "text/plain": [
       "False"
      ]
     },
     "execution_count": 273,
     "metadata": {},
     "output_type": "execute_result"
    }
   ],
   "source": [
    "14==10"
   ]
  },
  {
   "cell_type": "code",
   "execution_count": 275,
   "id": "5d01af76-7fca-4937-ba40-136ba57723f9",
   "metadata": {},
   "outputs": [
    {
     "data": {
      "text/plain": [
       "True"
      ]
     },
     "execution_count": 275,
     "metadata": {},
     "output_type": "execute_result"
    }
   ],
   "source": [
    "15!=10"
   ]
  },
  {
   "cell_type": "code",
   "execution_count": 277,
   "id": "ac578ccb-ea72-45df-9818-87ea4531587c",
   "metadata": {},
   "outputs": [
    {
     "data": {
      "text/plain": [
       "False"
      ]
     },
     "execution_count": 277,
     "metadata": {},
     "output_type": "execute_result"
    }
   ],
   "source": [
    "(18>10) and (10>12)"
   ]
  },
  {
   "cell_type": "code",
   "execution_count": 279,
   "id": "b39808f0-8485-4f22-ba7a-8215de6a26ba",
   "metadata": {},
   "outputs": [
    {
     "data": {
      "text/plain": [
       "True"
      ]
     },
     "execution_count": 279,
     "metadata": {},
     "output_type": "execute_result"
    }
   ],
   "source": [
    "(18>10) or (10>12)"
   ]
  },
  {
   "cell_type": "code",
   "execution_count": 281,
   "id": "d59e93e2-b08e-448e-bb6d-2d5c4c9e3c53",
   "metadata": {},
   "outputs": [
    {
     "data": {
      "text/plain": [
       "True"
      ]
     },
     "execution_count": 281,
     "metadata": {},
     "output_type": "execute_result"
    }
   ],
   "source": [
    "(18>10) or (10>12)"
   ]
  },
  {
   "cell_type": "code",
   "execution_count": 283,
   "id": "1db71a86-1af6-4b5a-9e77-8abcd94ba819",
   "metadata": {},
   "outputs": [
    {
     "data": {
      "text/plain": [
       "True"
      ]
     },
     "execution_count": 283,
     "metadata": {},
     "output_type": "execute_result"
    }
   ],
   "source": [
    "(18>10) and (10>12) or (18>10) or (10>12) and (18>10) or (10>12)"
   ]
  },
  {
   "cell_type": "code",
   "execution_count": 285,
   "id": "7c159fcb-8c65-472a-858b-f27419ed73fc",
   "metadata": {},
   "outputs": [
    {
     "data": {
      "text/plain": [
       "True"
      ]
     },
     "execution_count": 285,
     "metadata": {},
     "output_type": "execute_result"
    }
   ],
   "source": [
    "(18>10)"
   ]
  },
  {
   "cell_type": "code",
   "execution_count": 287,
   "id": "37b0230e-beae-4f25-9d34-ca60c3efe930",
   "metadata": {},
   "outputs": [
    {
     "data": {
      "text/plain": [
       "True"
      ]
     },
     "execution_count": 287,
     "metadata": {},
     "output_type": "execute_result"
    }
   ],
   "source": [
    "(10<18)"
   ]
  },
  {
   "cell_type": "code",
   "execution_count": 289,
   "id": "f6c34193-d3a5-4161-a326-d2069bdf3d82",
   "metadata": {},
   "outputs": [
    {
     "data": {
      "text/plain": [
       "False"
      ]
     },
     "execution_count": 289,
     "metadata": {},
     "output_type": "execute_result"
    }
   ],
   "source": [
    "(18<10)"
   ]
  },
  {
   "cell_type": "code",
   "execution_count": 291,
   "id": "1df7205f-ea1c-4791-965f-964d8ba4357b",
   "metadata": {},
   "outputs": [
    {
     "data": {
      "text/plain": [
       "True"
      ]
     },
     "execution_count": 291,
     "metadata": {},
     "output_type": "execute_result"
    }
   ],
   "source": [
    "(18>10) or (13<14)"
   ]
  },
  {
   "cell_type": "code",
   "execution_count": 293,
   "id": "83a1eb15-dd7a-4d70-9dca-dc1589ea858e",
   "metadata": {},
   "outputs": [
    {
     "data": {
      "text/plain": [
       "False"
      ]
     },
     "execution_count": 293,
     "metadata": {},
     "output_type": "execute_result"
    }
   ],
   "source": [
    "not((18>10) or (13>14))"
   ]
  },
  {
   "cell_type": "code",
   "execution_count": 297,
   "id": "c099e73f-0631-424c-b714-b4a80bf9d0c6",
   "metadata": {},
   "outputs": [
    {
     "data": {
      "text/plain": [
       "False"
      ]
     },
     "execution_count": 297,
     "metadata": {},
     "output_type": "execute_result"
    }
   ],
   "source": [
    "not(((18>10) or (14>13)))"
   ]
  },
  {
   "cell_type": "code",
   "execution_count": 299,
   "id": "6b96b930-9a74-4ff0-9ca2-00de05679fb0",
   "metadata": {},
   "outputs": [
    {
     "data": {
      "text/plain": [
       "False"
      ]
     },
     "execution_count": 299,
     "metadata": {},
     "output_type": "execute_result"
    }
   ],
   "source": [
    "not(((18>10) or (14>15)))"
   ]
  },
  {
   "cell_type": "code",
   "execution_count": 301,
   "id": "290a5da0-6706-4f4f-98cf-b284ca3b253d",
   "metadata": {},
   "outputs": [
    {
     "data": {
      "text/plain": [
       "True"
      ]
     },
     "execution_count": 301,
     "metadata": {},
     "output_type": "execute_result"
    }
   ],
   "source": [
    "not((((15>18) or (12>15))))"
   ]
  },
  {
   "cell_type": "code",
   "execution_count": 305,
   "id": "6cf5211d-b81c-47d8-9848-3645afebfb0e",
   "metadata": {},
   "outputs": [
    {
     "data": {
      "text/plain": [
       "True"
      ]
     },
     "execution_count": 305,
     "metadata": {},
     "output_type": "execute_result"
    }
   ],
   "source": [
    "not False"
   ]
  },
  {
   "cell_type": "code",
   "execution_count": 307,
   "id": "cbc21144-f5b7-49fb-adcb-55e1e1a6a320",
   "metadata": {},
   "outputs": [
    {
     "data": {
      "text/plain": [
       "False"
      ]
     },
     "execution_count": 307,
     "metadata": {},
     "output_type": "execute_result"
    }
   ],
   "source": [
    "not True"
   ]
  },
  {
   "cell_type": "code",
   "execution_count": 309,
   "id": "c43c3e3f-2d71-4d1b-8124-1625a9fbb9ea",
   "metadata": {},
   "outputs": [
    {
     "data": {
      "text/plain": [
       "True"
      ]
     },
     "execution_count": 309,
     "metadata": {},
     "output_type": "execute_result"
    }
   ],
   "source": [
    "not False"
   ]
  },
  {
   "cell_type": "code",
   "execution_count": 311,
   "id": "96e93636-e307-40e1-96ae-c20b0baaf222",
   "metadata": {},
   "outputs": [
    {
     "data": {
      "text/plain": [
       "False"
      ]
     },
     "execution_count": 311,
     "metadata": {},
     "output_type": "execute_result"
    }
   ],
   "source": [
    "not True"
   ]
  },
  {
   "cell_type": "code",
   "execution_count": 313,
   "id": "4b48b49f-526b-495c-8188-da96a4de7036",
   "metadata": {},
   "outputs": [
    {
     "data": {
      "text/plain": [
       "True"
      ]
     },
     "execution_count": 313,
     "metadata": {},
     "output_type": "execute_result"
    }
   ],
   "source": [
    "not False"
   ]
  },
  {
   "cell_type": "code",
   "execution_count": 317,
   "id": "ec050843-0b38-4ac1-abd6-f6888d5bc583",
   "metadata": {},
   "outputs": [
    {
     "data": {
      "text/plain": [
       "False"
      ]
     },
     "execution_count": 317,
     "metadata": {},
     "output_type": "execute_result"
    }
   ],
   "source": [
    "not True"
   ]
  },
  {
   "cell_type": "code",
   "execution_count": 319,
   "id": "fe7fb25b-1fe1-48a1-a8e2-60d904552fa4",
   "metadata": {},
   "outputs": [
    {
     "data": {
      "text/plain": [
       "False"
      ]
     },
     "execution_count": 319,
     "metadata": {},
     "output_type": "execute_result"
    }
   ],
   "source": [
    "not True"
   ]
  },
  {
   "cell_type": "code",
   "execution_count": 323,
   "id": "c5aaf80c-a0d7-4f2f-9d99-e2a9c2c4375d",
   "metadata": {},
   "outputs": [
    {
     "data": {
      "text/plain": [
       "False"
      ]
     },
     "execution_count": 323,
     "metadata": {},
     "output_type": "execute_result"
    }
   ],
   "source": [
    "not((((15>15) or (15<18) and  (180>160)) or (13==14)))"
   ]
  },
  {
   "cell_type": "code",
   "execution_count": 325,
   "id": "6f9171c6-b782-4273-a9a2-3e1c67a805cb",
   "metadata": {},
   "outputs": [
    {
     "data": {
      "text/plain": [
       "True"
      ]
     },
     "execution_count": 325,
     "metadata": {},
     "output_type": "execute_result"
    }
   ],
   "source": [
    "100!= 150"
   ]
  },
  {
   "cell_type": "code",
   "execution_count": 327,
   "id": "9a7f6435-42c3-4fe2-abb4-243cdb6b8bc2",
   "metadata": {},
   "outputs": [
    {
     "data": {
      "text/plain": [
       "True"
      ]
     },
     "execution_count": 327,
     "metadata": {},
     "output_type": "execute_result"
    }
   ],
   "source": [
    "100!=150"
   ]
  },
  {
   "cell_type": "code",
   "execution_count": 329,
   "id": "ab165fe5-6fe8-42ee-8154-c2dfee3dc060",
   "metadata": {},
   "outputs": [
    {
     "data": {
      "text/plain": [
       "False"
      ]
     },
     "execution_count": 329,
     "metadata": {},
     "output_type": "execute_result"
    }
   ],
   "source": [
    "130<120"
   ]
  },
  {
   "cell_type": "code",
   "execution_count": 331,
   "id": "e8576a49-1afd-413c-b8d4-862aeff05852",
   "metadata": {},
   "outputs": [
    {
     "data": {
      "text/plain": [
       "False"
      ]
     },
     "execution_count": 331,
     "metadata": {},
     "output_type": "execute_result"
    }
   ],
   "source": [
    "140==180"
   ]
  },
  {
   "cell_type": "code",
   "execution_count": 333,
   "id": "7079b57d-a979-42f2-a0ce-eceb1dca9cf0",
   "metadata": {},
   "outputs": [
    {
     "data": {
      "text/plain": [
       "True"
      ]
     },
     "execution_count": 333,
     "metadata": {},
     "output_type": "execute_result"
    }
   ],
   "source": [
    "(180!= 150) or (100!=150) and (130<120) or (140==120)"
   ]
  },
  {
   "cell_type": "code",
   "execution_count": 335,
   "id": "2dc02764-a409-4a68-9650-fd7375d330a5",
   "metadata": {},
   "outputs": [],
   "source": [
    "str2= \"computer\""
   ]
  },
  {
   "cell_type": "code",
   "execution_count": 339,
   "id": "b5804c25-3eb9-4cd0-81a3-2dcd8fc8b46b",
   "metadata": {},
   "outputs": [
    {
     "data": {
      "text/plain": [
       "False"
      ]
     },
     "execution_count": 339,
     "metadata": {},
     "output_type": "execute_result"
    }
   ],
   "source": [
    "\"z\" in str2"
   ]
  },
  {
   "cell_type": "markdown",
   "id": "285ed052-74de-43d2-b185-820d8e05e14c",
   "metadata": {},
   "source": [
    "# Control Flow:\n",
    "* Conditionals Statements\n",
    "* Loops"
   ]
  },
  {
   "cell_type": "code",
   "execution_count": 2,
   "id": "a911c825-cbe1-42a5-a1a6-17d01702f6c7",
   "metadata": {},
   "outputs": [],
   "source": [
    "j = 150"
   ]
  },
  {
   "cell_type": "code",
   "execution_count": 4,
   "id": "0ebc553c-2e2f-4f1d-8612-c912132dae51",
   "metadata": {},
   "outputs": [],
   "source": [
    "s = 15"
   ]
  },
  {
   "cell_type": "code",
   "execution_count": 6,
   "id": "972aad63-0583-4bb4-8f4e-390fe9e7e973",
   "metadata": {},
   "outputs": [],
   "source": [
    "s = 10"
   ]
  },
  {
   "cell_type": "code",
   "execution_count": null,
   "id": "66daa6a4-98ed-482c-b847-65fa2eab98b0",
   "metadata": {},
   "outputs": [],
   "source": [
    "# Conditional Statement: \n",
    "if\n",
    "else if - elif\n",
    "\n",
    "syntax: \n",
    "\n",
    "if (condition/expression):\n",
    "    logic \n",
    "    logic\n",
    "    print\n",
    "else if (condition):\n",
    "    logic \n",
    "    logic\n",
    "else:\n",
    "    logic \n",
    "    logic\n",
    "    "
   ]
  },
  {
   "cell_type": "code",
   "execution_count": 1,
   "id": "f0ecce1d-acff-440a-aa9d-c38c325358a3",
   "metadata": {},
   "outputs": [
    {
     "name": "stdin",
     "output_type": "stream",
     "text": [
      "Enter your age 20\n"
     ]
    }
   ],
   "source": [
    "age = int(input(\"Enter your age\"))"
   ]
  },
  {
   "cell_type": "code",
   "execution_count": 12,
   "id": "f7b09909-e1be-4fd4-9e0d-883f2cc199d2",
   "metadata": {},
   "outputs": [
    {
     "name": "stdout",
     "output_type": "stream",
     "text": [
      "Tou are a kid\n",
      "Grow up first\n"
     ]
    }
   ],
   "source": [
    "if age >= 18:\n",
    "                print(\"You are eligible for voting..\")\n",
    "                print(\"voting is your right\") \n",
    "else:\n",
    "                print(\"Tou are a kid\")\n",
    "                print(\"Grow up first\")"
   ]
  },
  {
   "cell_type": "code",
   "execution_count": 16,
   "id": "995a657b-7c71-43e1-8b0e-a1cf43ce9cbf",
   "metadata": {},
   "outputs": [
    {
     "name": "stdout",
     "output_type": "stream",
     "text": [
      "You are kid\n",
      "Grow up first\n"
     ]
    }
   ],
   "source": [
    "if age>=18:\n",
    "#IndentationError\n",
    "        print(\"You are eligible for voting..\")\n",
    "        print(\"Voting is your right\")\n",
    "else:\n",
    "    print(\"You are kid\")\n",
    "    print(\"Grow up first\")"
   ]
  },
  {
   "cell_type": "code",
   "execution_count": 18,
   "id": "1d484717-2239-4d2f-8469-4fbd267ba99c",
   "metadata": {},
   "outputs": [
    {
     "name": "stdout",
     "output_type": "stream",
     "text": [
      "You are kid\n",
      "Grow up first\n"
     ]
    }
   ],
   "source": [
    "if age>=18:\n",
    "                 print(\"You are eligible for voting..\")\n",
    "                 print(\"Voting is your right\")\n",
    "else:\n",
    "                 print(\"You are kid\")\n",
    "                 print(\"Grow up first\")"
   ]
  },
  {
   "cell_type": "code",
   "execution_count": 20,
   "id": "7efb8060-d2da-4017-b5c3-a5774895f824",
   "metadata": {},
   "outputs": [
    {
     "name": "stdout",
     "output_type": "stream",
     "text": [
      "You are kid\n"
     ]
    }
   ],
   "source": [
    "if age>=18:\n",
    "    print(\"You are eligible for voting\")\n",
    "else:\n",
    "    print(\"You are kid\")"
   ]
  },
  {
   "cell_type": "code",
   "execution_count": 22,
   "id": "09c6226e-67f9-4f67-85cb-060733b8ba4c",
   "metadata": {},
   "outputs": [
    {
     "name": "stdout",
     "output_type": "stream",
     "text": [
      "You are kid\n",
      "You are in school\n"
     ]
    }
   ],
   "source": [
    "if age>=18:\n",
    "    print(\"You are eligible for voting\")\n",
    "    print(\"voting is your right\")\n",
    "else:\n",
    "    print(\"You are kid\")\n",
    "    print(\"You are in school\")"
   ]
  },
  {
   "cell_type": "code",
   "execution_count": 24,
   "id": "3bcd218c-7d8a-4acd-a0b6-3fba140ece8c",
   "metadata": {},
   "outputs": [
    {
     "ename": "IndentationError",
     "evalue": "expected an indented block after 'if' statement on line 1 (2848320405.py, line 2)",
     "output_type": "error",
     "traceback": [
      "\u001b[1;36m  Cell \u001b[1;32mIn[24], line 2\u001b[1;36m\u001b[0m\n\u001b[1;33m    print(\"You are eligible for voting\")\u001b[0m\n\u001b[1;37m    ^\u001b[0m\n\u001b[1;31mIndentationError\u001b[0m\u001b[1;31m:\u001b[0m expected an indented block after 'if' statement on line 1\n"
     ]
    }
   ],
   "source": [
    "if age>= 18:\n",
    "print(\"You are eligible for voting\")\n",
    "print(\"voting is your right\")\n",
    "else:\n",
    "    print(\"You are kid\")\n",
    "    print(\"You are in school\")"
   ]
  },
  {
   "cell_type": "code",
   "execution_count": 26,
   "id": "5e6927dd-4780-4043-b601-ca23eabdea77",
   "metadata": {},
   "outputs": [
    {
     "name": "stdout",
     "output_type": "stream",
     "text": [
      "You are kid\n",
      "You are in school\n"
     ]
    }
   ],
   "source": [
    "if age>=18:\n",
    "    print(\"You are eligible for voting\")\n",
    "    print(\"Voting is your right\")\n",
    "else:\n",
    "    print(\"You are kid\")\n",
    "    print(\"You are in school\")"
   ]
  },
  {
   "cell_type": "code",
   "execution_count": 28,
   "id": "d29072c4-ff16-49fa-998f-d4d2531e2cf2",
   "metadata": {},
   "outputs": [
    {
     "name": "stdout",
     "output_type": "stream",
     "text": [
      "You are kid\n"
     ]
    }
   ],
   "source": [
    "if age>=18:\n",
    " print(\"You are eligible for voting\")\n",
    "else:\n",
    " print(\"You are kid\")"
   ]
  },
  {
   "cell_type": "code",
   "execution_count": 30,
   "id": "53744291-6752-4813-9cda-74f70f323460",
   "metadata": {},
   "outputs": [
    {
     "name": "stdout",
     "output_type": "stream",
     "text": [
      "You are kid\n"
     ]
    }
   ],
   "source": [
    "if age>=18:\n",
    "             print(\"You are eligible for voting\")\n",
    "else:\n",
    "             print(\"You are kid\")"
   ]
  },
  {
   "cell_type": "code",
   "execution_count": 32,
   "id": "542ca88e-2d04-452b-af07-f75dc4200d39",
   "metadata": {},
   "outputs": [
    {
     "name": "stdin",
     "output_type": "stream",
     "text": [
      "Enter any number.. 0\n"
     ]
    }
   ],
   "source": [
    "num = int(input(\"Enter any number..\"))"
   ]
  },
  {
   "cell_type": "code",
   "execution_count": 34,
   "id": "c6aeff31-b331-4688-8d02-de66a5005463",
   "metadata": {},
   "outputs": [
    {
     "name": "stdout",
     "output_type": "stream",
     "text": [
      "its positive\n"
     ]
    }
   ],
   "source": [
    " if num>=0:\n",
    "     print(\"its positive\")\n",
    "else:\n",
    "    print(\"its negative\")"
   ]
  },
  {
   "cell_type": "code",
   "execution_count": 38,
   "id": "59c411ec-828c-4ea5-abaa-c9f875e2599d",
   "metadata": {},
   "outputs": [
    {
     "name": "stdin",
     "output_type": "stream",
     "text": [
      "Enter any number: 0\n"
     ]
    }
   ],
   "source": [
    "num = int(input(\"Enter any number:\"))"
   ]
  },
  {
   "cell_type": "code",
   "execution_count": 42,
   "id": "0602ad3e-f7a0-4e0e-ad76-ccf4a396b635",
   "metadata": {},
   "outputs": [
    {
     "name": "stdout",
     "output_type": "stream",
     "text": [
      "its zero\n"
     ]
    }
   ],
   "source": [
    "if num>0:\n",
    "    print(\"its positive\")\n",
    "elif (num==0):\n",
    "    print(\"its zero\")\n",
    "else:\n",
    "    print(\"its negative\")"
   ]
  },
  {
   "cell_type": "code",
   "execution_count": null,
   "id": "d848cbc0-8475-4fab-8877-5ea721919f4e",
   "metadata": {},
   "outputs": [],
   "source": []
  },
  {
   "cell_type": "code",
   "execution_count": 47,
   "id": "74d987a5-e0a4-479d-adb6-8da3c3b37fb1",
   "metadata": {},
   "outputs": [
    {
     "name": "stdin",
     "output_type": "stream",
     "text": [
      "Enter any number: -6\n"
     ]
    }
   ],
   "source": [
    "num = int(input(\"Enter any number:\"))"
   ]
  },
  {
   "cell_type": "code",
   "execution_count": 49,
   "id": "00ff1261-61d5-4825-b7ce-3a28326d71b0",
   "metadata": {},
   "outputs": [
    {
     "name": "stdout",
     "output_type": "stream",
     "text": [
      "its negative\n"
     ]
    }
   ],
   "source": [
    "if num>=0:\n",
    "    print(\"its positive\")\n",
    "else:\n",
    "    print(\"its negative\")"
   ]
  },
  {
   "cell_type": "code",
   "execution_count": 51,
   "id": "693d61d9-94e3-477c-81e0-ff7506e668cd",
   "metadata": {},
   "outputs": [
    {
     "name": "stdin",
     "output_type": "stream",
     "text": [
      "Enter any number: -10\n"
     ]
    }
   ],
   "source": [
    "number = int(input(\"Enter any number:\"))"
   ]
  },
  {
   "cell_type": "code",
   "execution_count": 55,
   "id": "76bb516b-d316-4670-9f33-ea8b3be91c23",
   "metadata": {},
   "outputs": [
    {
     "name": "stdout",
     "output_type": "stream",
     "text": [
      "its negative\n"
     ]
    }
   ],
   "source": [
    "if (number>0):\n",
    "    print(\"its positive\")\n",
    "elif (number==0):\n",
    "    print(\"its zero\")\n",
    "else:\n",
    "    print(\"its negative\")"
   ]
  },
  {
   "cell_type": "code",
   "execution_count": null,
   "id": "113324a5-7de1-42b0-8c99-668323b6a1f9",
   "metadata": {},
   "outputs": [],
   "source": []
  },
  {
   "cell_type": "code",
   "execution_count": 65,
   "id": "86b19ae3-41a0-42ac-9890-08cddaea5f0a",
   "metadata": {},
   "outputs": [
    {
     "name": "stdin",
     "output_type": "stream",
     "text": [
      "Enter your marks: 65\n"
     ]
    }
   ],
   "source": [
    "marks = int(input(\"Enter your marks:\"))"
   ]
  },
  {
   "cell_type": "code",
   "execution_count": 67,
   "id": "9e692db5-7027-4e8d-bb0d-5d14539b8049",
   "metadata": {},
   "outputs": [
    {
     "name": "stdout",
     "output_type": "stream",
     "text": [
      "Grade-D\n"
     ]
    }
   ],
   "source": [
    "# elif ladder\n",
    "# if marks>=90 and marks<=100:\n",
    "if 100>=marks>= 90:\n",
    "    print(\"Grade-A\")\n",
    "elif marks>=80:\n",
    "    print(\"Grade-B\")\n",
    "elif marks>=70:\n",
    "    print(\"Grade-C\")\n",
    "elif marks>=60:\n",
    "    print(\"Grade-D\")\n",
    "else:\n",
    "    print(\"Grade-F\")\n"
   ]
  },
  {
   "cell_type": "code",
   "execution_count": null,
   "id": "708f5d09-5313-4329-a92f-8618de01fd9d",
   "metadata": {},
   "outputs": [],
   "source": []
  },
  {
   "cell_type": "code",
   "execution_count": 70,
   "id": "9451cdd3-5e1d-437c-a9df-f6f98979d3cd",
   "metadata": {},
   "outputs": [
    {
     "name": "stdin",
     "output_type": "stream",
     "text": [
      "Enter your spend: 100\n"
     ]
    }
   ],
   "source": [
    "spend = float(input(\"Enter your spend:\"))"
   ]
  },
  {
   "cell_type": "code",
   "execution_count": 72,
   "id": "b685d686-df73-453e-a7d6-08a14f592202",
   "metadata": {},
   "outputs": [
    {
     "name": "stdout",
     "output_type": "stream",
     "text": [
      "You are not eligible\n"
     ]
    }
   ],
   "source": [
    "if spend == 5000:\n",
    "    print(\"You are eligible for discount of 10%\")\n",
    "if spend == 4000:\n",
    "    print(\"You are eligible for discount of 5%\")\n",
    "if spend == 3000:\n",
    "    print(\"You are eligible for voucher\")\n",
    "if  spend == 2000:\n",
    "    print(\"You are eligible for movie ticket\")\n",
    "if spend == 1000:\n",
    "    print(\"You are eligible for VIP customer\")\n",
    "if spend == 100:\n",
    "    print(\"You are not eligible\")"
   ]
  },
  {
   "cell_type": "code",
   "execution_count": 74,
   "id": "8e2cf8da-4365-4f03-8b93-7123947fae97",
   "metadata": {},
   "outputs": [
    {
     "name": "stdin",
     "output_type": "stream",
     "text": [
      "Enter your marks.. 55\n"
     ]
    }
   ],
   "source": [
    "marks = float(input(\"Enter your marks..\"))"
   ]
  },
  {
   "cell_type": "code",
   "execution_count": 76,
   "id": "694ea7ca-adfd-49f9-acf9-8c00b7647bb4",
   "metadata": {},
   "outputs": [
    {
     "name": "stdout",
     "output_type": "stream",
     "text": [
      "Grade-E-Fail\n"
     ]
    }
   ],
   "source": [
    "# elif ladder:\n",
    "\n",
    "if marks>=90:\n",
    "    print(\"Grade-A\")\n",
    "elif marks>=80:\n",
    "    print(\"Grade-B\")\n",
    "elif marks>=70:\n",
    "    print(\"Grade-C\")\n",
    "elif marks>=60:\n",
    "    print(\"Grade-D\")\n",
    "else:\n",
    "    print(\"Grade-E-Fail\")"
   ]
  },
  {
   "cell_type": "code",
   "execution_count": null,
   "id": "f8181874-d789-42a7-b2b0-cec3aaf3377c",
   "metadata": {},
   "outputs": [],
   "source": []
  },
  {
   "cell_type": "code",
   "execution_count": 81,
   "id": "df3bcafd-b52b-41a4-9c4a-2da4652fd95b",
   "metadata": {},
   "outputs": [],
   "source": [
    "# if ladder"
   ]
  },
  {
   "cell_type": "code",
   "execution_count": 87,
   "id": "99497d87-b028-4ae3-a313-be1fab232ed2",
   "metadata": {},
   "outputs": [
    {
     "name": "stdin",
     "output_type": "stream",
     "text": [
      "Enter your age: 10\n"
     ]
    }
   ],
   "source": [
    "age = float(input(\"Enter your age:\"))"
   ]
  },
  {
   "cell_type": "code",
   "execution_count": 91,
   "id": "968d467b-9b0b-41ae-9237-1fb091efcea4",
   "metadata": {},
   "outputs": [
    {
     "name": "stdout",
     "output_type": "stream",
     "text": [
      "You are kid\n",
      "Grow up first\n"
     ]
    }
   ],
   "source": [
    "if (age>=18):\n",
    "    print(\"You can vote\")\n",
    "    print(\"voting is your right\")\n",
    "else:\n",
    "    print(\"You are kid\")\n",
    "    print(\"Grow up first\")"
   ]
  },
  {
   "cell_type": "code",
   "execution_count": 93,
   "id": "e9a3b74b-cc7d-4f61-8c89-815d4550af14",
   "metadata": {},
   "outputs": [],
   "source": [
    "z = 150"
   ]
  },
  {
   "cell_type": "code",
   "execution_count": 95,
   "id": "1691abb9-ea59-49c6-8bef-2871c12dc0d8",
   "metadata": {},
   "outputs": [
    {
     "name": "stdout",
     "output_type": "stream",
     "text": [
      "150\n"
     ]
    }
   ],
   "source": [
    "print(z)"
   ]
  },
  {
   "cell_type": "code",
   "execution_count": 97,
   "id": "61789363-ae34-480a-ad15-3138818d5137",
   "metadata": {},
   "outputs": [
    {
     "name": "stdout",
     "output_type": "stream",
     "text": [
      "You are kid\n",
      "Grow up first\n"
     ]
    }
   ],
   "source": [
    "# Identation\n",
    "if (age>=18):\n",
    "    print(\"You can vote\")\n",
    "    print(\"Voting is your right\")\n",
    "else:\n",
    "    print(\"You are kid\")\n",
    "    print(\"Grow up first\")\n"
   ]
  },
  {
   "cell_type": "code",
   "execution_count": 99,
   "id": "b818514d-dd3d-4a7b-a521-7b515c3b6759",
   "metadata": {},
   "outputs": [
    {
     "name": "stdout",
     "output_type": "stream",
     "text": [
      "You are kid\n",
      "Grow up first\n"
     ]
    }
   ],
   "source": [
    "if (age>=18):\n",
    "                print(\"You can vote\")\n",
    "                print(\"voting is your right\")\n",
    "else:\n",
    "    print(\"You are kid\")\n",
    "    print(\"Grow up first\")"
   ]
  },
  {
   "cell_type": "code",
   "execution_count": null,
   "id": "34aec5b5-831c-4c39-b059-88e5b4c366b5",
   "metadata": {},
   "outputs": [],
   "source": []
  },
  {
   "cell_type": "code",
   "execution_count": 102,
   "id": "cbcf73b3-d1d8-49d8-ac60-8ab7cab14fad",
   "metadata": {},
   "outputs": [
    {
     "name": "stdin",
     "output_type": "stream",
     "text": [
      "Enter any number -15\n"
     ]
    }
   ],
   "source": [
    "number = int(input(\"Enter any number\"))"
   ]
  },
  {
   "cell_type": "code",
   "execution_count": 106,
   "id": "39d5bb20-4961-4579-962a-d13af97b890b",
   "metadata": {},
   "outputs": [
    {
     "name": "stdout",
     "output_type": "stream",
     "text": [
      "negative number\n"
     ]
    }
   ],
   "source": [
    "if number>0:\n",
    "    print(\"positive number\")\n",
    "elif(number==0):\n",
    "    print(\"its zero\")\n",
    "else:\n",
    "    print(\"negative number\")"
   ]
  },
  {
   "cell_type": "code",
   "execution_count": 108,
   "id": "018169df-a257-4fb9-9f55-2a38515cf86d",
   "metadata": {},
   "outputs": [
    {
     "name": "stdin",
     "output_type": "stream",
     "text": [
      "Enter your marks: 90\n"
     ]
    }
   ],
   "source": [
    "marks = int(input(\"Enter your marks:\"))"
   ]
  },
  {
   "cell_type": "code",
   "execution_count": 112,
   "id": "788cc17d-36ee-4bf0-8f72-be9b875e04cb",
   "metadata": {},
   "outputs": [
    {
     "name": "stdout",
     "output_type": "stream",
     "text": [
      "Grade-A\n",
      "Another Grade\n"
     ]
    }
   ],
   "source": [
    "# if ladder\n",
    "\n",
    "if marks == 90:\n",
    "    print(\"Grade-A\")\n",
    "if marks == 80:\n",
    "    print(\"Grade-B\")\n",
    "if marks == 70:\n",
    "    print(\"Grade-C\")\n",
    "if marks == 60:\n",
    "    print(\"Grade-D\")\n",
    "if marks == 50:\n",
    "    print(\"Grade-E\")\n",
    "\n",
    "else:\n",
    "    print(\"Another Grade\")\n"
   ]
  },
  {
   "cell_type": "code",
   "execution_count": null,
   "id": "8c1752de-55a0-45a5-aae4-b13c444ed97f",
   "metadata": {},
   "outputs": [],
   "source": []
  },
  {
   "cell_type": "code",
   "execution_count": 115,
   "id": "83e31408-00ab-4bde-9fe8-0b864c240837",
   "metadata": {},
   "outputs": [
    {
     "name": "stdin",
     "output_type": "stream",
     "text": [
      "Enter your marks: 10\n"
     ]
    }
   ],
   "source": [
    "marks = int(input(\"Enter your marks:\"))"
   ]
  },
  {
   "cell_type": "code",
   "execution_count": 117,
   "id": "ebff47ad-fac4-46a7-88a4-be8cbe9e3e6c",
   "metadata": {},
   "outputs": [
    {
     "name": "stdout",
     "output_type": "stream",
     "text": [
      "Grade-F\n"
     ]
    }
   ],
   "source": [
    "if marks>=90:\n",
    "    print(\"Grade-A\")\n",
    "elif marks>=80:\n",
    "    print(\"Grade-B\")\n",
    "elif marks>=70:\n",
    "    print(\"Grade-C\")\n",
    "elif marks>=60:\n",
    "    print(\"Grade-D\")\n",
    "else:\n",
    "    print(\"Grade-F\")\n"
   ]
  },
  {
   "cell_type": "code",
   "execution_count": 119,
   "id": "f46fefd5-4094-43fb-aa65-a5994d381265",
   "metadata": {},
   "outputs": [
    {
     "name": "stdin",
     "output_type": "stream",
     "text": [
      "enter your samount 6\n"
     ]
    }
   ],
   "source": [
    "samount = int(input(\"enter your samount\"))"
   ]
  },
  {
   "cell_type": "code",
   "execution_count": null,
   "id": "619aa4ee-cb67-46bd-9857-27a18e856ad8",
   "metadata": {},
   "outputs": [],
   "source": []
  },
  {
   "cell_type": "code",
   "execution_count": 128,
   "id": "bc03d2a7-a047-4eab-acd9-4356af7b900e",
   "metadata": {},
   "outputs": [
    {
     "name": "stdout",
     "output_type": "stream",
     "text": [
      "no rewards\n"
     ]
    }
   ],
   "source": [
    "# elif ladder \n",
    "if samount>= 15000:\n",
    "    print(\"You are eligible for a 10% discount\")\n",
    "elif (samount>=10000 and samount<150000):\n",
    "    print(\"You are eligible for a 5% discount\")\n",
    "elif(samount>=5000 and samount<10000):\n",
    "    print(\"You are eligible for voucher\")\n",
    "elif(samount>=1000 and samount<5000):\n",
    "    print(\"You are eligible for a movie ticket\")\n",
    "elif(samount>=100 and samount<1000):\n",
    "    print(\"You are a VIP customer\")\n",
    "else:\n",
    "    print(\"no rewards\")"
   ]
  },
  {
   "cell_type": "code",
   "execution_count": null,
   "id": "c328f56a-bae4-4b4b-87d5-75ee08e09699",
   "metadata": {},
   "outputs": [],
   "source": []
  },
  {
   "cell_type": "code",
   "execution_count": null,
   "id": "3f026d98-33a2-45bf-9c7b-89af9cf74fdb",
   "metadata": {},
   "outputs": [],
   "source": []
  },
  {
   "cell_type": "code",
   "execution_count": 132,
   "id": "8549c741-5ce9-4054-a3a8-b7242ae48fd1",
   "metadata": {},
   "outputs": [],
   "source": [
    "\n",
    "# Nesting: whenever we write if, elif, else inside another if, elif, else that is known as"
   ]
  },
  {
   "cell_type": "code",
   "execution_count": 1,
   "id": "a6758034-aafb-441c-a8ec-308d7b2f548a",
   "metadata": {},
   "outputs": [
    {
     "name": "stdin",
     "output_type": "stream",
     "text": [
      "Enter any number: 6\n"
     ]
    }
   ],
   "source": [
    "number = int(input(\"Enter any number:\"))"
   ]
  },
  {
   "cell_type": "code",
   "execution_count": 3,
   "id": "7dd561c0-5852-4082-942d-441ff379da3e",
   "metadata": {},
   "outputs": [
    {
     "name": "stdout",
     "output_type": "stream",
     "text": [
      "its positive\n"
     ]
    }
   ],
   "source": [
    "if (number>=0):\n",
    "    if number == 0:\n",
    "        print(\"its zero\")\n",
    "    else:\n",
    "        print(\"its positive\")\n",
    "else:\n",
    "    print(\"its negative\")"
   ]
  },
  {
   "cell_type": "code",
   "execution_count": 5,
   "id": "343c08a0-05b5-4d4b-90bf-65d666c83864",
   "metadata": {},
   "outputs": [
    {
     "name": "stdin",
     "output_type": "stream",
     "text": [
      "Enter any number: -5\n"
     ]
    }
   ],
   "source": [
    "number = int(input(\"Enter any number:\"))"
   ]
  },
  {
   "cell_type": "code",
   "execution_count": null,
   "id": "a4fef695-0b24-409c-bdc8-9c1e81b42be2",
   "metadata": {},
   "outputs": [],
   "source": []
  },
  {
   "cell_type": "code",
   "execution_count": 9,
   "id": "d27baef6-f913-4c38-b6ce-234d17501ceb",
   "metadata": {},
   "outputs": [
    {
     "ename": "IndentationError",
     "evalue": "unindent does not match any outer indentation level (<string>, line 24)",
     "output_type": "error",
     "traceback": [
      "\u001b[1;36m  File \u001b[1;32m<string>:24\u001b[1;36m\u001b[0m\n\u001b[1;33m    elif number==40:\u001b[0m\n\u001b[1;37m                    ^\u001b[0m\n\u001b[1;31mIndentationError\u001b[0m\u001b[1;31m:\u001b[0m unindent does not match any outer indentation level\n"
     ]
    }
   ],
   "source": [
    "if number>10:\n",
    "    if number>20:\n",
    "        if number>30:\n",
    "            if number>40:\n",
    "                if number>50:\n",
    "                    if number>60:\n",
    "                        if number>70:\n",
    "                            if number%2==0:\n",
    "                                print(\"its even\")\n",
    "                            else:\n",
    "                                print(\"its odd\")\n",
    "                        elif number==70:\n",
    "                            print(\"its seventy\")\n",
    "                        else:\n",
    "                            print(\"its lesser than seventy\")\n",
    "                    elif number==60:\n",
    "                        print(\"its sixty\")\n",
    "                    else:\n",
    "                        print(\"its lesser than sixty\")\n",
    "                elif number==50:\n",
    "                    print(\"its fifty\")\n",
    "                else:\n",
    "                    print(\"its lesser than fifty\")\n",
    "             elif number==40:\n",
    "                  print(\"its forty\")\n",
    "            else:\n",
    "                print(\"its lesser than forty\")\n",
    "            elif number==30:\n",
    "                print(\"its thirty\")\n",
    "          else:\n",
    "                print(\"its lesser than thirty\")\n",
    "        elif number==20:\n",
    "            print(\"its twenty\")\n",
    "    else:\n",
    "        print(\"its lesser than twenty\")\n",
    "    elif number==10:\n",
    "         print(\"its ten\")\n",
    "   else:\n",
    "        print(\"its negative\")\n",
    "\n",
    "              \n",
    "                    "
   ]
  },
  {
   "cell_type": "code",
   "execution_count": null,
   "id": "d3fb5d43-f981-4a83-bd3c-f786c7425325",
   "metadata": {},
   "outputs": [],
   "source": []
  },
  {
   "cell_type": "code",
   "execution_count": 12,
   "id": "b8de8013-3005-4d80-85ce-892c9f7ab3f5",
   "metadata": {},
   "outputs": [
    {
     "name": "stdin",
     "output_type": "stream",
     "text": [
      "Enter any number: 6\n"
     ]
    }
   ],
   "source": [
    "number = int(input(\"Enter any number:\"))"
   ]
  },
  {
   "cell_type": "code",
   "execution_count": 14,
   "id": "ca397b51-c406-44ac-a365-fd88448e262b",
   "metadata": {},
   "outputs": [
    {
     "name": "stdout",
     "output_type": "stream",
     "text": [
      "its positive\n"
     ]
    }
   ],
   "source": [
    "if number>=0:\n",
    "    if number==0:\n",
    "        print(\"its zero\")\n",
    "    else:\n",
    "        print(\"its positive\")\n",
    "else:\n",
    "        prin(\"its negative\")"
   ]
  },
  {
   "cell_type": "code",
   "execution_count": 28,
   "id": "2a2205ee-174b-404c-8420-647588f43afa",
   "metadata": {},
   "outputs": [
    {
     "name": "stdin",
     "output_type": "stream",
     "text": [
      "Enter any number: -20\n"
     ]
    }
   ],
   "source": [
    "number = int(input(\"Enter any number:\"))"
   ]
  },
  {
   "cell_type": "code",
   "execution_count": 30,
   "id": "96452efd-d5fa-4623-a060-8ef9fb8808ab",
   "metadata": {},
   "outputs": [
    {
     "name": "stdout",
     "output_type": "stream",
     "text": [
      "its negative\n"
     ]
    }
   ],
   "source": [
    "if number>=0:\n",
    "    if number==0:\n",
    "        print(\"its zero\")\n",
    "    else:\n",
    "        print(\"its positive\")\n",
    "\n",
    "else:\n",
    "        print(\"its negative\")"
   ]
  },
  {
   "cell_type": "code",
   "execution_count": 32,
   "id": "5dd816e6-91bf-4e58-afcb-c25b6ce979ac",
   "metadata": {},
   "outputs": [
    {
     "name": "stdin",
     "output_type": "stream",
     "text": [
      "Enter any number 10\n"
     ]
    }
   ],
   "source": [
    "number = int(input(\"Enter any number\"))"
   ]
  },
  {
   "cell_type": "code",
   "execution_count": 34,
   "id": "76be2b50-f735-444b-ba40-6ae89ed7532a",
   "metadata": {},
   "outputs": [
    {
     "name": "stdout",
     "output_type": "stream",
     "text": [
      "its ten\n"
     ]
    }
   ],
   "source": [
    "if number>=0:\n",
    "    if number==0:\n",
    "        print(\"its zero\")\n",
    "    if number==10:\n",
    "        print(\"its ten\")\n",
    "    if number==20:\n",
    "        print(\"its twenty\")\n",
    "    if number==30:\n",
    "        print(\"its thirty\")\n",
    "else:\n",
    "    print(\"its negative\")"
   ]
  },
  {
   "cell_type": "code",
   "execution_count": null,
   "id": "5d520cfe-c85d-47c7-8038-6a9dca5c1105",
   "metadata": {},
   "outputs": [],
   "source": []
  },
  {
   "cell_type": "code",
   "execution_count": null,
   "id": "c2f791fb-fe18-4949-926d-cc584183ca5c",
   "metadata": {},
   "outputs": [],
   "source": []
  },
  {
   "cell_type": "code",
   "execution_count": 40,
   "id": "403070c1-1105-4d83-9292-c45a5a82ef3f",
   "metadata": {},
   "outputs": [
    {
     "name": "stdout",
     "output_type": "stream",
     "text": [
      "its ten\n",
      "its positive\n"
     ]
    }
   ],
   "source": [
    "if number>=0:\n",
    "    if number==0:\n",
    "        print(\"its zero\")\n",
    "    if number==10:\n",
    "        print(\"its ten\")\n",
    "    if number==20:\n",
    "        print(\"its twenty\")\n",
    "    if number==30:\n",
    "        print(\"its thirty\")\n",
    "    else:\n",
    "        print(\"its positive\")\n",
    "else:\n",
    "    print(\"its negative\")"
   ]
  },
  {
   "cell_type": "code",
   "execution_count": 48,
   "id": "5c1587e2-5f30-4a63-b482-14c872caee15",
   "metadata": {},
   "outputs": [
    {
     "name": "stdout",
     "output_type": "stream",
     "text": [
      "positive number\n"
     ]
    }
   ],
   "source": [
    "if number>= 0:\n",
    "    if number == 0:\n",
    "        print(\"its zero\")\n",
    "    else:\n",
    "        print(\"positive number\")\n",
    "else:\n",
    "    print(\"its negative\")"
   ]
  },
  {
   "cell_type": "code",
   "execution_count": 50,
   "id": "6277c400-1d3a-4f57-84a1-29d41c6c3a9a",
   "metadata": {},
   "outputs": [
    {
     "name": "stdin",
     "output_type": "stream",
     "text": [
      "enter any number: 10\n"
     ]
    }
   ],
   "source": [
    "number = int(input(\"enter any number:\"))"
   ]
  },
  {
   "cell_type": "code",
   "execution_count": 54,
   "id": "dcbb004f-334f-463a-bb59-f789ab23aac4",
   "metadata": {},
   "outputs": [
    {
     "name": "stdout",
     "output_type": "stream",
     "text": [
      "its less than 10\n"
     ]
    }
   ],
   "source": [
    "if number>=0:\n",
    "    if number>10:\n",
    "        if number>20:\n",
    "            if number>30:\n",
    "                if number>40:\n",
    "                    if number>50:\n",
    "                        if number%2==0:\n",
    "                            print(\"its even\")\n",
    "                        else:\n",
    "                            print(\"its odd\")\n",
    "                    else:\n",
    "                        print(\"its less than 50\")\n",
    "                else:\n",
    "                    print(\"its less than 40\")\n",
    "            elif(number==30):\n",
    "                print(\"its thirty\")\n",
    "            else:\n",
    "                print(\"its less than 30\")\n",
    "        else:\n",
    "            print(\"its less than 20\")\n",
    "    else:\n",
    "        print(\"its less than 10\")\n",
    "else:\n",
    "    print(\"its negative\")\n",
    "        "
   ]
  },
  {
   "cell_type": "code",
   "execution_count": null,
   "id": "9c380905-e4f4-4a2f-ab87-6b1d550c0eab",
   "metadata": {},
   "outputs": [],
   "source": []
  },
  {
   "cell_type": "code",
   "execution_count": null,
   "id": "65fe2885-df94-403f-9272-672bafeb6550",
   "metadata": {},
   "outputs": [],
   "source": []
  },
  {
   "cell_type": "code",
   "execution_count": 58,
   "id": "591cac5f-ed83-4b44-82eb-8aa7aa28cd11",
   "metadata": {},
   "outputs": [
    {
     "name": "stdout",
     "output_type": "stream",
     "text": [
      "its smaller than 10\n"
     ]
    }
   ],
   "source": [
    "if number>=0:\n",
    "    if number >10:\n",
    "        if number>20:\n",
    "            if number>30:\n",
    "                if number>40:\n",
    "                    if number>100:\n",
    "                        print(\"its greater than 100\")\n",
    "                    else:\n",
    "                        print(\"its smaller than 100\")\n",
    "                else:\n",
    "                    print(\"Its smaller than 40\")\n",
    "            else:\n",
    "                print(\"its smallerthan 30\")\n",
    "        else:\n",
    "            print(\"its smaller than 20\")\n",
    "    else:\n",
    "        print(\"its smaller than 10\")\n",
    "                    \n",
    "else:\n",
    "    print(\"Its negative\")"
   ]
  },
  {
   "cell_type": "code",
   "execution_count": null,
   "id": "b05f73f6-dfe1-4ac4-88a0-39297d63346f",
   "metadata": {},
   "outputs": [],
   "source": []
  },
  {
   "cell_type": "code",
   "execution_count": 1,
   "id": "2f0ada71-254c-4075-bc13-0860f8de0627",
   "metadata": {},
   "outputs": [
    {
     "name": "stdin",
     "output_type": "stream",
     "text": [
      "Enter any number 20\n"
     ]
    }
   ],
   "source": [
    "number=int(input(\"Enter any number\"))"
   ]
  },
  {
   "cell_type": "code",
   "execution_count": 3,
   "id": "c5dbb2e8-b20f-4a50-93e1-c0ffc4450496",
   "metadata": {},
   "outputs": [
    {
     "name": "stdout",
     "output_type": "stream",
     "text": [
      "its smaller than 20\n"
     ]
    }
   ],
   "source": [
    "if number>=0:\n",
    "    if number>10:\n",
    "        if number>20:\n",
    "            if number>30:\n",
    "                if number>40:\n",
    "                    if number>100:\n",
    "                        print(\"its greater than 100\")\n",
    "                    else:\n",
    "                        print(\"its smaller than 100\")\n",
    "                else:\n",
    "                    print(\"its smaller than 40\")\n",
    "            else:\n",
    "                print(\"its smaller than 30\")\n",
    "        else:\n",
    "             print(\"its smaller than 20\")\n",
    "    else:\n",
    "            print(\"its smaller than 10\")\n",
    "else:\n",
    "    print(\"its negative\")"
   ]
  },
  {
   "cell_type": "code",
   "execution_count": null,
   "id": "3ea427da-2d31-4dac-8889-7c246459041c",
   "metadata": {},
   "outputs": [],
   "source": []
  },
  {
   "cell_type": "code",
   "execution_count": 6,
   "id": "820f3cc5-5712-407e-b1e5-08723fc4ab7f",
   "metadata": {},
   "outputs": [],
   "source": [
    "# Loops "
   ]
  },
  {
   "cell_type": "code",
   "execution_count": 8,
   "id": "e99b264f-bcca-4aac-8f3c-c947272345ba",
   "metadata": {},
   "outputs": [
    {
     "data": {
      "text/plain": [
       "[1, 2, 3, 4, 5, 6, 7, 8, 9]"
      ]
     },
     "execution_count": 8,
     "metadata": {},
     "output_type": "execute_result"
    }
   ],
   "source": [
    "list(range(1,10))"
   ]
  },
  {
   "cell_type": "code",
   "execution_count": 10,
   "id": "74a5bf87-9ec1-4b2f-9479-d9413fa12c26",
   "metadata": {},
   "outputs": [
    {
     "data": {
      "text/plain": [
       "[1, 2, 3, 4, 5, 6, 7, 8, 9, 10, 11, 12, 13, 14, 15, 16, 17, 18, 19, 20]"
      ]
     },
     "execution_count": 10,
     "metadata": {},
     "output_type": "execute_result"
    }
   ],
   "source": [
    "list(range(1,21))"
   ]
  },
  {
   "cell_type": "code",
   "execution_count": 12,
   "id": "a814e3ba-962a-46fc-8382-8303ecc8cde7",
   "metadata": {},
   "outputs": [
    {
     "data": {
      "text/plain": [
       "(2, 12, 22, 32, 42, 52, 62, 72, 82, 92)"
      ]
     },
     "execution_count": 12,
     "metadata": {},
     "output_type": "execute_result"
    }
   ],
   "source": [
    "tuple(range(2,100,10))"
   ]
  },
  {
   "cell_type": "code",
   "execution_count": 14,
   "id": "92707c89-f4a3-4570-82fc-beaa7efa54aa",
   "metadata": {},
   "outputs": [
    {
     "data": {
      "text/plain": [
       "[10, 25, 40, 55, 70, 85, 100, 115, 130, 145]"
      ]
     },
     "execution_count": 14,
     "metadata": {},
     "output_type": "execute_result"
    }
   ],
   "source": [
    "list(range(10,150,15))"
   ]
  },
  {
   "cell_type": "code",
   "execution_count": null,
   "id": "f33f29f2-549f-4b4f-81ce-77fdbee192cd",
   "metadata": {},
   "outputs": [],
   "source": []
  },
  {
   "cell_type": "code",
   "execution_count": null,
   "id": "b1eee802-0855-4f9b-870e-a9de25626b76",
   "metadata": {},
   "outputs": [],
   "source": []
  },
  {
   "cell_type": "code",
   "execution_count": 18,
   "id": "71d38a0b-f169-401f-93f5-0f0d65377d81",
   "metadata": {},
   "outputs": [],
   "source": [
    "# Loops "
   ]
  },
  {
   "cell_type": "code",
   "execution_count": 20,
   "id": "e4886636-f2f3-49a1-93a2-29b468e86f4a",
   "metadata": {},
   "outputs": [
    {
     "name": "stdout",
     "output_type": "stream",
     "text": [
      "2\n",
      "4\n",
      "6\n",
      "8\n",
      "10\n",
      "12\n",
      "14\n",
      "16\n",
      "18\n",
      "20\n"
     ]
    }
   ],
   "source": [
    "print(2)\n",
    "print(4)\n",
    "print(6)\n",
    "print(8)\n",
    "print(10)\n",
    "print(12)\n",
    "print(14)\n",
    "print(16)\n",
    "print(18)\n",
    "print(20)"
   ]
  },
  {
   "cell_type": "code",
   "execution_count": 22,
   "id": "8e4579c2-ea22-42f7-b2c7-a01b2ea1380f",
   "metadata": {},
   "outputs": [],
   "source": [
    "# while loop \n",
    "# for loop\n"
   ]
  },
  {
   "cell_type": "code",
   "execution_count": 24,
   "id": "30a1810f-3ad0-400d-90eb-491ff656ad52",
   "metadata": {},
   "outputs": [
    {
     "ename": "SyntaxError",
     "evalue": "invalid syntax (1512747869.py, line 2)",
     "output_type": "error",
     "traceback": [
      "\u001b[1;36m  Cell \u001b[1;32mIn[24], line 2\u001b[1;36m\u001b[0m\n\u001b[1;33m    syntax :\u001b[0m\n\u001b[1;37m            ^\u001b[0m\n\u001b[1;31mSyntaxError\u001b[0m\u001b[1;31m:\u001b[0m invalid syntax\n"
     ]
    }
   ],
   "source": [
    "# While Loop:\n",
    "syntax :\n",
    "\n",
    "1. Initilizatiom\n",
    "while (2. stoping condition):\n",
    "    logic\n",
    "    3. Updation"
   ]
  },
  {
   "cell_type": "code",
   "execution_count": 34,
   "id": "d62ff4b1-1bda-46c2-9813-a93046dd272f",
   "metadata": {},
   "outputs": [
    {
     "name": "stdout",
     "output_type": "stream",
     "text": [
      "2\n",
      "3\n",
      "4\n",
      "5\n",
      "6\n",
      "7\n",
      "8\n",
      "9\n",
      "10\n",
      "11\n",
      "12\n",
      "13\n",
      "14\n",
      "15\n",
      "16\n",
      "17\n",
      "18\n",
      "19\n",
      "20\n",
      "21\n",
      "22\n",
      "23\n",
      "24\n",
      "25\n",
      "26\n",
      "27\n",
      "28\n",
      "29\n",
      "30\n",
      "31\n",
      "32\n",
      "33\n",
      "34\n",
      "35\n",
      "36\n",
      "37\n",
      "38\n",
      "39\n",
      "40\n",
      "41\n",
      "42\n",
      "43\n",
      "44\n",
      "45\n",
      "46\n",
      "47\n",
      "48\n",
      "49\n",
      "50\n",
      "51\n",
      "52\n",
      "53\n",
      "54\n",
      "55\n",
      "56\n",
      "57\n",
      "58\n",
      "59\n",
      "60\n",
      "61\n",
      "62\n",
      "63\n",
      "64\n",
      "65\n",
      "66\n",
      "67\n",
      "68\n",
      "69\n",
      "70\n",
      "71\n",
      "72\n",
      "73\n",
      "74\n",
      "75\n",
      "76\n",
      "77\n",
      "78\n",
      "79\n",
      "80\n",
      "81\n",
      "82\n",
      "83\n",
      "84\n",
      "85\n",
      "86\n",
      "87\n",
      "88\n",
      "89\n",
      "90\n",
      "91\n",
      "92\n",
      "93\n",
      "94\n",
      "95\n",
      "96\n",
      "97\n",
      "98\n",
      "99\n",
      "100\n"
     ]
    }
   ],
   "source": [
    "i = 2\n",
    "while (i<=100):\n",
    "    print(i)\n",
    "    i = i+1"
   ]
  },
  {
   "cell_type": "code",
   "execution_count": null,
   "id": "991b5604-3ca7-4bb9-935b-046c6296fdfd",
   "metadata": {},
   "outputs": [],
   "source": [
    "i = 2\n",
    "while (i<=20):\n",
    "    if i%2==0:\n",
    "        print(i)\n",
    "        i = i+1"
   ]
  },
  {
   "cell_type": "code",
   "execution_count": null,
   "id": "f51235ef-f3ed-413c-b00d-1c70cdb7f686",
   "metadata": {},
   "outputs": [],
   "source": []
  },
  {
   "cell_type": "code",
   "execution_count": 39,
   "id": "ebd57d2d-dcd2-4c45-bd3f-cd726b648344",
   "metadata": {},
   "outputs": [
    {
     "name": "stdout",
     "output_type": "stream",
     "text": [
      "1\n",
      "2\n",
      "3\n",
      "4\n",
      "5\n",
      "6\n",
      "7\n",
      "8\n",
      "9\n",
      "10\n",
      "no element left\n"
     ]
    }
   ],
   "source": [
    "i = 1\n",
    "while (i<=10):\n",
    "    print(i)\n",
    "    i+=1\n",
    "else:\n",
    "    print(\"no element left\")"
   ]
  },
  {
   "cell_type": "code",
   "execution_count": null,
   "id": "be5747a7-590e-4b38-910c-0c809109ebbb",
   "metadata": {},
   "outputs": [],
   "source": []
  },
  {
   "cell_type": "code",
   "execution_count": 1,
   "id": "54bfcd8d-544b-4dba-b435-c1cb6111f34a",
   "metadata": {},
   "outputs": [],
   "source": [
    "# While true (infinite Loop)"
   ]
  },
  {
   "cell_type": "code",
   "execution_count": 5,
   "id": "50acdf05-7f01-44f3-9429-fbe40c2656b5",
   "metadata": {},
   "outputs": [
    {
     "name": "stdin",
     "output_type": "stream",
     "text": [
      "Enter any number whichh you want to sum upto 10000\n"
     ]
    }
   ],
   "source": [
    "num = int(input(\"Enter any number whichh you want to sum upto\"))"
   ]
  },
  {
   "cell_type": "code",
   "execution_count": 13,
   "id": "8629060d-8d34-4c22-8bcb-64bd925257b4",
   "metadata": {},
   "outputs": [
    {
     "name": "stdout",
     "output_type": "stream",
     "text": [
      "The sum of first n natural are 50005000\n"
     ]
    }
   ],
   "source": [
    "total = 0\n",
    "\n",
    "while True:\n",
    "    total += num\n",
    "    num-=1\n",
    "    if num ==0:\n",
    "        break\n",
    "print(f\"The sum of first n natural are {total}\")"
   ]
  },
  {
   "cell_type": "code",
   "execution_count": null,
   "id": "dfa7a39a-dda7-4e64-b0f1-a4c5152d3d91",
   "metadata": {},
   "outputs": [],
   "source": [
    "num = int(input(\"Enter any number which you want to sum upto\"))"
   ]
  },
  {
   "cell_type": "code",
   "execution_count": null,
   "id": "f2c5a72e-9743-4dfb-8525-bc18675c51f3",
   "metadata": {},
   "outputs": [],
   "source": [
    "total = 0\n",
    "\n",
    "while True:\n",
    "    total += num\n",
    "    num-=1\n",
    "    if num ==0:\n",
    "        break\n",
    "print(f\"The sum of first n natural are {total}\")"
   ]
  },
  {
   "cell_type": "code",
   "execution_count": null,
   "id": "b53404aa-c2e0-4b41-96b1-a2e28c519ecd",
   "metadata": {},
   "outputs": [],
   "source": []
  },
  {
   "cell_type": "code",
   "execution_count": null,
   "id": "1c014561-3636-4454-b52b-13ee4ef0b6ab",
   "metadata": {},
   "outputs": [],
   "source": [
    "# Break, Continue, Pass"
   ]
  },
  {
   "cell_type": "code",
   "execution_count": 5,
   "id": "b56b4526-12f5-4bb3-9b17-ad9fd9bcadfd",
   "metadata": {},
   "outputs": [
    {
     "data": {
      "text/plain": [
       "[1, 3, 5, 7, 9]"
      ]
     },
     "execution_count": 5,
     "metadata": {},
     "output_type": "execute_result"
    }
   ],
   "source": [
    "list(range(1,10,2))"
   ]
  },
  {
   "cell_type": "code",
   "execution_count": 7,
   "id": "b9d37946-fcc2-4672-a664-623e65eab712",
   "metadata": {},
   "outputs": [
    {
     "data": {
      "text/plain": [
       "[1, 3, 5, 7, 9, 11, 13, 15, 17, 19]"
      ]
     },
     "execution_count": 7,
     "metadata": {},
     "output_type": "execute_result"
    }
   ],
   "source": [
    "list(range(1,20,2))"
   ]
  },
  {
   "cell_type": "code",
   "execution_count": 9,
   "id": "6ff33a0f-bb1e-4b84-a08c-91ec3a0f4e10",
   "metadata": {},
   "outputs": [
    {
     "data": {
      "text/plain": [
       "[1, 4, 7, 10, 13, 16, 19, 22]"
      ]
     },
     "execution_count": 9,
     "metadata": {},
     "output_type": "execute_result"
    }
   ],
   "source": [
    "list(range(1,25,3))"
   ]
  },
  {
   "cell_type": "code",
   "execution_count": 11,
   "id": "e6b3dc9e-c85f-4a95-8f37-047b55e41673",
   "metadata": {},
   "outputs": [
    {
     "data": {
      "text/plain": [
       "[1, 3, 5, 7, 9, 11, 13, 15, 17, 19, 21, 23]"
      ]
     },
     "execution_count": 11,
     "metadata": {},
     "output_type": "execute_result"
    }
   ],
   "source": [
    "list(range(1,25,2))"
   ]
  },
  {
   "cell_type": "code",
   "execution_count": 13,
   "id": "22a93050-a210-4ed2-b951-b48bce09ea87",
   "metadata": {},
   "outputs": [
    {
     "data": {
      "text/plain": [
       "[3, 5, 7, 9, 11, 13, 15, 17, 19, 21, 23, 25, 27, 29, 31, 33, 35, 37, 39]"
      ]
     },
     "execution_count": 13,
     "metadata": {},
     "output_type": "execute_result"
    }
   ],
   "source": [
    "list(range(3,40,2))"
   ]
  },
  {
   "cell_type": "code",
   "execution_count": 17,
   "id": "ba076bd8-ab26-4c25-bd13-909668128a6e",
   "metadata": {},
   "outputs": [
    {
     "data": {
      "text/plain": [
       "[3, 7, 11, 15, 19, 23, 27, 31, 35, 39, 43]"
      ]
     },
     "execution_count": 17,
     "metadata": {},
     "output_type": "execute_result"
    }
   ],
   "source": [
    "list(range(3,45,4))"
   ]
  },
  {
   "cell_type": "code",
   "execution_count": 19,
   "id": "ca6eae4a-aa08-497c-960f-f52a69e3d75b",
   "metadata": {},
   "outputs": [
    {
     "data": {
      "text/plain": [
       "[2, 6, 10, 14, 18, 22, 26, 30, 34, 38, 42]"
      ]
     },
     "execution_count": 19,
     "metadata": {},
     "output_type": "execute_result"
    }
   ],
   "source": [
    "list(range(2,45,4))"
   ]
  },
  {
   "cell_type": "code",
   "execution_count": 23,
   "id": "e287cdd9-1dfb-46f5-a684-e0ca23f3155e",
   "metadata": {},
   "outputs": [
    {
     "data": {
      "text/plain": [
       "[5, 10, 15, 20, 25, 30, 35, 40, 45, 50, 55, 60, 65, 70, 75, 80, 85, 90, 95]"
      ]
     },
     "execution_count": 23,
     "metadata": {},
     "output_type": "execute_result"
    }
   ],
   "source": [
    "list(range(5,100,5))"
   ]
  },
  {
   "cell_type": "code",
   "execution_count": 25,
   "id": "30ca7ce4-362e-4870-b3da-6e35c55e9656",
   "metadata": {},
   "outputs": [
    {
     "data": {
      "text/plain": [
       "[10, 20, 30, 40, 50, 60, 70, 80, 90]"
      ]
     },
     "execution_count": 25,
     "metadata": {},
     "output_type": "execute_result"
    }
   ],
   "source": [
    "list(range(10,100,10))"
   ]
  },
  {
   "cell_type": "code",
   "execution_count": 27,
   "id": "ded2c216-4e85-4c4a-9c6e-248173c81e88",
   "metadata": {},
   "outputs": [
    {
     "data": {
      "text/plain": [
       "[0, 1, 2, 3, 4, 5, 6, 7, 8, 9, 10, 11, 12, 13, 14]"
      ]
     },
     "execution_count": 27,
     "metadata": {},
     "output_type": "execute_result"
    }
   ],
   "source": [
    "list(range(15))"
   ]
  },
  {
   "cell_type": "code",
   "execution_count": 29,
   "id": "7abc9d9a-919e-4091-905b-226c7dcfff91",
   "metadata": {},
   "outputs": [
    {
     "data": {
      "text/plain": [
       "[0, 1, 2, 3, 4, 5, 6, 7, 8, 9, 10, 11, 12, 13, 14, 15, 16, 17, 18, 19]"
      ]
     },
     "execution_count": 29,
     "metadata": {},
     "output_type": "execute_result"
    }
   ],
   "source": [
    "list(range(20))"
   ]
  },
  {
   "cell_type": "code",
   "execution_count": 31,
   "id": "4568628d-4338-4558-8e07-004c2abeeb3e",
   "metadata": {},
   "outputs": [],
   "source": [
    "for i in range(15):\n",
    "    pass"
   ]
  },
  {
   "cell_type": "code",
   "execution_count": 33,
   "id": "02c9e2c1-b6dd-4886-be93-a76541e7bf71",
   "metadata": {},
   "outputs": [],
   "source": [
    "if 4>5:\n",
    "    pass"
   ]
  },
  {
   "cell_type": "code",
   "execution_count": 35,
   "id": "bb6449e0-095a-4271-b5c1-5b8669108df3",
   "metadata": {},
   "outputs": [
    {
     "name": "stdout",
     "output_type": "stream",
     "text": [
      "0\n",
      "1\n",
      "2\n"
     ]
    }
   ],
   "source": [
    "for i in range (10):\n",
    "    if i==3:\n",
    "        break\n",
    "    print(i)\n",
    "else:\n",
    "    print(\"ALL DONE\")"
   ]
  },
  {
   "cell_type": "code",
   "execution_count": 37,
   "id": "769f5e7b-ed43-4dd1-8444-95f9eda4cf60",
   "metadata": {},
   "outputs": [
    {
     "name": "stdout",
     "output_type": "stream",
     "text": [
      "0\n",
      "1\n"
     ]
    }
   ],
   "source": [
    "for i in range (15):\n",
    "    if i==2:\n",
    "        break\n",
    "    print(i)\n",
    "else:\n",
    "    print(\"ALL DONE\")"
   ]
  },
  {
   "cell_type": "code",
   "execution_count": 39,
   "id": "01b34640-9882-4c81-a373-622d4a5192a0",
   "metadata": {},
   "outputs": [
    {
     "name": "stdout",
     "output_type": "stream",
     "text": [
      "0\n",
      "1\n",
      "2\n",
      "3\n"
     ]
    }
   ],
   "source": [
    "for i in range (20):\n",
    "    if i==4:\n",
    "        break\n",
    "    print(i)\n",
    "else:\n",
    "    print(\"ALL DONE\")"
   ]
  },
  {
   "cell_type": "code",
   "execution_count": 51,
   "id": "b3ab1ae0-7fa4-4f86-81d3-f57e0ce07eee",
   "metadata": {},
   "outputs": [
    {
     "name": "stdout",
     "output_type": "stream",
     "text": [
      "all done\n"
     ]
    }
   ],
   "source": [
    "for i in range (20):\n",
    "    if i==5:\n",
    "        continue\n",
    "        print(i)\n",
    "else:\n",
    "    print(\"all done\")"
   ]
  },
  {
   "cell_type": "code",
   "execution_count": 53,
   "id": "a83f8d62-d210-4519-96a8-6f362a726e8a",
   "metadata": {},
   "outputs": [
    {
     "data": {
      "text/plain": [
       "[1, 2, 3, 4, 5, 6, 7, 8, 9, 10, 11, 12, 13, 14, 15, 16, 17, 18, 19, 20]"
      ]
     },
     "execution_count": 53,
     "metadata": {},
     "output_type": "execute_result"
    }
   ],
   "source": [
    "list(range(1,21))"
   ]
  },
  {
   "cell_type": "code",
   "execution_count": 55,
   "id": "b0ead2e9-c1e1-40aa-8ee0-d58e09b8ea2f",
   "metadata": {},
   "outputs": [
    {
     "data": {
      "text/plain": [
       "[2, 3, 4, 5, 6, 7, 8, 9, 10, 11, 12, 13, 14, 15, 16, 17, 18, 19, 20, 21]"
      ]
     },
     "execution_count": 55,
     "metadata": {},
     "output_type": "execute_result"
    }
   ],
   "source": [
    "list(range(2,22))"
   ]
  },
  {
   "cell_type": "code",
   "execution_count": 57,
   "id": "e8f6c2ca-5825-4271-a0e9-ec5662219357",
   "metadata": {},
   "outputs": [
    {
     "data": {
      "text/plain": [
       "[1, 2, 3, 4, 5, 6, 7, 8, 9, 10, 11, 12, 13, 14]"
      ]
     },
     "execution_count": 57,
     "metadata": {},
     "output_type": "execute_result"
    }
   ],
   "source": [
    "list(range(1,15))"
   ]
  },
  {
   "cell_type": "code",
   "execution_count": 61,
   "id": "e5bb9eeb-9da2-4893-a5a9-9fea8d8d2903",
   "metadata": {},
   "outputs": [
    {
     "data": {
      "text/plain": [
       "[2,\n",
       " 3,\n",
       " 4,\n",
       " 5,\n",
       " 6,\n",
       " 7,\n",
       " 8,\n",
       " 9,\n",
       " 10,\n",
       " 11,\n",
       " 12,\n",
       " 13,\n",
       " 14,\n",
       " 15,\n",
       " 16,\n",
       " 17,\n",
       " 18,\n",
       " 19,\n",
       " 20,\n",
       " 21,\n",
       " 22,\n",
       " 23,\n",
       " 24,\n",
       " 25,\n",
       " 26,\n",
       " 27,\n",
       " 28,\n",
       " 29]"
      ]
     },
     "execution_count": 61,
     "metadata": {},
     "output_type": "execute_result"
    }
   ],
   "source": [
    "list(range(2,30))"
   ]
  },
  {
   "cell_type": "code",
   "execution_count": 63,
   "id": "07e5024d-ba25-4772-a859-0b7316b433e9",
   "metadata": {},
   "outputs": [
    {
     "name": "stdout",
     "output_type": "stream",
     "text": [
      "2\n",
      "3\n",
      "4\n",
      "5\n",
      "6\n",
      "7\n",
      "8\n",
      "9\n",
      "10\n"
     ]
    }
   ],
   "source": [
    "for i in {2,3,4,5,6,7,8,9,10}:\n",
    "    print(i)"
   ]
  },
  {
   "cell_type": "code",
   "execution_count": 65,
   "id": "4d9e773a-b185-4c1a-8c03-74c0d678c59c",
   "metadata": {},
   "outputs": [
    {
     "name": "stdout",
     "output_type": "stream",
     "text": [
      "4\n",
      "5\n",
      "6\n",
      "8\n",
      "10\n",
      "12\n",
      "15\n"
     ]
    }
   ],
   "source": [
    "for i in {4,5,6,8,10,12,15,8}:\n",
    "    print(i)"
   ]
  },
  {
   "cell_type": "code",
   "execution_count": 67,
   "id": "895e2546-12ef-45b5-b8d2-2d29382fb0de",
   "metadata": {},
   "outputs": [
    {
     "name": "stdout",
     "output_type": "stream",
     "text": [
      "2\n",
      "3\n",
      "4\n",
      "5\n",
      "6\n",
      "7\n",
      "8\n",
      "9\n",
      "10\n"
     ]
    }
   ],
   "source": [
    "for i in range(2,11):\n",
    "    print(i)"
   ]
  },
  {
   "cell_type": "code",
   "execution_count": 69,
   "id": "175a842e-a4df-4991-b68f-f6493867dc1f",
   "metadata": {},
   "outputs": [
    {
     "name": "stdout",
     "output_type": "stream",
     "text": [
      "2\n",
      "3\n",
      "4\n",
      "5\n",
      "6\n",
      "7\n",
      "8\n",
      "9\n",
      "10\n",
      "11\n",
      "12\n",
      "13\n",
      "14\n",
      "15\n",
      "16\n",
      "17\n",
      "18\n",
      "19\n",
      "20\n"
     ]
    }
   ],
   "source": [
    "for i in range(2,21):\n",
    "    print(i)"
   ]
  },
  {
   "cell_type": "code",
   "execution_count": 77,
   "id": "2cd3aaa3-ed0d-4d01-a50c-2891652b28b0",
   "metadata": {},
   "outputs": [
    {
     "name": "stdout",
     "output_type": "stream",
     "text": [
      "2\n",
      "4\n",
      "6\n",
      "8\n",
      "10\n",
      "12\n",
      "14\n",
      "16\n",
      "18\n",
      "20\n"
     ]
    }
   ],
   "source": [
    "for i in range (2,21):\n",
    "    if i%2==0:\n",
    "        print(i)"
   ]
  },
  {
   "cell_type": "code",
   "execution_count": 89,
   "id": "ce41ad95-5ef8-4051-9b47-d73096477e29",
   "metadata": {},
   "outputs": [
    {
     "name": "stdout",
     "output_type": "stream",
     "text": [
      "10\n",
      "12\n",
      "14\n",
      "16\n",
      "18\n",
      "20\n",
      "22\n",
      "24\n",
      "26\n",
      "28\n",
      "30\n"
     ]
    }
   ],
   "source": [
    "for i in range (10,31):\n",
    "    if i%2==0:\n",
    "        print(i)"
   ]
  },
  {
   "cell_type": "code",
   "execution_count": 91,
   "id": "af49bfde-22eb-4686-815d-d8f44bcbea34",
   "metadata": {},
   "outputs": [
    {
     "data": {
      "text/plain": [
       "[2, 4, 6, 8, 10, 12, 14, 16, 18, 20]"
      ]
     },
     "execution_count": 91,
     "metadata": {},
     "output_type": "execute_result"
    }
   ],
   "source": [
    "list(range(2,21,2))"
   ]
  },
  {
   "cell_type": "code",
   "execution_count": 93,
   "id": "ed525efe-acc7-4eb8-a094-cc17b0e02d1e",
   "metadata": {},
   "outputs": [
    {
     "data": {
      "text/plain": [
       "[3, 5, 7, 9, 11, 13, 15, 17, 19]"
      ]
     },
     "execution_count": 93,
     "metadata": {},
     "output_type": "execute_result"
    }
   ],
   "source": [
    "list(range(3,21,2))"
   ]
  },
  {
   "cell_type": "code",
   "execution_count": 95,
   "id": "18e3821a-d31d-44cb-ad64-56b7df18b105",
   "metadata": {},
   "outputs": [
    {
     "data": {
      "text/plain": [
       "[4, 8, 12, 16, 20]"
      ]
     },
     "execution_count": 95,
     "metadata": {},
     "output_type": "execute_result"
    }
   ],
   "source": [
    "list(range(4,21,4))"
   ]
  },
  {
   "cell_type": "code",
   "execution_count": 97,
   "id": "2c192baa-e077-4e84-ac2e-cf2ac7430004",
   "metadata": {},
   "outputs": [
    {
     "data": {
      "text/plain": [
       "[5, 8, 11, 14, 17, 20]"
      ]
     },
     "execution_count": 97,
     "metadata": {},
     "output_type": "execute_result"
    }
   ],
   "source": [
    "list(range(5,21,3))"
   ]
  },
  {
   "cell_type": "code",
   "execution_count": 99,
   "id": "2cff3c74-49d7-4c4e-85de-4a40bf42b101",
   "metadata": {},
   "outputs": [
    {
     "data": {
      "text/plain": [
       "[2, 3, 4, 5, 6, 7, 8, 9, 10, 11, 12, 13, 14, 15, 16, 17, 18, 19, 20]"
      ]
     },
     "execution_count": 99,
     "metadata": {},
     "output_type": "execute_result"
    }
   ],
   "source": [
    "list(range(2,21,1))"
   ]
  },
  {
   "cell_type": "code",
   "execution_count": 101,
   "id": "fb898433-66b7-4ab9-9a7d-2188c525e01c",
   "metadata": {},
   "outputs": [
    {
     "name": "stdout",
     "output_type": "stream",
     "text": [
      "2\n",
      "4\n",
      "6\n",
      "8\n",
      "10\n",
      "12\n",
      "14\n",
      "16\n",
      "18\n",
      "20\n"
     ]
    }
   ],
   "source": [
    "for i in range(2,21,2):\n",
    "    print(i)"
   ]
  },
  {
   "cell_type": "code",
   "execution_count": 105,
   "id": "a8576310-8dda-4c0d-b674-587560a53e92",
   "metadata": {},
   "outputs": [
    {
     "name": "stdout",
     "output_type": "stream",
     "text": [
      "2\n",
      "7\n",
      "12\n",
      "17\n",
      "22\n",
      "27\n"
     ]
    }
   ],
   "source": [
    "for i in range(2,31,5):\n",
    "    print(i)"
   ]
  },
  {
   "cell_type": "code",
   "execution_count": 107,
   "id": "bab799a8-b02e-4919-afa4-a2b3f3f2c4a3",
   "metadata": {},
   "outputs": [
    {
     "name": "stdout",
     "output_type": "stream",
     "text": [
      "2\n",
      "3\n",
      "4\n",
      "5\n",
      "6\n",
      "7\n",
      "8\n",
      "9\n",
      "10\n",
      "11\n",
      "12\n",
      "13\n",
      "14\n",
      "15\n",
      "16\n",
      "17\n",
      "18\n",
      "19\n",
      "20\n"
     ]
    }
   ],
   "source": [
    "for i in range (2,21,1):\n",
    "    print(i)"
   ]
  },
  {
   "cell_type": "code",
   "execution_count": null,
   "id": "45a661f0-0d25-469f-a224-1daf3aa8196e",
   "metadata": {},
   "outputs": [],
   "source": []
  },
  {
   "cell_type": "code",
   "execution_count": 112,
   "id": "d3cecb43-e444-4f93-97f1-8d40b8c80b83",
   "metadata": {},
   "outputs": [
    {
     "ename": "SyntaxError",
     "evalue": "invalid syntax (1796266983.py, line 2)",
     "output_type": "error",
     "traceback": [
      "\u001b[1;36m  Cell \u001b[1;32mIn[112], line 2\u001b[1;36m\u001b[0m\n\u001b[1;33m    if == 0:\u001b[0m\n\u001b[1;37m       ^\u001b[0m\n\u001b[1;31mSyntaxError\u001b[0m\u001b[1;31m:\u001b[0m invalid syntax\n"
     ]
    }
   ],
   "source": [
    "for i in range(0,30,2):\n",
    "    if == 0:\n",
    "        continue\n",
    "        print(t)"
   ]
  },
  {
   "cell_type": "code",
   "execution_count": 114,
   "id": "ed6c0aff-68b3-4941-a95c-1dd5820c3ae3",
   "metadata": {},
   "outputs": [],
   "source": [
    "# write a python programe to print square of even numbers and cube of odd numbers upto 20"
   ]
  },
  {
   "cell_type": "code",
   "execution_count": 116,
   "id": "482953db-7f41-493c-928f-65527580d1c7",
   "metadata": {},
   "outputs": [
    {
     "name": "stdout",
     "output_type": "stream",
     "text": [
      "1\n",
      "4\n",
      "27\n",
      "16\n",
      "125\n",
      "36\n",
      "343\n",
      "64\n",
      "729\n",
      "100\n",
      "1331\n",
      "144\n",
      "2197\n",
      "196\n",
      "3375\n",
      "256\n",
      "4913\n",
      "324\n",
      "6859\n",
      "400\n"
     ]
    }
   ],
   "source": [
    "for i in range(1,21):\n",
    "    if i%2==0:\n",
    "        print(i**2)\n",
    "    else:\n",
    "        print(i**3)"
   ]
  },
  {
   "cell_type": "code",
   "execution_count": 118,
   "id": "a2ee95a9-0c08-4cd9-9df2-f477459829a9",
   "metadata": {},
   "outputs": [
    {
     "name": "stdout",
     "output_type": "stream",
     "text": [
      "1\n",
      "4\n",
      "27\n",
      "16\n",
      "125\n",
      "36\n",
      "343\n",
      "64\n",
      "729\n",
      "100\n"
     ]
    }
   ],
   "source": [
    "for i in range(1,11):\n",
    "    if i%2==0:\n",
    "        print(i**2)\n",
    "    else:\n",
    "        print(i**3)"
   ]
  },
  {
   "cell_type": "code",
   "execution_count": 120,
   "id": "fad93f89-50c4-4f12-a2dd-3f4f2fa3c0ec",
   "metadata": {},
   "outputs": [
    {
     "name": "stdout",
     "output_type": "stream",
     "text": [
      "1\n",
      "4\n",
      "27\n",
      "16\n",
      "125\n",
      "36\n",
      "343\n",
      "64\n",
      "729\n",
      "100\n"
     ]
    }
   ],
   "source": [
    "for i in range(1,11):\n",
    "    if i%2==0:\n",
    "        print(i**2)\n",
    "    else:\n",
    "        print(i**3)"
   ]
  },
  {
   "cell_type": "code",
   "execution_count": null,
   "id": "169925a7-7b89-4c5e-9557-15db884a3a14",
   "metadata": {},
   "outputs": [],
   "source": []
  },
  {
   "cell_type": "code",
   "execution_count": null,
   "id": "04acd27e-a7a8-4f4e-8a38-c6fed98fca22",
   "metadata": {},
   "outputs": [],
   "source": []
  },
  {
   "cell_type": "markdown",
   "id": "27df35e7-0e93-4c09-bd52-106cbbe8eb4b",
   "metadata": {},
   "source": [
    "# Python Inbuilt Data Structures:\n",
    "* String\n",
    "* List\n",
    "* Tuple\n",
    "* Set \n",
    "* Dictionary"
   ]
  },
  {
   "cell_type": "code",
   "execution_count": 6,
   "id": "8f2c5ce1-e7c8-410b-b7af-ae43a3f8c90d",
   "metadata": {},
   "outputs": [],
   "source": [
    "a = 50"
   ]
  },
  {
   "cell_type": "code",
   "execution_count": 8,
   "id": "ea2569c3-fbe2-41b2-851e-91beace205d6",
   "metadata": {},
   "outputs": [],
   "source": [
    "b = \"Python is fun\""
   ]
  },
  {
   "cell_type": "code",
   "execution_count": 10,
   "id": "7e79ecc1-c370-4bb9-8a1c-feb6423a21bb",
   "metadata": {},
   "outputs": [],
   "source": [
    "emp1 = 1000"
   ]
  },
  {
   "cell_type": "code",
   "execution_count": 12,
   "id": "e8fec2d1-3440-43b9-8e98-2e6cf6f7878d",
   "metadata": {},
   "outputs": [],
   "source": [
    "emp2 = 2000"
   ]
  },
  {
   "cell_type": "code",
   "execution_count": 14,
   "id": "16c49a98-89c0-4530-a813-b9fe20e33af8",
   "metadata": {},
   "outputs": [],
   "source": [
    "emp3 = 3000"
   ]
  },
  {
   "cell_type": "code",
   "execution_count": 16,
   "id": "10bfb476-0f9a-48a5-8ed1-fabb0b405f1d",
   "metadata": {},
   "outputs": [],
   "source": [
    "p1 = 78965412\n",
    "p2 = 123654789"
   ]
  },
  {
   "cell_type": "markdown",
   "id": "129fb2d1-0bce-4362-b2df-c04778867a27",
   "metadata": {},
   "source": [
    "# String:\n",
    "* sttring in python are the sequence of unicode characters.\n",
    "* we can use single quotes, double quotes, triple quotes.\n",
    "* triple quotes: are generally used in order to write multiline string.\n",
    "* A string in python consists of a series of sequence of characters-letters,digits, and special charactersand_\n",
    "* string are indexible and slicable"
   ]
  },
  {
   "cell_type": "code",
   "execution_count": 97,
   "id": "2baff8bc-13f7-40c6-b60d-a0e8a6ac94b8",
   "metadata": {},
   "outputs": [],
   "source": [
    "my_str = (\"Welcome to the python\")"
   ]
  },
  {
   "cell_type": "code",
   "execution_count": 99,
   "id": "4b182263-22db-428f-9794-78edda3fb049",
   "metadata": {},
   "outputs": [
    {
     "data": {
      "text/plain": [
       "'Welcome to the python'"
      ]
     },
     "execution_count": 99,
     "metadata": {},
     "output_type": "execute_result"
    }
   ],
   "source": [
    "my_str"
   ]
  },
  {
   "cell_type": "code",
   "execution_count": 23,
   "id": "a49b14a6-8885-48f8-a78b-f6fe4911ea03",
   "metadata": {},
   "outputs": [
    {
     "data": {
      "text/plain": [
       "str"
      ]
     },
     "execution_count": 23,
     "metadata": {},
     "output_type": "execute_result"
    }
   ],
   "source": [
    "type(my_str)"
   ]
  },
  {
   "cell_type": "code",
   "execution_count": 25,
   "id": "0cc1933a-58ca-4011-b2ea-21af5868fea2",
   "metadata": {},
   "outputs": [],
   "source": [
    "d = 'hello students'"
   ]
  },
  {
   "cell_type": "code",
   "execution_count": 27,
   "id": "bb013940-e853-4095-a824-44feabc989a9",
   "metadata": {},
   "outputs": [
    {
     "data": {
      "text/plain": [
       "str"
      ]
     },
     "execution_count": 27,
     "metadata": {},
     "output_type": "execute_result"
    }
   ],
   "source": [
    "type(d)"
   ]
  },
  {
   "cell_type": "code",
   "execution_count": 29,
   "id": "66da4179-0365-4b28-8518-0ebd2d3ffe20",
   "metadata": {},
   "outputs": [],
   "source": [
    "b = \"my computer\""
   ]
  },
  {
   "cell_type": "code",
   "execution_count": 31,
   "id": "596707e2-1073-472c-83e5-f29b4406e55f",
   "metadata": {},
   "outputs": [
    {
     "data": {
      "text/plain": [
       "str"
      ]
     },
     "execution_count": 31,
     "metadata": {},
     "output_type": "execute_result"
    }
   ],
   "source": [
    "type(b)"
   ]
  },
  {
   "cell_type": "code",
   "execution_count": 33,
   "id": "a120a420-ecb7-4bda-9c60-d143ccff7bab",
   "metadata": {},
   "outputs": [],
   "source": [
    "a = \"\"\"computer\"\"\""
   ]
  },
  {
   "cell_type": "code",
   "execution_count": 35,
   "id": "f89a6b6f-d69a-4389-ae0c-9f0ab0a4c91e",
   "metadata": {},
   "outputs": [
    {
     "data": {
      "text/plain": [
       "str"
      ]
     },
     "execution_count": 35,
     "metadata": {},
     "output_type": "execute_result"
    }
   ],
   "source": [
    "type(a)"
   ]
  },
  {
   "cell_type": "code",
   "execution_count": 167,
   "id": "173ad16b-9a0c-42e5-8674-8cba16ff5238",
   "metadata": {},
   "outputs": [],
   "source": [
    "my_str = \"welcome to the world\""
   ]
  },
  {
   "cell_type": "code",
   "execution_count": 39,
   "id": "0ff0d9ca-d657-45d0-afcd-b4e9343f434b",
   "metadata": {},
   "outputs": [
    {
     "data": {
      "text/plain": [
       "'welcome to the world'"
      ]
     },
     "execution_count": 39,
     "metadata": {},
     "output_type": "execute_result"
    }
   ],
   "source": [
    "my_str"
   ]
  },
  {
   "cell_type": "code",
   "execution_count": 43,
   "id": "1511574e-72ae-47c6-ae58-26a7b2aa546f",
   "metadata": {},
   "outputs": [],
   "source": [
    "a = \"laptop\""
   ]
  },
  {
   "cell_type": "code",
   "execution_count": 45,
   "id": "2e0e18ef-ae6e-4173-9e4a-2e0e9d850fc3",
   "metadata": {},
   "outputs": [
    {
     "data": {
      "text/plain": [
       "str"
      ]
     },
     "execution_count": 45,
     "metadata": {},
     "output_type": "execute_result"
    }
   ],
   "source": [
    "type(a)"
   ]
  },
  {
   "cell_type": "code",
   "execution_count": 47,
   "id": "797127a0-1499-4577-9706-21260596273c",
   "metadata": {},
   "outputs": [
    {
     "data": {
      "text/plain": [
       "'welcome to the world'"
      ]
     },
     "execution_count": 47,
     "metadata": {},
     "output_type": "execute_result"
    }
   ],
   "source": [
    "my_str"
   ]
  },
  {
   "cell_type": "code",
   "execution_count": 49,
   "id": "90a2046f-eedd-4c4a-8a0c-a2c410dcf9c7",
   "metadata": {},
   "outputs": [
    {
     "data": {
      "text/plain": [
       "'r'"
      ]
     },
     "execution_count": 49,
     "metadata": {},
     "output_type": "execute_result"
    }
   ],
   "source": [
    "my_str[-3]"
   ]
  },
  {
   "cell_type": "code",
   "execution_count": 51,
   "id": "28250a32-90cc-4c2a-aab9-27d3301ad1a2",
   "metadata": {},
   "outputs": [
    {
     "data": {
      "text/plain": [
       "20"
      ]
     },
     "execution_count": 51,
     "metadata": {},
     "output_type": "execute_result"
    }
   ],
   "source": [
    "len(my_str)"
   ]
  },
  {
   "cell_type": "code",
   "execution_count": 53,
   "id": "29571595-3bb3-49b0-a5f6-8e72b2ee844e",
   "metadata": {},
   "outputs": [
    {
     "data": {
      "text/plain": [
       "'d'"
      ]
     },
     "execution_count": 53,
     "metadata": {},
     "output_type": "execute_result"
    }
   ],
   "source": [
    "my_str[-1]"
   ]
  },
  {
   "cell_type": "code",
   "execution_count": 55,
   "id": "7c0f6937-4563-4374-bcb9-61192a07078b",
   "metadata": {},
   "outputs": [
    {
     "data": {
      "text/plain": [
       "'w'"
      ]
     },
     "execution_count": 55,
     "metadata": {},
     "output_type": "execute_result"
    }
   ],
   "source": [
    "my_str[-5]"
   ]
  },
  {
   "cell_type": "code",
   "execution_count": 57,
   "id": "abfd684d-6727-4f99-b4d4-8a9f1cd0b187",
   "metadata": {},
   "outputs": [
    {
     "data": {
      "text/plain": [
       "'t'"
      ]
     },
     "execution_count": 57,
     "metadata": {},
     "output_type": "execute_result"
    }
   ],
   "source": [
    "my_str[8]"
   ]
  },
  {
   "cell_type": "code",
   "execution_count": 59,
   "id": "0e14813e-8474-42c4-a1db-bdf345c6a939",
   "metadata": {},
   "outputs": [
    {
     "data": {
      "text/plain": [
       "20"
      ]
     },
     "execution_count": 59,
     "metadata": {},
     "output_type": "execute_result"
    }
   ],
   "source": [
    "len(my_str)"
   ]
  },
  {
   "cell_type": "code",
   "execution_count": 61,
   "id": "ed485d01-80cc-4f74-8c19-1541f8db1fb5",
   "metadata": {},
   "outputs": [
    {
     "data": {
      "text/plain": [
       "'dlrow eht ot emoclew'"
      ]
     },
     "execution_count": 61,
     "metadata": {},
     "output_type": "execute_result"
    }
   ],
   "source": [
    "my_str[::-1]"
   ]
  },
  {
   "cell_type": "code",
   "execution_count": 63,
   "id": "00582e60-eff2-42ee-97b0-2d5899e5e61b",
   "metadata": {},
   "outputs": [
    {
     "data": {
      "text/plain": [
       "20"
      ]
     },
     "execution_count": 63,
     "metadata": {},
     "output_type": "execute_result"
    }
   ],
   "source": [
    "len(my_str)"
   ]
  },
  {
   "cell_type": "code",
   "execution_count": 67,
   "id": "47e3bc96-c199-42f0-a420-4545a466938f",
   "metadata": {},
   "outputs": [
    {
     "data": {
      "text/plain": [
       "'welcome to the world'"
      ]
     },
     "execution_count": 67,
     "metadata": {},
     "output_type": "execute_result"
    }
   ],
   "source": [
    "my_str[::1]"
   ]
  },
  {
   "cell_type": "code",
   "execution_count": 69,
   "id": "9f602973-2803-4a3a-ae7f-61af4cc912da",
   "metadata": {},
   "outputs": [
    {
     "data": {
      "text/plain": [
       "'welcome to the world'"
      ]
     },
     "execution_count": 69,
     "metadata": {},
     "output_type": "execute_result"
    }
   ],
   "source": [
    "my_str"
   ]
  },
  {
   "cell_type": "code",
   "execution_count": null,
   "id": "ec2c1560-12b2-496c-9ee2-d8a2d766bbc8",
   "metadata": {},
   "outputs": [],
   "source": []
  },
  {
   "cell_type": "code",
   "execution_count": null,
   "id": "71fe6330-7c5d-43a8-bfa3-c26ada909dc0",
   "metadata": {},
   "outputs": [],
   "source": [
    "# string are indexible and slicable"
   ]
  },
  {
   "cell_type": "code",
   "execution_count": 75,
   "id": "fdc4f91e-d7f1-4773-8188-3c7f97bcf4c5",
   "metadata": {},
   "outputs": [],
   "source": [
    "# indexiable: accessing are elements at a time is known as indexing"
   ]
  },
  {
   "cell_type": "code",
   "execution_count": 77,
   "id": "ea667cab-ee75-4dd4-8be1-0c8a7baa17ab",
   "metadata": {},
   "outputs": [
    {
     "data": {
      "text/plain": [
       "'w'"
      ]
     },
     "execution_count": 77,
     "metadata": {},
     "output_type": "execute_result"
    }
   ],
   "source": [
    "my_str[0]"
   ]
  },
  {
   "cell_type": "code",
   "execution_count": 81,
   "id": "a473c044-6c7e-418c-adb9-7db9282d5ec0",
   "metadata": {},
   "outputs": [
    {
     "data": {
      "text/plain": [
       "'l'"
      ]
     },
     "execution_count": 81,
     "metadata": {},
     "output_type": "execute_result"
    }
   ],
   "source": [
    "my_str[2]"
   ]
  },
  {
   "cell_type": "code",
   "execution_count": 83,
   "id": "ad53cbce-ba87-426f-809a-ef9a1f7267d2",
   "metadata": {},
   "outputs": [
    {
     "data": {
      "text/plain": [
       "'w'"
      ]
     },
     "execution_count": 83,
     "metadata": {},
     "output_type": "execute_result"
    }
   ],
   "source": [
    "my_str[0]"
   ]
  },
  {
   "cell_type": "code",
   "execution_count": 85,
   "id": "361f9f56-daef-4fdb-a9ed-cb39fb2df72b",
   "metadata": {},
   "outputs": [
    {
     "data": {
      "text/plain": [
       "'c'"
      ]
     },
     "execution_count": 85,
     "metadata": {},
     "output_type": "execute_result"
    }
   ],
   "source": [
    "my_str[3]"
   ]
  },
  {
   "cell_type": "code",
   "execution_count": 89,
   "id": "0e1dde79-4a39-45b8-a5fc-a40562986a4a",
   "metadata": {},
   "outputs": [
    {
     "data": {
      "text/plain": [
       "'m'"
      ]
     },
     "execution_count": 89,
     "metadata": {},
     "output_type": "execute_result"
    }
   ],
   "source": [
    "my_str[5]"
   ]
  },
  {
   "cell_type": "code",
   "execution_count": 91,
   "id": "09a7b346-a8dd-42e5-88b6-e1d99991f5d7",
   "metadata": {},
   "outputs": [
    {
     "data": {
      "text/plain": [
       "'e'"
      ]
     },
     "execution_count": 91,
     "metadata": {},
     "output_type": "execute_result"
    }
   ],
   "source": [
    "my_str[6]"
   ]
  },
  {
   "cell_type": "code",
   "execution_count": 93,
   "id": "d2599f4f-3f4b-4d63-a6be-f81c06387f72",
   "metadata": {},
   "outputs": [
    {
     "data": {
      "text/plain": [
       "20"
      ]
     },
     "execution_count": 93,
     "metadata": {},
     "output_type": "execute_result"
    }
   ],
   "source": [
    "len(my_str)"
   ]
  },
  {
   "cell_type": "code",
   "execution_count": 95,
   "id": "7e9e8e1a-527c-4f72-a23a-90b299bea454",
   "metadata": {},
   "outputs": [
    {
     "data": {
      "text/plain": [
       "'welcome to the world'"
      ]
     },
     "execution_count": 95,
     "metadata": {},
     "output_type": "execute_result"
    }
   ],
   "source": [
    "my_str"
   ]
  },
  {
   "cell_type": "code",
   "execution_count": 101,
   "id": "f8b65a6e-af95-4b6b-89ca-ebd567aa781d",
   "metadata": {},
   "outputs": [
    {
     "data": {
      "text/plain": [
       "'Welcome to the python'"
      ]
     },
     "execution_count": 101,
     "metadata": {},
     "output_type": "execute_result"
    }
   ],
   "source": [
    "my_str"
   ]
  },
  {
   "cell_type": "code",
   "execution_count": 103,
   "id": "08ecc9dc-3f7a-4adb-ab20-bb1245f412e2",
   "metadata": {},
   "outputs": [
    {
     "data": {
      "text/plain": [
       "'o'"
      ]
     },
     "execution_count": 103,
     "metadata": {},
     "output_type": "execute_result"
    }
   ],
   "source": [
    "my_str[20-1]"
   ]
  },
  {
   "cell_type": "code",
   "execution_count": 105,
   "id": "b7f9d821-8e13-4ea9-81c5-134048a27dcf",
   "metadata": {},
   "outputs": [
    {
     "data": {
      "text/plain": [
       "'p'"
      ]
     },
     "execution_count": 105,
     "metadata": {},
     "output_type": "execute_result"
    }
   ],
   "source": [
    "my_str[20-5]"
   ]
  },
  {
   "cell_type": "code",
   "execution_count": 107,
   "id": "1eca307d-98c2-4f79-b1e9-4afa23503dbc",
   "metadata": {},
   "outputs": [
    {
     "data": {
      "text/plain": [
       "'h'"
      ]
     },
     "execution_count": 107,
     "metadata": {},
     "output_type": "execute_result"
    }
   ],
   "source": [
    "my_str[20-8]"
   ]
  },
  {
   "cell_type": "code",
   "execution_count": 109,
   "id": "3c2e661b-57a5-44dc-9344-1dfe5a059717",
   "metadata": {},
   "outputs": [
    {
     "data": {
      "text/plain": [
       "' '"
      ]
     },
     "execution_count": 109,
     "metadata": {},
     "output_type": "execute_result"
    }
   ],
   "source": [
    "my_str[20-10]"
   ]
  },
  {
   "cell_type": "code",
   "execution_count": 111,
   "id": "928ab97e-daf3-4d2f-918c-e8a353de0cfa",
   "metadata": {},
   "outputs": [
    {
     "data": {
      "text/plain": [
       "'y'"
      ]
     },
     "execution_count": 111,
     "metadata": {},
     "output_type": "execute_result"
    }
   ],
   "source": [
    "my_str[21-5]"
   ]
  },
  {
   "cell_type": "code",
   "execution_count": 113,
   "id": "f3b96dab-395d-4ad2-8069-21180712eeb6",
   "metadata": {},
   "outputs": [
    {
     "data": {
      "text/plain": [
       "'h'"
      ]
     },
     "execution_count": 113,
     "metadata": {},
     "output_type": "execute_result"
    }
   ],
   "source": [
    "my_str[21-9]"
   ]
  },
  {
   "cell_type": "code",
   "execution_count": 115,
   "id": "2acfdde1-67a1-4536-96f6-e650adcfd5bf",
   "metadata": {},
   "outputs": [
    {
     "data": {
      "text/plain": [
       "'Welcome to the python'"
      ]
     },
     "execution_count": 115,
     "metadata": {},
     "output_type": "execute_result"
    }
   ],
   "source": [
    "my_str"
   ]
  },
  {
   "cell_type": "code",
   "execution_count": 117,
   "id": "0c527191-261a-4220-96d5-4918be0ac00a",
   "metadata": {},
   "outputs": [
    {
     "data": {
      "text/plain": [
       "'n'"
      ]
     },
     "execution_count": 117,
     "metadata": {},
     "output_type": "execute_result"
    }
   ],
   "source": [
    "my_str[len(my_str)-1]"
   ]
  },
  {
   "cell_type": "code",
   "execution_count": 119,
   "id": "78df1fa6-e588-4f81-8b01-52022cceb0ba",
   "metadata": {},
   "outputs": [
    {
     "data": {
      "text/plain": [
       "'y'"
      ]
     },
     "execution_count": 119,
     "metadata": {},
     "output_type": "execute_result"
    }
   ],
   "source": [
    "my_str[len(my_str)-5]"
   ]
  },
  {
   "cell_type": "code",
   "execution_count": 121,
   "id": "edb3377e-734f-4db8-a268-e4ba87d95f1c",
   "metadata": {},
   "outputs": [
    {
     "data": {
      "text/plain": [
       "'t'"
      ]
     },
     "execution_count": 121,
     "metadata": {},
     "output_type": "execute_result"
    }
   ],
   "source": [
    "my_str[len(my_str)-4]"
   ]
  },
  {
   "cell_type": "code",
   "execution_count": 123,
   "id": "e9f90c15-40b0-4c4c-a74f-1f803a2d92fb",
   "metadata": {},
   "outputs": [
    {
     "data": {
      "text/plain": [
       "'e'"
      ]
     },
     "execution_count": 123,
     "metadata": {},
     "output_type": "execute_result"
    }
   ],
   "source": [
    "my_str[len(my_str)-8]"
   ]
  },
  {
   "cell_type": "code",
   "execution_count": 125,
   "id": "2f96c61b-fa0a-4be6-93f8-9b353cbffc49",
   "metadata": {},
   "outputs": [
    {
     "data": {
      "text/plain": [
       "' '"
      ]
     },
     "execution_count": 125,
     "metadata": {},
     "output_type": "execute_result"
    }
   ],
   "source": [
    "my_str[len(my_str)-7]"
   ]
  },
  {
   "cell_type": "code",
   "execution_count": 127,
   "id": "b3f5b47c-c2ed-48f8-81dc-068825750f65",
   "metadata": {},
   "outputs": [
    {
     "data": {
      "text/plain": [
       "'W'"
      ]
     },
     "execution_count": 127,
     "metadata": {},
     "output_type": "execute_result"
    }
   ],
   "source": [
    "my_str[0]"
   ]
  },
  {
   "cell_type": "code",
   "execution_count": 129,
   "id": "6d3d52bc-a1f0-41bf-a8b0-849ed2dfeb43",
   "metadata": {},
   "outputs": [
    {
     "data": {
      "text/plain": [
       "'m'"
      ]
     },
     "execution_count": 129,
     "metadata": {},
     "output_type": "execute_result"
    }
   ],
   "source": [
    "my_str[5]"
   ]
  },
  {
   "cell_type": "code",
   "execution_count": 131,
   "id": "76fec3ac-5c75-40e2-955b-e5ce7bea233d",
   "metadata": {},
   "outputs": [
    {
     "data": {
      "text/plain": [
       "'t'"
      ]
     },
     "execution_count": 131,
     "metadata": {},
     "output_type": "execute_result"
    }
   ],
   "source": [
    "my_str[8]"
   ]
  },
  {
   "cell_type": "code",
   "execution_count": 133,
   "id": "44ff825c-3e39-4eee-b99d-4cfefc76457d",
   "metadata": {},
   "outputs": [
    {
     "data": {
      "text/plain": [
       "' '"
      ]
     },
     "execution_count": 133,
     "metadata": {},
     "output_type": "execute_result"
    }
   ],
   "source": [
    "my_str[7]"
   ]
  },
  {
   "cell_type": "code",
   "execution_count": 135,
   "id": "ea4eeb73-a137-43c2-892b-c5e413a3fc4f",
   "metadata": {},
   "outputs": [
    {
     "data": {
      "text/plain": [
       "'Welcome to the python'"
      ]
     },
     "execution_count": 135,
     "metadata": {},
     "output_type": "execute_result"
    }
   ],
   "source": [
    "my_str"
   ]
  },
  {
   "cell_type": "code",
   "execution_count": 137,
   "id": "fd4a8166-8df8-4724-b690-67c5e3584cd3",
   "metadata": {},
   "outputs": [
    {
     "data": {
      "text/plain": [
       "21"
      ]
     },
     "execution_count": 137,
     "metadata": {},
     "output_type": "execute_result"
    }
   ],
   "source": [
    "len(my_str)"
   ]
  },
  {
   "cell_type": "code",
   "execution_count": 139,
   "id": "8c13a945-c876-46fd-9f5f-47820727ed35",
   "metadata": {},
   "outputs": [
    {
     "data": {
      "text/plain": [
       "'t'"
      ]
     },
     "execution_count": 139,
     "metadata": {},
     "output_type": "execute_result"
    }
   ],
   "source": [
    "my_str[11]"
   ]
  },
  {
   "cell_type": "code",
   "execution_count": 141,
   "id": "cb0c7163-7d1f-498a-9e04-4a7bab2e44de",
   "metadata": {},
   "outputs": [
    {
     "data": {
      "text/plain": [
       "19"
      ]
     },
     "execution_count": 141,
     "metadata": {},
     "output_type": "execute_result"
    }
   ],
   "source": [
    "len(my_str)-2"
   ]
  },
  {
   "cell_type": "code",
   "execution_count": 143,
   "id": "c97479c6-07b8-4eb8-8faf-58aa383576e7",
   "metadata": {},
   "outputs": [
    {
     "data": {
      "text/plain": [
       "16"
      ]
     },
     "execution_count": 143,
     "metadata": {},
     "output_type": "execute_result"
    }
   ],
   "source": [
    "len(my_str)-5"
   ]
  },
  {
   "cell_type": "code",
   "execution_count": 145,
   "id": "a1b75737-8280-4b93-8931-7d19f99d2026",
   "metadata": {},
   "outputs": [
    {
     "data": {
      "text/plain": [
       "13"
      ]
     },
     "execution_count": 145,
     "metadata": {},
     "output_type": "execute_result"
    }
   ],
   "source": [
    "len(my_str)-8"
   ]
  },
  {
   "cell_type": "code",
   "execution_count": 147,
   "id": "ffde8fef-b9e8-4ab5-8f0c-ebc67310cab2",
   "metadata": {},
   "outputs": [
    {
     "data": {
      "text/plain": [
       "11"
      ]
     },
     "execution_count": 147,
     "metadata": {},
     "output_type": "execute_result"
    }
   ],
   "source": [
    "len(my_str)-10"
   ]
  },
  {
   "cell_type": "code",
   "execution_count": 149,
   "id": "f821d4ce-7613-40d7-95e8-7478bbd04724",
   "metadata": {},
   "outputs": [
    {
     "data": {
      "text/plain": [
       "0"
      ]
     },
     "execution_count": 149,
     "metadata": {},
     "output_type": "execute_result"
    }
   ],
   "source": [
    "len(my_str)-21"
   ]
  },
  {
   "cell_type": "code",
   "execution_count": 151,
   "id": "2adc6616-c71a-443b-8150-5ff6fab08bbf",
   "metadata": {},
   "outputs": [
    {
     "data": {
      "text/plain": [
       "'n'"
      ]
     },
     "execution_count": 151,
     "metadata": {},
     "output_type": "execute_result"
    }
   ],
   "source": [
    "my_str[20]"
   ]
  },
  {
   "cell_type": "code",
   "execution_count": 153,
   "id": "a5048764-6e6b-47ab-bf80-8d0d1116048b",
   "metadata": {},
   "outputs": [
    {
     "data": {
      "text/plain": [
       "'W'"
      ]
     },
     "execution_count": 153,
     "metadata": {},
     "output_type": "execute_result"
    }
   ],
   "source": [
    "my_str[-21]"
   ]
  },
  {
   "cell_type": "code",
   "execution_count": 155,
   "id": "98ee5b74-cbf5-407f-86c1-c90b9730dcab",
   "metadata": {},
   "outputs": [
    {
     "data": {
      "text/plain": [
       "'Welcome to the python'"
      ]
     },
     "execution_count": 155,
     "metadata": {},
     "output_type": "execute_result"
    }
   ],
   "source": [
    "my_str"
   ]
  },
  {
   "cell_type": "code",
   "execution_count": 157,
   "id": "c4a79f89-8315-489e-8d06-af0a5886abab",
   "metadata": {},
   "outputs": [
    {
     "data": {
      "text/plain": [
       "21"
      ]
     },
     "execution_count": 157,
     "metadata": {},
     "output_type": "execute_result"
    }
   ],
   "source": [
    "len(my_str)"
   ]
  },
  {
   "cell_type": "code",
   "execution_count": 159,
   "id": "7c609b79-7f51-4727-a999-e8497ce448fb",
   "metadata": {},
   "outputs": [
    {
     "data": {
      "text/plain": [
       "'o'"
      ]
     },
     "execution_count": 159,
     "metadata": {},
     "output_type": "execute_result"
    }
   ],
   "source": [
    "my_str[len(my_str)-2]"
   ]
  },
  {
   "cell_type": "code",
   "execution_count": 161,
   "id": "bcb19ac6-a2c7-482c-a0c6-b608f785e57d",
   "metadata": {},
   "outputs": [],
   "source": [
    "# negative indexing: it start from -1\n",
    "# my_str[len(my_str)-]"
   ]
  },
  {
   "cell_type": "code",
   "execution_count": 3,
   "id": "f00e32ab-053d-4b64-becd-03fe968d6c32",
   "metadata": {},
   "outputs": [],
   "source": [
    "my_str = \"Welcome to the Delhi\""
   ]
  },
  {
   "cell_type": "code",
   "execution_count": 5,
   "id": "e984eefa-782c-49ae-8efb-3db688573a15",
   "metadata": {},
   "outputs": [
    {
     "data": {
      "text/plain": [
       "'Welcome to the Delhi'"
      ]
     },
     "execution_count": 5,
     "metadata": {},
     "output_type": "execute_result"
    }
   ],
   "source": [
    "my_str"
   ]
  },
  {
   "cell_type": "code",
   "execution_count": 169,
   "id": "e11f7eff-b9e4-44be-b916-4dc1fd3782c1",
   "metadata": {},
   "outputs": [
    {
     "data": {
      "text/plain": [
       "'welcome to the world'"
      ]
     },
     "execution_count": 169,
     "metadata": {},
     "output_type": "execute_result"
    }
   ],
   "source": [
    "my_str"
   ]
  },
  {
   "cell_type": "code",
   "execution_count": 173,
   "id": "967dc80e-a1fc-47f6-aada-33fc63acb296",
   "metadata": {},
   "outputs": [
    {
     "data": {
      "text/plain": [
       "'i'"
      ]
     },
     "execution_count": 173,
     "metadata": {},
     "output_type": "execute_result"
    }
   ],
   "source": [
    "my_str[-1]"
   ]
  },
  {
   "cell_type": "code",
   "execution_count": 175,
   "id": "fb6160dd-2096-4b77-83da-c572cd259e4d",
   "metadata": {},
   "outputs": [
    {
     "data": {
      "text/plain": [
       "'h'"
      ]
     },
     "execution_count": 175,
     "metadata": {},
     "output_type": "execute_result"
    }
   ],
   "source": [
    "my_str[-2]"
   ]
  },
  {
   "cell_type": "code",
   "execution_count": 177,
   "id": "d3e72d9d-6586-4a00-9fb5-8f0caded7460",
   "metadata": {},
   "outputs": [
    {
     "data": {
      "text/plain": [
       "'l'"
      ]
     },
     "execution_count": 177,
     "metadata": {},
     "output_type": "execute_result"
    }
   ],
   "source": [
    "my_str[-3]"
   ]
  },
  {
   "cell_type": "code",
   "execution_count": 179,
   "id": "56d1721b-77e5-46ae-9018-216f535969cb",
   "metadata": {},
   "outputs": [
    {
     "data": {
      "text/plain": [
       "'m'"
      ]
     },
     "execution_count": 179,
     "metadata": {},
     "output_type": "execute_result"
    }
   ],
   "source": [
    "my_str[5]"
   ]
  },
  {
   "cell_type": "code",
   "execution_count": 181,
   "id": "3b68d46b-3832-4ab9-9ba1-b1082da8de87",
   "metadata": {},
   "outputs": [
    {
     "data": {
      "text/plain": [
       "'h'"
      ]
     },
     "execution_count": 181,
     "metadata": {},
     "output_type": "execute_result"
    }
   ],
   "source": [
    "my_str[-8]"
   ]
  },
  {
   "cell_type": "code",
   "execution_count": 183,
   "id": "ab99acee-056a-4cd0-a0cb-552fd81149aa",
   "metadata": {},
   "outputs": [
    {
     "data": {
      "text/plain": [
       "' '"
      ]
     },
     "execution_count": 183,
     "metadata": {},
     "output_type": "execute_result"
    }
   ],
   "source": [
    "my_str[-6]"
   ]
  },
  {
   "cell_type": "code",
   "execution_count": 185,
   "id": "22461bcd-9b79-4c7a-a109-f2ebbcc585df",
   "metadata": {},
   "outputs": [
    {
     "data": {
      "text/plain": [
       "'Welcome to the Delhi'"
      ]
     },
     "execution_count": 185,
     "metadata": {},
     "output_type": "execute_result"
    }
   ],
   "source": [
    "my_str"
   ]
  },
  {
   "cell_type": "code",
   "execution_count": 187,
   "id": "3db4bca8-bda2-4f5d-802a-764e678fb9aa",
   "metadata": {},
   "outputs": [
    {
     "data": {
      "text/plain": [
       "'D'"
      ]
     },
     "execution_count": 187,
     "metadata": {},
     "output_type": "execute_result"
    }
   ],
   "source": [
    "my_str[-5]"
   ]
  },
  {
   "cell_type": "code",
   "execution_count": 189,
   "id": "78936102-24c4-4b92-9142-0b184cfc13c6",
   "metadata": {},
   "outputs": [
    {
     "data": {
      "text/plain": [
       "'h'"
      ]
     },
     "execution_count": 189,
     "metadata": {},
     "output_type": "execute_result"
    }
   ],
   "source": [
    "my_str[-8]"
   ]
  },
  {
   "cell_type": "code",
   "execution_count": 191,
   "id": "c7928220-7d87-4610-94b7-5e3eae34a82e",
   "metadata": {},
   "outputs": [
    {
     "data": {
      "text/plain": [
       "' '"
      ]
     },
     "execution_count": 191,
     "metadata": {},
     "output_type": "execute_result"
    }
   ],
   "source": [
    "my_str[-6]"
   ]
  },
  {
   "cell_type": "code",
   "execution_count": 193,
   "id": "e8bb1b75-72e1-45bc-af35-26b3d4d10d82",
   "metadata": {},
   "outputs": [
    {
     "data": {
      "text/plain": [
       "'e'"
      ]
     },
     "execution_count": 193,
     "metadata": {},
     "output_type": "execute_result"
    }
   ],
   "source": [
    "my_str[-4]"
   ]
  },
  {
   "cell_type": "code",
   "execution_count": 195,
   "id": "fd14d7e9-c94a-4672-baa2-804714083630",
   "metadata": {},
   "outputs": [
    {
     "data": {
      "text/plain": [
       "'t'"
      ]
     },
     "execution_count": 195,
     "metadata": {},
     "output_type": "execute_result"
    }
   ],
   "source": [
    "my_str[8]"
   ]
  },
  {
   "cell_type": "code",
   "execution_count": 197,
   "id": "faf8bee3-331e-446b-b174-e8c056d56e85",
   "metadata": {},
   "outputs": [],
   "source": [
    "# slicable: accessing multiple at a time is known as slicable:"
   ]
  },
  {
   "cell_type": "code",
   "execution_count": 199,
   "id": "dbd98949-dfda-4c9a-8d63-83eceee3281a",
   "metadata": {},
   "outputs": [],
   "source": [
    "# my_str[string_index: ending_index+1"
   ]
  },
  {
   "cell_type": "code",
   "execution_count": 201,
   "id": "b1a863d6-81ff-4b93-8eac-8224d245a65e",
   "metadata": {},
   "outputs": [
    {
     "data": {
      "text/plain": [
       "'Welcome to the Delhi'"
      ]
     },
     "execution_count": 201,
     "metadata": {},
     "output_type": "execute_result"
    }
   ],
   "source": [
    "my_str"
   ]
  },
  {
   "cell_type": "code",
   "execution_count": 207,
   "id": "4fd6d4fb-fcc2-4cd1-8097-9d1257168b45",
   "metadata": {},
   "outputs": [
    {
     "data": {
      "text/plain": [
       "'We'"
      ]
     },
     "execution_count": 207,
     "metadata": {},
     "output_type": "execute_result"
    }
   ],
   "source": [
    "my_str[0:2]"
   ]
  },
  {
   "cell_type": "code",
   "execution_count": 209,
   "id": "62e07434-288c-48a4-b1d3-569024e2919a",
   "metadata": {},
   "outputs": [
    {
     "data": {
      "text/plain": [
       "'Welco'"
      ]
     },
     "execution_count": 209,
     "metadata": {},
     "output_type": "execute_result"
    }
   ],
   "source": [
    "my_str[0:5]"
   ]
  },
  {
   "cell_type": "code",
   "execution_count": 213,
   "id": "f4516598-b56c-4d8c-8aad-fb45abbec584",
   "metadata": {},
   "outputs": [
    {
     "data": {
      "text/plain": [
       "'Welcome '"
      ]
     },
     "execution_count": 213,
     "metadata": {},
     "output_type": "execute_result"
    }
   ],
   "source": [
    "my_str[0:8]"
   ]
  },
  {
   "cell_type": "code",
   "execution_count": 215,
   "id": "0957c3bc-5976-4324-ad8a-18cafa08400d",
   "metadata": {},
   "outputs": [
    {
     "data": {
      "text/plain": [
       "'Welcome t'"
      ]
     },
     "execution_count": 215,
     "metadata": {},
     "output_type": "execute_result"
    }
   ],
   "source": [
    "my_str[0:9]"
   ]
  },
  {
   "cell_type": "code",
   "execution_count": 217,
   "id": "89d18441-0496-4f64-bd36-f635148a5a4a",
   "metadata": {},
   "outputs": [
    {
     "data": {
      "text/plain": [
       "'Welcome to'"
      ]
     },
     "execution_count": 217,
     "metadata": {},
     "output_type": "execute_result"
    }
   ],
   "source": [
    "my_str[0:10]"
   ]
  },
  {
   "cell_type": "code",
   "execution_count": 223,
   "id": "bab9b80c-0e2d-4ce7-bf32-07866e8ba772",
   "metadata": {},
   "outputs": [
    {
     "data": {
      "text/plain": [
       "''"
      ]
     },
     "execution_count": 223,
     "metadata": {},
     "output_type": "execute_result"
    }
   ],
   "source": [
    "my_str[12:0]"
   ]
  },
  {
   "cell_type": "code",
   "execution_count": 225,
   "id": "81f8aca9-16e2-4df2-b153-1efc6be8e631",
   "metadata": {},
   "outputs": [
    {
     "data": {
      "text/plain": [
       "'Welcome to t'"
      ]
     },
     "execution_count": 225,
     "metadata": {},
     "output_type": "execute_result"
    }
   ],
   "source": [
    "my_str[0:12]"
   ]
  },
  {
   "cell_type": "code",
   "execution_count": 227,
   "id": "c99e60e8-34ab-48cc-8f4c-51a1f53cd06b",
   "metadata": {},
   "outputs": [
    {
     "data": {
      "text/plain": [
       "'Welcome to the '"
      ]
     },
     "execution_count": 227,
     "metadata": {},
     "output_type": "execute_result"
    }
   ],
   "source": [
    "my_str[0:15]"
   ]
  },
  {
   "cell_type": "code",
   "execution_count": 229,
   "id": "d8d8b561-815b-4969-8a57-01b291449f09",
   "metadata": {},
   "outputs": [
    {
     "data": {
      "text/plain": [
       "' t'"
      ]
     },
     "execution_count": 229,
     "metadata": {},
     "output_type": "execute_result"
    }
   ],
   "source": [
    "my_str[10:12]"
   ]
  },
  {
   "cell_type": "code",
   "execution_count": 231,
   "id": "c09bc9ae-91b1-460a-82f8-f0bdec5886c3",
   "metadata": {},
   "outputs": [
    {
     "data": {
      "text/plain": [
       "'Welcome to the Delhi'"
      ]
     },
     "execution_count": 231,
     "metadata": {},
     "output_type": "execute_result"
    }
   ],
   "source": [
    "my_str[0:20]"
   ]
  },
  {
   "cell_type": "code",
   "execution_count": 233,
   "id": "1bf6abfc-2893-481a-94da-4e47e9637d95",
   "metadata": {},
   "outputs": [
    {
     "data": {
      "text/plain": [
       "'Welcome to the Del'"
      ]
     },
     "execution_count": 233,
     "metadata": {},
     "output_type": "execute_result"
    }
   ],
   "source": [
    "my_str[0:18]"
   ]
  },
  {
   "cell_type": "code",
   "execution_count": 235,
   "id": "1e9dd32d-6080-4834-ac2b-811a5a8e463d",
   "metadata": {},
   "outputs": [
    {
     "data": {
      "text/plain": [
       "' the '"
      ]
     },
     "execution_count": 235,
     "metadata": {},
     "output_type": "execute_result"
    }
   ],
   "source": [
    "my_str[10:15]"
   ]
  },
  {
   "cell_type": "code",
   "execution_count": null,
   "id": "46e3fa04-8eca-43d0-b6cf-ca324f0798c6",
   "metadata": {},
   "outputs": [],
   "source": []
  },
  {
   "cell_type": "code",
   "execution_count": 238,
   "id": "d8f05edf-6c36-40d9-a679-89fe87513dc8",
   "metadata": {},
   "outputs": [
    {
     "data": {
      "text/plain": [
       "'Welcome to the Delhi'"
      ]
     },
     "execution_count": 238,
     "metadata": {},
     "output_type": "execute_result"
    }
   ],
   "source": [
    "my_str"
   ]
  },
  {
   "cell_type": "code",
   "execution_count": 240,
   "id": "b86cc518-52b7-47b3-a6ee-b79a19874192",
   "metadata": {},
   "outputs": [
    {
     "data": {
      "text/plain": [
       "'We'"
      ]
     },
     "execution_count": 240,
     "metadata": {},
     "output_type": "execute_result"
    }
   ],
   "source": [
    "my_str[0:2]"
   ]
  },
  {
   "cell_type": "code",
   "execution_count": 242,
   "id": "d74fec01-f411-4ac3-bf65-02c8d95d512c",
   "metadata": {},
   "outputs": [
    {
     "data": {
      "text/plain": [
       "'Welc'"
      ]
     },
     "execution_count": 242,
     "metadata": {},
     "output_type": "execute_result"
    }
   ],
   "source": [
    "my_str[0:4]"
   ]
  },
  {
   "cell_type": "code",
   "execution_count": 244,
   "id": "06f2301d-b049-441c-8985-38fab72ac5af",
   "metadata": {},
   "outputs": [
    {
     "data": {
      "text/plain": [
       "'Welcom'"
      ]
     },
     "execution_count": 244,
     "metadata": {},
     "output_type": "execute_result"
    }
   ],
   "source": [
    "my_str[0:6]"
   ]
  },
  {
   "cell_type": "code",
   "execution_count": 246,
   "id": "f0515ab3-ac1a-47b2-b05a-6f3827f6ba61",
   "metadata": {},
   "outputs": [
    {
     "data": {
      "text/plain": [
       "'Welcome '"
      ]
     },
     "execution_count": 246,
     "metadata": {},
     "output_type": "execute_result"
    }
   ],
   "source": [
    "my_str[0:8]"
   ]
  },
  {
   "cell_type": "code",
   "execution_count": 248,
   "id": "2b0a7ca0-1bfb-47b0-8128-58bd9fa0e996",
   "metadata": {},
   "outputs": [
    {
     "data": {
      "text/plain": [
       "'Welcome to'"
      ]
     },
     "execution_count": 248,
     "metadata": {},
     "output_type": "execute_result"
    }
   ],
   "source": [
    "my_str[0:10]"
   ]
  },
  {
   "cell_type": "code",
   "execution_count": 250,
   "id": "6595c98c-17c6-43d5-8df4-190b757d7ec5",
   "metadata": {},
   "outputs": [
    {
     "data": {
      "text/plain": [
       "'Welcome to t'"
      ]
     },
     "execution_count": 250,
     "metadata": {},
     "output_type": "execute_result"
    }
   ],
   "source": [
    "my_str[0:12]"
   ]
  },
  {
   "cell_type": "code",
   "execution_count": 252,
   "id": "0c32eb65-b957-4914-81ea-02ccbaafa05b",
   "metadata": {},
   "outputs": [
    {
     "data": {
      "text/plain": [
       "'Welcome to the'"
      ]
     },
     "execution_count": 252,
     "metadata": {},
     "output_type": "execute_result"
    }
   ],
   "source": [
    "my_str[0:14]"
   ]
  },
  {
   "cell_type": "code",
   "execution_count": 254,
   "id": "b84e3f2a-d8c0-4535-9799-13033badf7c1",
   "metadata": {},
   "outputs": [
    {
     "data": {
      "text/plain": [
       "'Welcome to the D'"
      ]
     },
     "execution_count": 254,
     "metadata": {},
     "output_type": "execute_result"
    }
   ],
   "source": [
    "my_str[0:16]"
   ]
  },
  {
   "cell_type": "code",
   "execution_count": 256,
   "id": "c8907b35-4a4e-41a7-b576-11af9a3fc1e3",
   "metadata": {},
   "outputs": [
    {
     "data": {
      "text/plain": [
       "'Welcome to the Del'"
      ]
     },
     "execution_count": 256,
     "metadata": {},
     "output_type": "execute_result"
    }
   ],
   "source": [
    "my_str[0:18]"
   ]
  },
  {
   "cell_type": "code",
   "execution_count": 258,
   "id": "e8c95615-0958-4f10-8ace-609f54906253",
   "metadata": {},
   "outputs": [
    {
     "data": {
      "text/plain": [
       "'Welcome to the Delhi'"
      ]
     },
     "execution_count": 258,
     "metadata": {},
     "output_type": "execute_result"
    }
   ],
   "source": [
    "my_str[0:20]"
   ]
  },
  {
   "cell_type": "code",
   "execution_count": null,
   "id": "987f5172-86a6-4815-a33f-48857a40af9e",
   "metadata": {},
   "outputs": [],
   "source": []
  },
  {
   "cell_type": "code",
   "execution_count": 261,
   "id": "9f21c22f-b2bd-4961-817c-c264a16fe5cd",
   "metadata": {},
   "outputs": [
    {
     "data": {
      "text/plain": [
       "'Welcome to the Delhi'"
      ]
     },
     "execution_count": 261,
     "metadata": {},
     "output_type": "execute_result"
    }
   ],
   "source": [
    "my_str"
   ]
  },
  {
   "cell_type": "code",
   "execution_count": 263,
   "id": "3a5fd288-3987-4c7c-bbed-2186a59044c3",
   "metadata": {},
   "outputs": [
    {
     "data": {
      "text/plain": [
       "'Welcome'"
      ]
     },
     "execution_count": 263,
     "metadata": {},
     "output_type": "execute_result"
    }
   ],
   "source": [
    "my_str[0:7]"
   ]
  },
  {
   "cell_type": "code",
   "execution_count": 265,
   "id": "1ddabe36-d4ca-4f3d-8e41-470b224aec18",
   "metadata": {},
   "outputs": [
    {
     "data": {
      "text/plain": [
       "'Welcome to'"
      ]
     },
     "execution_count": 265,
     "metadata": {},
     "output_type": "execute_result"
    }
   ],
   "source": [
    "my_str[0:10]"
   ]
  },
  {
   "cell_type": "code",
   "execution_count": 269,
   "id": "3d99cbe5-b969-412a-8442-e93fbf104f60",
   "metadata": {},
   "outputs": [
    {
     "data": {
      "text/plain": [
       "'come'"
      ]
     },
     "execution_count": 269,
     "metadata": {},
     "output_type": "execute_result"
    }
   ],
   "source": [
    "my_str[3:7]"
   ]
  },
  {
   "cell_type": "code",
   "execution_count": 271,
   "id": "c1a50793-b356-499d-b95d-4ef39b39702b",
   "metadata": {},
   "outputs": [
    {
     "data": {
      "text/plain": [
       "'o'"
      ]
     },
     "execution_count": 271,
     "metadata": {},
     "output_type": "execute_result"
    }
   ],
   "source": [
    "my_str[4:5]"
   ]
  },
  {
   "cell_type": "code",
   "execution_count": 273,
   "id": "a8bb1280-2399-4c00-9d8e-4bb781b3a29c",
   "metadata": {},
   "outputs": [
    {
     "data": {
      "text/plain": [
       "'o'"
      ]
     },
     "execution_count": 273,
     "metadata": {},
     "output_type": "execute_result"
    }
   ],
   "source": [
    "my_str[4:5]"
   ]
  },
  {
   "cell_type": "code",
   "execution_count": 279,
   "id": "96fb7746-f479-473f-9bc7-65f426701266",
   "metadata": {},
   "outputs": [
    {
     "data": {
      "text/plain": [
       "' '"
      ]
     },
     "execution_count": 279,
     "metadata": {},
     "output_type": "execute_result"
    }
   ],
   "source": [
    "my_str[7:8]"
   ]
  },
  {
   "cell_type": "code",
   "execution_count": 281,
   "id": "23236bc9-9a5a-404f-9c9c-1269c718f750",
   "metadata": {},
   "outputs": [
    {
     "data": {
      "text/plain": [
       "'lco'"
      ]
     },
     "execution_count": 281,
     "metadata": {},
     "output_type": "execute_result"
    }
   ],
   "source": [
    "my_str[2:5]"
   ]
  },
  {
   "cell_type": "code",
   "execution_count": 283,
   "id": "ad69e7ba-2b18-4273-a848-f72f9861430c",
   "metadata": {},
   "outputs": [
    {
     "data": {
      "text/plain": [
       "'Delhi'"
      ]
     },
     "execution_count": 283,
     "metadata": {},
     "output_type": "execute_result"
    }
   ],
   "source": [
    "my_str[15:20]"
   ]
  },
  {
   "cell_type": "code",
   "execution_count": 37,
   "id": "fb798878-5327-4ec6-9420-ac45c850a07c",
   "metadata": {},
   "outputs": [
    {
     "ename": "NameError",
     "evalue": "name 'my_str' is not defined",
     "output_type": "error",
     "traceback": [
      "\u001b[1;31m---------------------------------------------------------------------------\u001b[0m",
      "\u001b[1;31mNameError\u001b[0m                                 Traceback (most recent call last)",
      "Cell \u001b[1;32mIn[37], line 1\u001b[0m\n\u001b[1;32m----> 1\u001b[0m my_str\n",
      "\u001b[1;31mNameError\u001b[0m: name 'my_str' is not defined"
     ]
    }
   ],
   "source": [
    "my_str"
   ]
  },
  {
   "cell_type": "code",
   "execution_count": null,
   "id": "02d66ede-5078-434d-aa65-28dfa35a5abe",
   "metadata": {},
   "outputs": [],
   "source": []
  },
  {
   "cell_type": "code",
   "execution_count": null,
   "id": "2390f3cd-7bf8-4a31-afd7-cf3d28b5ef30",
   "metadata": {},
   "outputs": [],
   "source": []
  },
  {
   "cell_type": "code",
   "execution_count": 11,
   "id": "8522b630-9baa-4fbd-b365-56579cb4c3df",
   "metadata": {},
   "outputs": [
    {
     "data": {
      "text/plain": [
       "[1, 2, 3, 4, 5, 6, 7, 8, 9, 10, 11, 12, 13, 14, 15, 16, 17, 18, 19, 20, 21]"
      ]
     },
     "execution_count": 11,
     "metadata": {},
     "output_type": "execute_result"
    }
   ],
   "source": [
    "list(range(1,22))"
   ]
  },
  {
   "cell_type": "code",
   "execution_count": 13,
   "id": "d4beed50-0095-4d73-8904-24ec64373494",
   "metadata": {},
   "outputs": [
    {
     "data": {
      "text/plain": [
       "[1, 2, 3, 4, 5, 6, 7, 8, 9, 10, 11, 12, 13, 14, 15, 16, 17, 18, 19, 20]"
      ]
     },
     "execution_count": 13,
     "metadata": {},
     "output_type": "execute_result"
    }
   ],
   "source": [
    "list(range(1,21))"
   ]
  },
  {
   "cell_type": "code",
   "execution_count": 19,
   "id": "9825f2c2-25be-4091-924a-c9e48919a58b",
   "metadata": {},
   "outputs": [
    {
     "data": {
      "text/plain": [
       "[15, 14, 13, 12, 11, 10, 9, 8, 7, 6, 5, 4, 3, 2, 1]"
      ]
     },
     "execution_count": 19,
     "metadata": {},
     "output_type": "execute_result"
    }
   ],
   "source": [
    "list(range(15,0,-1))"
   ]
  },
  {
   "cell_type": "code",
   "execution_count": 21,
   "id": "06d075b7-0c66-4abb-98cf-1c894d8dd445",
   "metadata": {},
   "outputs": [
    {
     "data": {
      "text/plain": [
       "[20, 19, 18, 17, 16, 15, 14, 13, 12, 11, 10, 9, 8, 7, 6, 5, 4, 3, 2, 1]"
      ]
     },
     "execution_count": 21,
     "metadata": {},
     "output_type": "execute_result"
    }
   ],
   "source": [
    "list(range(20,0,-1))"
   ]
  },
  {
   "cell_type": "code",
   "execution_count": 23,
   "id": "9d07658c-0b14-4762-8884-570a94ffda4d",
   "metadata": {},
   "outputs": [
    {
     "data": {
      "text/plain": [
       "[10, 9, 8, 7, 6, 5, 4, 3, 2, 1]"
      ]
     },
     "execution_count": 23,
     "metadata": {},
     "output_type": "execute_result"
    }
   ],
   "source": [
    "list(range(10,0,-1))"
   ]
  },
  {
   "cell_type": "code",
   "execution_count": 25,
   "id": "8ddd60e1-418d-420e-986b-e19217262cb9",
   "metadata": {},
   "outputs": [
    {
     "data": {
      "text/plain": [
       "[1, 2, 3, 4, 5, 6, 7, 8, 9, 10, 11, 12, 13, 14]"
      ]
     },
     "execution_count": 25,
     "metadata": {},
     "output_type": "execute_result"
    }
   ],
   "source": [
    "list(range(1,15))"
   ]
  },
  {
   "cell_type": "code",
   "execution_count": 27,
   "id": "4744886b-332b-4642-b636-81182a7efc3a",
   "metadata": {},
   "outputs": [
    {
     "data": {
      "text/plain": [
       "[1, 2, 3, 4, 5, 6, 7, 8, 9, 10, 11, 12, 13, 14, 15, 16, 17, 18, 19]"
      ]
     },
     "execution_count": 27,
     "metadata": {},
     "output_type": "execute_result"
    }
   ],
   "source": [
    "list(range(1,20))"
   ]
  },
  {
   "cell_type": "code",
   "execution_count": 29,
   "id": "46d15845-90e8-43d8-a93f-fdb3e21055f4",
   "metadata": {},
   "outputs": [
    {
     "data": {
      "text/plain": [
       "[1, 2, 3, 4, 5, 6, 7, 8, 9]"
      ]
     },
     "execution_count": 29,
     "metadata": {},
     "output_type": "execute_result"
    }
   ],
   "source": [
    "list(range(1,10))"
   ]
  },
  {
   "cell_type": "code",
   "execution_count": 31,
   "id": "67b46a6a-d553-4879-9dc2-fb824a1ee840",
   "metadata": {},
   "outputs": [
    {
     "data": {
      "text/plain": [
       "[-1, 0, 1, 2, 3, 4, 5, 6, 7, 8, 9, 10, 11, 12, 13, 14, 15, 16, 17, 18, 19]"
      ]
     },
     "execution_count": 31,
     "metadata": {},
     "output_type": "execute_result"
    }
   ],
   "source": [
    "list(range(-1,20))"
   ]
  },
  {
   "cell_type": "code",
   "execution_count": 33,
   "id": "f6d3f040-0b2e-44eb-91aa-a50d7a3db607",
   "metadata": {},
   "outputs": [
    {
     "data": {
      "text/plain": [
       "[-1, 0, 1, 2, 3, 4, 5, 6, 7, 8, 9, 10, 11, 12, 13, 14]"
      ]
     },
     "execution_count": 33,
     "metadata": {},
     "output_type": "execute_result"
    }
   ],
   "source": [
    "list(range(-1,15))"
   ]
  },
  {
   "cell_type": "code",
   "execution_count": 35,
   "id": "54a4dd14-edaa-419c-9c36-cc52f22ccf5e",
   "metadata": {},
   "outputs": [
    {
     "data": {
      "text/plain": [
       "[-2, -1, 0, 1, 2, 3, 4, 5, 6, 7, 8, 9, 10, 11, 12, 13, 14, 15, 16, 17, 18, 19]"
      ]
     },
     "execution_count": 35,
     "metadata": {},
     "output_type": "execute_result"
    }
   ],
   "source": [
    "list(range(-2,20))"
   ]
  },
  {
   "cell_type": "code",
   "execution_count": 37,
   "id": "c3d3b113-576f-4021-81d7-3375901b537b",
   "metadata": {},
   "outputs": [
    {
     "data": {
      "text/plain": [
       "[1, 2, 3, 4, 5, 6, 7, 8, 9, 10]"
      ]
     },
     "execution_count": 37,
     "metadata": {},
     "output_type": "execute_result"
    }
   ],
   "source": [
    "list(range(1,11))"
   ]
  },
  {
   "cell_type": "code",
   "execution_count": 43,
   "id": "b9a69255-370e-467d-8d76-60cb560b3881",
   "metadata": {},
   "outputs": [
    {
     "data": {
      "text/plain": [
       "[0, 1, 2, 3, 4, 5, 6, 7, 8, 9, 10, 11, 12, 13, 14]"
      ]
     },
     "execution_count": 43,
     "metadata": {},
     "output_type": "execute_result"
    }
   ],
   "source": [
    "list(range(0,15,))"
   ]
  },
  {
   "cell_type": "code",
   "execution_count": 45,
   "id": "67410ec2-58d8-4904-b040-99c3f1532fe0",
   "metadata": {},
   "outputs": [
    {
     "data": {
      "text/plain": [
       "[1, 2, 3, 4, 5, 6, 7, 8, 9, 10, 11]"
      ]
     },
     "execution_count": 45,
     "metadata": {},
     "output_type": "execute_result"
    }
   ],
   "source": [
    "list(range(1,12))"
   ]
  },
  {
   "cell_type": "code",
   "execution_count": 49,
   "id": "36a9e6b8-5e30-4d65-98c2-5c8a62eff2d2",
   "metadata": {},
   "outputs": [
    {
     "data": {
      "text/plain": [
       "[1, 2, 3, 4, 5, 6, 7, 8, 9, 10, 11, 12, 13, 14, 15, 16, 17, 18, 19, 20, 21]"
      ]
     },
     "execution_count": 49,
     "metadata": {},
     "output_type": "execute_result"
    }
   ],
   "source": [
    "list(range(1,22))"
   ]
  },
  {
   "cell_type": "code",
   "execution_count": 51,
   "id": "d436ef51-db7c-4529-8ecd-fc2aa776ec17",
   "metadata": {},
   "outputs": [
    {
     "data": {
      "text/plain": [
       "[]"
      ]
     },
     "execution_count": 51,
     "metadata": {},
     "output_type": "execute_result"
    }
   ],
   "source": [
    "list(range(0,15,-1))"
   ]
  },
  {
   "cell_type": "code",
   "execution_count": 53,
   "id": "2f1726ab-7595-4acc-adde-b6efc787a1cd",
   "metadata": {},
   "outputs": [
    {
     "data": {
      "text/plain": [
       "[2, 3, 4, 5, 6, 7, 8, 9, 10, 11, 12, 13, 14]"
      ]
     },
     "execution_count": 53,
     "metadata": {},
     "output_type": "execute_result"
    }
   ],
   "source": [
    "list(range(2,15))"
   ]
  },
  {
   "cell_type": "code",
   "execution_count": 57,
   "id": "87782995-5f10-496d-b7f4-04efb12b9187",
   "metadata": {},
   "outputs": [
    {
     "data": {
      "text/plain": [
       "[3, 4, 5, 6, 7, 8, 9, 10, 11, 12, 13, 14, 15, 16, 17, 18, 19, 20, 21]"
      ]
     },
     "execution_count": 57,
     "metadata": {},
     "output_type": "execute_result"
    }
   ],
   "source": [
    "list(range(3,22))"
   ]
  },
  {
   "cell_type": "code",
   "execution_count": 59,
   "id": "b3eb5d41-f1db-45d4-83f3-c884375e87be",
   "metadata": {},
   "outputs": [
    {
     "data": {
      "text/plain": [
       "[3, 4, 5, 6, 7, 8, 9, 10, 11, 12, 13, 14, 15, 16, 17, 18, 19]"
      ]
     },
     "execution_count": 59,
     "metadata": {},
     "output_type": "execute_result"
    }
   ],
   "source": [
    "list(range(3,20))"
   ]
  },
  {
   "cell_type": "code",
   "execution_count": 61,
   "id": "475cfd1d-d7c5-43bf-86c9-c762bd7a48d6",
   "metadata": {},
   "outputs": [
    {
     "data": {
      "text/plain": [
       "[0, 2, 4, 6, 8, 10, 12, 14, 16, 18]"
      ]
     },
     "execution_count": 61,
     "metadata": {},
     "output_type": "execute_result"
    }
   ],
   "source": [
    "list(range(0,20,2))"
   ]
  },
  {
   "cell_type": "code",
   "execution_count": 63,
   "id": "f7d2a431-06e7-4dfb-bb21-12b8f8bc9119",
   "metadata": {},
   "outputs": [
    {
     "data": {
      "text/plain": [
       "[0, 1, 2, 3, 4, 5, 6, 7, 8, 9, 10, 11, 12, 13, 14, 15, 16, 17, 18, 19, 20, 21]"
      ]
     },
     "execution_count": 63,
     "metadata": {},
     "output_type": "execute_result"
    }
   ],
   "source": [
    "list(range(0,22,1))"
   ]
  },
  {
   "cell_type": "code",
   "execution_count": 65,
   "id": "61495e6c-973f-4ac0-a5ad-aa605b61ce38",
   "metadata": {},
   "outputs": [
    {
     "data": {
      "text/plain": [
       "[0, 1, 2, 3, 4, 5, 6, 7, 8, 9, 10, 11, 12, 13, 14, 15, 16, 17, 18, 19, 20, 21]"
      ]
     },
     "execution_count": 65,
     "metadata": {},
     "output_type": "execute_result"
    }
   ],
   "source": [
    "list(range(0,22,1))"
   ]
  },
  {
   "cell_type": "code",
   "execution_count": 67,
   "id": "3b92d3df-8b7c-425a-b19a-cd312504cea9",
   "metadata": {},
   "outputs": [
    {
     "data": {
      "text/plain": [
       "[0, 1, 2, 3, 4, 5, 6, 7, 8, 9, 10, 11, 12, 13, 14]"
      ]
     },
     "execution_count": 67,
     "metadata": {},
     "output_type": "execute_result"
    }
   ],
   "source": [
    "list(range(0,15,1))"
   ]
  },
  {
   "cell_type": "code",
   "execution_count": 69,
   "id": "5980b96a-4989-49ad-80ca-03b396a7a927",
   "metadata": {},
   "outputs": [
    {
     "data": {
      "text/plain": [
       "[4, 6, 8, 10, 12, 14, 16, 18, 20, 22, 24, 26, 28, 30, 32, 34, 36, 38]"
      ]
     },
     "execution_count": 69,
     "metadata": {},
     "output_type": "execute_result"
    }
   ],
   "source": [
    "list(range(4,40,2))"
   ]
  },
  {
   "cell_type": "code",
   "execution_count": 71,
   "id": "8958b376-b7ca-4cbc-8cf0-936a9ae8c363",
   "metadata": {},
   "outputs": [
    {
     "data": {
      "text/plain": [
       "[5, 9, 13, 17, 21, 25, 29, 33, 37, 41]"
      ]
     },
     "execution_count": 71,
     "metadata": {},
     "output_type": "execute_result"
    }
   ],
   "source": [
    "list(range(5,45,4))"
   ]
  },
  {
   "cell_type": "code",
   "execution_count": 73,
   "id": "cc42bd0a-a68d-4fe4-8bad-088cf8484aaa",
   "metadata": {},
   "outputs": [
    {
     "data": {
      "text/plain": [
       "[5, 10, 15, 20, 25, 30, 35, 40, 45]"
      ]
     },
     "execution_count": 73,
     "metadata": {},
     "output_type": "execute_result"
    }
   ],
   "source": [
    "list(range(5,50,5))"
   ]
  },
  {
   "cell_type": "code",
   "execution_count": 75,
   "id": "f4498c08-e50c-4fe3-878d-0c2f61821095",
   "metadata": {},
   "outputs": [
    {
     "data": {
      "text/plain": [
       "[6, 8, 10, 12, 14, 16, 18, 20, 22, 24, 26, 28, 30, 32, 34, 36, 38, 40, 42, 44]"
      ]
     },
     "execution_count": 75,
     "metadata": {},
     "output_type": "execute_result"
    }
   ],
   "source": [
    "list(range(6,45,2))"
   ]
  },
  {
   "cell_type": "code",
   "execution_count": 77,
   "id": "7a70af67-9f1f-402b-8e74-92d1f635dab0",
   "metadata": {},
   "outputs": [
    {
     "data": {
      "text/plain": [
       "[4, 6, 8, 10, 12, 14, 16, 18, 20, 22, 24, 26, 28, 30, 32, 34, 36, 38]"
      ]
     },
     "execution_count": 77,
     "metadata": {},
     "output_type": "execute_result"
    }
   ],
   "source": [
    "list(range(4,40,2))"
   ]
  },
  {
   "cell_type": "code",
   "execution_count": 79,
   "id": "e3234c78-1d2f-4431-bb38-fc4c67d69a86",
   "metadata": {},
   "outputs": [
    {
     "data": {
      "text/plain": [
       "[4, 9, 14, 19, 24, 29, 34, 39]"
      ]
     },
     "execution_count": 79,
     "metadata": {},
     "output_type": "execute_result"
    }
   ],
   "source": [
    "list(range(4,40,5))"
   ]
  },
  {
   "cell_type": "code",
   "execution_count": 81,
   "id": "f2774742-6944-4850-b8ee-4b1821f8fe5a",
   "metadata": {},
   "outputs": [
    {
     "data": {
      "text/plain": [
       "[4, 12, 20, 28, 36, 44]"
      ]
     },
     "execution_count": 81,
     "metadata": {},
     "output_type": "execute_result"
    }
   ],
   "source": [
    "list(range(4,45,8))"
   ]
  },
  {
   "cell_type": "code",
   "execution_count": 83,
   "id": "88fb29ff-8c1a-4639-88e2-040967c09235",
   "metadata": {},
   "outputs": [
    {
     "data": {
      "text/plain": [
       "[4, 14, 24, 34, 44]"
      ]
     },
     "execution_count": 83,
     "metadata": {},
     "output_type": "execute_result"
    }
   ],
   "source": [
    "list(range(4,50,10))"
   ]
  },
  {
   "cell_type": "code",
   "execution_count": 85,
   "id": "2cc0610f-fb78-467e-8605-b062897abc59",
   "metadata": {},
   "outputs": [
    {
     "data": {
      "text/plain": [
       "[4, 9, 14, 19, 24, 29, 34, 39, 44, 49]"
      ]
     },
     "execution_count": 85,
     "metadata": {},
     "output_type": "execute_result"
    }
   ],
   "source": [
    "list(range(4,50,5))"
   ]
  },
  {
   "cell_type": "code",
   "execution_count": 87,
   "id": "5f583319-4481-4810-b6dc-5caa1a295433",
   "metadata": {},
   "outputs": [
    {
     "data": {
      "text/plain": [
       "[4, 14, 24, 34, 44, 54]"
      ]
     },
     "execution_count": 87,
     "metadata": {},
     "output_type": "execute_result"
    }
   ],
   "source": [
    "list(range(4,58,10))"
   ]
  },
  {
   "cell_type": "code",
   "execution_count": 89,
   "id": "d87696b5-c956-47fa-8815-321b1e20be26",
   "metadata": {},
   "outputs": [
    {
     "data": {
      "text/plain": [
       "[5, 9, 13, 17, 21, 25, 29, 33, 37, 41, 45, 49, 53, 57]"
      ]
     },
     "execution_count": 89,
     "metadata": {},
     "output_type": "execute_result"
    }
   ],
   "source": [
    "list(range(5,58,4))"
   ]
  },
  {
   "cell_type": "code",
   "execution_count": 91,
   "id": "90f57630-2093-454c-8b0f-d0924c17c7e9",
   "metadata": {},
   "outputs": [
    {
     "data": {
      "text/plain": [
       "[8, 11, 14, 17, 20, 23, 26, 29]"
      ]
     },
     "execution_count": 91,
     "metadata": {},
     "output_type": "execute_result"
    }
   ],
   "source": [
    "list(range(8,30,3))"
   ]
  },
  {
   "cell_type": "code",
   "execution_count": 93,
   "id": "b78cc740-a536-4cad-8c7c-88069836ef30",
   "metadata": {},
   "outputs": [
    {
     "data": {
      "text/plain": [
       "[8, 13, 18, 23, 28, 33, 38, 43, 48]"
      ]
     },
     "execution_count": 93,
     "metadata": {},
     "output_type": "execute_result"
    }
   ],
   "source": [
    "list(range(8,50,5))"
   ]
  },
  {
   "cell_type": "code",
   "execution_count": 95,
   "id": "da8f0173-3209-4686-8370-1795a4eb72f4",
   "metadata": {},
   "outputs": [
    {
     "data": {
      "text/plain": [
       "[5, 8, 11, 14, 17]"
      ]
     },
     "execution_count": 95,
     "metadata": {},
     "output_type": "execute_result"
    }
   ],
   "source": [
    "list(range(5,20,3))"
   ]
  },
  {
   "cell_type": "code",
   "execution_count": 1,
   "id": "07cc291b-1569-4d55-8a5d-d3febcec4747",
   "metadata": {},
   "outputs": [
    {
     "data": {
      "text/plain": [
       "[0, 4, 8, 12, 16, 20, 24, 28]"
      ]
     },
     "execution_count": 1,
     "metadata": {},
     "output_type": "execute_result"
    }
   ],
   "source": [
    "list(range(0,30,4))"
   ]
  },
  {
   "cell_type": "code",
   "execution_count": 3,
   "id": "93a180a9-2a11-4ff7-8c8a-b0262d9abab7",
   "metadata": {},
   "outputs": [
    {
     "data": {
      "text/plain": [
       "[0, 5, 10, 15, 20]"
      ]
     },
     "execution_count": 3,
     "metadata": {},
     "output_type": "execute_result"
    }
   ],
   "source": [
    "list(range(0,22,5))"
   ]
  },
  {
   "cell_type": "code",
   "execution_count": 5,
   "id": "91d05887-4132-49b3-ad80-4f74c178097c",
   "metadata": {},
   "outputs": [
    {
     "data": {
      "text/plain": [
       "[1, 3, 5, 7, 9, 11, 13, 15, 17, 19, 21]"
      ]
     },
     "execution_count": 5,
     "metadata": {},
     "output_type": "execute_result"
    }
   ],
   "source": [
    "list(range(1,22,2))"
   ]
  },
  {
   "cell_type": "code",
   "execution_count": 7,
   "id": "9d9ee24e-f011-4e9a-93d4-22492bbc7403",
   "metadata": {},
   "outputs": [
    {
     "data": {
      "text/plain": [
       "[2, 5, 8, 11, 14, 17, 20]"
      ]
     },
     "execution_count": 7,
     "metadata": {},
     "output_type": "execute_result"
    }
   ],
   "source": [
    "list(range(2,22,3))"
   ]
  },
  {
   "cell_type": "code",
   "execution_count": 9,
   "id": "10c4347c-8b9a-496f-986e-05c2b333b507",
   "metadata": {},
   "outputs": [
    {
     "data": {
      "text/plain": [
       "[2, 6, 10, 14, 18]"
      ]
     },
     "execution_count": 9,
     "metadata": {},
     "output_type": "execute_result"
    }
   ],
   "source": [
    "list(range(2,22,4))"
   ]
  },
  {
   "cell_type": "code",
   "execution_count": 11,
   "id": "4a057994-dad8-489b-9704-bd3e352460fe",
   "metadata": {},
   "outputs": [
    {
     "data": {
      "text/plain": [
       "[0, 5, 10, 15, 20]"
      ]
     },
     "execution_count": 11,
     "metadata": {},
     "output_type": "execute_result"
    }
   ],
   "source": [
    "list(range(0,22,5))"
   ]
  },
  {
   "cell_type": "code",
   "execution_count": 15,
   "id": "cacb4d7a-8ad9-4d68-9350-524be07cbead",
   "metadata": {},
   "outputs": [
    {
     "ename": "SyntaxError",
     "evalue": "incomplete input (2851466031.py, line 1)",
     "output_type": "error",
     "traceback": [
      "\u001b[1;36m  Cell \u001b[1;32mIn[15], line 1\u001b[1;36m\u001b[0m\n\u001b[1;33m    list(range(0,2,22)\u001b[0m\n\u001b[1;37m                      ^\u001b[0m\n\u001b[1;31mSyntaxError\u001b[0m\u001b[1;31m:\u001b[0m incomplete input\n"
     ]
    }
   ],
   "source": [
    "list(range(0,2,22)"
   ]
  },
  {
   "cell_type": "code",
   "execution_count": 17,
   "id": "fff02555-595b-4d0e-9a47-60a9b48a3195",
   "metadata": {},
   "outputs": [
    {
     "data": {
      "text/plain": [
       "[0,\n",
       " -1,\n",
       " -2,\n",
       " -3,\n",
       " -4,\n",
       " -5,\n",
       " -6,\n",
       " -7,\n",
       " -8,\n",
       " -9,\n",
       " -10,\n",
       " -11,\n",
       " -12,\n",
       " -13,\n",
       " -14,\n",
       " -15,\n",
       " -16,\n",
       " -17,\n",
       " -18,\n",
       " -19]"
      ]
     },
     "execution_count": 17,
     "metadata": {},
     "output_type": "execute_result"
    }
   ],
   "source": [
    "list(range(0,-20,-1))"
   ]
  },
  {
   "cell_type": "code",
   "execution_count": 19,
   "id": "d414c362-a7c5-4760-843c-099d80e9e7ed",
   "metadata": {},
   "outputs": [
    {
     "data": {
      "text/plain": [
       "[0, -2, -4, -6, -8, -10, -12, -14, -16, -18]"
      ]
     },
     "execution_count": 19,
     "metadata": {},
     "output_type": "execute_result"
    }
   ],
   "source": [
    "list(range(0,-20,-2))"
   ]
  },
  {
   "cell_type": "code",
   "execution_count": 21,
   "id": "b613f476-0f0a-4442-a872-99651b7c41f7",
   "metadata": {},
   "outputs": [
    {
     "data": {
      "text/plain": [
       "[0, 2, 4, 6, 8, 10, 12, 14, 16, 18, 20, 22, 24, 26, 28]"
      ]
     },
     "execution_count": 21,
     "metadata": {},
     "output_type": "execute_result"
    }
   ],
   "source": [
    "list(range(0,30,+2))"
   ]
  },
  {
   "cell_type": "code",
   "execution_count": 25,
   "id": "0369295c-4f01-4c21-b735-3da1aa73eb48",
   "metadata": {},
   "outputs": [
    {
     "data": {
      "text/plain": [
       "[0, 2, 4, 6, 8, 10, 12, 14, 16, 18, 20, 22, 24, 26, 28]"
      ]
     },
     "execution_count": 25,
     "metadata": {},
     "output_type": "execute_result"
    }
   ],
   "source": [
    "list(range(0,30,+2))"
   ]
  },
  {
   "cell_type": "code",
   "execution_count": 31,
   "id": "de2e3024-d2d7-41e1-9434-d3c69512c6ba",
   "metadata": {},
   "outputs": [
    {
     "data": {
      "text/plain": [
       "[]"
      ]
     },
     "execution_count": 31,
     "metadata": {},
     "output_type": "execute_result"
    }
   ],
   "source": [
    "list(range(0,30,-2))"
   ]
  },
  {
   "cell_type": "code",
   "execution_count": 33,
   "id": "e696781b-7e47-4419-be07-73eea9942712",
   "metadata": {},
   "outputs": [
    {
     "data": {
      "text/plain": [
       "[0, 2, 4, 6, 8, 10, 12, 14, 16, 18, 20, 22, 24, 26, 28]"
      ]
     },
     "execution_count": 33,
     "metadata": {},
     "output_type": "execute_result"
    }
   ],
   "source": [
    "list(range(0,30,+2))"
   ]
  },
  {
   "cell_type": "code",
   "execution_count": 45,
   "id": "3a75427f-9cd1-4950-9174-1fb3fca42575",
   "metadata": {},
   "outputs": [
    {
     "data": {
      "text/plain": [
       "'leD eh'"
      ]
     },
     "execution_count": 45,
     "metadata": {},
     "output_type": "execute_result"
    }
   ],
   "source": [
    "my_str[-3:11:-1]"
   ]
  },
  {
   "cell_type": "code",
   "execution_count": 47,
   "id": "5c8577c5-b0c0-4f92-a65e-4986b193d1cd",
   "metadata": {},
   "outputs": [
    {
     "data": {
      "text/plain": [
       "'leD eh'"
      ]
     },
     "execution_count": 47,
     "metadata": {},
     "output_type": "execute_result"
    }
   ],
   "source": [
    "my_str[-3:11:-1]"
   ]
  },
  {
   "cell_type": "code",
   "execution_count": 49,
   "id": "7ad8abf7-1ec5-4d66-8557-c0de0d1817b9",
   "metadata": {},
   "outputs": [
    {
     "data": {
      "text/plain": [
       "'Welcome to the Delhi'"
      ]
     },
     "execution_count": 49,
     "metadata": {},
     "output_type": "execute_result"
    }
   ],
   "source": [
    "my_str"
   ]
  },
  {
   "cell_type": "code",
   "execution_count": 51,
   "id": "6fcc490f-6f61-45bd-bc40-4b405eee66df",
   "metadata": {},
   "outputs": [
    {
     "data": {
      "text/plain": [
       "'Welcome to the Delhi'"
      ]
     },
     "execution_count": 51,
     "metadata": {},
     "output_type": "execute_result"
    }
   ],
   "source": [
    "my_str"
   ]
  },
  {
   "cell_type": "code",
   "execution_count": 53,
   "id": "68140087-5304-4970-9402-7d2dc6c4e6e2",
   "metadata": {},
   "outputs": [
    {
     "data": {
      "text/plain": [
       "'e'"
      ]
     },
     "execution_count": 53,
     "metadata": {},
     "output_type": "execute_result"
    }
   ],
   "source": [
    "my_str[-4:15:-3]"
   ]
  },
  {
   "cell_type": "code",
   "execution_count": 55,
   "id": "62a8f0ab-05e1-4933-a04b-84816e6e6c87",
   "metadata": {},
   "outputs": [
    {
     "data": {
      "text/plain": [
       "'Welcome to the Delhi'"
      ]
     },
     "execution_count": 55,
     "metadata": {},
     "output_type": "execute_result"
    }
   ],
   "source": [
    "my_str"
   ]
  },
  {
   "cell_type": "code",
   "execution_count": 57,
   "id": "e02933c5-8803-41b7-9201-672aa5f326cd",
   "metadata": {},
   "outputs": [
    {
     "data": {
      "text/plain": [
       "'Welcome to the'"
      ]
     },
     "execution_count": 57,
     "metadata": {},
     "output_type": "execute_result"
    }
   ],
   "source": [
    "my_str[:-6]"
   ]
  },
  {
   "cell_type": "code",
   "execution_count": 59,
   "id": "bfe012c9-14bf-44c5-9fa7-a18b6305f69b",
   "metadata": {},
   "outputs": [
    {
     "data": {
      "text/plain": [
       "'Welcome to the Delhi'"
      ]
     },
     "execution_count": 59,
     "metadata": {},
     "output_type": "execute_result"
    }
   ],
   "source": [
    "my_str"
   ]
  },
  {
   "cell_type": "code",
   "execution_count": 63,
   "id": "5939f47f-b82e-49ef-b280-31124b659c73",
   "metadata": {},
   "outputs": [
    {
     "data": {
      "text/plain": [
       "'Welcome to t'"
      ]
     },
     "execution_count": 63,
     "metadata": {},
     "output_type": "execute_result"
    }
   ],
   "source": [
    "my_str[:-8]"
   ]
  },
  {
   "cell_type": "code",
   "execution_count": 65,
   "id": "3598f444-260a-49d6-b710-949999b244e3",
   "metadata": {},
   "outputs": [
    {
     "data": {
      "text/plain": [
       "'e '"
      ]
     },
     "execution_count": 65,
     "metadata": {},
     "output_type": "execute_result"
    }
   ],
   "source": [
    "my_str[-4:12:-2]"
   ]
  },
  {
   "cell_type": "code",
   "execution_count": 67,
   "id": "448d912e-b4b6-43d4-983a-fe29693832cf",
   "metadata": {},
   "outputs": [
    {
     "data": {
      "text/plain": [
       "'Welcome to the Delhi'"
      ]
     },
     "execution_count": 67,
     "metadata": {},
     "output_type": "execute_result"
    }
   ],
   "source": [
    "my_str"
   ]
  },
  {
   "cell_type": "code",
   "execution_count": 69,
   "id": "bbffb87a-543a-4724-b900-d278dcbe251a",
   "metadata": {},
   "outputs": [
    {
     "data": {
      "text/plain": [
       "' Delhi'"
      ]
     },
     "execution_count": 69,
     "metadata": {},
     "output_type": "execute_result"
    }
   ],
   "source": [
    "my_str[-6:]"
   ]
  },
  {
   "cell_type": "code",
   "execution_count": 71,
   "id": "52f26061-7aaa-48b9-adbe-fc20014b8ec9",
   "metadata": {},
   "outputs": [
    {
     "data": {
      "text/plain": [
       "' Delhi'"
      ]
     },
     "execution_count": 71,
     "metadata": {},
     "output_type": "execute_result"
    }
   ],
   "source": [
    "my_str[-6:]"
   ]
  },
  {
   "cell_type": "code",
   "execution_count": 73,
   "id": "fe7417db-7b3d-4051-bfcc-1bf5afdde683",
   "metadata": {},
   "outputs": [
    {
     "data": {
      "text/plain": [
       "[1, 5, 9, 13, 17]"
      ]
     },
     "execution_count": 73,
     "metadata": {},
     "output_type": "execute_result"
    }
   ],
   "source": [
    "list(range(1,21,4))"
   ]
  },
  {
   "cell_type": "code",
   "execution_count": 75,
   "id": "235b89b7-7128-484e-b28e-e6623af0fdb0",
   "metadata": {},
   "outputs": [
    {
     "data": {
      "text/plain": [
       "[2, 7, 12, 17]"
      ]
     },
     "execution_count": 75,
     "metadata": {},
     "output_type": "execute_result"
    }
   ],
   "source": [
    "list(range(2,21,5))"
   ]
  },
  {
   "cell_type": "code",
   "execution_count": 79,
   "id": "e0982ad9-d230-4de9-92a4-6016096b8058",
   "metadata": {},
   "outputs": [
    {
     "data": {
      "text/plain": [
       "[1, 5, 9, 13, 17]"
      ]
     },
     "execution_count": 79,
     "metadata": {},
     "output_type": "execute_result"
    }
   ],
   "source": [
    "list(range(1,21,4))"
   ]
  },
  {
   "cell_type": "code",
   "execution_count": 81,
   "id": "efd9e6b3-2784-4bf9-a92d-f71c91a5eae8",
   "metadata": {},
   "outputs": [
    {
     "data": {
      "text/plain": [
       "[21, 18, 15, 12, 9, 6, 3]"
      ]
     },
     "execution_count": 81,
     "metadata": {},
     "output_type": "execute_result"
    }
   ],
   "source": [
    "list(range(21,1,-3))"
   ]
  },
  {
   "cell_type": "code",
   "execution_count": 7,
   "id": "a22bb392-9b97-4af5-b082-816ceeb08ca7",
   "metadata": {},
   "outputs": [
    {
     "data": {
      "text/plain": [
       "'Welcome to the Delhi'"
      ]
     },
     "execution_count": 7,
     "metadata": {},
     "output_type": "execute_result"
    }
   ],
   "source": [
    "my_str"
   ]
  },
  {
   "cell_type": "code",
   "execution_count": null,
   "id": "a71e4011-9d34-4188-833b-cbf333da3c17",
   "metadata": {},
   "outputs": [],
   "source": []
  },
  {
   "cell_type": "code",
   "execution_count": 10,
   "id": "55e16ba6-03ac-425e-b182-3585f8d22ffa",
   "metadata": {},
   "outputs": [],
   "source": [
    "# To remove any string: [::-1]"
   ]
  },
  {
   "cell_type": "code",
   "execution_count": 12,
   "id": "b759304f-fb6b-49f7-8030-358678b28c17",
   "metadata": {},
   "outputs": [
    {
     "data": {
      "text/plain": [
       "'ihleD eht ot emocleW'"
      ]
     },
     "execution_count": 12,
     "metadata": {},
     "output_type": "execute_result"
    }
   ],
   "source": [
    "my_str[::-1]"
   ]
  },
  {
   "cell_type": "code",
   "execution_count": 14,
   "id": "bde890c0-4afe-480c-a24d-79ea508e189e",
   "metadata": {},
   "outputs": [
    {
     "data": {
      "text/plain": [
       "'ihleD eht ot emocleW'"
      ]
     },
     "execution_count": 14,
     "metadata": {},
     "output_type": "execute_result"
    }
   ],
   "source": [
    "my_str[::-1]"
   ]
  },
  {
   "cell_type": "code",
   "execution_count": 16,
   "id": "ba1a1933-8538-49e4-836d-80f1780b85ca",
   "metadata": {},
   "outputs": [
    {
     "data": {
      "text/plain": [
       "'ihleD eht ot emocleW'"
      ]
     },
     "execution_count": 16,
     "metadata": {},
     "output_type": "execute_result"
    }
   ],
   "source": [
    "my_str[::-1]"
   ]
  },
  {
   "cell_type": "code",
   "execution_count": 18,
   "id": "11bab23a-ccec-4ad2-a2be-291e68692aa9",
   "metadata": {},
   "outputs": [
    {
     "data": {
      "text/plain": [
       "'ihleD eht ot emocleW'"
      ]
     },
     "execution_count": 18,
     "metadata": {},
     "output_type": "execute_result"
    }
   ],
   "source": [
    "my_str[::-1]"
   ]
  },
  {
   "cell_type": "code",
   "execution_count": 20,
   "id": "7103b9c2-286b-49ed-a9d2-fbb3e1f1e371",
   "metadata": {},
   "outputs": [
    {
     "data": {
      "text/plain": [
       "'Welcome to the Delhi'"
      ]
     },
     "execution_count": 20,
     "metadata": {},
     "output_type": "execute_result"
    }
   ],
   "source": [
    "my_str"
   ]
  },
  {
   "cell_type": "code",
   "execution_count": 22,
   "id": "9afcd408-231b-4d15-bd66-888cf3850794",
   "metadata": {},
   "outputs": [
    {
     "name": "stdout",
     "output_type": "stream",
     "text": [
      "W\n",
      "e\n",
      "l\n",
      "c\n",
      "o\n",
      "m\n",
      "e\n",
      " \n",
      "t\n",
      "o\n",
      " \n",
      "t\n",
      "h\n",
      "e\n",
      " \n",
      "D\n",
      "e\n",
      "l\n",
      "h\n",
      "i\n"
     ]
    }
   ],
   "source": [
    "for i in range(len(my_str)):\n",
    "    print(my_str[i])"
   ]
  },
  {
   "cell_type": "code",
   "execution_count": 24,
   "id": "82daa4d2-1c21-4ace-8ac1-b1bcba0efb60",
   "metadata": {},
   "outputs": [
    {
     "name": "stdout",
     "output_type": "stream",
     "text": [
      "W\n",
      "e\n",
      "l\n",
      "c\n",
      "o\n",
      "m\n",
      "e\n",
      " \n",
      "t\n",
      "o\n",
      " \n",
      "t\n",
      "h\n",
      "e\n",
      " \n",
      "D\n",
      "e\n",
      "l\n",
      "h\n",
      "i\n"
     ]
    }
   ],
   "source": [
    "for i in range(len(my_str)):\n",
    "    print(my_str[i])"
   ]
  },
  {
   "cell_type": "code",
   "execution_count": 26,
   "id": "218e5ae2-8be8-47fa-a6b0-e80a076225ef",
   "metadata": {},
   "outputs": [
    {
     "name": "stdout",
     "output_type": "stream",
     "text": [
      "W\n",
      "e\n",
      "l\n",
      "c\n",
      "o\n",
      "m\n",
      "e\n",
      " \n",
      "t\n",
      "o\n",
      " \n",
      "t\n",
      "h\n",
      "e\n",
      " \n",
      "D\n",
      "e\n",
      "l\n",
      "h\n",
      "i\n"
     ]
    }
   ],
   "source": [
    "for i in range(len(my_str)):\n",
    "    print(my_str[i])"
   ]
  },
  {
   "cell_type": "code",
   "execution_count": 28,
   "id": "d7580d5f-4f5e-4b73-86be-f7b7edbf43e8",
   "metadata": {},
   "outputs": [
    {
     "name": "stdout",
     "output_type": "stream",
     "text": [
      "W\n",
      "e\n",
      "l\n",
      "c\n",
      "o\n",
      "m\n",
      "e\n",
      " \n",
      "t\n",
      "o\n",
      " \n",
      "t\n",
      "h\n",
      "e\n",
      " \n",
      "D\n",
      "e\n",
      "l\n",
      "h\n",
      "i\n"
     ]
    }
   ],
   "source": [
    "for i in range(len(my_str)):\n",
    "    print(my_str[i])"
   ]
  },
  {
   "cell_type": "code",
   "execution_count": 30,
   "id": "039da43f-7786-430c-b98b-289fc5c0d6e8",
   "metadata": {},
   "outputs": [
    {
     "name": "stdout",
     "output_type": "stream",
     "text": [
      "W\n",
      "e\n",
      "l\n",
      "c\n",
      "o\n",
      "m\n",
      "e\n",
      " \n",
      "t\n",
      "o\n",
      " \n",
      "t\n",
      "h\n",
      "e\n",
      " \n",
      "D\n",
      "e\n",
      "l\n",
      "h\n",
      "i\n"
     ]
    }
   ],
   "source": [
    "for i in range(len(my_str)):\n",
    "    print(my_str[i])"
   ]
  },
  {
   "cell_type": "code",
   "execution_count": 32,
   "id": "412d6af2-9de0-4e46-92d5-a719927386be",
   "metadata": {},
   "outputs": [],
   "source": [
    "# for: loops possible:"
   ]
  },
  {
   "cell_type": "code",
   "execution_count": 34,
   "id": "236a2ce0-ad38-4173-aceb-e66f52d580d0",
   "metadata": {},
   "outputs": [
    {
     "data": {
      "text/plain": [
       "'Welcome to the Delhi'"
      ]
     },
     "execution_count": 34,
     "metadata": {},
     "output_type": "execute_result"
    }
   ],
   "source": [
    "my_str"
   ]
  },
  {
   "cell_type": "code",
   "execution_count": 38,
   "id": "3ad96de3-9032-4bc0-9252-e1c15bb82923",
   "metadata": {},
   "outputs": [
    {
     "name": "stdout",
     "output_type": "stream",
     "text": [
      "W\n",
      "e\n",
      "l\n",
      "c\n",
      "o\n",
      "m\n",
      "e\n",
      " \n",
      "t\n",
      "o\n",
      " \n",
      "t\n",
      "h\n",
      "e\n",
      " \n",
      "D\n",
      "e\n",
      "l\n",
      "h\n",
      "i\n"
     ]
    }
   ],
   "source": [
    "for i in range(len(my_str)):\n",
    "    print(my_str[i])"
   ]
  },
  {
   "cell_type": "code",
   "execution_count": 40,
   "id": "535c4e23-c28f-4a05-98fb-0c7a6096ffb6",
   "metadata": {},
   "outputs": [
    {
     "name": "stdout",
     "output_type": "stream",
     "text": [
      "W\n",
      "e\n",
      "l\n",
      "c\n",
      "o\n",
      "m\n",
      "e\n",
      " \n",
      "t\n",
      "o\n",
      " \n",
      "t\n",
      "h\n",
      "e\n",
      " \n",
      "D\n",
      "e\n",
      "l\n",
      "h\n",
      "i\n"
     ]
    }
   ],
   "source": [
    "for i in my_str:\n",
    "    print(i)"
   ]
  },
  {
   "cell_type": "code",
   "execution_count": 42,
   "id": "faeadba2-8722-4901-94e9-e799dee35a75",
   "metadata": {},
   "outputs": [
    {
     "name": "stdout",
     "output_type": "stream",
     "text": [
      "W\n",
      "e\n",
      "l\n",
      "c\n",
      "o\n",
      "m\n",
      "e\n",
      " \n",
      "t\n",
      "o\n",
      " \n",
      "t\n",
      "h\n",
      "e\n",
      " \n",
      "D\n",
      "e\n",
      "l\n",
      "h\n",
      "i\n"
     ]
    }
   ],
   "source": [
    "for i in my_str:\n",
    "    print(i)"
   ]
  },
  {
   "cell_type": "code",
   "execution_count": 44,
   "id": "51e6bee8-303c-4ec8-8f62-86c59f20a691",
   "metadata": {},
   "outputs": [
    {
     "name": "stdout",
     "output_type": "stream",
     "text": [
      "W\n",
      "e\n",
      "l\n",
      "c\n",
      "o\n",
      "m\n",
      "e\n",
      " \n",
      "t\n",
      "o\n",
      " \n",
      "t\n",
      "h\n",
      "e\n",
      " \n",
      "D\n",
      "e\n",
      "l\n",
      "h\n",
      "i\n"
     ]
    }
   ],
   "source": [
    "for i in my_str:\n",
    "    print(i)"
   ]
  },
  {
   "cell_type": "code",
   "execution_count": 46,
   "id": "d162186b-afef-4653-a6c8-4f42ad06c773",
   "metadata": {},
   "outputs": [
    {
     "name": "stdout",
     "output_type": "stream",
     "text": [
      "W\n",
      "e\n",
      "l\n",
      "c\n",
      "o\n",
      "m\n",
      "e\n",
      " \n",
      "t\n",
      "o\n",
      " \n",
      "t\n",
      "h\n",
      "e\n",
      " \n",
      "D\n",
      "e\n",
      "l\n",
      "h\n",
      "i\n"
     ]
    }
   ],
   "source": [
    "for i in my_str:\n",
    "    print(i)"
   ]
  },
  {
   "cell_type": "code",
   "execution_count": 48,
   "id": "b7cc5bba-b1e3-4866-ab2f-25655e6920c4",
   "metadata": {},
   "outputs": [
    {
     "name": "stdout",
     "output_type": "stream",
     "text": [
      "W\n",
      "e\n",
      "l\n",
      "c\n",
      "o\n",
      "m\n",
      "e\n",
      " \n",
      "t\n",
      "o\n",
      " \n",
      "t\n",
      "h\n",
      "e\n",
      " \n",
      "D\n",
      "e\n",
      "l\n",
      "h\n",
      "i\n"
     ]
    }
   ],
   "source": [
    "for i in my_str:\n",
    "    print(i)"
   ]
  },
  {
   "cell_type": "code",
   "execution_count": 50,
   "id": "c5394a53-cbd1-4b72-8e4e-9b27dad8ac5f",
   "metadata": {},
   "outputs": [
    {
     "data": {
      "text/plain": [
       "'Welcome to the Delhi'"
      ]
     },
     "execution_count": 50,
     "metadata": {},
     "output_type": "execute_result"
    }
   ],
   "source": [
    "my_str"
   ]
  },
  {
   "cell_type": "code",
   "execution_count": 52,
   "id": "528d0dfa-24e3-454f-b1d2-74b172166606",
   "metadata": {},
   "outputs": [
    {
     "name": "stdout",
     "output_type": "stream",
     "text": [
      "W\n",
      "e\n",
      "l\n",
      "c\n",
      "o\n",
      "m\n",
      "e\n",
      " \n",
      "t\n",
      "o\n",
      " \n",
      "t\n",
      "h\n",
      "e\n",
      " \n",
      "D\n",
      "e\n",
      "l\n",
      "h\n",
      "i\n"
     ]
    }
   ],
   "source": [
    "for i in range(len(my_str)):\n",
    "    print(my_str[i])"
   ]
  },
  {
   "cell_type": "code",
   "execution_count": 54,
   "id": "154f6b36-83a9-44fe-be2b-c64b08cc6070",
   "metadata": {},
   "outputs": [],
   "source": [
    "d = \"vivobook\""
   ]
  },
  {
   "cell_type": "code",
   "execution_count": 56,
   "id": "52af352f-6322-4ed9-ad33-599ed81e55fa",
   "metadata": {},
   "outputs": [
    {
     "name": "stdout",
     "output_type": "stream",
     "text": [
      "v\n",
      "i\n",
      "v\n",
      "o\n",
      "b\n",
      "o\n",
      "o\n",
      "k\n"
     ]
    }
   ],
   "source": [
    "for i in d:\n",
    "    print(i)"
   ]
  },
  {
   "cell_type": "code",
   "execution_count": 58,
   "id": "e2484215-289e-411b-8c26-fe09adb464be",
   "metadata": {},
   "outputs": [
    {
     "name": "stdout",
     "output_type": "stream",
     "text": [
      "v\n",
      "i\n",
      "v\n",
      "o\n",
      "b\n",
      "o\n",
      "o\n",
      "k\n"
     ]
    }
   ],
   "source": [
    "for i in d:\n",
    "    print(i)"
   ]
  },
  {
   "cell_type": "code",
   "execution_count": 60,
   "id": "34d061a2-7dfb-4502-8b88-66b306586caf",
   "metadata": {},
   "outputs": [
    {
     "name": "stdout",
     "output_type": "stream",
     "text": [
      "v\n",
      "i\n",
      "v\n",
      "o\n",
      "b\n",
      "o\n",
      "o\n",
      "k\n"
     ]
    }
   ],
   "source": [
    "for i in d:\n",
    "    print(i)"
   ]
  },
  {
   "cell_type": "code",
   "execution_count": 62,
   "id": "575967ea-a8c5-45f3-8806-ede95fceb121",
   "metadata": {},
   "outputs": [
    {
     "name": "stdout",
     "output_type": "stream",
     "text": [
      "v\n",
      "i\n",
      "v\n",
      "o\n",
      "b\n",
      "o\n",
      "o\n",
      "k\n"
     ]
    }
   ],
   "source": [
    "for i in d:\n",
    "    print(i)"
   ]
  },
  {
   "cell_type": "code",
   "execution_count": 64,
   "id": "7b0b08ae-038d-4a16-a0d5-d5243d51351e",
   "metadata": {},
   "outputs": [],
   "source": [
    "c = \"beautiful\""
   ]
  },
  {
   "cell_type": "code",
   "execution_count": 66,
   "id": "9d864bfb-be64-445e-bfc3-0dcbd5668205",
   "metadata": {},
   "outputs": [
    {
     "name": "stdout",
     "output_type": "stream",
     "text": [
      "b\n",
      "e\n",
      "a\n",
      "u\n",
      "t\n",
      "i\n",
      "f\n",
      "u\n",
      "l\n"
     ]
    }
   ],
   "source": [
    "for i in c:\n",
    "    print(i)"
   ]
  },
  {
   "cell_type": "code",
   "execution_count": 68,
   "id": "5d238a62-5794-4c5f-b968-ce1a62f79c9e",
   "metadata": {},
   "outputs": [
    {
     "name": "stdout",
     "output_type": "stream",
     "text": [
      "b\n",
      "e\n",
      "a\n",
      "u\n",
      "t\n",
      "i\n",
      "f\n",
      "u\n",
      "l\n"
     ]
    }
   ],
   "source": [
    "for i in c:\n",
    "    print(i)"
   ]
  },
  {
   "cell_type": "code",
   "execution_count": 72,
   "id": "a1690d62-2989-4b05-91b8-5922e4fb6c95",
   "metadata": {},
   "outputs": [],
   "source": [
    "a = \"NEW DELHI\""
   ]
  },
  {
   "cell_type": "code",
   "execution_count": 74,
   "id": "293a31c6-b420-45ca-8704-e056958f4905",
   "metadata": {},
   "outputs": [
    {
     "name": "stdout",
     "output_type": "stream",
     "text": [
      "N\n",
      "E\n",
      "W\n",
      " \n",
      "D\n",
      "E\n",
      "L\n",
      "H\n",
      "I\n"
     ]
    }
   ],
   "source": [
    "for i in a:\n",
    "    print(i)"
   ]
  },
  {
   "cell_type": "code",
   "execution_count": 76,
   "id": "7c4214f8-7e91-4d28-84c6-fbf5e566b772",
   "metadata": {},
   "outputs": [
    {
     "name": "stdout",
     "output_type": "stream",
     "text": [
      "N\n",
      "E\n",
      "W\n",
      " \n",
      "D\n",
      "E\n",
      "L\n",
      "H\n",
      "I\n"
     ]
    }
   ],
   "source": [
    "for i in a:\n",
    "    print(i)"
   ]
  },
  {
   "cell_type": "code",
   "execution_count": 78,
   "id": "daf62c4c-1476-43f0-a677-77f00cbac9de",
   "metadata": {},
   "outputs": [
    {
     "name": "stdout",
     "output_type": "stream",
     "text": [
      "N\n",
      "E\n",
      "W\n",
      " \n",
      "D\n",
      "E\n",
      "L\n",
      "H\n",
      "I\n"
     ]
    }
   ],
   "source": [
    "for i in a:\n",
    "    print(i)"
   ]
  },
  {
   "cell_type": "code",
   "execution_count": 80,
   "id": "856a34cb-1d24-49c0-930a-5c1d069c08ee",
   "metadata": {},
   "outputs": [
    {
     "name": "stdout",
     "output_type": "stream",
     "text": [
      "N\n",
      "E\n",
      "W\n",
      " \n",
      "D\n",
      "E\n",
      "L\n",
      "H\n",
      "I\n"
     ]
    }
   ],
   "source": [
    "for i in a:\n",
    "    print(i)"
   ]
  },
  {
   "cell_type": "code",
   "execution_count": 82,
   "id": "eca1e43d-b074-416f-963b-ff563d82d6f0",
   "metadata": {},
   "outputs": [
    {
     "name": "stdout",
     "output_type": "stream",
     "text": [
      "N\n",
      "E\n",
      "W\n",
      " \n",
      "D\n",
      "E\n",
      "L\n",
      "H\n",
      "I\n"
     ]
    }
   ],
   "source": [
    "for i in a:\n",
    "    print(i)"
   ]
  },
  {
   "cell_type": "code",
   "execution_count": 84,
   "id": "22b2c606-d678-4ed7-a12f-9c50a64e9b1a",
   "metadata": {},
   "outputs": [],
   "source": [
    "s = \"my computer\""
   ]
  },
  {
   "cell_type": "code",
   "execution_count": 86,
   "id": "5aad7a4b-455a-4969-9199-7d2fd91767e3",
   "metadata": {},
   "outputs": [
    {
     "name": "stdout",
     "output_type": "stream",
     "text": [
      "m\n",
      "y\n",
      " \n",
      "c\n",
      "o\n",
      "m\n",
      "p\n",
      "u\n",
      "t\n",
      "e\n",
      "r\n"
     ]
    }
   ],
   "source": [
    "for i in s:\n",
    "    print(i)"
   ]
  },
  {
   "cell_type": "code",
   "execution_count": 88,
   "id": "780d2fe9-b8b5-4f4a-899e-094c52bb71dd",
   "metadata": {},
   "outputs": [
    {
     "name": "stdout",
     "output_type": "stream",
     "text": [
      "m\n",
      "y\n",
      " \n",
      "c\n",
      "o\n",
      "m\n",
      "p\n",
      "u\n",
      "t\n",
      "e\n",
      "r\n"
     ]
    }
   ],
   "source": [
    "for i in s:\n",
    "    print(i)"
   ]
  },
  {
   "cell_type": "code",
   "execution_count": 90,
   "id": "e2df06bb-989a-4acd-a4d8-ecb4168dfbe9",
   "metadata": {},
   "outputs": [
    {
     "name": "stdout",
     "output_type": "stream",
     "text": [
      "m\n",
      "y\n",
      " \n",
      "c\n",
      "o\n",
      "m\n",
      "p\n",
      "u\n",
      "t\n",
      "e\n",
      "r\n"
     ]
    }
   ],
   "source": [
    "for i in s:\n",
    "    print(i)"
   ]
  },
  {
   "cell_type": "code",
   "execution_count": 94,
   "id": "f72fea7e-146c-4186-bcdc-16a005d681ef",
   "metadata": {},
   "outputs": [
    {
     "name": "stdout",
     "output_type": "stream",
     "text": [
      "W\n",
      "e\n",
      "l\n",
      "c\n",
      "o\n",
      "m\n",
      "e\n",
      " \n",
      "t\n",
      "o\n",
      " \n",
      "t\n",
      "h\n",
      "e\n",
      " \n",
      "D\n",
      "e\n",
      "l\n",
      "h\n",
      "i\n"
     ]
    }
   ],
   "source": [
    "for i in (my_str):\n",
    "    print(i)"
   ]
  },
  {
   "cell_type": "code",
   "execution_count": 96,
   "id": "f67ae42d-363e-49f7-81b7-887146910145",
   "metadata": {},
   "outputs": [
    {
     "name": "stdout",
     "output_type": "stream",
     "text": [
      "W\n",
      "e\n",
      "l\n",
      "c\n",
      "o\n",
      "m\n",
      "e\n",
      " \n",
      "t\n",
      "o\n",
      " \n",
      "t\n",
      "h\n",
      "e\n",
      " \n",
      "D\n",
      "e\n",
      "l\n",
      "h\n",
      "i\n"
     ]
    }
   ],
   "source": [
    "for i in (my_str):\n",
    "    print(i)"
   ]
  },
  {
   "cell_type": "code",
   "execution_count": 98,
   "id": "28388428-0473-4ccc-9e30-932ffdbbaf5e",
   "metadata": {},
   "outputs": [
    {
     "name": "stdout",
     "output_type": "stream",
     "text": [
      "W\n",
      "e\n",
      "l\n",
      "c\n",
      "o\n",
      "m\n",
      "e\n",
      " \n",
      "t\n",
      "o\n",
      " \n",
      "t\n",
      "h\n",
      "e\n",
      " \n",
      "P\n",
      "y\n",
      "t\n",
      "h\n",
      "o\n",
      "n\n"
     ]
    }
   ],
   "source": [
    "for i in \"Welcome to the Python\":\n",
    "    print (i)"
   ]
  },
  {
   "cell_type": "code",
   "execution_count": 100,
   "id": "097d25a0-6179-45a7-b4b7-aa8fa30c8256",
   "metadata": {},
   "outputs": [
    {
     "name": "stdout",
     "output_type": "stream",
     "text": [
      "W\n",
      "e\n",
      "l\n",
      "c\n",
      "o\n",
      "m\n",
      "e\n",
      " \n",
      "t\n",
      "o\n",
      " \n",
      "P\n",
      "y\n",
      "t\n",
      "h\n",
      "o\n",
      "n\n"
     ]
    }
   ],
   "source": [
    "for i in \"Welcome to Python\":\n",
    "    print(i)"
   ]
  },
  {
   "cell_type": "code",
   "execution_count": 102,
   "id": "2afd3431-ca09-4359-8a54-91b239025670",
   "metadata": {},
   "outputs": [
    {
     "name": "stdout",
     "output_type": "stream",
     "text": [
      "W\n",
      "e\n",
      "l\n",
      "c\n",
      "o\n",
      "m\n",
      "r\n",
      " \n",
      "t\n",
      "o\n",
      " \n",
      "t\n",
      "h\n",
      "e\n",
      " \n",
      "P\n",
      "y\n",
      "t\n",
      "h\n",
      "o\n",
      "n\n"
     ]
    }
   ],
   "source": [
    "for i in \"Welcomr to the Python\":\n",
    "    print(i)"
   ]
  },
  {
   "cell_type": "code",
   "execution_count": 104,
   "id": "8b262c3e-e0d6-40fc-a02a-54ef3d5fae99",
   "metadata": {},
   "outputs": [
    {
     "name": "stdout",
     "output_type": "stream",
     "text": [
      "W\n",
      "e\n",
      "l\n",
      "c\n",
      "o\n",
      "m\n",
      "e\n",
      " \n",
      "t\n",
      "o\n",
      " \n",
      "n\n",
      "e\n",
      "w\n",
      " \n",
      "d\n",
      "e\n",
      "l\n",
      "h\n",
      "i\n"
     ]
    }
   ],
   "source": [
    "for i in \"Welcome to new delhi\":\n",
    "    print(i)"
   ]
  },
  {
   "cell_type": "code",
   "execution_count": 106,
   "id": "37ef82b9-83e5-44d4-a39f-93f9766480fc",
   "metadata": {},
   "outputs": [
    {
     "data": {
      "text/plain": [
       "'Welcome to the Delhi'"
      ]
     },
     "execution_count": 106,
     "metadata": {},
     "output_type": "execute_result"
    }
   ],
   "source": [
    "my_str"
   ]
  },
  {
   "cell_type": "code",
   "execution_count": 108,
   "id": "5b68a5cc-2f5b-44e2-aaec-826de02c928e",
   "metadata": {},
   "outputs": [
    {
     "name": "stdout",
     "output_type": "stream",
     "text": [
      "[0]\n",
      "[1]\n",
      "[2]\n",
      "[3]\n",
      "[4]\n",
      "[5]\n",
      "[6]\n",
      "[7]\n",
      "[8]\n",
      "[9]\n",
      "[10]\n",
      "[11]\n",
      "[12]\n",
      "[13]\n",
      "[14]\n",
      "[15]\n",
      "[16]\n",
      "[17]\n",
      "[18]\n",
      "[19]\n"
     ]
    }
   ],
   "source": [
    "for i in range(len(my_str)):\n",
    "    print([i])"
   ]
  },
  {
   "cell_type": "code",
   "execution_count": 110,
   "id": "4f27d344-17a1-48fc-8062-abeb4e7c4f4f",
   "metadata": {},
   "outputs": [
    {
     "name": "stdout",
     "output_type": "stream",
     "text": [
      "[0]\n",
      "[1]\n",
      "[2]\n",
      "[3]\n",
      "[4]\n",
      "[5]\n",
      "[6]\n",
      "[7]\n",
      "[8]\n",
      "[9]\n",
      "[10]\n",
      "[11]\n",
      "[12]\n",
      "[13]\n",
      "[14]\n",
      "[15]\n",
      "[16]\n",
      "[17]\n",
      "[18]\n",
      "[19]\n"
     ]
    }
   ],
   "source": [
    "for i in range(len(my_str)):\n",
    "    print([i])"
   ]
  },
  {
   "cell_type": "code",
   "execution_count": 112,
   "id": "d363ece0-9a3c-47e0-9a43-6bd7e5e48930",
   "metadata": {},
   "outputs": [
    {
     "name": "stdout",
     "output_type": "stream",
     "text": [
      "[0]\n",
      "[1]\n",
      "[2]\n",
      "[3]\n",
      "[4]\n",
      "[5]\n",
      "[6]\n",
      "[7]\n",
      "[8]\n",
      "[9]\n",
      "[10]\n",
      "[11]\n",
      "[12]\n",
      "[13]\n",
      "[14]\n",
      "[15]\n",
      "[16]\n",
      "[17]\n",
      "[18]\n",
      "[19]\n"
     ]
    }
   ],
   "source": [
    "for i in range(len(my_str)):\n",
    "    print([i])"
   ]
  },
  {
   "cell_type": "code",
   "execution_count": 114,
   "id": "325ff817-d9af-4e58-bb0d-8bcdef02dc27",
   "metadata": {},
   "outputs": [
    {
     "data": {
      "text/plain": [
       "'Welcome to the Delhi'"
      ]
     },
     "execution_count": 114,
     "metadata": {},
     "output_type": "execute_result"
    }
   ],
   "source": [
    "my_str"
   ]
  },
  {
   "cell_type": "code",
   "execution_count": 116,
   "id": "7237e040-d3ed-4d31-b347-6718d59a16bd",
   "metadata": {},
   "outputs": [
    {
     "data": {
      "text/plain": [
       "True"
      ]
     },
     "execution_count": 116,
     "metadata": {},
     "output_type": "execute_result"
    }
   ],
   "source": [
    "\"D\" in my_str"
   ]
  },
  {
   "cell_type": "code",
   "execution_count": 118,
   "id": "fe4038ca-9210-4fb6-bffd-07df74a68496",
   "metadata": {},
   "outputs": [
    {
     "data": {
      "text/plain": [
       "'Welcome to the Delhi'"
      ]
     },
     "execution_count": 118,
     "metadata": {},
     "output_type": "execute_result"
    }
   ],
   "source": [
    "my_str"
   ]
  },
  {
   "cell_type": "code",
   "execution_count": 120,
   "id": "8fb9ae39-4afc-4648-b5ed-be513725a9b4",
   "metadata": {},
   "outputs": [
    {
     "data": {
      "text/plain": [
       "False"
      ]
     },
     "execution_count": 120,
     "metadata": {},
     "output_type": "execute_result"
    }
   ],
   "source": [
    "\"C\" in my_str"
   ]
  },
  {
   "cell_type": "code",
   "execution_count": 122,
   "id": "cb864573-011e-437b-ad8a-95c50fea1a8e",
   "metadata": {},
   "outputs": [
    {
     "data": {
      "text/plain": [
       "True"
      ]
     },
     "execution_count": 122,
     "metadata": {},
     "output_type": "execute_result"
    }
   ],
   "source": [
    "\"h\" in my_str"
   ]
  },
  {
   "cell_type": "code",
   "execution_count": 124,
   "id": "5a090152-bc88-45e6-be5a-59b5fb831501",
   "metadata": {},
   "outputs": [
    {
     "data": {
      "text/plain": [
       "True"
      ]
     },
     "execution_count": 124,
     "metadata": {},
     "output_type": "execute_result"
    }
   ],
   "source": [
    "\"k\" not in my_str"
   ]
  },
  {
   "cell_type": "code",
   "execution_count": 126,
   "id": "3b490134-70ea-4cd2-8124-9950f740834f",
   "metadata": {},
   "outputs": [
    {
     "data": {
      "text/plain": [
       "True"
      ]
     },
     "execution_count": 126,
     "metadata": {},
     "output_type": "execute_result"
    }
   ],
   "source": [
    "\"f\" not in my_str"
   ]
  },
  {
   "cell_type": "code",
   "execution_count": 128,
   "id": "ebebd7d4-c854-478a-af6b-d75b7f10697e",
   "metadata": {},
   "outputs": [
    {
     "data": {
      "text/plain": [
       "True"
      ]
     },
     "execution_count": 128,
     "metadata": {},
     "output_type": "execute_result"
    }
   ],
   "source": [
    "\"s\" not in my_str"
   ]
  },
  {
   "cell_type": "code",
   "execution_count": 132,
   "id": "3fbea5d8-f828-4150-b7d5-66a28af85981",
   "metadata": {},
   "outputs": [
    {
     "data": {
      "text/plain": [
       "False"
      ]
     },
     "execution_count": 132,
     "metadata": {},
     "output_type": "execute_result"
    }
   ],
   "source": [
    "\"b\" in my_str "
   ]
  },
  {
   "cell_type": "code",
   "execution_count": 134,
   "id": "e13272cd-b855-4012-bbbf-37b13604dffe",
   "metadata": {},
   "outputs": [],
   "source": [
    "# Memberrship Operator:"
   ]
  },
  {
   "cell_type": "code",
   "execution_count": 7,
   "id": "073aef89-6d17-4f94-b60f-5f6e75ebb33c",
   "metadata": {},
   "outputs": [],
   "source": [
    "my_str = \"Welcome to The Python\""
   ]
  },
  {
   "cell_type": "code",
   "execution_count": 9,
   "id": "c3ba80fd-a11e-49e3-90f4-f2897417e9a7",
   "metadata": {},
   "outputs": [
    {
     "data": {
      "text/plain": [
       "'Welcome to The Python'"
      ]
     },
     "execution_count": 9,
     "metadata": {},
     "output_type": "execute_result"
    }
   ],
   "source": [
    "my_str"
   ]
  },
  {
   "cell_type": "code",
   "execution_count": 11,
   "id": "1b34f664-f9b2-4834-9f50-236ac8a15cb9",
   "metadata": {},
   "outputs": [
    {
     "data": {
      "text/plain": [
       "'Welcome to The Python'"
      ]
     },
     "execution_count": 11,
     "metadata": {},
     "output_type": "execute_result"
    }
   ],
   "source": [
    "my_str"
   ]
  },
  {
   "cell_type": "code",
   "execution_count": 156,
   "id": "3487086a-6971-41f8-876f-dabc3ef6871f",
   "metadata": {},
   "outputs": [
    {
     "data": {
      "text/plain": [
       "False"
      ]
     },
     "execution_count": 156,
     "metadata": {},
     "output_type": "execute_result"
    }
   ],
   "source": [
    "\"big\" in my_str"
   ]
  },
  {
   "cell_type": "code",
   "execution_count": 158,
   "id": "232fbd80-bf6b-4936-a46e-d11f1f461ca6",
   "metadata": {},
   "outputs": [
    {
     "data": {
      "text/plain": [
       "True"
      ]
     },
     "execution_count": 158,
     "metadata": {},
     "output_type": "execute_result"
    }
   ],
   "source": [
    "\"delhi\" not in my_str"
   ]
  },
  {
   "cell_type": "code",
   "execution_count": 165,
   "id": "f58904a6-31af-41e7-81a0-9d38d79a8860",
   "metadata": {},
   "outputs": [
    {
     "data": {
      "text/plain": [
       "True"
      ]
     },
     "execution_count": 165,
     "metadata": {},
     "output_type": "execute_result"
    }
   ],
   "source": [
    "\"W\" in my_str"
   ]
  },
  {
   "cell_type": "code",
   "execution_count": 167,
   "id": "1cbbb611-d75d-44f2-8681-14b9f25d8661",
   "metadata": {},
   "outputs": [
    {
     "data": {
      "text/plain": [
       "True"
      ]
     },
     "execution_count": 167,
     "metadata": {},
     "output_type": "execute_result"
    }
   ],
   "source": [
    "'a' not in my_str"
   ]
  },
  {
   "cell_type": "code",
   "execution_count": 169,
   "id": "ee3ee2d6-aecc-4c0b-afdc-bdf5717786a8",
   "metadata": {},
   "outputs": [
    {
     "data": {
      "text/plain": [
       "True"
      ]
     },
     "execution_count": 169,
     "metadata": {},
     "output_type": "execute_result"
    }
   ],
   "source": [
    "\"o\" in my_str"
   ]
  },
  {
   "cell_type": "code",
   "execution_count": 171,
   "id": "4ad13ea3-b98b-4898-b83e-332c1df534e1",
   "metadata": {},
   "outputs": [
    {
     "data": {
      "text/plain": [
       "True"
      ]
     },
     "execution_count": 171,
     "metadata": {},
     "output_type": "execute_result"
    }
   ],
   "source": [
    "\"very\" not in my_str"
   ]
  },
  {
   "cell_type": "code",
   "execution_count": 173,
   "id": "7b0d157f-a616-4fe3-a151-d6362ddd7e6f",
   "metadata": {},
   "outputs": [
    {
     "data": {
      "text/plain": [
       "False"
      ]
     },
     "execution_count": 173,
     "metadata": {},
     "output_type": "execute_result"
    }
   ],
   "source": [
    "\"Z\" in my_str"
   ]
  },
  {
   "cell_type": "code",
   "execution_count": 175,
   "id": "ccb742ab-7783-4f30-8257-e7681b363830",
   "metadata": {},
   "outputs": [
    {
     "data": {
      "text/plain": [
       "'Welcome to The Python'"
      ]
     },
     "execution_count": 175,
     "metadata": {},
     "output_type": "execute_result"
    }
   ],
   "source": [
    "my_str"
   ]
  },
  {
   "cell_type": "code",
   "execution_count": null,
   "id": "4763d1bf-6896-45ec-917c-0e31c43732ca",
   "metadata": {},
   "outputs": [],
   "source": []
  },
  {
   "cell_type": "markdown",
   "id": "91de9522-85dd-4192-8672-7b0464662b90",
   "metadata": {},
   "source": [
    "# Palindrome:\n",
    "* Level\n",
    "* refer\n",
    "* madam\n",
    "* rotor\n",
    "* dad\n",
    "\n",
    "some important methods"
   ]
  },
  {
   "cell_type": "code",
   "execution_count": 181,
   "id": "8f0d8119-f8e4-45f0-9eb6-0444a68f8ed4",
   "metadata": {},
   "outputs": [
    {
     "data": {
      "text/plain": [
       "'Welcome to The Python'"
      ]
     },
     "execution_count": 181,
     "metadata": {},
     "output_type": "execute_result"
    }
   ],
   "source": [
    "my_str"
   ]
  },
  {
   "cell_type": "code",
   "execution_count": 185,
   "id": "7e3ee751-c823-4e73-ad72-c1605d85eab3",
   "metadata": {},
   "outputs": [
    {
     "data": {
      "text/plain": [
       "'Welcome to The Python'"
      ]
     },
     "execution_count": 185,
     "metadata": {},
     "output_type": "execute_result"
    }
   ],
   "source": [
    "my_str"
   ]
  },
  {
   "cell_type": "code",
   "execution_count": 187,
   "id": "d9137f11-6a10-403f-b4db-00c1477a39f9",
   "metadata": {},
   "outputs": [
    {
     "data": {
      "text/plain": [
       "'Welcome to The Python'"
      ]
     },
     "execution_count": 187,
     "metadata": {},
     "output_type": "execute_result"
    }
   ],
   "source": [
    "my_str"
   ]
  },
  {
   "cell_type": "code",
   "execution_count": 189,
   "id": "15c3b88c-d45e-4f53-8c11-0b39988cd177",
   "metadata": {},
   "outputs": [
    {
     "data": {
      "text/plain": [
       "'Welcome to The Python'"
      ]
     },
     "execution_count": 189,
     "metadata": {},
     "output_type": "execute_result"
    }
   ],
   "source": [
    "my_str"
   ]
  },
  {
   "cell_type": "code",
   "execution_count": 191,
   "id": "4801d861-9688-4856-8765-beb40e15523f",
   "metadata": {},
   "outputs": [
    {
     "data": {
      "text/plain": [
       "'WELCOME TO THE PYTHON'"
      ]
     },
     "execution_count": 191,
     "metadata": {},
     "output_type": "execute_result"
    }
   ],
   "source": [
    "my_str.upper()"
   ]
  },
  {
   "cell_type": "code",
   "execution_count": 193,
   "id": "d499e696-6ab0-4f1e-8f71-4b47937214eb",
   "metadata": {},
   "outputs": [
    {
     "data": {
      "text/plain": [
       "'WELCOME TO THE PYTHON'"
      ]
     },
     "execution_count": 193,
     "metadata": {},
     "output_type": "execute_result"
    }
   ],
   "source": [
    "my_str.upper()"
   ]
  },
  {
   "cell_type": "code",
   "execution_count": 195,
   "id": "3d9673c7-ef56-470e-9cc2-2d1956a651a9",
   "metadata": {},
   "outputs": [
    {
     "data": {
      "text/plain": [
       "'WELCOME TO THE PYTHON'"
      ]
     },
     "execution_count": 195,
     "metadata": {},
     "output_type": "execute_result"
    }
   ],
   "source": [
    "my_str.upper()"
   ]
  },
  {
   "cell_type": "code",
   "execution_count": 201,
   "id": "e1a11ed0-0409-4b82-ad3a-dc4637f4459f",
   "metadata": {},
   "outputs": [
    {
     "data": {
      "text/plain": [
       "'WELCOME TO THE PYTHON'"
      ]
     },
     "execution_count": 201,
     "metadata": {},
     "output_type": "execute_result"
    }
   ],
   "source": [
    "my_str.upper()"
   ]
  },
  {
   "cell_type": "code",
   "execution_count": 3,
   "id": "989745e8-1409-4cd4-9d1a-621890740ce2",
   "metadata": {},
   "outputs": [
    {
     "data": {
      "text/plain": [
       "'WELCOME TO THE PYTHON'"
      ]
     },
     "execution_count": 3,
     "metadata": {},
     "output_type": "execute_result"
    }
   ],
   "source": [
    "my_str.upper()"
   ]
  },
  {
   "cell_type": "code",
   "execution_count": 5,
   "id": "ff7d17fc-7054-4a8b-b38e-ead23a7fc41b",
   "metadata": {},
   "outputs": [
    {
     "data": {
      "text/plain": [
       "'WELCOME TO THE PYTHON'"
      ]
     },
     "execution_count": 5,
     "metadata": {},
     "output_type": "execute_result"
    }
   ],
   "source": [
    "my_str.upper()"
   ]
  },
  {
   "cell_type": "code",
   "execution_count": 7,
   "id": "966f7244-cf8a-4482-951c-a145cf6e0238",
   "metadata": {},
   "outputs": [
    {
     "data": {
      "text/plain": [
       "'WELCOME TO THE PYTHON'"
      ]
     },
     "execution_count": 7,
     "metadata": {},
     "output_type": "execute_result"
    }
   ],
   "source": [
    "my_str.upper()"
   ]
  },
  {
   "cell_type": "code",
   "execution_count": 9,
   "id": "dda8e526-480e-4ef0-93a6-87d6bb0789a4",
   "metadata": {},
   "outputs": [
    {
     "data": {
      "text/plain": [
       "'WELCOME TO THE PYTHON'"
      ]
     },
     "execution_count": 9,
     "metadata": {},
     "output_type": "execute_result"
    }
   ],
   "source": [
    "my_str.upper()"
   ]
  },
  {
   "cell_type": "code",
   "execution_count": 11,
   "id": "1aa9b20c-af34-4f1c-add0-02b42d2f2d94",
   "metadata": {},
   "outputs": [
    {
     "data": {
      "text/plain": [
       "'WELCOME TO THE PYTHON'"
      ]
     },
     "execution_count": 11,
     "metadata": {},
     "output_type": "execute_result"
    }
   ],
   "source": [
    "my_str.upper()"
   ]
  },
  {
   "cell_type": "code",
   "execution_count": 13,
   "id": "2e46ea66-9aad-4ded-93bc-7caaf9c0c3f3",
   "metadata": {},
   "outputs": [
    {
     "data": {
      "text/plain": [
       "'WELCOME TO THE PYTHON'"
      ]
     },
     "execution_count": 13,
     "metadata": {},
     "output_type": "execute_result"
    }
   ],
   "source": [
    "my_str.upper()"
   ]
  },
  {
   "cell_type": "code",
   "execution_count": 15,
   "id": "b5a12c43-93ee-4b5c-8e0e-52277d4e9b6b",
   "metadata": {},
   "outputs": [
    {
     "data": {
      "text/plain": [
       "'WELCOME TO THE PYTHON'"
      ]
     },
     "execution_count": 15,
     "metadata": {},
     "output_type": "execute_result"
    }
   ],
   "source": [
    "my_str.upper()"
   ]
  },
  {
   "cell_type": "code",
   "execution_count": 17,
   "id": "aafce1d1-19b2-427b-9836-9141c33b3fce",
   "metadata": {},
   "outputs": [
    {
     "data": {
      "text/plain": [
       "'WELCOME TO THE PYTHON'"
      ]
     },
     "execution_count": 17,
     "metadata": {},
     "output_type": "execute_result"
    }
   ],
   "source": [
    "my_str.upper()"
   ]
  },
  {
   "cell_type": "code",
   "execution_count": 19,
   "id": "08bd28b4-4872-415e-a60b-f6fcf904c98d",
   "metadata": {},
   "outputs": [
    {
     "data": {
      "text/plain": [
       "'WELCOME TO THE PYTHON'"
      ]
     },
     "execution_count": 19,
     "metadata": {},
     "output_type": "execute_result"
    }
   ],
   "source": [
    "my_str.upper()"
   ]
  },
  {
   "cell_type": "code",
   "execution_count": 21,
   "id": "4f99b75c-8493-47b2-924f-9f7712bfde7e",
   "metadata": {},
   "outputs": [
    {
     "data": {
      "text/plain": [
       "'WELCOME TO THE PYTHON'"
      ]
     },
     "execution_count": 21,
     "metadata": {},
     "output_type": "execute_result"
    }
   ],
   "source": [
    "my_str.upper()"
   ]
  },
  {
   "cell_type": "code",
   "execution_count": 23,
   "id": "7000fb8e-3b08-47f4-9fd0-f9a86371ff60",
   "metadata": {},
   "outputs": [
    {
     "data": {
      "text/plain": [
       "'welcome to the python'"
      ]
     },
     "execution_count": 23,
     "metadata": {},
     "output_type": "execute_result"
    }
   ],
   "source": [
    "my_str.lower()"
   ]
  },
  {
   "cell_type": "code",
   "execution_count": 25,
   "id": "f20c695e-368b-404d-a463-d61fde2564bc",
   "metadata": {},
   "outputs": [
    {
     "data": {
      "text/plain": [
       "'welcome to the python'"
      ]
     },
     "execution_count": 25,
     "metadata": {},
     "output_type": "execute_result"
    }
   ],
   "source": [
    "my_str.lower()"
   ]
  },
  {
   "cell_type": "code",
   "execution_count": 27,
   "id": "b158855d-c20c-4853-a37c-997926c9034d",
   "metadata": {},
   "outputs": [
    {
     "data": {
      "text/plain": [
       "'welcome to the python'"
      ]
     },
     "execution_count": 27,
     "metadata": {},
     "output_type": "execute_result"
    }
   ],
   "source": [
    "my_str.lower()"
   ]
  },
  {
   "cell_type": "code",
   "execution_count": 29,
   "id": "32aced71-3955-4dad-94a4-f0b01b52a233",
   "metadata": {},
   "outputs": [
    {
     "data": {
      "text/plain": [
       "'welcome to the python'"
      ]
     },
     "execution_count": 29,
     "metadata": {},
     "output_type": "execute_result"
    }
   ],
   "source": [
    "my_str.lower()"
   ]
  },
  {
   "cell_type": "code",
   "execution_count": 31,
   "id": "db4817ca-5cc3-41ff-bceb-7474b56e953f",
   "metadata": {},
   "outputs": [
    {
     "data": {
      "text/plain": [
       "'welcome to the python'"
      ]
     },
     "execution_count": 31,
     "metadata": {},
     "output_type": "execute_result"
    }
   ],
   "source": [
    "my_str.lower()"
   ]
  },
  {
   "cell_type": "code",
   "execution_count": 33,
   "id": "19df5f9a-6db6-40b3-9cfe-d556e02e628b",
   "metadata": {},
   "outputs": [
    {
     "data": {
      "text/plain": [
       "'WELCOME TO THE PYTHON'"
      ]
     },
     "execution_count": 33,
     "metadata": {},
     "output_type": "execute_result"
    }
   ],
   "source": [
    "my_str.upper()"
   ]
  },
  {
   "cell_type": "code",
   "execution_count": 35,
   "id": "15e953a4-ca7a-40e1-b939-53355cd56dcd",
   "metadata": {},
   "outputs": [
    {
     "data": {
      "text/plain": [
       "'welcome to the python'"
      ]
     },
     "execution_count": 35,
     "metadata": {},
     "output_type": "execute_result"
    }
   ],
   "source": [
    "my_str.lower()"
   ]
  },
  {
   "cell_type": "code",
   "execution_count": 39,
   "id": "8a2b78b5-2800-4bd0-a14b-d2460e48fbfb",
   "metadata": {},
   "outputs": [
    {
     "data": {
      "text/plain": [
       "'welcome to the python'"
      ]
     },
     "execution_count": 39,
     "metadata": {},
     "output_type": "execute_result"
    }
   ],
   "source": [
    "my_str.lower()"
   ]
  },
  {
   "cell_type": "code",
   "execution_count": 41,
   "id": "d491c2ef-c3fc-464b-8e4b-3e6484c0f16e",
   "metadata": {},
   "outputs": [
    {
     "data": {
      "text/plain": [
       "'welcome to the python'"
      ]
     },
     "execution_count": 41,
     "metadata": {},
     "output_type": "execute_result"
    }
   ],
   "source": [
    "my_str.lower()"
   ]
  },
  {
   "cell_type": "code",
   "execution_count": 43,
   "id": "495cf5d2-c1f6-4025-ae58-d3211786f683",
   "metadata": {},
   "outputs": [
    {
     "data": {
      "text/plain": [
       "'welcome to the python'"
      ]
     },
     "execution_count": 43,
     "metadata": {},
     "output_type": "execute_result"
    }
   ],
   "source": [
    "my_str.lower()"
   ]
  },
  {
   "cell_type": "code",
   "execution_count": 45,
   "id": "993d540c-0fdb-46b3-9062-cae00dd99206",
   "metadata": {},
   "outputs": [
    {
     "data": {
      "text/plain": [
       "'welcome to the python'"
      ]
     },
     "execution_count": 45,
     "metadata": {},
     "output_type": "execute_result"
    }
   ],
   "source": [
    "my_str.lower()"
   ]
  },
  {
   "cell_type": "code",
   "execution_count": 47,
   "id": "c763d266-fd20-4799-b820-beab7391ecb2",
   "metadata": {},
   "outputs": [
    {
     "data": {
      "text/plain": [
       "'welcome to the python'"
      ]
     },
     "execution_count": 47,
     "metadata": {},
     "output_type": "execute_result"
    }
   ],
   "source": [
    "my_str.lower()"
   ]
  },
  {
   "cell_type": "code",
   "execution_count": 49,
   "id": "c24ecb37-0436-437f-90b1-ae19671f2823",
   "metadata": {},
   "outputs": [
    {
     "data": {
      "text/plain": [
       "'WELCOME TO THE PYTHON'"
      ]
     },
     "execution_count": 49,
     "metadata": {},
     "output_type": "execute_result"
    }
   ],
   "source": [
    "my_str.upper()"
   ]
  },
  {
   "cell_type": "code",
   "execution_count": 51,
   "id": "268ca5cd-9ba8-493b-a8e8-28c7a3ab4b52",
   "metadata": {},
   "outputs": [
    {
     "data": {
      "text/plain": [
       "'Welcome to The Python'"
      ]
     },
     "execution_count": 51,
     "metadata": {},
     "output_type": "execute_result"
    }
   ],
   "source": [
    "my_str"
   ]
  },
  {
   "cell_type": "code",
   "execution_count": 53,
   "id": "d28a70d4-0c4b-455e-9cb4-1bd04534b86a",
   "metadata": {},
   "outputs": [
    {
     "data": {
      "text/plain": [
       "'Welcome To The Python'"
      ]
     },
     "execution_count": 53,
     "metadata": {},
     "output_type": "execute_result"
    }
   ],
   "source": [
    "my_str.title()"
   ]
  },
  {
   "cell_type": "code",
   "execution_count": 55,
   "id": "5a041ffa-91b3-4e59-b562-dc7e51c3a95f",
   "metadata": {},
   "outputs": [
    {
     "data": {
      "text/plain": [
       "'Welcome To The Python'"
      ]
     },
     "execution_count": 55,
     "metadata": {},
     "output_type": "execute_result"
    }
   ],
   "source": [
    "my_str.title()"
   ]
  },
  {
   "cell_type": "code",
   "execution_count": 57,
   "id": "7d10d9c2-5db3-4c0d-a433-bbb9da95d0af",
   "metadata": {},
   "outputs": [
    {
     "data": {
      "text/plain": [
       "'Welcome To The Python'"
      ]
     },
     "execution_count": 57,
     "metadata": {},
     "output_type": "execute_result"
    }
   ],
   "source": [
    "my_str.title()"
   ]
  },
  {
   "cell_type": "code",
   "execution_count": 59,
   "id": "77d62195-f6bd-41fa-976a-2c414ca09aaf",
   "metadata": {},
   "outputs": [
    {
     "data": {
      "text/plain": [
       "'Welcome To The Python'"
      ]
     },
     "execution_count": 59,
     "metadata": {},
     "output_type": "execute_result"
    }
   ],
   "source": [
    "my_str.title()"
   ]
  },
  {
   "cell_type": "code",
   "execution_count": 61,
   "id": "0b50f706-de6e-4460-a985-8f45efb39e11",
   "metadata": {},
   "outputs": [
    {
     "data": {
      "text/plain": [
       "'Welcome To The Python'"
      ]
     },
     "execution_count": 61,
     "metadata": {},
     "output_type": "execute_result"
    }
   ],
   "source": [
    "my_str.title()"
   ]
  },
  {
   "cell_type": "code",
   "execution_count": 63,
   "id": "cb25ae59-d032-436d-a36c-61c3db478641",
   "metadata": {},
   "outputs": [
    {
     "data": {
      "text/plain": [
       "'Welcome To The Python'"
      ]
     },
     "execution_count": 63,
     "metadata": {},
     "output_type": "execute_result"
    }
   ],
   "source": [
    "my_str.title()"
   ]
  },
  {
   "cell_type": "code",
   "execution_count": 65,
   "id": "7d6a5f1d-6dba-4f16-a367-bf6eed7da1db",
   "metadata": {},
   "outputs": [
    {
     "data": {
      "text/plain": [
       "'Welcome To The Python'"
      ]
     },
     "execution_count": 65,
     "metadata": {},
     "output_type": "execute_result"
    }
   ],
   "source": [
    "my_str.title()"
   ]
  },
  {
   "cell_type": "code",
   "execution_count": 67,
   "id": "c3affecd-f643-4acb-b917-8296bbce2f8e",
   "metadata": {},
   "outputs": [
    {
     "data": {
      "text/plain": [
       "'Welcome To The Python'"
      ]
     },
     "execution_count": 67,
     "metadata": {},
     "output_type": "execute_result"
    }
   ],
   "source": [
    "my_str.title()"
   ]
  },
  {
   "cell_type": "code",
   "execution_count": 69,
   "id": "ef0ec287-2527-4574-b039-d475b858c2d0",
   "metadata": {},
   "outputs": [
    {
     "data": {
      "text/plain": [
       "'Welcome To The Python'"
      ]
     },
     "execution_count": 69,
     "metadata": {},
     "output_type": "execute_result"
    }
   ],
   "source": [
    "my_str.title()"
   ]
  },
  {
   "cell_type": "code",
   "execution_count": 71,
   "id": "103c7667-3bb4-4f64-95aa-1e0a0b8b3574",
   "metadata": {},
   "outputs": [
    {
     "data": {
      "text/plain": [
       "'Welcome To The Python'"
      ]
     },
     "execution_count": 71,
     "metadata": {},
     "output_type": "execute_result"
    }
   ],
   "source": [
    "my_str.title()"
   ]
  },
  {
   "cell_type": "code",
   "execution_count": 73,
   "id": "02e082aa-e2aa-47cd-b566-fffa9ef2a26c",
   "metadata": {},
   "outputs": [
    {
     "data": {
      "text/plain": [
       "'Welcome To The Python'"
      ]
     },
     "execution_count": 73,
     "metadata": {},
     "output_type": "execute_result"
    }
   ],
   "source": [
    "my_str.title()"
   ]
  },
  {
   "cell_type": "code",
   "execution_count": 75,
   "id": "31ace404-a9d2-475e-8308-091e976c0610",
   "metadata": {},
   "outputs": [
    {
     "data": {
      "text/plain": [
       "'Welcome To The Python'"
      ]
     },
     "execution_count": 75,
     "metadata": {},
     "output_type": "execute_result"
    }
   ],
   "source": [
    "my_str.title()"
   ]
  },
  {
   "cell_type": "code",
   "execution_count": 77,
   "id": "8f2bffee-3de0-4bb8-8dd4-231d116962fd",
   "metadata": {},
   "outputs": [
    {
     "data": {
      "text/plain": [
       "'Welcome To The Python'"
      ]
     },
     "execution_count": 77,
     "metadata": {},
     "output_type": "execute_result"
    }
   ],
   "source": [
    "my_str.title()"
   ]
  },
  {
   "cell_type": "code",
   "execution_count": 79,
   "id": "9102971b-2434-4eab-8276-5be7e3714eea",
   "metadata": {},
   "outputs": [
    {
     "data": {
      "text/plain": [
       "'Welcome To The Python'"
      ]
     },
     "execution_count": 79,
     "metadata": {},
     "output_type": "execute_result"
    }
   ],
   "source": [
    "my_str.title()"
   ]
  },
  {
   "cell_type": "code",
   "execution_count": 81,
   "id": "829d35cc-4999-49ed-954e-4681c692b4dd",
   "metadata": {},
   "outputs": [
    {
     "data": {
      "text/plain": [
       "'Welcome To The Python'"
      ]
     },
     "execution_count": 81,
     "metadata": {},
     "output_type": "execute_result"
    }
   ],
   "source": [
    "my_str.title()"
   ]
  },
  {
   "cell_type": "code",
   "execution_count": 83,
   "id": "16ac23f2-0058-4d7d-aee2-61d9dbb9272c",
   "metadata": {},
   "outputs": [
    {
     "data": {
      "text/plain": [
       "'Welcome To The Python'"
      ]
     },
     "execution_count": 83,
     "metadata": {},
     "output_type": "execute_result"
    }
   ],
   "source": [
    "my_str.title()"
   ]
  },
  {
   "cell_type": "code",
   "execution_count": 85,
   "id": "796411ec-91c7-4205-b07d-e89d10f37211",
   "metadata": {},
   "outputs": [],
   "source": [
    "d = \"python is dynamic course\""
   ]
  },
  {
   "cell_type": "code",
   "execution_count": 87,
   "id": "6eafe498-c69d-4f76-80cf-4487d6fc7d97",
   "metadata": {},
   "outputs": [
    {
     "data": {
      "text/plain": [
       "'Python is dynamic course'"
      ]
     },
     "execution_count": 87,
     "metadata": {},
     "output_type": "execute_result"
    }
   ],
   "source": [
    "d.capitalize()"
   ]
  },
  {
   "cell_type": "code",
   "execution_count": 89,
   "id": "9d995b69-33be-4444-bde8-29d9d8db0f38",
   "metadata": {},
   "outputs": [
    {
     "data": {
      "text/plain": [
       "'Python is dynamic course'"
      ]
     },
     "execution_count": 89,
     "metadata": {},
     "output_type": "execute_result"
    }
   ],
   "source": [
    "d.capitalize()"
   ]
  },
  {
   "cell_type": "code",
   "execution_count": 91,
   "id": "aa9bf9b8-7429-4f5f-8678-354189240c11",
   "metadata": {},
   "outputs": [
    {
     "data": {
      "text/plain": [
       "'Python is dynamic course'"
      ]
     },
     "execution_count": 91,
     "metadata": {},
     "output_type": "execute_result"
    }
   ],
   "source": [
    "d.capitalize()"
   ]
  },
  {
   "cell_type": "code",
   "execution_count": 93,
   "id": "6efaaea8-e4a6-44d4-9dc8-e64ab935637a",
   "metadata": {},
   "outputs": [
    {
     "data": {
      "text/plain": [
       "'Python is dynamic course'"
      ]
     },
     "execution_count": 93,
     "metadata": {},
     "output_type": "execute_result"
    }
   ],
   "source": [
    "d.capitalize()"
   ]
  },
  {
   "cell_type": "code",
   "execution_count": 95,
   "id": "96c0086c-857e-43d4-978c-22233c37df06",
   "metadata": {},
   "outputs": [
    {
     "data": {
      "text/plain": [
       "'Python is dynamic course'"
      ]
     },
     "execution_count": 95,
     "metadata": {},
     "output_type": "execute_result"
    }
   ],
   "source": [
    "d.capitalize()"
   ]
  },
  {
   "cell_type": "code",
   "execution_count": 97,
   "id": "b4969d42-2e80-497d-9ccd-bc056c601505",
   "metadata": {},
   "outputs": [
    {
     "data": {
      "text/plain": [
       "'Python is dynamic course'"
      ]
     },
     "execution_count": 97,
     "metadata": {},
     "output_type": "execute_result"
    }
   ],
   "source": [
    "d.capitalize()"
   ]
  },
  {
   "cell_type": "code",
   "execution_count": 99,
   "id": "35a3d6a0-9727-4b1f-aa68-d1871a46ebad",
   "metadata": {},
   "outputs": [
    {
     "data": {
      "text/plain": [
       "'Python is dynamic course'"
      ]
     },
     "execution_count": 99,
     "metadata": {},
     "output_type": "execute_result"
    }
   ],
   "source": [
    "d.capitalize()"
   ]
  },
  {
   "cell_type": "code",
   "execution_count": 101,
   "id": "b0d24e14-5143-446d-8aab-50aa31d1c0ba",
   "metadata": {},
   "outputs": [
    {
     "data": {
      "text/plain": [
       "'Python is dynamic course'"
      ]
     },
     "execution_count": 101,
     "metadata": {},
     "output_type": "execute_result"
    }
   ],
   "source": [
    "d.capitalize()"
   ]
  },
  {
   "cell_type": "code",
   "execution_count": 103,
   "id": "84337b98-5d4a-4efc-a4db-259755805064",
   "metadata": {},
   "outputs": [
    {
     "data": {
      "text/plain": [
       "'Python is dynamic course'"
      ]
     },
     "execution_count": 103,
     "metadata": {},
     "output_type": "execute_result"
    }
   ],
   "source": [
    "d.capitalize()"
   ]
  },
  {
   "cell_type": "code",
   "execution_count": 107,
   "id": "49055db8-107a-44e5-8a28-6ddf143d90dc",
   "metadata": {},
   "outputs": [
    {
     "data": {
      "text/plain": [
       "'Python is dynamic course'"
      ]
     },
     "execution_count": 107,
     "metadata": {},
     "output_type": "execute_result"
    }
   ],
   "source": [
    "d.capitalize()"
   ]
  },
  {
   "cell_type": "code",
   "execution_count": 109,
   "id": "b14199ed-4733-4214-aa81-bbc3f18ad537",
   "metadata": {},
   "outputs": [
    {
     "data": {
      "text/plain": [
       "'Python is dynamic course'"
      ]
     },
     "execution_count": 109,
     "metadata": {},
     "output_type": "execute_result"
    }
   ],
   "source": [
    "d.capitalize()"
   ]
  },
  {
   "cell_type": "code",
   "execution_count": 111,
   "id": "c390fdc7-549c-4c50-943f-c2fcfbf117cc",
   "metadata": {},
   "outputs": [
    {
     "data": {
      "text/plain": [
       "'Python is dynamic course'"
      ]
     },
     "execution_count": 111,
     "metadata": {},
     "output_type": "execute_result"
    }
   ],
   "source": [
    "d.capitalize()"
   ]
  },
  {
   "cell_type": "code",
   "execution_count": 113,
   "id": "a4427fb8-b1df-4c79-a09d-3d2e9b597e25",
   "metadata": {},
   "outputs": [
    {
     "data": {
      "text/plain": [
       "'Python is dynamic course'"
      ]
     },
     "execution_count": 113,
     "metadata": {},
     "output_type": "execute_result"
    }
   ],
   "source": [
    "d.capitalize()"
   ]
  },
  {
   "cell_type": "code",
   "execution_count": 115,
   "id": "78755c10-e901-481f-8290-0d872584d8f8",
   "metadata": {},
   "outputs": [
    {
     "data": {
      "text/plain": [
       "'Python is dynamic course'"
      ]
     },
     "execution_count": 115,
     "metadata": {},
     "output_type": "execute_result"
    }
   ],
   "source": [
    "d.capitalize()"
   ]
  },
  {
   "cell_type": "code",
   "execution_count": 117,
   "id": "283e5ac4-04fa-4803-a383-1f2c54cdd7eb",
   "metadata": {},
   "outputs": [
    {
     "data": {
      "text/plain": [
       "'Python is dynamic course'"
      ]
     },
     "execution_count": 117,
     "metadata": {},
     "output_type": "execute_result"
    }
   ],
   "source": [
    "d.capitalize()"
   ]
  },
  {
   "cell_type": "code",
   "execution_count": 119,
   "id": "45c121a0-0e0a-4cf7-bb77-c67de7d113ee",
   "metadata": {},
   "outputs": [
    {
     "data": {
      "text/plain": [
       "'Python is dynamic course'"
      ]
     },
     "execution_count": 119,
     "metadata": {},
     "output_type": "execute_result"
    }
   ],
   "source": [
    "d.capitalize()"
   ]
  },
  {
   "cell_type": "code",
   "execution_count": 121,
   "id": "e03bfe80-a069-4659-bffa-ac03c9c4f7bb",
   "metadata": {},
   "outputs": [
    {
     "data": {
      "text/plain": [
       "'Python is dynamic course'"
      ]
     },
     "execution_count": 121,
     "metadata": {},
     "output_type": "execute_result"
    }
   ],
   "source": [
    "d.capitalize()"
   ]
  },
  {
   "cell_type": "code",
   "execution_count": 123,
   "id": "203df6f6-e03f-4244-9bae-fbb5d99d6fff",
   "metadata": {},
   "outputs": [
    {
     "data": {
      "text/plain": [
       "'Python is dynamic course'"
      ]
     },
     "execution_count": 123,
     "metadata": {},
     "output_type": "execute_result"
    }
   ],
   "source": [
    "d.capitalize()"
   ]
  },
  {
   "cell_type": "code",
   "execution_count": 125,
   "id": "d06c618d-c92f-4c0f-b372-e79c12e4c626",
   "metadata": {},
   "outputs": [
    {
     "data": {
      "text/plain": [
       "'Python is dynamic course'"
      ]
     },
     "execution_count": 125,
     "metadata": {},
     "output_type": "execute_result"
    }
   ],
   "source": [
    "d.capitalize()"
   ]
  },
  {
   "cell_type": "code",
   "execution_count": 127,
   "id": "49743611-2716-4848-93e9-d29602ffe8c3",
   "metadata": {},
   "outputs": [
    {
     "data": {
      "text/plain": [
       "'Python is dynamic course'"
      ]
     },
     "execution_count": 127,
     "metadata": {},
     "output_type": "execute_result"
    }
   ],
   "source": [
    "d.capitalize()"
   ]
  },
  {
   "cell_type": "code",
   "execution_count": 129,
   "id": "cadea98b-f027-4fee-9613-8229af15c87d",
   "metadata": {},
   "outputs": [],
   "source": [
    "a = \"python is fun\""
   ]
  },
  {
   "cell_type": "code",
   "execution_count": 131,
   "id": "d556dba1-4fc0-4eb6-ab27-5f3f37a7b98f",
   "metadata": {},
   "outputs": [
    {
     "data": {
      "text/plain": [
       "'Python is fun'"
      ]
     },
     "execution_count": 131,
     "metadata": {},
     "output_type": "execute_result"
    }
   ],
   "source": [
    "a.capitalize()"
   ]
  },
  {
   "cell_type": "code",
   "execution_count": 133,
   "id": "f9c7b9fe-5f31-4036-991d-620d22390682",
   "metadata": {},
   "outputs": [
    {
     "data": {
      "text/plain": [
       "'Python is fun'"
      ]
     },
     "execution_count": 133,
     "metadata": {},
     "output_type": "execute_result"
    }
   ],
   "source": [
    "a.capitalize()"
   ]
  },
  {
   "cell_type": "code",
   "execution_count": 135,
   "id": "52942c60-2e50-444b-a071-e474e8c466e8",
   "metadata": {},
   "outputs": [
    {
     "data": {
      "text/plain": [
       "'Python is fun'"
      ]
     },
     "execution_count": 135,
     "metadata": {},
     "output_type": "execute_result"
    }
   ],
   "source": [
    "a.capitalize()"
   ]
  },
  {
   "cell_type": "code",
   "execution_count": 137,
   "id": "982ef6bf-cded-4f70-8a54-91e6f2e066f4",
   "metadata": {},
   "outputs": [
    {
     "data": {
      "text/plain": [
       "'Python is fun'"
      ]
     },
     "execution_count": 137,
     "metadata": {},
     "output_type": "execute_result"
    }
   ],
   "source": [
    "a.capitalize()"
   ]
  },
  {
   "cell_type": "code",
   "execution_count": 139,
   "id": "122c2b93-4237-4088-a15a-345c39979d5d",
   "metadata": {},
   "outputs": [
    {
     "data": {
      "text/plain": [
       "'Python is fun'"
      ]
     },
     "execution_count": 139,
     "metadata": {},
     "output_type": "execute_result"
    }
   ],
   "source": [
    "a.capitalize()"
   ]
  },
  {
   "cell_type": "code",
   "execution_count": 141,
   "id": "5ea4ac16-3d5a-4c94-a347-37382aa1388d",
   "metadata": {},
   "outputs": [
    {
     "data": {
      "text/plain": [
       "'Python is fun'"
      ]
     },
     "execution_count": 141,
     "metadata": {},
     "output_type": "execute_result"
    }
   ],
   "source": [
    "a.capitalize()"
   ]
  },
  {
   "cell_type": "code",
   "execution_count": 143,
   "id": "cbdf655a-5f2b-435b-b07c-675a6b2234bb",
   "metadata": {},
   "outputs": [
    {
     "data": {
      "text/plain": [
       "'Python is fun'"
      ]
     },
     "execution_count": 143,
     "metadata": {},
     "output_type": "execute_result"
    }
   ],
   "source": [
    "a.capitalize()"
   ]
  },
  {
   "cell_type": "code",
   "execution_count": 145,
   "id": "a16d0b00-a6aa-491b-81a2-2d572279ce13",
   "metadata": {},
   "outputs": [
    {
     "data": {
      "text/plain": [
       "'Python is fun'"
      ]
     },
     "execution_count": 145,
     "metadata": {},
     "output_type": "execute_result"
    }
   ],
   "source": [
    "a.capitalize()"
   ]
  },
  {
   "cell_type": "code",
   "execution_count": 147,
   "id": "aacb145e-3c5d-47e2-9b65-afac39cf318f",
   "metadata": {},
   "outputs": [
    {
     "data": {
      "text/plain": [
       "'Python is fun'"
      ]
     },
     "execution_count": 147,
     "metadata": {},
     "output_type": "execute_result"
    }
   ],
   "source": [
    "a.capitalize()"
   ]
  },
  {
   "cell_type": "code",
   "execution_count": 149,
   "id": "41999fbc-2d05-458e-a0cb-d3f5eb0df0fc",
   "metadata": {},
   "outputs": [
    {
     "data": {
      "text/plain": [
       "'Python is fun'"
      ]
     },
     "execution_count": 149,
     "metadata": {},
     "output_type": "execute_result"
    }
   ],
   "source": [
    "a.capitalize()"
   ]
  },
  {
   "cell_type": "code",
   "execution_count": 151,
   "id": "b1abda4f-cda8-407b-8634-87372abbfeec",
   "metadata": {},
   "outputs": [
    {
     "data": {
      "text/plain": [
       "'Python is fun'"
      ]
     },
     "execution_count": 151,
     "metadata": {},
     "output_type": "execute_result"
    }
   ],
   "source": [
    "a.capitalize()"
   ]
  },
  {
   "cell_type": "code",
   "execution_count": 1,
   "id": "84852e87-3242-488f-8d8e-cefe7975b398",
   "metadata": {},
   "outputs": [],
   "source": [
    "s = \"python is very interesting\""
   ]
  },
  {
   "cell_type": "code",
   "execution_count": 3,
   "id": "8d0b214a-fdaa-433e-a5d8-0854d1ab8bfa",
   "metadata": {},
   "outputs": [
    {
     "data": {
      "text/plain": [
       "'Python is very interesting'"
      ]
     },
     "execution_count": 3,
     "metadata": {},
     "output_type": "execute_result"
    }
   ],
   "source": [
    "s.capitalize()"
   ]
  },
  {
   "cell_type": "code",
   "execution_count": 5,
   "id": "a3edd04f-966c-495d-b1d4-fca8fb5c7378",
   "metadata": {},
   "outputs": [
    {
     "data": {
      "text/plain": [
       "'Python is very interesting'"
      ]
     },
     "execution_count": 5,
     "metadata": {},
     "output_type": "execute_result"
    }
   ],
   "source": [
    "s.capitalize()"
   ]
  },
  {
   "cell_type": "code",
   "execution_count": 13,
   "id": "b16661cf-40ea-4a58-9e03-451a861dab41",
   "metadata": {},
   "outputs": [
    {
     "data": {
      "text/plain": [
       "'Welcome to The Python'"
      ]
     },
     "execution_count": 13,
     "metadata": {},
     "output_type": "execute_result"
    }
   ],
   "source": [
    "my_str"
   ]
  },
  {
   "cell_type": "code",
   "execution_count": 15,
   "id": "52955e70-df67-48ba-a302-feeff74aba1a",
   "metadata": {},
   "outputs": [
    {
     "data": {
      "text/plain": [
       "'Welcome to the python'"
      ]
     },
     "execution_count": 15,
     "metadata": {},
     "output_type": "execute_result"
    }
   ],
   "source": [
    "my_str.capitalize()"
   ]
  },
  {
   "cell_type": "code",
   "execution_count": 17,
   "id": "7002d3ae-4c01-48c5-96dc-e6136d0b595d",
   "metadata": {},
   "outputs": [
    {
     "data": {
      "text/plain": [
       "'Welcome to the python'"
      ]
     },
     "execution_count": 17,
     "metadata": {},
     "output_type": "execute_result"
    }
   ],
   "source": [
    "my_str.capitalize()"
   ]
  },
  {
   "cell_type": "code",
   "execution_count": 19,
   "id": "25fc16bc-100e-4b1e-98e8-00e5e973b200",
   "metadata": {},
   "outputs": [
    {
     "data": {
      "text/plain": [
       "'Welcome to the python'"
      ]
     },
     "execution_count": 19,
     "metadata": {},
     "output_type": "execute_result"
    }
   ],
   "source": [
    "my_str.capitalize()"
   ]
  },
  {
   "cell_type": "code",
   "execution_count": 21,
   "id": "bef13343-edac-498e-aa3c-ae67c1b50898",
   "metadata": {},
   "outputs": [
    {
     "data": {
      "text/plain": [
       "'Welcome to the python'"
      ]
     },
     "execution_count": 21,
     "metadata": {},
     "output_type": "execute_result"
    }
   ],
   "source": [
    "my_str.capitalize()"
   ]
  },
  {
   "cell_type": "code",
   "execution_count": 23,
   "id": "6acf75df-3921-4f74-832a-5da94b62bab9",
   "metadata": {},
   "outputs": [
    {
     "data": {
      "text/plain": [
       "'Welcome to the python'"
      ]
     },
     "execution_count": 23,
     "metadata": {},
     "output_type": "execute_result"
    }
   ],
   "source": [
    "my_str.capitalize()"
   ]
  },
  {
   "cell_type": "code",
   "execution_count": 25,
   "id": "c8be2cee-ce5c-4f78-a49a-d73f24fe8a11",
   "metadata": {},
   "outputs": [
    {
     "data": {
      "text/plain": [
       "'Welcome to the python'"
      ]
     },
     "execution_count": 25,
     "metadata": {},
     "output_type": "execute_result"
    }
   ],
   "source": [
    "my_str.capitalize()"
   ]
  },
  {
   "cell_type": "code",
   "execution_count": 27,
   "id": "8c17840b-0606-4922-b536-d0983a11212c",
   "metadata": {},
   "outputs": [
    {
     "data": {
      "text/plain": [
       "'Welcome to the python'"
      ]
     },
     "execution_count": 27,
     "metadata": {},
     "output_type": "execute_result"
    }
   ],
   "source": [
    "my_str.capitalize()"
   ]
  },
  {
   "cell_type": "code",
   "execution_count": 29,
   "id": "582db239-7dd3-420f-b9c8-d88b5fd6a6b8",
   "metadata": {},
   "outputs": [
    {
     "data": {
      "text/plain": [
       "'Welcome to the python'"
      ]
     },
     "execution_count": 29,
     "metadata": {},
     "output_type": "execute_result"
    }
   ],
   "source": [
    "my_str.capitalize()"
   ]
  },
  {
   "cell_type": "code",
   "execution_count": 35,
   "id": "96898081-ea69-40c8-814a-485d1b59e031",
   "metadata": {},
   "outputs": [
    {
     "data": {
      "text/plain": [
       "'Welcome to the python'"
      ]
     },
     "execution_count": 35,
     "metadata": {},
     "output_type": "execute_result"
    }
   ],
   "source": [
    "my_str.capitalize()"
   ]
  },
  {
   "cell_type": "code",
   "execution_count": 37,
   "id": "0f489632-fe58-4abd-906c-099ed623ddf9",
   "metadata": {},
   "outputs": [
    {
     "data": {
      "text/plain": [
       "'Welcome to the python'"
      ]
     },
     "execution_count": 37,
     "metadata": {},
     "output_type": "execute_result"
    }
   ],
   "source": [
    "my_str.capitalize()"
   ]
  },
  {
   "cell_type": "code",
   "execution_count": 39,
   "id": "e08255c1-76ed-4f4a-aa31-5ece7c68a20e",
   "metadata": {},
   "outputs": [
    {
     "data": {
      "text/plain": [
       "'Welcome to the python'"
      ]
     },
     "execution_count": 39,
     "metadata": {},
     "output_type": "execute_result"
    }
   ],
   "source": [
    "my_str.capitalize()"
   ]
  },
  {
   "cell_type": "code",
   "execution_count": 41,
   "id": "dfd27ebb-9a3a-4587-bb93-f4d12e738e56",
   "metadata": {},
   "outputs": [
    {
     "data": {
      "text/plain": [
       "'Welcome to the python'"
      ]
     },
     "execution_count": 41,
     "metadata": {},
     "output_type": "execute_result"
    }
   ],
   "source": [
    "my_str.capitalize()"
   ]
  },
  {
   "cell_type": "code",
   "execution_count": 43,
   "id": "94a262c4-45ee-4239-b99a-d4a4ef06afab",
   "metadata": {},
   "outputs": [
    {
     "data": {
      "text/plain": [
       "'Welcome to the python'"
      ]
     },
     "execution_count": 43,
     "metadata": {},
     "output_type": "execute_result"
    }
   ],
   "source": [
    "my_str.capitalize()"
   ]
  },
  {
   "cell_type": "code",
   "execution_count": 45,
   "id": "e55e92ad-f427-449b-b641-4abcce23656c",
   "metadata": {},
   "outputs": [
    {
     "data": {
      "text/plain": [
       "'Welcome to the python'"
      ]
     },
     "execution_count": 45,
     "metadata": {},
     "output_type": "execute_result"
    }
   ],
   "source": [
    "my_str.capitalize()"
   ]
  },
  {
   "cell_type": "code",
   "execution_count": 47,
   "id": "260ba895-dfb7-4c8b-ab3e-84d2db9a26a1",
   "metadata": {},
   "outputs": [
    {
     "data": {
      "text/plain": [
       "'Welcome To The Python'"
      ]
     },
     "execution_count": 47,
     "metadata": {},
     "output_type": "execute_result"
    }
   ],
   "source": [
    "my_str.title()"
   ]
  },
  {
   "cell_type": "code",
   "execution_count": 49,
   "id": "f67c07b8-7765-46d8-b10d-b1dd7bb170aa",
   "metadata": {},
   "outputs": [
    {
     "data": {
      "text/plain": [
       "'Welcome To The Python'"
      ]
     },
     "execution_count": 49,
     "metadata": {},
     "output_type": "execute_result"
    }
   ],
   "source": [
    "my_str.title()"
   ]
  },
  {
   "cell_type": "code",
   "execution_count": 51,
   "id": "33501e73-00d1-4a03-bdd1-6695e01f6003",
   "metadata": {},
   "outputs": [
    {
     "data": {
      "text/plain": [
       "'Welcome To The Python'"
      ]
     },
     "execution_count": 51,
     "metadata": {},
     "output_type": "execute_result"
    }
   ],
   "source": [
    "my_str.title()"
   ]
  },
  {
   "cell_type": "code",
   "execution_count": 53,
   "id": "ed472f47-587f-4c69-b0f7-5461ec222366",
   "metadata": {},
   "outputs": [
    {
     "data": {
      "text/plain": [
       "'Welcome To The Python'"
      ]
     },
     "execution_count": 53,
     "metadata": {},
     "output_type": "execute_result"
    }
   ],
   "source": [
    "my_str.title()"
   ]
  },
  {
   "cell_type": "code",
   "execution_count": 55,
   "id": "c272ed07-fd35-416d-94ed-b26431f902a6",
   "metadata": {},
   "outputs": [
    {
     "data": {
      "text/plain": [
       "'Welcome To The Python'"
      ]
     },
     "execution_count": 55,
     "metadata": {},
     "output_type": "execute_result"
    }
   ],
   "source": [
    "my_str.title()"
   ]
  },
  {
   "cell_type": "code",
   "execution_count": 57,
   "id": "9bde578b-ab02-4a02-a48c-9d958ff843dc",
   "metadata": {},
   "outputs": [
    {
     "data": {
      "text/plain": [
       "'Welcome To The Python'"
      ]
     },
     "execution_count": 57,
     "metadata": {},
     "output_type": "execute_result"
    }
   ],
   "source": [
    "my_str.title()"
   ]
  },
  {
   "cell_type": "code",
   "execution_count": 59,
   "id": "ffba961d-af4a-4817-a749-b585f31dd98a",
   "metadata": {},
   "outputs": [
    {
     "data": {
      "text/plain": [
       "'Welcome To The Python'"
      ]
     },
     "execution_count": 59,
     "metadata": {},
     "output_type": "execute_result"
    }
   ],
   "source": [
    "my_str.title()"
   ]
  },
  {
   "cell_type": "code",
   "execution_count": 61,
   "id": "12f23ccd-0e75-4299-b9ec-fa3fa6a5a315",
   "metadata": {},
   "outputs": [
    {
     "data": {
      "text/plain": [
       "'Welcome To The Python'"
      ]
     },
     "execution_count": 61,
     "metadata": {},
     "output_type": "execute_result"
    }
   ],
   "source": [
    "my_str.title()"
   ]
  },
  {
   "cell_type": "code",
   "execution_count": 63,
   "id": "e583ac30-96d0-46d5-9816-f6e9e283b534",
   "metadata": {},
   "outputs": [
    {
     "data": {
      "text/plain": [
       "'Welcome To The Python'"
      ]
     },
     "execution_count": 63,
     "metadata": {},
     "output_type": "execute_result"
    }
   ],
   "source": [
    "my_str.title()"
   ]
  },
  {
   "cell_type": "code",
   "execution_count": 65,
   "id": "89ddcb15-ed86-4037-8688-20806e4c1b14",
   "metadata": {},
   "outputs": [
    {
     "data": {
      "text/plain": [
       "'WELCOME TO THE PYTHON'"
      ]
     },
     "execution_count": 65,
     "metadata": {},
     "output_type": "execute_result"
    }
   ],
   "source": [
    "my_str.upper()"
   ]
  },
  {
   "cell_type": "code",
   "execution_count": 67,
   "id": "9b6b880a-039d-4c00-9f3e-0227cdf410a9",
   "metadata": {},
   "outputs": [
    {
     "data": {
      "text/plain": [
       "'welcome to the python'"
      ]
     },
     "execution_count": 67,
     "metadata": {},
     "output_type": "execute_result"
    }
   ],
   "source": [
    "my_str.lower()"
   ]
  },
  {
   "cell_type": "code",
   "execution_count": 3,
   "id": "3d613abe-3d71-4f4f-be9a-3113d50283ba",
   "metadata": {},
   "outputs": [],
   "source": [
    "my_str = \"Welcome to the Python\""
   ]
  },
  {
   "cell_type": "code",
   "execution_count": 5,
   "id": "ccad181a-f147-4b66-ae10-870e1085535d",
   "metadata": {},
   "outputs": [
    {
     "data": {
      "text/plain": [
       "'Welcome to the Python'"
      ]
     },
     "execution_count": 5,
     "metadata": {},
     "output_type": "execute_result"
    }
   ],
   "source": [
    "my_str"
   ]
  },
  {
   "cell_type": "code",
   "execution_count": 7,
   "id": "a5ba059e-6c88-46ab-a3b3-ebf226c2c8da",
   "metadata": {},
   "outputs": [],
   "source": [
    "a = \"python is very interesting and python is very easy and python is versatile\""
   ]
  },
  {
   "cell_type": "code",
   "execution_count": 9,
   "id": "e5d45cd7-d77f-45f7-8702-65ebab757c0a",
   "metadata": {},
   "outputs": [
    {
     "data": {
      "text/plain": [
       "'sql is very interesting and sql is very easy and python is versatile'"
      ]
     },
     "execution_count": 9,
     "metadata": {},
     "output_type": "execute_result"
    }
   ],
   "source": [
    "a.replace(\"python\",\"sql\",2)"
   ]
  },
  {
   "cell_type": "code",
   "execution_count": 11,
   "id": "73738aab-0d36-4379-ad60-5669a8e98b8f",
   "metadata": {},
   "outputs": [
    {
     "data": {
      "text/plain": [
       "'Welcome to the Python'"
      ]
     },
     "execution_count": 11,
     "metadata": {},
     "output_type": "execute_result"
    }
   ],
   "source": [
    "my_str.replace(\"The\", \"data science\")"
   ]
  },
  {
   "cell_type": "code",
   "execution_count": 13,
   "id": "55facadb-0195-424b-bca6-1ac2cda12418",
   "metadata": {},
   "outputs": [
    {
     "data": {
      "text/plain": [
       "'Welcome to the Python'"
      ]
     },
     "execution_count": 13,
     "metadata": {},
     "output_type": "execute_result"
    }
   ],
   "source": [
    "my_str"
   ]
  },
  {
   "cell_type": "code",
   "execution_count": 15,
   "id": "ab25b9fc-db04-4d27-8d6f-0592cdd5ef86",
   "metadata": {},
   "outputs": [],
   "source": [
    "m = \"system\""
   ]
  },
  {
   "cell_type": "code",
   "execution_count": 17,
   "id": "c101a00d-0ed7-4d89-85d5-833ec1cda974",
   "metadata": {},
   "outputs": [
    {
     "data": {
      "text/plain": [
       "'system'"
      ]
     },
     "execution_count": 17,
     "metadata": {},
     "output_type": "execute_result"
    }
   ],
   "source": [
    "m"
   ]
  },
  {
   "cell_type": "code",
   "execution_count": 19,
   "id": "7da0ce50-345b-41b3-8bcf-17f9afea2f29",
   "metadata": {},
   "outputs": [],
   "source": [
    "h = \"machine456\""
   ]
  },
  {
   "cell_type": "code",
   "execution_count": 21,
   "id": "935def25-70c3-480a-b061-64783e34f4ae",
   "metadata": {},
   "outputs": [
    {
     "ename": "TypeError",
     "evalue": "replace expected at least 2 arguments, got 1",
     "output_type": "error",
     "traceback": [
      "\u001b[1;31m---------------------------------------------------------------------------\u001b[0m",
      "\u001b[1;31mTypeError\u001b[0m                                 Traceback (most recent call last)",
      "Cell \u001b[1;32mIn[21], line 1\u001b[0m\n\u001b[1;32m----> 1\u001b[0m h\u001b[38;5;241m.\u001b[39mreplace(\u001b[38;5;124m\"\u001b[39m\u001b[38;5;124m456, 1500\u001b[39m\u001b[38;5;124m\"\u001b[39m)\n",
      "\u001b[1;31mTypeError\u001b[0m: replace expected at least 2 arguments, got 1"
     ]
    }
   ],
   "source": [
    "h.replace(\"456, 1500\")"
   ]
  },
  {
   "cell_type": "code",
   "execution_count": 23,
   "id": "ac6fe1cb-2b4a-4162-b29f-540cebb66502",
   "metadata": {},
   "outputs": [],
   "source": [
    "a = \"my world\""
   ]
  },
  {
   "cell_type": "code",
   "execution_count": 25,
   "id": "58dce6e7-8bdf-4063-b540-fc907240929d",
   "metadata": {},
   "outputs": [
    {
     "data": {
      "text/plain": [
       "'Your world'"
      ]
     },
     "execution_count": 25,
     "metadata": {},
     "output_type": "execute_result"
    }
   ],
   "source": [
    "a.replace(\"my world\", \"Your world\")"
   ]
  },
  {
   "cell_type": "code",
   "execution_count": 27,
   "id": "85f3c0b8-f4d7-42fc-99d8-ddfd7b9bef50",
   "metadata": {},
   "outputs": [
    {
     "data": {
      "text/plain": [
       "'Welcome to the Python'"
      ]
     },
     "execution_count": 27,
     "metadata": {},
     "output_type": "execute_result"
    }
   ],
   "source": [
    "my_str"
   ]
  },
  {
   "cell_type": "code",
   "execution_count": 29,
   "id": "9755a5e1-0ce0-4194-8fec-7f4afe8471bd",
   "metadata": {},
   "outputs": [
    {
     "data": {
      "text/plain": [
       "'Welcome to the Python'"
      ]
     },
     "execution_count": 29,
     "metadata": {},
     "output_type": "execute_result"
    }
   ],
   "source": [
    "my_str"
   ]
  },
  {
   "cell_type": "code",
   "execution_count": 31,
   "id": "ee99701b-e79b-47f8-851b-30d982c3856c",
   "metadata": {},
   "outputs": [
    {
     "data": {
      "text/plain": [
       "'Welcome to the Python'"
      ]
     },
     "execution_count": 31,
     "metadata": {},
     "output_type": "execute_result"
    }
   ],
   "source": [
    "my_str"
   ]
  },
  {
   "cell_type": "code",
   "execution_count": 33,
   "id": "4b22eede-4dfc-44d6-b448-52b68235a66c",
   "metadata": {},
   "outputs": [
    {
     "data": {
      "text/plain": [
       "-1"
      ]
     },
     "execution_count": 33,
     "metadata": {},
     "output_type": "execute_result"
    }
   ],
   "source": [
    "my_str.find(\"good\")"
   ]
  },
  {
   "cell_type": "code",
   "execution_count": 35,
   "id": "3a251c2f-a0b9-4b15-af50-082250d5113a",
   "metadata": {},
   "outputs": [
    {
     "data": {
      "text/plain": [
       "-1"
      ]
     },
     "execution_count": 35,
     "metadata": {},
     "output_type": "execute_result"
    }
   ],
   "source": [
    "my_str.find(\"nature\")"
   ]
  },
  {
   "cell_type": "code",
   "execution_count": 37,
   "id": "92d07fd6-ebef-40e5-b262-821c1c82d2a1",
   "metadata": {},
   "outputs": [
    {
     "data": {
      "text/plain": [
       "8"
      ]
     },
     "execution_count": 37,
     "metadata": {},
     "output_type": "execute_result"
    }
   ],
   "source": [
    "my_str.find(\"t\")"
   ]
  },
  {
   "cell_type": "code",
   "execution_count": 39,
   "id": "22465f67-0b18-4898-b7f7-bf87ae3457d2",
   "metadata": {},
   "outputs": [
    {
     "data": {
      "text/plain": [
       "'Welcome to the Python'"
      ]
     },
     "execution_count": 39,
     "metadata": {},
     "output_type": "execute_result"
    }
   ],
   "source": [
    "my_str"
   ]
  },
  {
   "cell_type": "code",
   "execution_count": null,
   "id": "670e9609-55a2-435f-bf2a-eaf09dfcc3a9",
   "metadata": {},
   "outputs": [],
   "source": []
  }
 ],
 "metadata": {
  "kernelspec": {
   "display_name": "Python [conda env:base] *",
   "language": "python",
   "name": "conda-base-py"
  },
  "language_info": {
   "codemirror_mode": {
    "name": "ipython",
    "version": 3
   },
   "file_extension": ".py",
   "mimetype": "text/x-python",
   "name": "python",
   "nbconvert_exporter": "python",
   "pygments_lexer": "ipython3",
   "version": "3.12.7"
  }
 },
 "nbformat": 4,
 "nbformat_minor": 5
}
