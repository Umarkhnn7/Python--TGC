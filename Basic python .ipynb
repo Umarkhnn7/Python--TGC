{
 "cells": [
  {
   "cell_type": "code",
   "execution_count": null,
   "id": "5a7225c8-869f-4b4d-b353-bcd2d6200960",
   "metadata": {},
   "outputs": [],
   "source": [
    "# typecasting: one Data type can be converted into another data type"
   ]
  },
  {
   "cell_type": "code",
   "execution_count": 5,
   "id": "14303acc-5649-408b-9c1a-627a43489ae3",
   "metadata": {},
   "outputs": [
    {
     "name": "stdin",
     "output_type": "stream",
     "text": [
      "enter your name Umar\n"
     ]
    }
   ],
   "source": [
    "name = input (\"enter your name\")"
   ]
  },
  {
   "cell_type": "code",
   "execution_count": 7,
   "id": "77ecc429-6082-4db5-a709-4c50fa5928ed",
   "metadata": {},
   "outputs": [
    {
     "data": {
      "text/plain": [
       "'Umar'"
      ]
     },
     "execution_count": 7,
     "metadata": {},
     "output_type": "execute_result"
    }
   ],
   "source": [
    "name"
   ]
  },
  {
   "cell_type": "code",
   "execution_count": 11,
   "id": "eb2929e8-b77d-4903-81eb-6b45f6e3df65",
   "metadata": {},
   "outputs": [
    {
     "data": {
      "text/plain": [
       "str"
      ]
     },
     "execution_count": 11,
     "metadata": {},
     "output_type": "execute_result"
    }
   ],
   "source": [
    "type (name)"
   ]
  },
  {
   "cell_type": "code",
   "execution_count": 17,
   "id": "f947237a-c3d9-4923-94b5-500d2af98a6c",
   "metadata": {},
   "outputs": [
    {
     "name": "stdin",
     "output_type": "stream",
     "text": [
      "Enter your age 30\n"
     ]
    }
   ],
   "source": [
    "age= input(\"Enter your age\")"
   ]
  },
  {
   "cell_type": "code",
   "execution_count": 19,
   "id": "24fad820-997a-4a0e-ba71-5a2d14de9c4e",
   "metadata": {},
   "outputs": [
    {
     "data": {
      "text/plain": [
       "'30'"
      ]
     },
     "execution_count": 19,
     "metadata": {},
     "output_type": "execute_result"
    }
   ],
   "source": [
    "age"
   ]
  },
  {
   "cell_type": "code",
   "execution_count": 21,
   "id": "777fd301-f9e0-4e5f-9313-aa5d83e2063d",
   "metadata": {},
   "outputs": [
    {
     "data": {
      "text/plain": [
       "str"
      ]
     },
     "execution_count": 21,
     "metadata": {},
     "output_type": "execute_result"
    }
   ],
   "source": [
    "type(age)"
   ]
  },
  {
   "cell_type": "code",
   "execution_count": 23,
   "id": "2be2f440-686d-41a9-a6a8-d891f7338c53",
   "metadata": {},
   "outputs": [],
   "source": [
    "age= int(age)"
   ]
  },
  {
   "cell_type": "code",
   "execution_count": 25,
   "id": "01d6efc6-6dae-44b1-95b3-5d89791cf07e",
   "metadata": {},
   "outputs": [
    {
     "data": {
      "text/plain": [
       "30"
      ]
     },
     "execution_count": 25,
     "metadata": {},
     "output_type": "execute_result"
    }
   ],
   "source": [
    "age"
   ]
  },
  {
   "cell_type": "code",
   "execution_count": 27,
   "id": "4e831dc2-a0b8-4f26-ac5e-9f06b60e3081",
   "metadata": {},
   "outputs": [
    {
     "data": {
      "text/plain": [
       "int"
      ]
     },
     "execution_count": 27,
     "metadata": {},
     "output_type": "execute_result"
    }
   ],
   "source": [
    "type(age)"
   ]
  },
  {
   "cell_type": "code",
   "execution_count": 29,
   "id": "043defde-b3a3-47e7-b088-ee9eb9b2756c",
   "metadata": {},
   "outputs": [],
   "source": [
    "age=float(age)"
   ]
  },
  {
   "cell_type": "code",
   "execution_count": 31,
   "id": "0861fd34-a8e2-458f-912d-02f1ef635e03",
   "metadata": {},
   "outputs": [
    {
     "data": {
      "text/plain": [
       "30.0"
      ]
     },
     "execution_count": 31,
     "metadata": {},
     "output_type": "execute_result"
    }
   ],
   "source": [
    "age"
   ]
  },
  {
   "cell_type": "code",
   "execution_count": 33,
   "id": "a418f6a4-11ff-42f9-82bd-8226bf2a6d67",
   "metadata": {},
   "outputs": [
    {
     "data": {
      "text/plain": [
       "float"
      ]
     },
     "execution_count": 33,
     "metadata": {},
     "output_type": "execute_result"
    }
   ],
   "source": [
    "type(age)"
   ]
  },
  {
   "cell_type": "code",
   "execution_count": 35,
   "id": "5882440c-6f4c-4adb-84f2-3c2a2374905b",
   "metadata": {},
   "outputs": [],
   "source": [
    "age=complex(age)"
   ]
  },
  {
   "cell_type": "code",
   "execution_count": 37,
   "id": "0e2ebba9-369e-44eb-8efe-3e07d1f32ac6",
   "metadata": {},
   "outputs": [
    {
     "data": {
      "text/plain": [
       "(30+0j)"
      ]
     },
     "execution_count": 37,
     "metadata": {},
     "output_type": "execute_result"
    }
   ],
   "source": [
    "age"
   ]
  },
  {
   "cell_type": "code",
   "execution_count": 41,
   "id": "cd8fe2a3-4b2c-437f-accd-09ea78837864",
   "metadata": {},
   "outputs": [
    {
     "data": {
      "text/plain": [
       "complex"
      ]
     },
     "execution_count": 41,
     "metadata": {},
     "output_type": "execute_result"
    }
   ],
   "source": [
    "type(age)"
   ]
  },
  {
   "cell_type": "code",
   "execution_count": 43,
   "id": "5f7d0548-a41d-4138-8266-b80fec0a728d",
   "metadata": {},
   "outputs": [],
   "source": [
    "age=str(age)"
   ]
  },
  {
   "cell_type": "code",
   "execution_count": 45,
   "id": "e3db1b8d-f720-4529-942c-84b0f61d9d66",
   "metadata": {},
   "outputs": [
    {
     "data": {
      "text/plain": [
       "'(30+0j)'"
      ]
     },
     "execution_count": 45,
     "metadata": {},
     "output_type": "execute_result"
    }
   ],
   "source": [
    "age"
   ]
  },
  {
   "cell_type": "code",
   "execution_count": 47,
   "id": "3c0533ba-6070-4b53-aee3-6402c01cf730",
   "metadata": {},
   "outputs": [
    {
     "name": "stdin",
     "output_type": "stream",
     "text": [
      "enter your age 55\n"
     ]
    }
   ],
   "source": [
    "age =int(input(\"enter your age\"))"
   ]
  },
  {
   "cell_type": "code",
   "execution_count": 49,
   "id": "1a8cfb1b-6c86-48dc-8544-3981ea93b95b",
   "metadata": {},
   "outputs": [
    {
     "data": {
      "text/plain": [
       "55"
      ]
     },
     "execution_count": 49,
     "metadata": {},
     "output_type": "execute_result"
    }
   ],
   "source": [
    "age"
   ]
  },
  {
   "cell_type": "code",
   "execution_count": 51,
   "id": "da132130-697b-4817-9e1e-162a9932357e",
   "metadata": {},
   "outputs": [
    {
     "data": {
      "text/plain": [
       "int"
      ]
     },
     "execution_count": 51,
     "metadata": {},
     "output_type": "execute_result"
    }
   ],
   "source": [
    "type(age)"
   ]
  },
  {
   "cell_type": "code",
   "execution_count": 55,
   "id": "34b1628b-dc70-4444-8100-8112481d00d2",
   "metadata": {},
   "outputs": [
    {
     "name": "stdin",
     "output_type": "stream",
     "text": [
      "Enter your marks 90\n"
     ]
    }
   ],
   "source": [
    "marks= int(input(\"Enter your marks\"))"
   ]
  },
  {
   "cell_type": "code",
   "execution_count": 57,
   "id": "d91232b1-e5d6-4246-bae2-45b41c33452e",
   "metadata": {},
   "outputs": [
    {
     "data": {
      "text/plain": [
       "90"
      ]
     },
     "execution_count": 57,
     "metadata": {},
     "output_type": "execute_result"
    }
   ],
   "source": [
    "marks"
   ]
  },
  {
   "cell_type": "code",
   "execution_count": 59,
   "id": "ecae0512-da39-4510-83a2-eee83f2967c3",
   "metadata": {},
   "outputs": [
    {
     "data": {
      "text/plain": [
       "int"
      ]
     },
     "execution_count": 59,
     "metadata": {},
     "output_type": "execute_result"
    }
   ],
   "source": [
    "type(marks)"
   ]
  },
  {
   "cell_type": "code",
   "execution_count": 61,
   "id": "6f1c258c-307b-4eb6-ad6d-35de58b4d7ed",
   "metadata": {},
   "outputs": [],
   "source": [
    "p=\"150\""
   ]
  },
  {
   "cell_type": "code",
   "execution_count": 63,
   "id": "d44f91a9-0ff0-494c-9a3f-85aa64ad705d",
   "metadata": {},
   "outputs": [
    {
     "data": {
      "text/plain": [
       "str"
      ]
     },
     "execution_count": 63,
     "metadata": {},
     "output_type": "execute_result"
    }
   ],
   "source": [
    "type(p)"
   ]
  },
  {
   "cell_type": "code",
   "execution_count": 65,
   "id": "5f1cae9c-7d2f-439a-bb67-1328de01eba9",
   "metadata": {},
   "outputs": [],
   "source": [
    "p= int (p)"
   ]
  },
  {
   "cell_type": "code",
   "execution_count": 67,
   "id": "1c46f8d2-00c2-4dd0-9cca-3f1016a850b6",
   "metadata": {},
   "outputs": [
    {
     "data": {
      "text/plain": [
       "150"
      ]
     },
     "execution_count": 67,
     "metadata": {},
     "output_type": "execute_result"
    }
   ],
   "source": [
    "p"
   ]
  },
  {
   "cell_type": "code",
   "execution_count": 69,
   "id": "244053c1-66b3-4acd-99ae-c1ae12312214",
   "metadata": {},
   "outputs": [
    {
     "data": {
      "text/plain": [
       "int"
      ]
     },
     "execution_count": 69,
     "metadata": {},
     "output_type": "execute_result"
    }
   ],
   "source": [
    "type(p)"
   ]
  },
  {
   "cell_type": "code",
   "execution_count": 73,
   "id": "caa606e4-6483-45ff-b4ce-61adc884a73c",
   "metadata": {},
   "outputs": [],
   "source": [
    "n =\"data\""
   ]
  },
  {
   "cell_type": "code",
   "execution_count": 75,
   "id": "f00936e2-0db8-4f76-a322-c31e89e699c9",
   "metadata": {},
   "outputs": [
    {
     "ename": "NameError",
     "evalue": "name 'r' is not defined",
     "output_type": "error",
     "traceback": [
      "\u001b[1;31m---------------------------------------------------------------------------\u001b[0m",
      "\u001b[1;31mNameError\u001b[0m                                 Traceback (most recent call last)",
      "Cell \u001b[1;32mIn[75], line 1\u001b[0m\n\u001b[1;32m----> 1\u001b[0m n \u001b[38;5;241m=\u001b[39m\u001b[38;5;28mint\u001b[39m(r)\n",
      "\u001b[1;31mNameError\u001b[0m: name 'r' is not defined"
     ]
    }
   ],
   "source": [
    "n =int(r)"
   ]
  },
  {
   "cell_type": "code",
   "execution_count": 77,
   "id": "76298696-8538-48e9-ba4d-167127fb2952",
   "metadata": {},
   "outputs": [
    {
     "ename": "ValueError",
     "evalue": "could not convert string to float: 'data'",
     "output_type": "error",
     "traceback": [
      "\u001b[1;31m---------------------------------------------------------------------------\u001b[0m",
      "\u001b[1;31mValueError\u001b[0m                                Traceback (most recent call last)",
      "Cell \u001b[1;32mIn[77], line 1\u001b[0m\n\u001b[1;32m----> 1\u001b[0m \u001b[38;5;28mfloat\u001b[39m(n)\n",
      "\u001b[1;31mValueError\u001b[0m: could not convert string to float: 'data'"
     ]
    }
   ],
   "source": [
    "float(n)"
   ]
  },
  {
   "cell_type": "code",
   "execution_count": 79,
   "id": "5a09ed5d-a16d-47a7-a444-98983fea3b55",
   "metadata": {},
   "outputs": [
    {
     "ename": "ValueError",
     "evalue": "complex() arg is a malformed string",
     "output_type": "error",
     "traceback": [
      "\u001b[1;31m---------------------------------------------------------------------------\u001b[0m",
      "\u001b[1;31mValueError\u001b[0m                                Traceback (most recent call last)",
      "Cell \u001b[1;32mIn[79], line 1\u001b[0m\n\u001b[1;32m----> 1\u001b[0m \u001b[38;5;28mcomplex\u001b[39m(n)\n",
      "\u001b[1;31mValueError\u001b[0m: complex() arg is a malformed string"
     ]
    }
   ],
   "source": [
    "complex(n)"
   ]
  },
  {
   "cell_type": "code",
   "execution_count": 81,
   "id": "317f0393-f1af-4da2-9bb1-17adfccf0393",
   "metadata": {},
   "outputs": [],
   "source": [
    "# Only logical data can be typecasted"
   ]
  },
  {
   "cell_type": "code",
   "execution_count": null,
   "id": "f5e2720d-70c0-47dd-b4b9-d0863f0d51fc",
   "metadata": {},
   "outputs": [],
   "source": []
  },
  {
   "cell_type": "markdown",
   "id": "8aee4f95-1c7e-463b-9950-6ac7ab7aff84",
   "metadata": {},
   "source": [
    "# Data types in Python\n",
    "\n",
    "* Integers-Perfect Nunmber\n",
    "* Float-Decimal Number\n",
    "* Complex-a+bj\n",
    "* String- it stores text data,anything we write in single,double,or triples quotes\n",
    "* Boolean- True or False\n",
    "* None- which is none of above"
   ]
  },
  {
   "cell_type": "code",
   "execution_count": 18,
   "id": "4a5e8dfd-6b99-4005-a2bd-c14e84f5de17",
   "metadata": {},
   "outputs": [],
   "source": [
    "# Integers"
   ]
  },
  {
   "cell_type": "code",
   "execution_count": 1,
   "id": "ce598aaf-8dcd-442e-8b71-7882ec04f377",
   "metadata": {},
   "outputs": [
    {
     "name": "stdout",
     "output_type": "stream",
     "text": [
      "25\n"
     ]
    }
   ],
   "source": [
    "print(25)"
   ]
  },
  {
   "cell_type": "code",
   "execution_count": 5,
   "id": "3a8f3076-507e-41e3-8353-65f0b7201740",
   "metadata": {},
   "outputs": [
    {
     "name": "stdout",
     "output_type": "stream",
     "text": [
      "65\n"
     ]
    }
   ],
   "source": [
    "print(65)"
   ]
  },
  {
   "cell_type": "code",
   "execution_count": 7,
   "id": "c923adf3-cc31-4f6d-8748-7e7e388a23cf",
   "metadata": {},
   "outputs": [
    {
     "name": "stdout",
     "output_type": "stream",
     "text": [
      "78\n"
     ]
    }
   ],
   "source": [
    "print(78)"
   ]
  },
  {
   "cell_type": "code",
   "execution_count": 9,
   "id": "4df39f2f-62cb-47d8-9da3-6fff80f4a924",
   "metadata": {},
   "outputs": [
    {
     "name": "stdout",
     "output_type": "stream",
     "text": [
      "45\n"
     ]
    }
   ],
   "source": [
    "print(45)"
   ]
  },
  {
   "cell_type": "code",
   "execution_count": 11,
   "id": "ef75cd2a-5b7b-45d7-9947-80a37c336b3c",
   "metadata": {},
   "outputs": [],
   "source": [
    "#Float"
   ]
  },
  {
   "cell_type": "code",
   "execution_count": 15,
   "id": "e52d723f-f963-45b1-968d-2fc1b964a19d",
   "metadata": {},
   "outputs": [
    {
     "name": "stdout",
     "output_type": "stream",
     "text": [
      "25.36\n"
     ]
    }
   ],
   "source": [
    "print(25.36)"
   ]
  },
  {
   "cell_type": "code",
   "execution_count": 3,
   "id": "b9211eaf-a5af-4f40-b789-15734869cdec",
   "metadata": {},
   "outputs": [
    {
     "name": "stdout",
     "output_type": "stream",
     "text": [
      "32.25\n"
     ]
    }
   ],
   "source": [
    "print(32.25)"
   ]
  },
  {
   "cell_type": "code",
   "execution_count": 5,
   "id": "3cc6d0e9-3bee-443b-8a61-6e3c26e4ce74",
   "metadata": {},
   "outputs": [
    {
     "name": "stdout",
     "output_type": "stream",
     "text": [
      "78.14\n"
     ]
    }
   ],
   "source": [
    "print(78.14)"
   ]
  },
  {
   "cell_type": "code",
   "execution_count": 1,
   "id": "091dfe9b-b525-4941-b405-8af6ba7e67c6",
   "metadata": {},
   "outputs": [
    {
     "name": "stdout",
     "output_type": "stream",
     "text": [
      "214.563\n"
     ]
    }
   ],
   "source": [
    "print(214.563)"
   ]
  },
  {
   "cell_type": "code",
   "execution_count": 3,
   "id": "4ced3bcf-8f77-4e28-a8ad-b95321605b9a",
   "metadata": {},
   "outputs": [
    {
     "name": "stdout",
     "output_type": "stream",
     "text": [
      "123.258\n"
     ]
    }
   ],
   "source": [
    "print(123.258)"
   ]
  },
  {
   "cell_type": "code",
   "execution_count": 18,
   "id": "820402ce-9aff-4171-935f-5433e3add856",
   "metadata": {},
   "outputs": [
    {
     "name": "stdout",
     "output_type": "stream",
     "text": [
      "247.25\n"
     ]
    }
   ],
   "source": [
    "print(247.25)"
   ]
  },
  {
   "cell_type": "code",
   "execution_count": 9,
   "id": "d29b4882-719e-40b7-8c6e-8393766abe3c",
   "metadata": {},
   "outputs": [
    {
     "name": "stdout",
     "output_type": "stream",
     "text": [
      "25.35\n"
     ]
    }
   ],
   "source": [
    "print(25.35)"
   ]
  },
  {
   "cell_type": "code",
   "execution_count": null,
   "id": "6a40648f-b269-4a66-a2bb-a9102259a308",
   "metadata": {},
   "outputs": [],
   "source": []
  },
  {
   "cell_type": "code",
   "execution_count": null,
   "id": "d17fb960-4ad8-4030-966e-ee44500a2bb0",
   "metadata": {},
   "outputs": [],
   "source": []
  },
  {
   "cell_type": "code",
   "execution_count": 20,
   "id": "0edeae19-7522-4660-95e1-5ba698d947e0",
   "metadata": {},
   "outputs": [
    {
     "name": "stdout",
     "output_type": "stream",
     "text": [
      "458.254\n"
     ]
    }
   ],
   "source": [
    "print(458.254)"
   ]
  },
  {
   "cell_type": "code",
   "execution_count": 22,
   "id": "10fdbdc3-1853-4bfe-ad0f-6cd587022abd",
   "metadata": {},
   "outputs": [],
   "source": [
    "#complex a=bj"
   ]
  },
  {
   "cell_type": "code",
   "execution_count": 5,
   "id": "c8a91d43-d987-472c-bc3f-840e9e5eccfc",
   "metadata": {},
   "outputs": [
    {
     "name": "stdout",
     "output_type": "stream",
     "text": [
      "(78+25j)\n"
     ]
    }
   ],
   "source": [
    "print(78+25j)"
   ]
  },
  {
   "cell_type": "code",
   "execution_count": 7,
   "id": "9f81d06b-cba9-484f-b025-a5bd2e995181",
   "metadata": {},
   "outputs": [
    {
     "name": "stdout",
     "output_type": "stream",
     "text": [
      "(12+58j)\n"
     ]
    }
   ],
   "source": [
    "print(12+58j)"
   ]
  },
  {
   "cell_type": "code",
   "execution_count": 9,
   "id": "ed73fdda-83b3-4116-a1d3-6db421c23dec",
   "metadata": {},
   "outputs": [
    {
     "name": "stdout",
     "output_type": "stream",
     "text": [
      "(45+65j)\n"
     ]
    }
   ],
   "source": [
    "print(45+65j)"
   ]
  },
  {
   "cell_type": "code",
   "execution_count": 24,
   "id": "9a038145-3c58-44fb-a575-225b9e08693d",
   "metadata": {},
   "outputs": [
    {
     "name": "stdout",
     "output_type": "stream",
     "text": [
      "(7+78j)\n"
     ]
    }
   ],
   "source": [
    "print(7+78j)"
   ]
  },
  {
   "cell_type": "code",
   "execution_count": 11,
   "id": "d93a185a-3150-45a4-a085-44604ae9713c",
   "metadata": {},
   "outputs": [
    {
     "name": "stdout",
     "output_type": "stream",
     "text": [
      "(89+65j)\n"
     ]
    }
   ],
   "source": [
    "print(89+65j)"
   ]
  },
  {
   "cell_type": "code",
   "execution_count": 13,
   "id": "08ce46ea-e786-4b09-af94-6db61e01dd76",
   "metadata": {},
   "outputs": [
    {
     "name": "stdout",
     "output_type": "stream",
     "text": [
      "(45-65j)\n"
     ]
    }
   ],
   "source": [
    "print(45-65j)"
   ]
  },
  {
   "cell_type": "code",
   "execution_count": 15,
   "id": "715ea3f6-0da0-45d8-8e48-5c1478359309",
   "metadata": {},
   "outputs": [
    {
     "name": "stdout",
     "output_type": "stream",
     "text": [
      "(7+78j)\n"
     ]
    }
   ],
   "source": [
    "print(7+78j)"
   ]
  },
  {
   "cell_type": "code",
   "execution_count": 21,
   "id": "ec7cff31-7d65-4595-8c30-768f9a83ec2f",
   "metadata": {},
   "outputs": [
    {
     "name": "stdout",
     "output_type": "stream",
     "text": [
      "225j\n"
     ]
    }
   ],
   "source": [
    "print(45*5j)"
   ]
  },
  {
   "cell_type": "code",
   "execution_count": 23,
   "id": "7b4b4856-a0b0-4053-a718-7cd295214479",
   "metadata": {},
   "outputs": [
    {
     "name": "stdout",
     "output_type": "stream",
     "text": [
      "45\n"
     ]
    }
   ],
   "source": [
    "print(20+25)"
   ]
  },
  {
   "cell_type": "code",
   "execution_count": 25,
   "id": "c584c044-8c24-4c83-8d8b-7e6343583ac7",
   "metadata": {},
   "outputs": [
    {
     "name": "stdout",
     "output_type": "stream",
     "text": [
      "False\n"
     ]
    }
   ],
   "source": [
    "print(65==25)"
   ]
  },
  {
   "cell_type": "code",
   "execution_count": 1,
   "id": "18bb517f-0095-4244-8688-60bb506f64fb",
   "metadata": {},
   "outputs": [
    {
     "name": "stdout",
     "output_type": "stream",
     "text": [
      "(15+2j)\n"
     ]
    }
   ],
   "source": [
    "print(15+2j)"
   ]
  },
  {
   "cell_type": "code",
   "execution_count": 3,
   "id": "7fc2c2c1-ca8f-4a22-920b-85935fb58d6c",
   "metadata": {},
   "outputs": [
    {
     "name": "stdout",
     "output_type": "stream",
     "text": [
      "(15+98j)\n"
     ]
    }
   ],
   "source": [
    "print(15+98j)"
   ]
  },
  {
   "cell_type": "raw",
   "id": "edae5510-c355-4d5d-aa88-eca7e53d50a5",
   "metadata": {},
   "source": []
  },
  {
   "cell_type": "code",
   "execution_count": 5,
   "id": "7ec2799b-43d7-4a41-9975-a3b97ec858a2",
   "metadata": {},
   "outputs": [
    {
     "name": "stdout",
     "output_type": "stream",
     "text": [
      "180j\n"
     ]
    }
   ],
   "source": [
    "print(36*5j)"
   ]
  },
  {
   "cell_type": "code",
   "execution_count": 28,
   "id": "bfeeb143-5a1d-4db7-9330-28eb9f3e0212",
   "metadata": {},
   "outputs": [
    {
     "name": "stdout",
     "output_type": "stream",
     "text": [
      "(45+8j)\n"
     ]
    }
   ],
   "source": [
    "print(45+8j)"
   ]
  },
  {
   "cell_type": "code",
   "execution_count": 30,
   "id": "3036ed5b-1370-4965-b059-c734d3b17045",
   "metadata": {},
   "outputs": [
    {
     "name": "stdout",
     "output_type": "stream",
     "text": [
      "(45+5j)\n"
     ]
    }
   ],
   "source": [
    "print(45+5j)"
   ]
  },
  {
   "cell_type": "code",
   "execution_count": 34,
   "id": "c6c401e6-339e-4a46-87db-96958f2c6c46",
   "metadata": {},
   "outputs": [
    {
     "name": "stdout",
     "output_type": "stream",
     "text": [
      "(589+545j)\n"
     ]
    }
   ],
   "source": [
    "print(589+545j)"
   ]
  },
  {
   "cell_type": "code",
   "execution_count": 38,
   "id": "159f58de-d2b5-4b82-8455-8065e1d95b56",
   "metadata": {},
   "outputs": [],
   "source": [
    "#string-it stores text data.anything we write in single,double,or triple quotes"
   ]
  },
  {
   "cell_type": "code",
   "execution_count": 11,
   "id": "c7380833-ae60-4d2b-8775-faa7fbcea950",
   "metadata": {},
   "outputs": [
    {
     "name": "stdout",
     "output_type": "stream",
     "text": [
      "python is dynamic in nnature\n"
     ]
    }
   ],
   "source": [
    "print(\"python is dynamic in nnature\")"
   ]
  },
  {
   "cell_type": "code",
   "execution_count": 13,
   "id": "3541ec42-0c17-40ce-a3e7-6b9dfc56a85f",
   "metadata": {},
   "outputs": [
    {
     "name": "stdout",
     "output_type": "stream",
     "text": [
      "python is very useful language\n"
     ]
    }
   ],
   "source": [
    "print(\"python is very useful language\")"
   ]
  },
  {
   "cell_type": "code",
   "execution_count": 40,
   "id": "1bfb1a94-03aa-41f2-8b13-0e6ab5216747",
   "metadata": {},
   "outputs": [
    {
     "name": "stdout",
     "output_type": "stream",
     "text": [
      "python is fun\n"
     ]
    }
   ],
   "source": [
    "print('python is fun')"
   ]
  },
  {
   "cell_type": "code",
   "execution_count": 27,
   "id": "579e4106-7832-402e-af62-c99de8fb869f",
   "metadata": {},
   "outputs": [
    {
     "name": "stdout",
     "output_type": "stream",
     "text": [
      "vivobook\n"
     ]
    }
   ],
   "source": [
    "print(\"vivobook\")"
   ]
  },
  {
   "cell_type": "code",
   "execution_count": 29,
   "id": "24e766e5-ba58-4897-8b47-97525db26e0f",
   "metadata": {},
   "outputs": [
    {
     "name": "stdout",
     "output_type": "stream",
     "text": [
      "india is my country\n"
     ]
    }
   ],
   "source": [
    "print(\"india is my country\")"
   ]
  },
  {
   "cell_type": "code",
   "execution_count": 33,
   "id": "529992a9-f6c4-4c13-97de-6e49e4c3f2c6",
   "metadata": {},
   "outputs": [
    {
     "name": "stdout",
     "output_type": "stream",
     "text": [
      "republic day\n"
     ]
    }
   ],
   "source": [
    "print(\"republic day\")"
   ]
  },
  {
   "cell_type": "code",
   "execution_count": 48,
   "id": "c315f18a-7761-459d-9966-91e48a4eee3d",
   "metadata": {},
   "outputs": [
    {
     "name": "stdout",
     "output_type": "stream",
     "text": [
      "Asus vivobook\n"
     ]
    }
   ],
   "source": [
    "print(\"Asus vivobook\")"
   ]
  },
  {
   "cell_type": "code",
   "execution_count": 50,
   "id": "d5642ce6-c960-4c72-9ada-cd5e8dfed147",
   "metadata": {},
   "outputs": [
    {
     "name": "stdout",
     "output_type": "stream",
     "text": [
      "oneplus\n"
     ]
    }
   ],
   "source": [
    "print(\"\"\"oneplus\"\"\")"
   ]
  },
  {
   "cell_type": "code",
   "execution_count": 52,
   "id": "f025c0b4-892a-4b62-95f8-a3da33090f56",
   "metadata": {},
   "outputs": [
    {
     "name": "stdout",
     "output_type": "stream",
     "text": [
      "i have got 30 marks\n"
     ]
    }
   ],
   "source": [
    "print(\"i have got 30 marks\")"
   ]
  },
  {
   "cell_type": "code",
   "execution_count": 54,
   "id": "dc41b3cb-3b33-4d57-a0a3-9b9c31fd68c0",
   "metadata": {},
   "outputs": [
    {
     "name": "stdout",
     "output_type": "stream",
     "text": [
      "BMW\n"
     ]
    }
   ],
   "source": [
    "print(\"\"\"BMW\"\"\")"
   ]
  },
  {
   "cell_type": "code",
   "execution_count": 56,
   "id": "621231c9-8c2b-49fa-ba07-936b7af099d5",
   "metadata": {},
   "outputs": [
    {
     "name": "stdout",
     "output_type": "stream",
     "text": [
      "TGC\n"
     ]
    }
   ],
   "source": [
    "print(\"\"\"TGC\"\"\")"
   ]
  },
  {
   "cell_type": "code",
   "execution_count": 35,
   "id": "24dbd049-b740-4028-b47f-aeb8fe743357",
   "metadata": {},
   "outputs": [
    {
     "name": "stdout",
     "output_type": "stream",
     "text": [
      "named\n"
     ]
    }
   ],
   "source": [
    "print('named')"
   ]
  },
  {
   "cell_type": "code",
   "execution_count": 7,
   "id": "e3721910-138b-4cdb-b007-8c7bd3f918d1",
   "metadata": {},
   "outputs": [
    {
     "name": "stdout",
     "output_type": "stream",
     "text": [
      "i have completed my gradution\n"
     ]
    }
   ],
   "source": [
    "print(\"i have completed my gradution\")"
   ]
  },
  {
   "cell_type": "code",
   "execution_count": 9,
   "id": "38d81ac9-b411-4f04-b1bd-20421abecee8",
   "metadata": {},
   "outputs": [
    {
     "name": "stdout",
     "output_type": "stream",
     "text": [
      "jamia millia islamia\n"
     ]
    }
   ],
   "source": [
    "print(\"\"\"jamia millia islamia\"\"\""
   ]
  },
  {
   "cell_type": "code",
   "execution_count": 15,
   "id": "0cc11ef2-65f1-4aee-9029-0aac22cce762",
   "metadata": {},
   "outputs": [
    {
     "name": "stdout",
     "output_type": "stream",
     "text": [
      "MOHAMMAD UMAR KHAN\n"
     ]
    }
   ],
   "source": [
    "print(\"MOHAMMAD UMAR KHAN\")"
   ]
  },
  {
   "cell_type": "code",
   "execution_count": 58,
   "id": "49b8e0d0-fc5c-4ad7-a42d-564141a5530f",
   "metadata": {},
   "outputs": [],
   "source": [
    "#Boolean"
   ]
  },
  {
   "cell_type": "code",
   "execution_count": null,
   "id": "92242f0a-5529-47e8-bc4a-54b2cc73a7d4",
   "metadata": {},
   "outputs": [],
   "source": []
  },
  {
   "cell_type": "code",
   "execution_count": 60,
   "id": "fc596d43-f9be-4092-aee6-6c8c111da303",
   "metadata": {},
   "outputs": [
    {
     "name": "stdout",
     "output_type": "stream",
     "text": [
      "True\n"
     ]
    }
   ],
   "source": [
    "print(True)"
   ]
  },
  {
   "cell_type": "code",
   "execution_count": 62,
   "id": "69190921-12c6-4101-a565-bfea0a4fb2a5",
   "metadata": {},
   "outputs": [
    {
     "name": "stdout",
     "output_type": "stream",
     "text": [
      "False\n"
     ]
    }
   ],
   "source": [
    "print(False)"
   ]
  },
  {
   "cell_type": "code",
   "execution_count": 64,
   "id": "79afb7b3-35b9-4755-b6bf-b9a401ee8a00",
   "metadata": {},
   "outputs": [
    {
     "name": "stdout",
     "output_type": "stream",
     "text": [
      "True\n"
     ]
    }
   ],
   "source": [
    "print(True)"
   ]
  },
  {
   "cell_type": "code",
   "execution_count": 66,
   "id": "db31f891-9f94-4c96-aa34-c81d971f8d28",
   "metadata": {},
   "outputs": [
    {
     "name": "stdout",
     "output_type": "stream",
     "text": [
      "False\n"
     ]
    }
   ],
   "source": [
    "print(False)"
   ]
  },
  {
   "cell_type": "code",
   "execution_count": 68,
   "id": "90fd1912-18ef-49a3-a2e4-cae459e34076",
   "metadata": {},
   "outputs": [
    {
     "name": "stdout",
     "output_type": "stream",
     "text": [
      "False\n"
     ]
    }
   ],
   "source": [
    "print(False)"
   ]
  },
  {
   "cell_type": "code",
   "execution_count": 11,
   "id": "4cfb3c56-b9cc-4413-9def-e3075318711d",
   "metadata": {},
   "outputs": [
    {
     "name": "stdout",
     "output_type": "stream",
     "text": [
      "False\n"
     ]
    }
   ],
   "source": [
    "print(False)"
   ]
  },
  {
   "cell_type": "raw",
   "id": "6fdd2f59-5458-4d07-9bc7-d6ea3c85e50e",
   "metadata": {},
   "source": [
    "print(True)"
   ]
  },
  {
   "cell_type": "code",
   "execution_count": 13,
   "id": "52c291f5-bc56-4af0-9a67-20b3ee668d47",
   "metadata": {},
   "outputs": [
    {
     "name": "stdout",
     "output_type": "stream",
     "text": [
      "True\n"
     ]
    }
   ],
   "source": [
    "print(True)"
   ]
  },
  {
   "cell_type": "code",
   "execution_count": 15,
   "id": "99b6105e-c1f8-4775-a36d-f87ff98bb975",
   "metadata": {},
   "outputs": [
    {
     "name": "stdout",
     "output_type": "stream",
     "text": [
      "True\n"
     ]
    }
   ],
   "source": [
    "print(True)"
   ]
  },
  {
   "cell_type": "raw",
   "id": "d65c4d27-fc2d-4064-b35c-813b684c1567",
   "metadata": {},
   "source": []
  },
  {
   "cell_type": "code",
   "execution_count": 70,
   "id": "76fb38a5-61ed-4b13-825c-839876a16010",
   "metadata": {},
   "outputs": [],
   "source": [
    "#None"
   ]
  },
  {
   "cell_type": "code",
   "execution_count": 76,
   "id": "775f7137-417a-4ca6-83c0-8aaf4ad608fe",
   "metadata": {},
   "outputs": [
    {
     "name": "stdout",
     "output_type": "stream",
     "text": [
      "None\n"
     ]
    }
   ],
   "source": [
    "print(None)"
   ]
  },
  {
   "cell_type": "code",
   "execution_count": 17,
   "id": "2c914685-5ba2-41e5-91af-6d8b60849b78",
   "metadata": {},
   "outputs": [
    {
     "name": "stdout",
     "output_type": "stream",
     "text": [
      "None\n"
     ]
    }
   ],
   "source": [
    "print(None)"
   ]
  },
  {
   "cell_type": "code",
   "execution_count": 19,
   "id": "256bc487-acb1-435d-ba13-284e4b3bc7ae",
   "metadata": {},
   "outputs": [
    {
     "name": "stdout",
     "output_type": "stream",
     "text": [
      "None\n"
     ]
    }
   ],
   "source": [
    "print(None)"
   ]
  },
  {
   "cell_type": "code",
   "execution_count": 21,
   "id": "53f0fe9d-c012-4f41-92ae-fb78dd9c3241",
   "metadata": {},
   "outputs": [
    {
     "name": "stdout",
     "output_type": "stream",
     "text": [
      "None\n"
     ]
    }
   ],
   "source": [
    "print(None)"
   ]
  },
  {
   "cell_type": "code",
   "execution_count": 78,
   "id": "42cf7563-8bee-48c3-b5e3-b6022e212610",
   "metadata": {},
   "outputs": [
    {
     "name": "stdout",
     "output_type": "stream",
     "text": [
      "None\n"
     ]
    }
   ],
   "source": [
    "print(None)"
   ]
  },
  {
   "cell_type": "code",
   "execution_count": 80,
   "id": "94b39e5f-ba24-4563-8f4b-669954242c52",
   "metadata": {},
   "outputs": [],
   "source": [
    "#variables-These are the place holder or container to store some data or information"
   ]
  },
  {
   "cell_type": "code",
   "execution_count": 23,
   "id": "0402e6b3-b272-4e0e-a6c5-dbff43df04e4",
   "metadata": {},
   "outputs": [],
   "source": [
    "a = 56"
   ]
  },
  {
   "cell_type": "code",
   "execution_count": 25,
   "id": "8fdaf6c8-17aa-47f6-8f3d-3e9b21b289da",
   "metadata": {},
   "outputs": [],
   "source": [
    "b = 98"
   ]
  },
  {
   "cell_type": "code",
   "execution_count": 27,
   "id": "b8efdb4a-53d9-44df-8ea0-61175144298d",
   "metadata": {},
   "outputs": [],
   "source": [
    "c = 100"
   ]
  },
  {
   "cell_type": "code",
   "execution_count": 29,
   "id": "7d1a300b-d6db-4a73-a1e5-6f5daa4aa6a9",
   "metadata": {},
   "outputs": [],
   "source": [
    "d = 120"
   ]
  },
  {
   "cell_type": "code",
   "execution_count": 31,
   "id": "0fe69f38-96e3-4d50-b1c9-ee01108d1c29",
   "metadata": {},
   "outputs": [
    {
     "data": {
      "text/plain": [
       "int"
      ]
     },
     "execution_count": 31,
     "metadata": {},
     "output_type": "execute_result"
    }
   ],
   "source": [
    "type(a)"
   ]
  },
  {
   "cell_type": "code",
   "execution_count": 33,
   "id": "ad7d82e2-7b3c-456b-821b-7d96a1651a3c",
   "metadata": {},
   "outputs": [
    {
     "data": {
      "text/plain": [
       "int"
      ]
     },
     "execution_count": 33,
     "metadata": {},
     "output_type": "execute_result"
    }
   ],
   "source": [
    "type(b)"
   ]
  },
  {
   "cell_type": "code",
   "execution_count": 35,
   "id": "ec0992cb-25d9-4ed5-a0d0-22aeff6a4db7",
   "metadata": {},
   "outputs": [
    {
     "data": {
      "text/plain": [
       "int"
      ]
     },
     "execution_count": 35,
     "metadata": {},
     "output_type": "execute_result"
    }
   ],
   "source": [
    "type(c)"
   ]
  },
  {
   "cell_type": "code",
   "execution_count": 37,
   "id": "1a14294b-a126-4c37-9471-d5ac5838acc5",
   "metadata": {},
   "outputs": [
    {
     "data": {
      "text/plain": [
       "int"
      ]
     },
     "execution_count": 37,
     "metadata": {},
     "output_type": "execute_result"
    }
   ],
   "source": [
    "type(d)"
   ]
  },
  {
   "cell_type": "code",
   "execution_count": 39,
   "id": "b006ec8b-ce70-467e-9bae-5218a46dca1b",
   "metadata": {},
   "outputs": [
    {
     "data": {
      "text/plain": [
       "140723006156952"
      ]
     },
     "execution_count": 39,
     "metadata": {},
     "output_type": "execute_result"
    }
   ],
   "source": [
    "id(a)"
   ]
  },
  {
   "cell_type": "code",
   "execution_count": 41,
   "id": "81137ab4-2e5b-400a-9ce4-6d2d5439f606",
   "metadata": {},
   "outputs": [
    {
     "data": {
      "text/plain": [
       "140723006158296"
      ]
     },
     "execution_count": 41,
     "metadata": {},
     "output_type": "execute_result"
    }
   ],
   "source": [
    "id(b)"
   ]
  },
  {
   "cell_type": "code",
   "execution_count": null,
   "id": "f679b2be-33fa-483a-82cc-ecca398ac65a",
   "metadata": {},
   "outputs": [],
   "source": []
  },
  {
   "cell_type": "code",
   "execution_count": null,
   "id": "6b59cbc6-92c9-412b-886c-97a97d07a65c",
   "metadata": {},
   "outputs": [],
   "source": []
  },
  {
   "cell_type": "code",
   "execution_count": 82,
   "id": "d89ddd9d-6900-44ee-85d5-865d0d7cfb62",
   "metadata": {},
   "outputs": [],
   "source": [
    "a=56"
   ]
  },
  {
   "cell_type": "code",
   "execution_count": 84,
   "id": "b3f82d2d-051b-4287-a953-84548280769d",
   "metadata": {},
   "outputs": [],
   "source": [
    "b=36"
   ]
  },
  {
   "cell_type": "code",
   "execution_count": 86,
   "id": "f0fac8a7-f25f-409d-87a0-8cfbfeae784b",
   "metadata": {},
   "outputs": [],
   "source": [
    "c=54"
   ]
  },
  {
   "cell_type": "code",
   "execution_count": 88,
   "id": "89f89f42-4a8b-416a-bb97-8d38f72ae9c5",
   "metadata": {},
   "outputs": [],
   "source": [
    "d=789"
   ]
  },
  {
   "cell_type": "code",
   "execution_count": 90,
   "id": "742ed4c8-8847-4b9b-9a35-c4dd4863c59a",
   "metadata": {},
   "outputs": [
    {
     "data": {
      "text/plain": [
       "int"
      ]
     },
     "execution_count": 90,
     "metadata": {},
     "output_type": "execute_result"
    }
   ],
   "source": [
    "type(a)"
   ]
  },
  {
   "cell_type": "code",
   "execution_count": 92,
   "id": "cb30cf41-e03d-4eb3-9a92-6e63364a614a",
   "metadata": {},
   "outputs": [
    {
     "data": {
      "text/plain": [
       "int"
      ]
     },
     "execution_count": 92,
     "metadata": {},
     "output_type": "execute_result"
    }
   ],
   "source": [
    "type(b)"
   ]
  },
  {
   "cell_type": "code",
   "execution_count": 94,
   "id": "be3864b6-6f72-4e91-8f69-6aeeb10b74e3",
   "metadata": {},
   "outputs": [
    {
     "data": {
      "text/plain": [
       "int"
      ]
     },
     "execution_count": 94,
     "metadata": {},
     "output_type": "execute_result"
    }
   ],
   "source": [
    "type(c)"
   ]
  },
  {
   "cell_type": "code",
   "execution_count": 96,
   "id": "20aae824-7cf6-4801-949a-8c2ac3b1ee1a",
   "metadata": {},
   "outputs": [
    {
     "data": {
      "text/plain": [
       "int"
      ]
     },
     "execution_count": 96,
     "metadata": {},
     "output_type": "execute_result"
    }
   ],
   "source": [
    "type(d)"
   ]
  },
  {
   "cell_type": "code",
   "execution_count": 98,
   "id": "82539996-c52a-4a35-8521-2387f365120d",
   "metadata": {},
   "outputs": [
    {
     "data": {
      "text/plain": [
       "140731752001688"
      ]
     },
     "execution_count": 98,
     "metadata": {},
     "output_type": "execute_result"
    }
   ],
   "source": [
    "id(a)"
   ]
  },
  {
   "cell_type": "code",
   "execution_count": 100,
   "id": "5b19af5d-86b9-40bb-9896-c1f2728298b3",
   "metadata": {},
   "outputs": [
    {
     "data": {
      "text/plain": [
       "140731752001048"
      ]
     },
     "execution_count": 100,
     "metadata": {},
     "output_type": "execute_result"
    }
   ],
   "source": [
    "id(b)"
   ]
  },
  {
   "cell_type": "code",
   "execution_count": 102,
   "id": "7d80411b-c60b-45fa-9978-6b8aa10d7bdc",
   "metadata": {},
   "outputs": [
    {
     "data": {
      "text/plain": [
       "140731752001624"
      ]
     },
     "execution_count": 102,
     "metadata": {},
     "output_type": "execute_result"
    }
   ],
   "source": [
    "id(c)"
   ]
  },
  {
   "cell_type": "code",
   "execution_count": 104,
   "id": "48b5cb91-bfff-4f19-9cc6-f268206bbefd",
   "metadata": {},
   "outputs": [
    {
     "data": {
      "text/plain": [
       "3135848046064"
      ]
     },
     "execution_count": 104,
     "metadata": {},
     "output_type": "execute_result"
    }
   ],
   "source": [
    "id(d)"
   ]
  },
  {
   "cell_type": "code",
   "execution_count": 106,
   "id": "8b726169-5150-4420-ba31-d97bd0829696",
   "metadata": {},
   "outputs": [
    {
     "name": "stdout",
     "output_type": "stream",
     "text": [
      "90\n"
     ]
    }
   ],
   "source": [
    "print(25+65)"
   ]
  },
  {
   "cell_type": "code",
   "execution_count": 108,
   "id": "345c6d01-f699-4be5-a9eb-abf609320ae5",
   "metadata": {},
   "outputs": [
    {
     "name": "stdout",
     "output_type": "stream",
     "text": [
      "145\n"
     ]
    }
   ],
   "source": [
    "print(87+58)"
   ]
  },
  {
   "cell_type": "code",
   "execution_count": 110,
   "id": "85bf0b44-6de5-4cbf-983b-75b3d648cd8b",
   "metadata": {},
   "outputs": [
    {
     "name": "stdout",
     "output_type": "stream",
     "text": [
      "576\n"
     ]
    }
   ],
   "source": [
    "print(98+478)"
   ]
  },
  {
   "cell_type": "code",
   "execution_count": 112,
   "id": "e1fb28c9-2eb5-4cfe-b8e3-81f25696d31a",
   "metadata": {},
   "outputs": [
    {
     "name": "stdout",
     "output_type": "stream",
     "text": [
      "(89+54j)\n"
     ]
    }
   ],
   "source": [
    "print(89+54j)"
   ]
  },
  {
   "cell_type": "code",
   "execution_count": 114,
   "id": "a2d26e13-aad0-4d1d-8a34-e03d286298cc",
   "metadata": {},
   "outputs": [
    {
     "name": "stdout",
     "output_type": "stream",
     "text": [
      "(125+254j)\n"
     ]
    }
   ],
   "source": [
    "print(125+254j)"
   ]
  },
  {
   "cell_type": "code",
   "execution_count": 5,
   "id": "2baa4b84-01f0-4948-8642-e1bd081d8484",
   "metadata": {},
   "outputs": [
    {
     "name": "stdout",
     "output_type": "stream",
     "text": [
      "(125+145j)\n"
     ]
    }
   ],
   "source": [
    "print(125+145j)"
   ]
  },
  {
   "cell_type": "code",
   "execution_count": 7,
   "id": "323aeca3-970b-49b1-92b9-45f9b63cc255",
   "metadata": {},
   "outputs": [
    {
     "name": "stdout",
     "output_type": "stream",
     "text": [
      "(258+147j)\n"
     ]
    }
   ],
   "source": [
    "print(258+147j)"
   ]
  },
  {
   "cell_type": "code",
   "execution_count": 9,
   "id": "08214e74-983f-45aa-91b2-1141a7ddaacd",
   "metadata": {},
   "outputs": [
    {
     "name": "stdout",
     "output_type": "stream",
     "text": [
      "117648j\n"
     ]
    }
   ],
   "source": [
    "print(456*258j)"
   ]
  },
  {
   "cell_type": "code",
   "execution_count": 11,
   "id": "73c462be-3991-41c3-b9f5-93df29089567",
   "metadata": {},
   "outputs": [
    {
     "name": "stdout",
     "output_type": "stream",
     "text": [
      "(750+125j)\n"
     ]
    }
   ],
   "source": [
    "print(750+125j)"
   ]
  },
  {
   "cell_type": "code",
   "execution_count": 13,
   "id": "acc60d33-36a3-44e5-ad3c-9b291a03fdda",
   "metadata": {},
   "outputs": [
    {
     "name": "stdout",
     "output_type": "stream",
     "text": [
      "(100+200j)\n"
     ]
    }
   ],
   "source": [
    "print(100+200j)"
   ]
  },
  {
   "cell_type": "code",
   "execution_count": 15,
   "id": "73e22cd1-c454-4132-a622-d46e91c02892",
   "metadata": {},
   "outputs": [
    {
     "name": "stdout",
     "output_type": "stream",
     "text": [
      "(200+456j)\n"
     ]
    }
   ],
   "source": [
    "print(200+456j)"
   ]
  },
  {
   "cell_type": "code",
   "execution_count": 17,
   "id": "977708f6-9a28-4a45-8202-820464310623",
   "metadata": {},
   "outputs": [],
   "source": [
    "j=8+6j"
   ]
  },
  {
   "cell_type": "code",
   "execution_count": 19,
   "id": "4a9a8306-48c8-48ce-8d17-588164c178ba",
   "metadata": {},
   "outputs": [],
   "source": [
    "u = 8+10j"
   ]
  },
  {
   "cell_type": "code",
   "execution_count": 21,
   "id": "1500c79d-b2bb-472f-bc16-05b7c3a5e4db",
   "metadata": {},
   "outputs": [],
   "source": [
    "m = 4+5j"
   ]
  },
  {
   "cell_type": "code",
   "execution_count": 23,
   "id": "237760bc-5bf8-4149-8e8a-a8ed8c7839f9",
   "metadata": {},
   "outputs": [],
   "source": [
    "a = 10+15j"
   ]
  },
  {
   "cell_type": "code",
   "execution_count": 25,
   "id": "1ef2cf39-ee60-467e-a7b2-9eead37b7193",
   "metadata": {},
   "outputs": [],
   "source": [
    "r = 15+25j"
   ]
  },
  {
   "cell_type": "code",
   "execution_count": 118,
   "id": "9b684326-12d0-42ab-96cc-cac6987f4ab0",
   "metadata": {},
   "outputs": [],
   "source": [
    "l=87+5j"
   ]
  },
  {
   "cell_type": "code",
   "execution_count": 27,
   "id": "ce649712-7549-4b30-b1ce-6047a3996b2a",
   "metadata": {},
   "outputs": [
    {
     "name": "stdout",
     "output_type": "stream",
     "text": [
      "(8+10j)\n"
     ]
    }
   ],
   "source": [
    "print(u)"
   ]
  },
  {
   "cell_type": "code",
   "execution_count": 29,
   "id": "66440028-9162-42d7-b6ad-fdd8f43eec5e",
   "metadata": {},
   "outputs": [
    {
     "name": "stdout",
     "output_type": "stream",
     "text": [
      "(4+5j)\n"
     ]
    }
   ],
   "source": [
    "print(m)"
   ]
  },
  {
   "cell_type": "code",
   "execution_count": 31,
   "id": "cc367f8b-c4c9-46e9-b3b5-d346db80fa36",
   "metadata": {},
   "outputs": [
    {
     "name": "stdout",
     "output_type": "stream",
     "text": [
      "(10+15j)\n"
     ]
    }
   ],
   "source": [
    "print(a)"
   ]
  },
  {
   "cell_type": "code",
   "execution_count": 33,
   "id": "36675dd8-efa0-42b9-84f9-8a1b43725f1c",
   "metadata": {},
   "outputs": [
    {
     "name": "stdout",
     "output_type": "stream",
     "text": [
      "(15+25j)\n"
     ]
    }
   ],
   "source": [
    "print(r)"
   ]
  },
  {
   "cell_type": "code",
   "execution_count": 35,
   "id": "c2d21ebc-6c10-42c8-a8bd-50a588627dab",
   "metadata": {},
   "outputs": [
    {
     "data": {
      "text/plain": [
       "complex"
      ]
     },
     "execution_count": 35,
     "metadata": {},
     "output_type": "execute_result"
    }
   ],
   "source": [
    "type(u)"
   ]
  },
  {
   "cell_type": "code",
   "execution_count": 37,
   "id": "af4c518d-e2ff-4f37-af28-a0582bf3c1fd",
   "metadata": {},
   "outputs": [
    {
     "data": {
      "text/plain": [
       "complex"
      ]
     },
     "execution_count": 37,
     "metadata": {},
     "output_type": "execute_result"
    }
   ],
   "source": [
    "type(m)"
   ]
  },
  {
   "cell_type": "code",
   "execution_count": 39,
   "id": "c07024b1-2695-4940-bbc0-3731d5049025",
   "metadata": {},
   "outputs": [
    {
     "data": {
      "text/plain": [
       "complex"
      ]
     },
     "execution_count": 39,
     "metadata": {},
     "output_type": "execute_result"
    }
   ],
   "source": [
    "type(a)"
   ]
  },
  {
   "cell_type": "code",
   "execution_count": 41,
   "id": "84611977-8410-4b46-b983-38a237aceb98",
   "metadata": {},
   "outputs": [
    {
     "data": {
      "text/plain": [
       "complex"
      ]
     },
     "execution_count": 41,
     "metadata": {},
     "output_type": "execute_result"
    }
   ],
   "source": [
    "type(r)"
   ]
  },
  {
   "cell_type": "code",
   "execution_count": null,
   "id": "72698a30-cd9b-4742-a244-f6ea3e9796d1",
   "metadata": {},
   "outputs": [],
   "source": []
  },
  {
   "cell_type": "code",
   "execution_count": 120,
   "id": "34c48fb0-d128-4dd6-8afe-132fd5da06d7",
   "metadata": {},
   "outputs": [],
   "source": [
    "k=78+7j"
   ]
  },
  {
   "cell_type": "code",
   "execution_count": 122,
   "id": "cd8fc962-4ebc-4bcb-8d2f-f48b9efea8c6",
   "metadata": {},
   "outputs": [
    {
     "name": "stdout",
     "output_type": "stream",
     "text": [
      "(8+6j)\n"
     ]
    }
   ],
   "source": [
    "print(j)"
   ]
  },
  {
   "cell_type": "code",
   "execution_count": 124,
   "id": "1bbe607b-b1a5-4a20-86b7-ae00b5cf3eae",
   "metadata": {},
   "outputs": [
    {
     "name": "stdout",
     "output_type": "stream",
     "text": [
      "(78+7j)\n"
     ]
    }
   ],
   "source": [
    "print(k)"
   ]
  },
  {
   "cell_type": "markdown",
   "id": "7f682063-41dc-410f-bb3c-95b2632be0e2",
   "metadata": {},
   "source": [
    "print(l)"
   ]
  },
  {
   "cell_type": "code",
   "execution_count": 128,
   "id": "d25d9934-ffdc-4dc6-91d5-b89a3a8e95ef",
   "metadata": {},
   "outputs": [
    {
     "data": {
      "text/plain": [
       "complex"
      ]
     },
     "execution_count": 128,
     "metadata": {},
     "output_type": "execute_result"
    }
   ],
   "source": [
    "type(j)"
   ]
  },
  {
   "cell_type": "code",
   "execution_count": 130,
   "id": "74394bdd-2863-45ea-bcdd-e84fa7125a8d",
   "metadata": {},
   "outputs": [
    {
     "data": {
      "text/plain": [
       "complex"
      ]
     },
     "execution_count": 130,
     "metadata": {},
     "output_type": "execute_result"
    }
   ],
   "source": [
    "type(k)"
   ]
  },
  {
   "cell_type": "code",
   "execution_count": 132,
   "id": "9ab1cd5f-4ae3-4749-bc19-8d4fb3feb18d",
   "metadata": {},
   "outputs": [
    {
     "data": {
      "text/plain": [
       "complex"
      ]
     },
     "execution_count": 132,
     "metadata": {},
     "output_type": "execute_result"
    }
   ],
   "source": [
    "type(l)"
   ]
  },
  {
   "cell_type": "code",
   "execution_count": 45,
   "id": "c2763ee7-8588-47e8-a1a8-1a43e7f2d295",
   "metadata": {},
   "outputs": [],
   "source": [
    "U = True"
   ]
  },
  {
   "cell_type": "code",
   "execution_count": 47,
   "id": "2c6d423f-b19e-4f7e-bf30-389e802991f1",
   "metadata": {},
   "outputs": [],
   "source": [
    "M = True"
   ]
  },
  {
   "cell_type": "code",
   "execution_count": 53,
   "id": "401048e6-0ad5-4e66-ba24-6cbcf15b2d32",
   "metadata": {},
   "outputs": [
    {
     "data": {
      "text/plain": [
       "bool"
      ]
     },
     "execution_count": 53,
     "metadata": {},
     "output_type": "execute_result"
    }
   ],
   "source": [
    "type(U)"
   ]
  },
  {
   "cell_type": "code",
   "execution_count": 55,
   "id": "aa1a8f77-e0be-47ec-8d3b-1075c2dbcdcd",
   "metadata": {},
   "outputs": [
    {
     "data": {
      "text/plain": [
       "bool"
      ]
     },
     "execution_count": 55,
     "metadata": {},
     "output_type": "execute_result"
    }
   ],
   "source": [
    "type(M)"
   ]
  },
  {
   "cell_type": "code",
   "execution_count": 57,
   "id": "6d2d5a3f-aedc-4059-92f7-6941b92c90ce",
   "metadata": {},
   "outputs": [
    {
     "name": "stdout",
     "output_type": "stream",
     "text": [
      "True\n"
     ]
    }
   ],
   "source": [
    "print(U)"
   ]
  },
  {
   "cell_type": "code",
   "execution_count": 59,
   "id": "b5f472cb-22a6-4607-b10f-1ddf6cbba374",
   "metadata": {},
   "outputs": [
    {
     "name": "stdout",
     "output_type": "stream",
     "text": [
      "True\n"
     ]
    }
   ],
   "source": [
    "print(M)"
   ]
  },
  {
   "cell_type": "code",
   "execution_count": 61,
   "id": "3684e3f8-90f2-4f9b-a4a0-3e29c702e1c8",
   "metadata": {},
   "outputs": [
    {
     "data": {
      "text/plain": [
       "140723471907712"
      ]
     },
     "execution_count": 61,
     "metadata": {},
     "output_type": "execute_result"
    }
   ],
   "source": [
    "id(U)"
   ]
  },
  {
   "cell_type": "code",
   "execution_count": 63,
   "id": "5656db51-e1ec-410a-b8b7-57192c38e6ea",
   "metadata": {},
   "outputs": [
    {
     "data": {
      "text/plain": [
       "140723471907712"
      ]
     },
     "execution_count": 63,
     "metadata": {},
     "output_type": "execute_result"
    }
   ],
   "source": [
    "id(M)"
   ]
  },
  {
   "cell_type": "code",
   "execution_count": null,
   "id": "5318c025-c2bf-4652-8740-09517299e35e",
   "metadata": {},
   "outputs": [],
   "source": []
  },
  {
   "cell_type": "code",
   "execution_count": 134,
   "id": "e30c4592-0346-491b-9581-c055cf74bf7b",
   "metadata": {},
   "outputs": [],
   "source": [
    "R = True"
   ]
  },
  {
   "cell_type": "code",
   "execution_count": 136,
   "id": "d0d832f4-a489-4e9b-8493-1e60382a41ee",
   "metadata": {},
   "outputs": [],
   "source": [
    "Y = False"
   ]
  },
  {
   "cell_type": "code",
   "execution_count": 140,
   "id": "69a978c0-95c3-47aa-8979-f8859a077e69",
   "metadata": {},
   "outputs": [
    {
     "name": "stdout",
     "output_type": "stream",
     "text": [
      "True\n"
     ]
    }
   ],
   "source": [
    "print(R)"
   ]
  },
  {
   "cell_type": "code",
   "execution_count": 154,
   "id": "baf72a70-6273-4dab-87ba-bae547537686",
   "metadata": {},
   "outputs": [
    {
     "name": "stdout",
     "output_type": "stream",
     "text": [
      "False\n"
     ]
    }
   ],
   "source": [
    "print(Y)"
   ]
  },
  {
   "cell_type": "code",
   "execution_count": 156,
   "id": "de8e2193-dea7-4927-a6ec-53cb9e119bb3",
   "metadata": {},
   "outputs": [
    {
     "data": {
      "text/plain": [
       "140731750873984"
      ]
     },
     "execution_count": 156,
     "metadata": {},
     "output_type": "execute_result"
    }
   ],
   "source": [
    "id(R)"
   ]
  },
  {
   "cell_type": "code",
   "execution_count": 158,
   "id": "eef57d34-f73a-4720-8973-b51f25eb27de",
   "metadata": {},
   "outputs": [
    {
     "data": {
      "text/plain": [
       "140731750874016"
      ]
     },
     "execution_count": 158,
     "metadata": {},
     "output_type": "execute_result"
    }
   ],
   "source": [
    "id(Y)"
   ]
  },
  {
   "cell_type": "code",
   "execution_count": 65,
   "id": "ff2251bd-e135-4785-9610-6d902c0b1418",
   "metadata": {},
   "outputs": [],
   "source": [
    "k = 'india'"
   ]
  },
  {
   "cell_type": "code",
   "execution_count": 67,
   "id": "09508ff9-4a6b-4a2e-a10b-997170ed2f57",
   "metadata": {},
   "outputs": [],
   "source": [
    "h = \"world\""
   ]
  },
  {
   "cell_type": "code",
   "execution_count": 71,
   "id": "85eea04e-5695-4632-9abc-bd1f181dc8c7",
   "metadata": {},
   "outputs": [],
   "source": [
    "a = \"\"\"TGC\"\"\""
   ]
  },
  {
   "cell_type": "code",
   "execution_count": 73,
   "id": "267b44ec-9f04-401b-bf28-200022acfae1",
   "metadata": {},
   "outputs": [],
   "source": [
    "n = \"\"\"national\"\"\""
   ]
  },
  {
   "cell_type": "code",
   "execution_count": 75,
   "id": "8b80baeb-299a-4797-92c5-53a40f9c34c4",
   "metadata": {},
   "outputs": [
    {
     "data": {
      "text/plain": [
       "str"
      ]
     },
     "execution_count": 75,
     "metadata": {},
     "output_type": "execute_result"
    }
   ],
   "source": [
    "type(k)"
   ]
  },
  {
   "cell_type": "code",
   "execution_count": 77,
   "id": "2e35c622-e5d1-4bcc-b4b5-986a8d9df0c0",
   "metadata": {},
   "outputs": [
    {
     "data": {
      "text/plain": [
       "str"
      ]
     },
     "execution_count": 77,
     "metadata": {},
     "output_type": "execute_result"
    }
   ],
   "source": [
    "type(h)"
   ]
  },
  {
   "cell_type": "code",
   "execution_count": 79,
   "id": "28b5c655-8949-4068-ad24-f0936e565d8e",
   "metadata": {},
   "outputs": [
    {
     "data": {
      "text/plain": [
       "str"
      ]
     },
     "execution_count": 79,
     "metadata": {},
     "output_type": "execute_result"
    }
   ],
   "source": [
    "type(a)"
   ]
  },
  {
   "cell_type": "code",
   "execution_count": 81,
   "id": "a09979de-75e8-4bc4-bda0-d189f452c186",
   "metadata": {},
   "outputs": [
    {
     "data": {
      "text/plain": [
       "str"
      ]
     },
     "execution_count": 81,
     "metadata": {},
     "output_type": "execute_result"
    }
   ],
   "source": [
    "type(n)"
   ]
  },
  {
   "cell_type": "code",
   "execution_count": 83,
   "id": "5fbf1f0e-d5c8-4ad4-951e-9623edf3bebc",
   "metadata": {},
   "outputs": [
    {
     "data": {
      "text/plain": [
       "2344296952864"
      ]
     },
     "execution_count": 83,
     "metadata": {},
     "output_type": "execute_result"
    }
   ],
   "source": [
    "id(k)"
   ]
  },
  {
   "cell_type": "code",
   "execution_count": 87,
   "id": "aedae3f1-bc30-4cb3-b2ae-52c1c2c05602",
   "metadata": {},
   "outputs": [
    {
     "data": {
      "text/plain": [
       "2344333347984"
      ]
     },
     "execution_count": 87,
     "metadata": {},
     "output_type": "execute_result"
    }
   ],
   "source": [
    "id(h)"
   ]
  },
  {
   "cell_type": "code",
   "execution_count": 89,
   "id": "8cb7c7db-b340-4862-9a96-81ccb90603ad",
   "metadata": {},
   "outputs": [
    {
     "data": {
      "text/plain": [
       "2344334267504"
      ]
     },
     "execution_count": 89,
     "metadata": {},
     "output_type": "execute_result"
    }
   ],
   "source": [
    "id(a)"
   ]
  },
  {
   "cell_type": "code",
   "execution_count": 91,
   "id": "190cd4f4-7857-4756-930a-694e44ac0c1e",
   "metadata": {},
   "outputs": [
    {
     "data": {
      "text/plain": [
       "2344334884336"
      ]
     },
     "execution_count": 91,
     "metadata": {},
     "output_type": "execute_result"
    }
   ],
   "source": [
    "id(n)"
   ]
  },
  {
   "cell_type": "code",
   "execution_count": 95,
   "id": "9ee10292-f81f-4ab0-a2d1-d951b9c99035",
   "metadata": {},
   "outputs": [],
   "source": [
    "L = None"
   ]
  },
  {
   "cell_type": "code",
   "execution_count": 97,
   "id": "a57557a3-ce2c-43e9-a582-b731238cb2c6",
   "metadata": {},
   "outputs": [
    {
     "data": {
      "text/plain": [
       "140723471988688"
      ]
     },
     "execution_count": 97,
     "metadata": {},
     "output_type": "execute_result"
    }
   ],
   "source": [
    "id(L)"
   ]
  },
  {
   "cell_type": "code",
   "execution_count": 164,
   "id": "6c3b9638-25eb-4855-9e2c-d3602843ca79",
   "metadata": {},
   "outputs": [],
   "source": [
    "f = \"samsung\""
   ]
  },
  {
   "cell_type": "code",
   "execution_count": 166,
   "id": "034b333f-a818-439c-9d88-77232baa1865",
   "metadata": {},
   "outputs": [],
   "source": [
    "y =\"oneplus\""
   ]
  },
  {
   "cell_type": "code",
   "execution_count": 168,
   "id": "a90e54b0-73ff-4755-9291-fe80d688fe25",
   "metadata": {},
   "outputs": [],
   "source": [
    "s = \"asus\""
   ]
  },
  {
   "cell_type": "code",
   "execution_count": 170,
   "id": "b94c87cf-c622-4995-a896-6ca66d00d348",
   "metadata": {},
   "outputs": [],
   "source": [
    "d = \"dell\""
   ]
  },
  {
   "cell_type": "code",
   "execution_count": 172,
   "id": "fe026456-6315-48aa-acf8-8877409c064b",
   "metadata": {},
   "outputs": [
    {
     "data": {
      "text/plain": [
       "str"
      ]
     },
     "execution_count": 172,
     "metadata": {},
     "output_type": "execute_result"
    }
   ],
   "source": [
    "type(f)"
   ]
  },
  {
   "cell_type": "code",
   "execution_count": 174,
   "id": "30c69a52-814c-40f2-8c02-26e07c429f8e",
   "metadata": {},
   "outputs": [
    {
     "data": {
      "text/plain": [
       "str"
      ]
     },
     "execution_count": 174,
     "metadata": {},
     "output_type": "execute_result"
    }
   ],
   "source": [
    "type(y)"
   ]
  },
  {
   "cell_type": "code",
   "execution_count": 176,
   "id": "d7f394b1-21e1-47fb-98cf-cfb111c59d93",
   "metadata": {},
   "outputs": [
    {
     "data": {
      "text/plain": [
       "str"
      ]
     },
     "execution_count": 176,
     "metadata": {},
     "output_type": "execute_result"
    }
   ],
   "source": [
    "type(s)"
   ]
  },
  {
   "cell_type": "code",
   "execution_count": 178,
   "id": "48d93488-9a92-49c3-a720-19e8e07bfc27",
   "metadata": {},
   "outputs": [
    {
     "data": {
      "text/plain": [
       "str"
      ]
     },
     "execution_count": 178,
     "metadata": {},
     "output_type": "execute_result"
    }
   ],
   "source": [
    "type(d)"
   ]
  },
  {
   "cell_type": "code",
   "execution_count": 180,
   "id": "534e33c2-cb66-491a-bbd1-4a506f7dc077",
   "metadata": {},
   "outputs": [
    {
     "data": {
      "text/plain": [
       "3135837349536"
      ]
     },
     "execution_count": 180,
     "metadata": {},
     "output_type": "execute_result"
    }
   ],
   "source": [
    "id(f)"
   ]
  },
  {
   "cell_type": "code",
   "execution_count": 182,
   "id": "e92d21d6-1bf8-4c0f-9239-a3ab9b938a23",
   "metadata": {},
   "outputs": [
    {
     "data": {
      "text/plain": [
       "3135837350928"
      ]
     },
     "execution_count": 182,
     "metadata": {},
     "output_type": "execute_result"
    }
   ],
   "source": [
    "id(y)"
   ]
  },
  {
   "cell_type": "code",
   "execution_count": 184,
   "id": "02461a35-08f3-4e76-8f7c-8cd30a15fb52",
   "metadata": {},
   "outputs": [
    {
     "data": {
      "text/plain": [
       "3135837373376"
      ]
     },
     "execution_count": 184,
     "metadata": {},
     "output_type": "execute_result"
    }
   ],
   "source": [
    "id(s)"
   ]
  },
  {
   "cell_type": "code",
   "execution_count": 190,
   "id": "5c92dedd-0eeb-491d-a3e7-5dda74e7ea8f",
   "metadata": {},
   "outputs": [],
   "source": [
    "L= None"
   ]
  },
  {
   "cell_type": "code",
   "execution_count": 186,
   "id": "20b3f7f5-1b64-483e-9378-41d5bb78925f",
   "metadata": {},
   "outputs": [
    {
     "data": {
      "text/plain": [
       "3135837351888"
      ]
     },
     "execution_count": 186,
     "metadata": {},
     "output_type": "execute_result"
    }
   ],
   "source": [
    "id(d)"
   ]
  },
  {
   "cell_type": "markdown",
   "id": "92d19560-72a2-4ef2-a0f9-56791e6b31dd",
   "metadata": {},
   "source": [
    "#Umar\n",
    "##Umar\n",
    "###Umar"
   ]
  },
  {
   "cell_type": "code",
   "execution_count": 192,
   "id": "ee068aa6-030f-42f7-93fd-c80ee567f6fb",
   "metadata": {},
   "outputs": [
    {
     "data": {
      "text/plain": [
       "NoneType"
      ]
     },
     "execution_count": 192,
     "metadata": {},
     "output_type": "execute_result"
    }
   ],
   "source": [
    "type(L)"
   ]
  },
  {
   "cell_type": "markdown",
   "id": "869c8a1f-a374-483e-8d55-bc89cbe4e5f3",
   "metadata": {},
   "source": [
    "#Umar \n",
    "##Umar \n",
    "###Umar"
   ]
  },
  {
   "cell_type": "code",
   "execution_count": 102,
   "id": "857a0312-0a6a-4698-9b40-39f5fd4e7db6",
   "metadata": {},
   "outputs": [],
   "source": [
    "s = None"
   ]
  },
  {
   "cell_type": "code",
   "execution_count": 104,
   "id": "4807254a-f867-45d7-b4fa-3b1bff5d8e9d",
   "metadata": {},
   "outputs": [
    {
     "data": {
      "text/plain": [
       "NoneType"
      ]
     },
     "execution_count": 104,
     "metadata": {},
     "output_type": "execute_result"
    }
   ],
   "source": [
    "type(s)"
   ]
  },
  {
   "cell_type": "code",
   "execution_count": 106,
   "id": "681ecf12-12bc-4065-ac05-3ee6d32bbabf",
   "metadata": {},
   "outputs": [
    {
     "data": {
      "text/plain": [
       "140723471988688"
      ]
     },
     "execution_count": 106,
     "metadata": {},
     "output_type": "execute_result"
    }
   ],
   "source": [
    "id(s)"
   ]
  },
  {
   "cell_type": "code",
   "execution_count": 196,
   "id": "241950fb-22fa-4848-90a1-cd83502da30f",
   "metadata": {},
   "outputs": [],
   "source": [
    "s = None"
   ]
  },
  {
   "cell_type": "code",
   "execution_count": 198,
   "id": "58613c82-a7ab-4b58-a2ba-028439486c70",
   "metadata": {},
   "outputs": [
    {
     "data": {
      "text/plain": [
       "NoneType"
      ]
     },
     "execution_count": 198,
     "metadata": {},
     "output_type": "execute_result"
    }
   ],
   "source": [
    "type(s)"
   ]
  },
  {
   "cell_type": "code",
   "execution_count": 200,
   "id": "fca20b28-e17b-495f-b57e-5602bb56a2a3",
   "metadata": {},
   "outputs": [
    {
     "data": {
      "text/plain": [
       "140731750954960"
      ]
     },
     "execution_count": 200,
     "metadata": {},
     "output_type": "execute_result"
    }
   ],
   "source": [
    "id(s)"
   ]
  },
  {
   "cell_type": "code",
   "execution_count": 202,
   "id": "a2fd1bc5-7b12-43f8-9794-6349da0f02d6",
   "metadata": {},
   "outputs": [
    {
     "data": {
      "text/plain": [
       "140731750954960"
      ]
     },
     "execution_count": 202,
     "metadata": {},
     "output_type": "execute_result"
    }
   ],
   "source": [
    "id(L)"
   ]
  },
  {
   "cell_type": "markdown",
   "id": "1156802b-7b74-490f-b014-868e7ab96a49",
   "metadata": {},
   "source": [
    "# Python is dynamic in nature \n",
    "# Any variables can have any data type"
   ]
  },
  {
   "cell_type": "code",
   "execution_count": 108,
   "id": "1b18a3d1-062d-41f4-ba5f-becca35a27ef",
   "metadata": {},
   "outputs": [],
   "source": [
    "# output formating"
   ]
  },
  {
   "cell_type": "code",
   "execution_count": 17,
   "id": "4b4fedce-1aa9-4711-8c7d-0152ce1a93d8",
   "metadata": {},
   "outputs": [],
   "source": [
    "a = 15"
   ]
  },
  {
   "cell_type": "code",
   "execution_count": 19,
   "id": "3c6b0f36-2ac0-4748-9a8b-2231155f6608",
   "metadata": {},
   "outputs": [],
   "source": [
    "b = 25"
   ]
  },
  {
   "cell_type": "code",
   "execution_count": 21,
   "id": "eac6d667-4263-46d2-8e3a-50d717acbe43",
   "metadata": {},
   "outputs": [],
   "source": [
    "c = 35"
   ]
  },
  {
   "cell_type": "code",
   "execution_count": 23,
   "id": "e4d7c42e-8d12-4575-b1ca-e510551d1350",
   "metadata": {},
   "outputs": [
    {
     "name": "stdout",
     "output_type": "stream",
     "text": [
      "The value of is  15 and b is 25\n"
     ]
    }
   ],
   "source": [
    "print(\"The value of is a {} and b is {}\".format(a,b))"
   ]
  },
  {
   "cell_type": "code",
   "execution_count": 3,
   "id": "a4c89992-3b18-4948-891f-987a8a0fb843",
   "metadata": {},
   "outputs": [],
   "source": [
    "a = 10\n",
    "s = 20\n",
    "d = 30"
   ]
  },
  {
   "cell_type": "code",
   "execution_count": 5,
   "id": "c5d81b9f-3117-4e81-9a18-8f2839982f69",
   "metadata": {},
   "outputs": [
    {
     "name": "stdout",
     "output_type": "stream",
     "text": [
      "The value of a is 10 and s is 20 and d 30\n"
     ]
    }
   ],
   "source": [
    "print(\"The value of a is {} and s is {} and d {}\".format(a,s,d))"
   ]
  },
  {
   "cell_type": "code",
   "execution_count": 7,
   "id": "aefe2372-0b1a-4fa8-8947-b415b8612760",
   "metadata": {},
   "outputs": [
    {
     "name": "stdout",
     "output_type": "stream",
     "text": [
      "The value of a is 10 and s is 20 and d is 30\n"
     ]
    }
   ],
   "source": [
    "print(\"The value of a is {} and s is {} and d is {}\".format(a,s,d))"
   ]
  },
  {
   "cell_type": "code",
   "execution_count": 9,
   "id": "3aabc917-e3b6-403b-98d3-5d206044d1c3",
   "metadata": {},
   "outputs": [
    {
     "name": "stdout",
     "output_type": "stream",
     "text": [
      "The value of a is 10 and s is 20 and d is 30\n"
     ]
    }
   ],
   "source": [
    "print(\"The value of a is {} and s is {} and d is {}\".format(a,s,d))"
   ]
  },
  {
   "cell_type": "code",
   "execution_count": 11,
   "id": "3dc9a0d5-b486-4d74-a9a4-5accd495c12e",
   "metadata": {},
   "outputs": [
    {
     "name": "stdout",
     "output_type": "stream",
     "text": [
      "The value of a is10 and s is 20 and d is 30\n"
     ]
    }
   ],
   "source": [
    "print(\"The value of a is{} and s is {} and d is {}\".format(a,s,d))"
   ]
  },
  {
   "cell_type": "code",
   "execution_count": 13,
   "id": "36503d4f-e45a-4358-b792-fbb847352da7",
   "metadata": {},
   "outputs": [
    {
     "name": "stdout",
     "output_type": "stream",
     "text": [
      "The value of a is10 and s is 20 and d is 30\n"
     ]
    }
   ],
   "source": [
    "print(\"The value of a is{} and s is {} and d is {}\".format(a,s,d))"
   ]
  },
  {
   "cell_type": "code",
   "execution_count": 15,
   "id": "1a9aeed0-099d-48c3-adeb-146700ae6372",
   "metadata": {},
   "outputs": [
    {
     "name": "stdout",
     "output_type": "stream",
     "text": [
      "The value of a is 10 and s is 20 and d is 30\n"
     ]
    }
   ],
   "source": [
    "print(\"The value of a is {} and s is {} and d is {}\".format(a,s,d))"
   ]
  },
  {
   "cell_type": "code",
   "execution_count": 17,
   "id": "ace7a453-c3c1-458b-bf30-9e2c1547d1c6",
   "metadata": {},
   "outputs": [
    {
     "name": "stdout",
     "output_type": "stream",
     "text": [
      "The value of a is 10 and s is 20 and d is 30\n"
     ]
    }
   ],
   "source": [
    "print(\"The value of a is {} and s is {} and d is {}\".format(a,s,d)) "
   ]
  },
  {
   "cell_type": "code",
   "execution_count": 21,
   "id": "ea7db520-0445-4986-a246-f9f37ec6a601",
   "metadata": {},
   "outputs": [],
   "source": [
    "a = 10\n",
    "b = 20\n",
    "c = 30"
   ]
  },
  {
   "cell_type": "code",
   "execution_count": 23,
   "id": "1fc4c6f1-d448-4545-978d-e5edb0846186",
   "metadata": {},
   "outputs": [
    {
     "name": "stdout",
     "output_type": "stream",
     "text": [
      "The value of a is10 and b is 20\n"
     ]
    }
   ],
   "source": [
    "print(\"The value of a is{} and b is {}\".format(a,b))"
   ]
  },
  {
   "cell_type": "code",
   "execution_count": 25,
   "id": "e76e81b4-0d41-4a59-b2f9-b59e62b3b130",
   "metadata": {},
   "outputs": [
    {
     "name": "stdout",
     "output_type": "stream",
     "text": [
      "The value of a is 10 and b is 20\n"
     ]
    }
   ],
   "source": [
    "print(\"The value of a is {} and b is {}\".format(a,b))"
   ]
  },
  {
   "cell_type": "code",
   "execution_count": 27,
   "id": "cf6e52c9-70fc-445b-a4d9-ad17cfd49e12",
   "metadata": {},
   "outputs": [
    {
     "name": "stdout",
     "output_type": "stream",
     "text": [
      "The value of a is 10 and b is20\n"
     ]
    }
   ],
   "source": [
    "print(\"The value of a is {} and b is{}\".format(a,b))"
   ]
  },
  {
   "cell_type": "code",
   "execution_count": 29,
   "id": "dceed231-8d00-4bae-9423-75f9c57486f2",
   "metadata": {},
   "outputs": [
    {
     "name": "stdout",
     "output_type": "stream",
     "text": [
      "The value of a is 10 and b is 20\n"
     ]
    }
   ],
   "source": [
    "print(\"The value of a is {} and b is {}\".format(a,b))"
   ]
  },
  {
   "cell_type": "code",
   "execution_count": 31,
   "id": "74d72253-f3e1-4cd8-9011-f09aa5e1912d",
   "metadata": {},
   "outputs": [
    {
     "name": "stdout",
     "output_type": "stream",
     "text": [
      "the value of a is (2) and b is (0) and c is (1)\n"
     ]
    }
   ],
   "source": [
    "print(\"the value of a is (2) and b is (0) and c is (1)\".format(a,b,c))"
   ]
  },
  {
   "cell_type": "code",
   "execution_count": 33,
   "id": "a8518c9c-2dc1-4f2e-93b5-a63f5ce5efa7",
   "metadata": {},
   "outputs": [
    {
     "name": "stdout",
     "output_type": "stream",
     "text": [
      "The value of a is (1) and b is (2) and c is (1)\n"
     ]
    }
   ],
   "source": [
    "print(\"The value of a is (1) and b is (2) and c is (1)\".format(a,b,c))"
   ]
  },
  {
   "cell_type": "code",
   "execution_count": 35,
   "id": "6ca1734b-270b-4913-a383-e725a260abd5",
   "metadata": {},
   "outputs": [
    {
     "name": "stdout",
     "output_type": "stream",
     "text": [
      "The value of a is (1) and b is (2) and c is (0)\n"
     ]
    }
   ],
   "source": [
    "print(\"The value of a is (1) and b is (2) and c is (0)\".format(a,b,c))"
   ]
  },
  {
   "cell_type": "code",
   "execution_count": 37,
   "id": "98aa195e-5f56-4318-8105-ba396f836c3e",
   "metadata": {},
   "outputs": [
    {
     "name": "stdout",
     "output_type": "stream",
     "text": [
      "The value of a is(0) and b is (1) and c is (2)\n"
     ]
    }
   ],
   "source": [
    "print(\"The value of a is(0) and b is (1) and c is (2)\".format(a,b,c))"
   ]
  },
  {
   "cell_type": "code",
   "execution_count": 39,
   "id": "8bd4ee9b-9b55-4172-aec6-04f5fbfcbff4",
   "metadata": {},
   "outputs": [
    {
     "name": "stdout",
     "output_type": "stream",
     "text": [
      "The value of a is (1) and b is (2) and c is (0)\n"
     ]
    }
   ],
   "source": [
    "print(\"The value of a is (1) and b is (2) and c is (0)\".format(a,b,c))"
   ]
  },
  {
   "cell_type": "code",
   "execution_count": 41,
   "id": "8ae0096a-35c8-4ba2-9acb-47448b53fe38",
   "metadata": {},
   "outputs": [
    {
     "ename": "SyntaxError",
     "evalue": "unterminated string literal (detected at line 1) (2197278975.py, line 1)",
     "output_type": "error",
     "traceback": [
      "\u001b[1;36m  Cell \u001b[1;32mIn[41], line 1\u001b[1;36m\u001b[0m\n\u001b[1;33m    print(\"The value of a is (1) and b is (2) and c is (3)\u001b[0m\n\u001b[1;37m          ^\u001b[0m\n\u001b[1;31mSyntaxError\u001b[0m\u001b[1;31m:\u001b[0m unterminated string literal (detected at line 1)\n"
     ]
    }
   ],
   "source": [
    "print(\"The value of a is (1) and b is (2) and c is (3)"
   ]
  },
  {
   "cell_type": "code",
   "execution_count": 43,
   "id": "adc2b2ad-b4ad-4be7-b42a-54df8be60e2a",
   "metadata": {},
   "outputs": [],
   "source": [
    "name = \"umar\"\n",
    "great = \"good morning\""
   ]
  },
  {
   "cell_type": "code",
   "execution_count": 45,
   "id": "d0fee755-9035-42f8-9ce2-d413bd93db4a",
   "metadata": {},
   "outputs": [],
   "source": [
    "name = \"prateek\"\n",
    "great = \"good morning\""
   ]
  },
  {
   "cell_type": "code",
   "execution_count": 47,
   "id": "2d85795b-df41-4dc2-b109-905e63182ef4",
   "metadata": {},
   "outputs": [
    {
     "name": "stdout",
     "output_type": "stream",
     "text": [
      "The value of a is 10 and b is 20 \n"
     ]
    }
   ],
   "source": [
    "print(\"The value of a is {} and b is {} \".format(a,b))"
   ]
  },
  {
   "cell_type": "code",
   "execution_count": 138,
   "id": "a2f2348a-01ac-4729-b2b5-405f7a3bddb3",
   "metadata": {},
   "outputs": [
    {
     "name": "stdout",
     "output_type": "stream",
     "text": [
      "hi (g) n\n"
     ]
    }
   ],
   "source": [
    "print(\"hi (g) n\".format (n = name, g = great))"
   ]
  },
  {
   "cell_type": "code",
   "execution_count": null,
   "id": "b894d415-41f8-440f-8009-9273ad5fcbed",
   "metadata": {},
   "outputs": [],
   "source": []
  },
  {
   "cell_type": "code",
   "execution_count": 7,
   "id": "48d951f4-9493-448b-970e-24d6528c1988",
   "metadata": {},
   "outputs": [
    {
     "name": "stdout",
     "output_type": "stream",
     "text": [
      "The value of a is 10 and b is 20\n"
     ]
    }
   ],
   "source": [
    "print(\"The value of a is {} and b is {}\".format(a,b))"
   ]
  },
  {
   "cell_type": "code",
   "execution_count": 42,
   "id": "126eca01-c11c-4411-85b7-800474faddb2",
   "metadata": {},
   "outputs": [
    {
     "name": "stdout",
     "output_type": "stream",
     "text": [
      "hi good morning prateek\n"
     ]
    }
   ],
   "source": [
    "print(\"hi {g} {n}\".format(n = name,g = great))"
   ]
  },
  {
   "cell_type": "code",
   "execution_count": 62,
   "id": "f525fb88-f7b3-4ded-989a-123ff817d290",
   "metadata": {},
   "outputs": [],
   "source": [
    "Course = \"Python\"\n",
    "Institute = \"TGC\""
   ]
  },
  {
   "cell_type": "code",
   "execution_count": 70,
   "id": "2ee119a5-3c8d-4f8d-86d6-b6eacb767a91",
   "metadata": {},
   "outputs": [
    {
     "name": "stdout",
     "output_type": "stream",
     "text": [
      "I have taken admission in TGC and I have opted course Python\n"
     ]
    }
   ],
   "source": [
    "print(\"I have taken admission in {} and I have opted course {}\".format(Institute, Course))"
   ]
  },
  {
   "cell_type": "code",
   "execution_count": 7,
   "id": "8f19964e-68af-4d25-ad94-7fff20238e59",
   "metadata": {},
   "outputs": [
    {
     "ename": "NameError",
     "evalue": "name 'Institute' is not defined",
     "output_type": "error",
     "traceback": [
      "\u001b[1;31m---------------------------------------------------------------------------\u001b[0m",
      "\u001b[1;31mNameError\u001b[0m                                 Traceback (most recent call last)",
      "Cell \u001b[1;32mIn[7], line 1\u001b[0m\n\u001b[1;32m----> 1\u001b[0m \u001b[38;5;28mprint\u001b[39m(\u001b[38;5;124m\"\u001b[39m\u001b[38;5;124mI have taken admission in \u001b[39m\u001b[38;5;132;01m{}\u001b[39;00m\u001b[38;5;124m and I have opted course \u001b[39m\u001b[38;5;132;01m{}\u001b[39;00m\u001b[38;5;124m\"\u001b[39m\u001b[38;5;241m.\u001b[39mformat(Institute, Course))\n",
      "\u001b[1;31mNameError\u001b[0m: name 'Institute' is not defined"
     ]
    }
   ],
   "source": [
    "print(\"I have taken admission in {} and I have opted course {}\".format(Institute, Course))"
   ]
  },
  {
   "cell_type": "code",
   "execution_count": null,
   "id": "8b874cec-259a-4fdf-a0f8-040a728589c5",
   "metadata": {},
   "outputs": [],
   "source": []
  },
  {
   "cell_type": "code",
   "execution_count": 49,
   "id": "4ce70f8b-ae6a-4f23-89df-1d7766dbfdc2",
   "metadata": {},
   "outputs": [],
   "source": [
    "# f-string"
   ]
  },
  {
   "cell_type": "code",
   "execution_count": 51,
   "id": "40a673ce-4d13-4f1c-955c-19a68228fff9",
   "metadata": {},
   "outputs": [],
   "source": [
    "a = 10\n",
    "b = 20\n",
    "c = 30"
   ]
  },
  {
   "cell_type": "code",
   "execution_count": 76,
   "id": "ae8897a0-d855-42c0-8a1a-afc19465c6e5",
   "metadata": {},
   "outputs": [
    {
     "name": "stdout",
     "output_type": "stream",
     "text": [
      "The value of a is 10 and b is 20 and c is 30\n"
     ]
    }
   ],
   "source": [
    "print(f\"The value of a is {a} and b is {b} and c is {c}\")"
   ]
  },
  {
   "cell_type": "code",
   "execution_count": 57,
   "id": "fe374562-a9ba-4fca-a3ff-bfd5ec2f5863",
   "metadata": {},
   "outputs": [
    {
     "name": "stdout",
     "output_type": "stream",
     "text": [
      "The value of a is 20 and b is 30 and c is 10\n"
     ]
    }
   ],
   "source": [
    "print(f\"The value of a is {b} and b is {c} and c is {a}\")"
   ]
  },
  {
   "cell_type": "code",
   "execution_count": 61,
   "id": "ef9da941-1e36-43ae-9f44-32201ae4e387",
   "metadata": {},
   "outputs": [],
   "source": [
    "name = \"prateek\"\n",
    "great = \"good morning\""
   ]
  },
  {
   "cell_type": "code",
   "execution_count": 80,
   "id": "bcc5e393-04df-4ca4-a253-220c23d70f85",
   "metadata": {},
   "outputs": [
    {
     "name": "stdout",
     "output_type": "stream",
     "text": [
      "hello prateek good morning\n"
     ]
    }
   ],
   "source": [
    "print(f\"hello {name} {great}\")"
   ]
  },
  {
   "cell_type": "code",
   "execution_count": 63,
   "id": "a535eaec-7095-4f93-99cb-49c2767a7a1d",
   "metadata": {},
   "outputs": [
    {
     "name": "stdout",
     "output_type": "stream",
     "text": [
      "hello prateek good morning\n"
     ]
    }
   ],
   "source": [
    "print(f\"hello {name} {great}\")"
   ]
  },
  {
   "cell_type": "code",
   "execution_count": 65,
   "id": "51871920-db67-42ec-9c52-37b3c3141de7",
   "metadata": {},
   "outputs": [
    {
     "name": "stdin",
     "output_type": "stream",
     "text": [
      "Enter your name... mohammad\n"
     ]
    }
   ],
   "source": [
    "name = input (\"Enter your name...\")"
   ]
  },
  {
   "cell_type": "code",
   "execution_count": 84,
   "id": "ba220198-1587-4551-91eb-5197eef99d25",
   "metadata": {},
   "outputs": [
    {
     "name": "stdin",
     "output_type": "stream",
     "text": [
      "Enter your neme: Umar\n"
     ]
    }
   ],
   "source": [
    "name = input(\"Enter your neme:\")"
   ]
  },
  {
   "cell_type": "code",
   "execution_count": 88,
   "id": "b9f16099-d5f3-4d11-bd03-00ade7e29a0e",
   "metadata": {},
   "outputs": [
    {
     "name": "stdin",
     "output_type": "stream",
     "text": [
      "Enter your marks 99\n"
     ]
    }
   ],
   "source": [
    "marks = input(\"Enter your marks\")"
   ]
  },
  {
   "cell_type": "code",
   "execution_count": 67,
   "id": "54c544d0-8153-480c-8fb1-0a83a9faba0e",
   "metadata": {},
   "outputs": [
    {
     "name": "stdin",
     "output_type": "stream",
     "text": [
      "Enter your father_name... A Khan\n"
     ]
    }
   ],
   "source": [
    "father_name = input(\"Enter your father_name...\")"
   ]
  },
  {
   "cell_type": "code",
   "execution_count": 92,
   "id": "81c5bff2-4ca4-4963-9fe6-29fcdcc60e26",
   "metadata": {},
   "outputs": [
    {
     "name": "stdin",
     "output_type": "stream",
     "text": [
      "Enter your subject Accounts\n"
     ]
    }
   ],
   "source": [
    "subject = input(\"Enter your subject\")"
   ]
  },
  {
   "cell_type": "code",
   "execution_count": 69,
   "id": "e436dc69-6bbb-4720-8a54-8773535def8b",
   "metadata": {},
   "outputs": [
    {
     "name": "stdout",
     "output_type": "stream",
     "text": [
      "1\n",
      "2\n",
      "3\n",
      "4\n",
      "5\n",
      "6\n",
      "7\n",
      "8\n",
      "9\n",
      "10\n",
      "11\n",
      "12\n",
      "13\n",
      "14\n"
     ]
    }
   ],
   "source": [
    "for i in range(1,15):\n",
    "    if 1%2==1:\n",
    "        print(i)"
   ]
  },
  {
   "cell_type": "code",
   "execution_count": 71,
   "id": "8265af63-e7db-4b1e-b6b3-f663ddfa3744",
   "metadata": {},
   "outputs": [
    {
     "data": {
      "text/plain": [
       "[1, 2, 3, 4, 5, 6, 7, 8, 9]"
      ]
     },
     "execution_count": 71,
     "metadata": {},
     "output_type": "execute_result"
    }
   ],
   "source": [
    "list(range(1,10))"
   ]
  },
  {
   "cell_type": "code",
   "execution_count": 3,
   "id": "9b87b639-82ac-408a-86d6-dd20926ffd82",
   "metadata": {},
   "outputs": [
    {
     "name": "stdout",
     "output_type": "stream",
     "text": [
      "1\n",
      "2\n",
      "3\n",
      "4\n",
      "5\n",
      "6\n",
      "7\n",
      "8\n",
      "9\n",
      "10\n",
      "11\n",
      "12\n",
      "13\n",
      "14\n",
      "15\n",
      "16\n",
      "17\n",
      "18\n",
      "19\n",
      "20\n"
     ]
    }
   ],
   "source": [
    "for i in range(1,21):\n",
    "    if 1%2==1:\n",
    "        print(i)"
   ]
  },
  {
   "cell_type": "code",
   "execution_count": 73,
   "id": "72924c13-8350-436b-8ffe-c3ed36d69ad7",
   "metadata": {},
   "outputs": [
    {
     "name": "stdin",
     "output_type": "stream",
     "text": [
      "Enter your name.. U Khan\n",
      "Enter your roll_no.. 20\n",
      "Enter your subject.. science\n"
     ]
    }
   ],
   "source": [
    "name = input(\"Enter your name..\")\n",
    "roll_no = input(\"Enter your roll_no..\")\n",
    "subject = input(\"Enter your subject..\")"
   ]
  },
  {
   "cell_type": "code",
   "execution_count": null,
   "id": "c3683bf3-8c0c-4294-9593-221a668bc265",
   "metadata": {},
   "outputs": [],
   "source": []
  },
  {
   "cell_type": "code",
   "execution_count": 15,
   "id": "d0921612-f94c-4307-aabb-e3ecac4acd62",
   "metadata": {},
   "outputs": [
    {
     "name": "stdin",
     "output_type": "stream",
     "text": [
      "Enter your name Umar Khan\n",
      "Enter your subject maths\n",
      "Enter your section D\n"
     ]
    }
   ],
   "source": [
    "name = input(\"Enter your name\")\n",
    "subject= input(\"Enter your subject\")\n",
    "section = input(\"Enter your section\")"
   ]
  },
  {
   "cell_type": "code",
   "execution_count": 75,
   "id": "c8032fe9-758c-431b-aa63-e281e6beb621",
   "metadata": {},
   "outputs": [],
   "source": [
    " name = (\"Enter your f name\")\n",
    " name = (\"Enter your mother name\")\n",
    " name =(\"Enter your teacher name\")"
   ]
  },
  {
   "cell_type": "code",
   "execution_count": null,
   "id": "f6d60807-e46c-4113-aad7-1fcf4427bc1e",
   "metadata": {},
   "outputs": [],
   "source": []
  },
  {
   "cell_type": "code",
   "execution_count": null,
   "id": "43c5358e-aad3-4ec3-8e2c-b7893337c8c8",
   "metadata": {},
   "outputs": [],
   "source": []
  },
  {
   "cell_type": "code",
   "execution_count": null,
   "id": "65ce4751-10f9-4a68-b728-909a8419e790",
   "metadata": {},
   "outputs": [],
   "source": []
  },
  {
   "cell_type": "code",
   "execution_count": null,
   "id": "58aa5a55-6797-4a84-887b-7dcb5d5b35de",
   "metadata": {},
   "outputs": [],
   "source": []
  },
  {
   "cell_type": "code",
   "execution_count": 5,
   "id": "7d802b40-2684-4c94-b791-ba7efa83c287",
   "metadata": {},
   "outputs": [
    {
     "name": "stdin",
     "output_type": "stream",
     "text": [
      "enter your name: umatr\n",
      "Enter your marks:  98\n",
      "enter your subject: maths\n"
     ]
    }
   ],
   "source": [
    "name = input(\"enter your name:\")\n",
    "marks = input(\"Enter your marks: \")\n",
    "subject = input(\"enter your subject:\")"
   ]
  },
  {
   "cell_type": "code",
   "execution_count": 7,
   "id": "240a18f2-0483-43d8-97dc-7886ca23a224",
   "metadata": {},
   "outputs": [
    {
     "name": "stdout",
     "output_type": "stream",
     "text": [
      "hi my name is umatr and i have scored 98 and in maths subject.\n"
     ]
    }
   ],
   "source": [
    "print(f\"hi my name is {name} and i have scored {marks} and in {subject} subject.\")"
   ]
  },
  {
   "cell_type": "code",
   "execution_count": 77,
   "id": "9a5a7543-8ac9-431c-b370-9673ae029afb",
   "metadata": {},
   "outputs": [
    {
     "ename": "NameError",
     "evalue": "name 'marks' is not defined",
     "output_type": "error",
     "traceback": [
      "\u001b[1;31m---------------------------------------------------------------------------\u001b[0m",
      "\u001b[1;31mNameError\u001b[0m                                 Traceback (most recent call last)",
      "Cell \u001b[1;32mIn[77], line 1\u001b[0m\n\u001b[1;32m----> 1\u001b[0m \u001b[38;5;28mprint\u001b[39m(\u001b[38;5;124mf\u001b[39m\u001b[38;5;124m\"\u001b[39m\u001b[38;5;124mHi my name is \u001b[39m\u001b[38;5;132;01m{\u001b[39;00mname\u001b[38;5;132;01m}\u001b[39;00m\u001b[38;5;124m and i have scored \u001b[39m\u001b[38;5;132;01m{\u001b[39;00mmarks\u001b[38;5;132;01m}\u001b[39;00m\u001b[38;5;124m in \u001b[39m\u001b[38;5;132;01m{\u001b[39;00msubject\u001b[38;5;132;01m}\u001b[39;00m\u001b[38;5;124m subject..\u001b[39m\u001b[38;5;124m\"\u001b[39m)\n",
      "\u001b[1;31mNameError\u001b[0m: name 'marks' is not defined"
     ]
    }
   ],
   "source": [
    "print(f\"Hi my name is {name} and i have scored {marks} in {subject} subject..\")"
   ]
  },
  {
   "cell_type": "code",
   "execution_count": 9,
   "id": "58573b7f-29fe-4494-9e97-a6c86d2b75ac",
   "metadata": {},
   "outputs": [
    {
     "name": "stdout",
     "output_type": "stream",
     "text": [
      "Hi my name is umatr and i have scored 98 marks in maths subject.\n"
     ]
    }
   ],
   "source": [
    "print(\"Hi my name is {} and i have scored {} marks in {} subject.\".format(name, marks, subject))"
   ]
  },
  {
   "cell_type": "code",
   "execution_count": null,
   "id": "e7e0c364-a5c2-4cb7-b392-e950df7e2366",
   "metadata": {},
   "outputs": [],
   "source": []
  },
  {
   "cell_type": "code",
   "execution_count": null,
   "id": "d2e0ceaa-e126-4efe-93f3-c0a06cf5a57d",
   "metadata": {},
   "outputs": [],
   "source": []
  },
  {
   "cell_type": "code",
   "execution_count": 3,
   "id": "fe9e55c5-dd25-4453-8f98-02e72a2d4d26",
   "metadata": {},
   "outputs": [],
   "source": [
    "a = '3'\n",
    "b = int(a) +5"
   ]
  },
  {
   "cell_type": "code",
   "execution_count": 7,
   "id": "8368cd16-104b-40c6-9dec-c2d791fb1041",
   "metadata": {},
   "outputs": [
    {
     "name": "stdout",
     "output_type": "stream",
     "text": [
      "\n"
     ]
    }
   ],
   "source": [
    "print()"
   ]
  },
  {
   "cell_type": "code",
   "execution_count": 9,
   "id": "88f690ec-7fa9-45bc-940a-5a7fb5fb3ef1",
   "metadata": {},
   "outputs": [
    {
     "name": "stdout",
     "output_type": "stream",
     "text": [
      "Greater\n"
     ]
    }
   ],
   "source": [
    "x = 5\n",
    "if x >3:\n",
    "    print(\"Greater\")\n",
    "else:\n",
    "    print(\"smaller\")"
   ]
  },
  {
   "cell_type": "code",
   "execution_count": 79,
   "id": "bfbddfe4-a404-4e4c-a5c1-8ef459d37895",
   "metadata": {},
   "outputs": [
    {
     "name": "stdout",
     "output_type": "stream",
     "text": [
      "Greater\n"
     ]
    }
   ],
   "source": [
    "a = 10\n",
    "if a >5:\n",
    "    print(\"Greater\")\n",
    "else:\n",
    "    print(\"Smaller\")"
   ]
  },
  {
   "cell_type": "code",
   "execution_count": 81,
   "id": "af125ddd-129f-412a-9735-f9a24e2af0db",
   "metadata": {},
   "outputs": [
    {
     "name": "stdout",
     "output_type": "stream",
     "text": [
      "Greater\n"
     ]
    }
   ],
   "source": [
    "s = 5\n",
    "if s >2:\n",
    "    print(\"Greater\")\n",
    "else:\n",
    "    print(\"Smaller\")"
   ]
  },
  {
   "cell_type": "code",
   "execution_count": 83,
   "id": "a9e26528-ecc4-414e-a476-d1cf8e254573",
   "metadata": {},
   "outputs": [
    {
     "name": "stdout",
     "output_type": "stream",
     "text": [
      "Greater\n"
     ]
    }
   ],
   "source": [
    "d = 3\n",
    "if d >1:\n",
    "    print(\"Greater\")\n",
    "else:\n",
    "    print(\"Smaller\")"
   ]
  },
  {
   "cell_type": "code",
   "execution_count": 87,
   "id": "70a01013-e868-4481-a6f5-1f09538324cf",
   "metadata": {},
   "outputs": [
    {
     "name": "stdout",
     "output_type": "stream",
     "text": [
      "Smaller\n"
     ]
    }
   ],
   "source": [
    "d = -1\n",
    "if d>1:\n",
    "    print(\"Greater\")\n",
    "else:\n",
    "    print(\"Smaller\")"
   ]
  },
  {
   "cell_type": "code",
   "execution_count": 89,
   "id": "f609c6d3-a269-4e72-af9d-6eb98e30b23a",
   "metadata": {},
   "outputs": [
    {
     "name": "stdout",
     "output_type": "stream",
     "text": [
      "Smaller\n"
     ]
    }
   ],
   "source": [
    "f = -2\n",
    "if f >1:\n",
    "    print(\"Greater\")\n",
    "else:\n",
    "    print(\"Smaller\")"
   ]
  },
  {
   "cell_type": "code",
   "execution_count": null,
   "id": "59f3e9f8-dad2-475f-bbbe-3ce92e0be79c",
   "metadata": {},
   "outputs": [],
   "source": []
  }
 ],
 "metadata": {
  "kernelspec": {
   "display_name": "Python [conda env:base] *",
   "language": "python",
   "name": "conda-base-py"
  },
  "language_info": {
   "codemirror_mode": {
    "name": "ipython",
    "version": 3
   },
   "file_extension": ".py",
   "mimetype": "text/x-python",
   "name": "python",
   "nbconvert_exporter": "python",
   "pygments_lexer": "ipython3",
   "version": "3.12.7"
  }
 },
 "nbformat": 4,
 "nbformat_minor": 5
}
