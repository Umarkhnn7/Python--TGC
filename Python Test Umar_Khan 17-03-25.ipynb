{
 "cells": [
  {
   "cell_type": "code",
   "execution_count": null,
   "id": "1e44f133-4936-434d-b21f-e05a3d13f6b1",
   "metadata": {},
   "outputs": [],
   "source": [
    "# MCQs Question:\n",
    "\n",
    "1. (c)\n",
    "2. (b)\n",
    "3. (b)\n",
    "4. (d)\n",
    "5. (c)\n",
    "6. (d)\n",
    "7. (a)\n",
    "8. (a)\n",
    "9. (d)\n",
    "10. (a)\n",
    "11. (b)\n",
    "12. (a)\n",
    "13. (b)\n",
    "14. (b)\n",
    "15. (b)\n",
    "16. (b)\n",
    "17. (a)\n",
    "18. (a)\n",
    "19. (a)\n",
    "20. (c)\n",
    "21. (a)\n",
    "22. (a)\n",
    "23. (b)\n",
    "24. (d)\n",
    "25. (c)\n",
    "26. (b)\n",
    "27. (b)\n",
    "28. (b)\n",
    "29. (a)\n",
    "30. (d)\n",
    "30. (b)\n",
    "31. (b)\n",
    "32. (a)\n",
    "33. (a)\n",
    "34. (b)\n",
    "35. (b) \n",
    "36. (b)\n",
    "37. (a)\n",
    "38. (b)\n",
    "39. (a)\n",
    "40. (b)"
   ]
  },
  {
   "cell_type": "code",
   "execution_count": null,
   "id": "e64a7618-14e5-4d4f-b198-a9eb5968b182",
   "metadata": {},
   "outputs": [],
   "source": []
  },
  {
   "cell_type": "code",
   "execution_count": 15,
   "id": "319a61c9-af1d-44c8-8325-9d63e91cf5d1",
   "metadata": {},
   "outputs": [],
   "source": [
    "# Coding Questions:"
   ]
  },
  {
   "cell_type": "code",
   "execution_count": 17,
   "id": "8e23b465-4edf-43ca-bd3c-51cf8d0b9847",
   "metadata": {},
   "outputs": [],
   "source": [
    "# Write a Python program to check if a number is prime."
   ]
  },
  {
   "cell_type": "code",
   "execution_count": 60,
   "id": "eacb3052-74ee-485a-ad19-c6971badf6f4",
   "metadata": {},
   "outputs": [
    {
     "name": "stdin",
     "output_type": "stream",
     "text": [
      "Enter a number:  145\n"
     ]
    },
    {
     "name": "stdout",
     "output_type": "stream",
     "text": [
      "145 is not a prime number.\n"
     ]
    }
   ],
   "source": [
    "def prime_number(n):\n",
    "    \"\"\"Check if a number is prime.\"\"\"\n",
    "    if n <= 1:\n",
    "        return False\n",
    "    for i in range(2, int(n**0.5) + 1):\n",
    "        if n % i == 0:\n",
    "            return False\n",
    "    return True\n",
    "\n",
    "number = int(input(\"Enter a number: \"))\n",
    "print(f\"{number} is {'a prime' if prime_number(number) else 'not a prime'} number.\")"
   ]
  },
  {
   "cell_type": "code",
   "execution_count": null,
   "id": "0b00dbea-a775-4ed8-a0c1-0c0f64fbc09e",
   "metadata": {},
   "outputs": [],
   "source": []
  },
  {
   "cell_type": "code",
   "execution_count": 22,
   "id": "c028e44d-3364-4ddc-a20a-7c8bf688b3f4",
   "metadata": {},
   "outputs": [],
   "source": [
    "# Write a function to reverse a given string."
   ]
  },
  {
   "cell_type": "code",
   "execution_count": 74,
   "id": "356bff90-79b3-4c6a-8a45-3f3c09bb3663",
   "metadata": {},
   "outputs": [
    {
     "name": "stdout",
     "output_type": "stream",
     "text": [
      "Reversed string: raeD olleH\n"
     ]
    }
   ],
   "source": [
    "def reverse_string(s):\n",
    "    return s[::-1]\n",
    "\n",
    "\n",
    "original_string = \"Hello Dear\"\n",
    "print(f\"Reversed string: {reverse_string(original_string)}\")"
   ]
  },
  {
   "cell_type": "code",
   "execution_count": null,
   "id": "71d87112-b3bb-4426-9538-0eb56c80e7cf",
   "metadata": {},
   "outputs": [],
   "source": []
  },
  {
   "cell_type": "code",
   "execution_count": 29,
   "id": "541f3f4f-2e36-4c16-af09-d8868f5b77e4",
   "metadata": {},
   "outputs": [],
   "source": [
    "# Write a Python program to find the sum of digits of a number."
   ]
  },
  {
   "cell_type": "code",
   "execution_count": 33,
   "id": "90f0579d-6f94-494e-a7a4-fc0fc61b5162",
   "metadata": {},
   "outputs": [
    {
     "name": "stdout",
     "output_type": "stream",
     "text": [
      "The sum of digits of 5841 is 18\n"
     ]
    }
   ],
   "source": [
    "def sum_of_digits(n):\n",
    "    total = 0\n",
    "    for i in str(n):\n",
    "        total += int(i)\n",
    "    return total\n",
    "\n",
    "num = 5841\n",
    "print(f\"The sum of digits of {num} is {sum_of_digits(num)}\")\n"
   ]
  },
  {
   "cell_type": "code",
   "execution_count": null,
   "id": "5c19a7a2-2892-4444-834a-16b6e82ef8ac",
   "metadata": {},
   "outputs": [],
   "source": []
  },
  {
   "cell_type": "code",
   "execution_count": 38,
   "id": "6e13192e-bffe-4bc6-a16a-ecd2f05dd2bf",
   "metadata": {},
   "outputs": [],
   "source": [
    "# Write a function to check whether a given year is a leap year."
   ]
  },
  {
   "cell_type": "code",
   "execution_count": 44,
   "id": "b310eddb-4364-4082-8cc2-5386126ca8c2",
   "metadata": {},
   "outputs": [
    {
     "name": "stdout",
     "output_type": "stream",
     "text": [
      "2020 is a leap year: True\n"
     ]
    }
   ],
   "source": [
    "def is_leap_year(year):\n",
    "    return (year % 4 == 0 and year % 100 != 0) or (year % 400 == 0)\n",
    "\n",
    "\n",
    "year = 2020\n",
    "print(f\"{year} is a leap year: {is_leap_year(year)}\")"
   ]
  },
  {
   "cell_type": "code",
   "execution_count": null,
   "id": "50bde024-485a-4f2e-a511-350e8a20784c",
   "metadata": {},
   "outputs": [],
   "source": []
  },
  {
   "cell_type": "code",
   "execution_count": null,
   "id": "928e9991-93fe-44ad-b354-de188058a86b",
   "metadata": {},
   "outputs": [],
   "source": [
    "# Write a function to check if a given string is a palindrome."
   ]
  },
  {
   "cell_type": "code",
   "execution_count": 52,
   "id": "775aec78-0cb6-49f4-b88c-ab6e64d400a2",
   "metadata": {},
   "outputs": [
    {
     "name": "stdin",
     "output_type": "stream",
     "text": [
      "Enter a word refer\n"
     ]
    }
   ],
   "source": [
    "a = input(\"Enter a word\")"
   ]
  },
  {
   "cell_type": "code",
   "execution_count": 54,
   "id": "e6156d71-dea1-47f1-9188-72f9a5f2ae2b",
   "metadata": {},
   "outputs": [
    {
     "name": "stdout",
     "output_type": "stream",
     "text": [
      "its a palindrome\n"
     ]
    }
   ],
   "source": [
    "if a == a[::-1]:\n",
    "    print(\"its a palindrome\")\n",
    "else:\n",
    "    print(\"its not a palindrome\")"
   ]
  },
  {
   "cell_type": "code",
   "execution_count": null,
   "id": "89a78e9d-4225-4e19-a2a9-6437d2a71129",
   "metadata": {},
   "outputs": [],
   "source": []
  },
  {
   "cell_type": "code",
   "execution_count": 56,
   "id": "692b32f9-99f3-4986-b601-96bdb948dbd2",
   "metadata": {},
   "outputs": [],
   "source": [
    "# Write a Python program to count the occurrences of each element in a list."
   ]
  },
  {
   "cell_type": "code",
   "execution_count": 68,
   "id": "700f1d64-f745-4d43-baf8-34ed24a3cd00",
   "metadata": {},
   "outputs": [],
   "source": [
    "h = \"hello world hello python python is very easy i love python\""
   ]
  },
  {
   "cell_type": "code",
   "execution_count": 70,
   "id": "a2c94259-2c14-451e-b343-38f184a84f34",
   "metadata": {},
   "outputs": [],
   "source": [
    "def word_count(sent):\n",
    "    \"\"\"This will be counting number of words\"\"\"\n",
    "    word_list = sent.split()\n",
    "    wordfreq ={}\n",
    "    for w in word_list:\n",
    "        wordfreq[w] = wordfreq.get(w,0) +1\n",
    "    return wordfreq"
   ]
  },
  {
   "cell_type": "code",
   "execution_count": 66,
   "id": "c207508b-3bbe-4519-8e57-081f6b6bc1e3",
   "metadata": {},
   "outputs": [
    {
     "data": {
      "text/plain": [
       "{'hello': 2,\n",
       " 'world': 1,\n",
       " 'python': 3,\n",
       " 'is': 1,\n",
       " 'very': 1,\n",
       " 'easy': 1,\n",
       " 'i': 1,\n",
       " 'love': 1}"
      ]
     },
     "execution_count": 66,
     "metadata": {},
     "output_type": "execute_result"
    }
   ],
   "source": [
    "word_count(h)"
   ]
  },
  {
   "cell_type": "code",
   "execution_count": null,
   "id": "728eb5b0-a15b-485e-a273-477fd379657c",
   "metadata": {},
   "outputs": [],
   "source": []
  },
  {
   "cell_type": "code",
   "execution_count": null,
   "id": "7e05e5df-f56a-49b7-a7df-142f6a02221a",
   "metadata": {},
   "outputs": [],
   "source": []
  },
  {
   "cell_type": "code",
   "execution_count": 76,
   "id": "979b14bc-99f3-422e-96bf-99a2a9cc6a0a",
   "metadata": {},
   "outputs": [],
   "source": [
    " # Write a function to find the factorial of a given number."
   ]
  },
  {
   "cell_type": "code",
   "execution_count": 78,
   "id": "0f285d3e-7923-4f3f-9c5c-5459f1df8895",
   "metadata": {},
   "outputs": [
    {
     "name": "stdout",
     "output_type": "stream",
     "text": [
      "Factorial of 10 is 3628800\n"
     ]
    }
   ],
   "source": [
    "def factorial(n):\n",
    "    if n < 0:\n",
    "        return \"Factorial is .\"\n",
    "    elif n == 0:\n",
    "        return 1\n",
    "    else:\n",
    "        result = 1\n",
    "        for i in range(1, n + 1):\n",
    "            result *= i\n",
    "        return result\n",
    "\n",
    "num = 10\n",
    "print(f\"Factorial of {num} is {factorial(num)}\")"
   ]
  },
  {
   "cell_type": "code",
   "execution_count": null,
   "id": "6f11c9e0-a107-46a1-85d5-38fdb8fc4dbf",
   "metadata": {},
   "outputs": [],
   "source": []
  },
  {
   "cell_type": "code",
   "execution_count": 81,
   "id": "ddfb0c3f-e4b7-42b9-9c9c-52c7d02af450",
   "metadata": {},
   "outputs": [],
   "source": [
    "#  Write a Python program to remove duplicates from a list."
   ]
  },
  {
   "cell_type": "code",
   "execution_count": 83,
   "id": "01eeefd3-3156-4cbf-bd88-0375d81a42f7",
   "metadata": {},
   "outputs": [
    {
     "name": "stdout",
     "output_type": "stream",
     "text": [
      "List without duplicates: [1, 2, 3, 4, 5, 6, 10, 12, 15, 22, 23, 24, 26]\n"
     ]
    }
   ],
   "source": [
    "def remove_duplicates(lst):\n",
    "    return list(set(lst))\n",
    "\n",
    "items = [1, 3, 2, 10, 5,12, 6, 10,15, 6, 22, 23, 24, 26, 22, 2, 3, 6, 5, 4]\n",
    "print(f\"List without duplicates: {remove_duplicates(items)}\")"
   ]
  },
  {
   "cell_type": "code",
   "execution_count": null,
   "id": "8d5ef49c-9558-4bbc-ac61-99218fc34848",
   "metadata": {},
   "outputs": [],
   "source": []
  }
 ],
 "metadata": {
  "kernelspec": {
   "display_name": "Python [conda env:base] *",
   "language": "python",
   "name": "conda-base-py"
  },
  "language_info": {
   "codemirror_mode": {
    "name": "ipython",
    "version": 3
   },
   "file_extension": ".py",
   "mimetype": "text/x-python",
   "name": "python",
   "nbconvert_exporter": "python",
   "pygments_lexer": "ipython3",
   "version": "3.12.7"
  }
 },
 "nbformat": 4,
 "nbformat_minor": 5
}
